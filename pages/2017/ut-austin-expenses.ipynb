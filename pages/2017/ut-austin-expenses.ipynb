{
 "cells": [
  {
   "cell_type": "markdown",
   "metadata": {},
   "source": [
    "# College Expense Tracking in BASIC09\n",
    "\n",
    "<pre class=\"yaml\">\n",
    "date: 2017-12-30\n",
    "published: True\n",
    "tags: ['coco', 'finances', 'economics', 'america', 'ipython']\n",
    "</pre>"
   ]
  },
  {
   "cell_type": "markdown",
   "metadata": {},
   "source": [
    "It's no wonder my kids struggle so much more to pay for college:\n",
    "\n",
    "<blockquote class=\"twitter-tweet\" data-lang=\"en\"><p lang=\"en\" dir=\"ltr\">Hours of minimum wage work needed to pay for four years of public college<br><br>Boomer: 306<br>Millennial: 4,449<br><br>Source: <a href=\"https://t.co/3ZZDpC9Fgw\">https://t.co/3ZZDpC9Fgw</a></p>&mdash; Ryan Carson (@ryancarson) <a href=\"https://twitter.com/ryancarson/status/943468921834717185?ref_src=twsrc%5Etfw\">December 20, 2017</a></blockquote>\n",
    "<script async src=\"https://platform.twitter.com/widgets.js\" charset=\"utf-8\"></script>"
   ]
  },
  {
   "cell_type": "markdown",
   "metadata": {},
   "source": [
    "In my freshman year at U.T.  Austin, I wrote a [BASIC09][] program\n",
    "to track my expenses:\n",
    "\n",
    "```basic\n",
    "PRINT CHR$(12); \"Expenses -- by Dan Connolly\"\n",
    "PRINT \"<A> - Edit Accounts\"\n",
    "PRINT \"<E> - Journal Entry\"\n",
    "PRINT \"<R> - Generate Report\"\n",
    "PRINT \"<C> - Clean up file\"\n",
    "PRINT \"<Q> - Quit\"\n",
    "RUN Choose(\"Choice: \",\"AERCQ\",Choice)\n",
    "```\n",
    "\n",
    "[BASIC09]: https://en.wikipedia.org/wiki/BASIC09\n",
    "\n",
    "I found a `Rpt02.22` report that shows tuition of about $500, mostly covered by a scholarship:"
   ]
  },
  {
   "cell_type": "code",
   "execution_count": 1,
   "metadata": {
    "collapsed": false
   },
   "outputs": [
    {
     "data": {
      "text/plain": [
       "[u'Date        Description   Amount  Source Name   Src Bal Dest Name     Dest Bal\\n',\n",
       " u'----------- ------------- ------- ------------- ------- ------------- --------\\n',\n",
       " u' 9-01-86:11 Books          117.85 Cash           182.15 Books/Supplie  117.85\\n',\n",
       " u' 9-15-86:11 Scholarship    296.46 National Meri -296.46 U T            496.28\\n',\n",
       " u' 9-15-86:15 Scholarship     78.54 National Meri -375.00 Cash           260.69\\n']"
      ]
     },
     "execution_count": 1,
     "metadata": {},
     "output_type": "execute_result"
    }
   ],
   "source": [
    "def _cocodisks():\n",
    "    from pathlib import Path\n",
    "    return Path('1986-cocodisks')\n",
    "\n",
    "EXP = _cocodisks() / 'archive' / 'PRG-x' / 'EXP'\n",
    "tx_lines = list((EXP / 'Rpt02.22').open())\n",
    "tx_lines = tx_lines[1:]  # skip blank line\n",
    "tx_lines[:2] + tx_lines[8:11]"
   ]
  },
  {
   "cell_type": "markdown",
   "metadata": {},
   "source": [
    "The last page of the report shows account balances:"
   ]
  },
  {
   "cell_type": "code",
   "execution_count": 2,
   "metadata": {
    "collapsed": false,
    "scrolled": true
   },
   "outputs": [
    {
     "data": {
      "text/plain": [
       "[u' Num  Account Name  Balance\\n',\n",
       " u'----  ------------- -------\\n',\n",
       " u'   1: Cash             63.51\\n',\n",
       " u'   2: Checks           28.00\\n',\n",
       " u'   3: Bank Account    888.52\\n']"
      ]
     },
     "execution_count": 2,
     "metadata": {},
     "output_type": "execute_result"
    }
   ],
   "source": [
    "acct_hd_ix = next(ix for ix, line in enumerate(tx_lines) if line.strip().startswith('Num'))\n",
    "acct_lines = tx_lines[acct_hd_ix:]\n",
    "acct_lines[:5]"
   ]
  },
  {
   "cell_type": "markdown",
   "metadata": {},
   "source": [
    "But the `Jrnl` data file goes thru March 12...\n",
    "\n",
    "```\n",
    "1986-cocodisks/archive/PRG-x/EXP$ ls -l Jrnl \n",
    "-r--r--r-- 1 connolly connolly 5443 Mar 12  1987 Jrnl\n",
    "986-cocodisks/archive/PRG-x/EXP$ sha1sum Jrnl \n",
    "3f75dbc8bcdac51874259c44ef1fcad55fe068e0  Jrnl\n",
    "```\n",
    "\n",
    "... where that report only goes thru Feb 22:"
   ]
  },
  {
   "cell_type": "code",
   "execution_count": 3,
   "metadata": {
    "collapsed": false
   },
   "outputs": [
    {
     "data": {
      "text/plain": [
       "[u' 2-22-87:11 Bus               .50 Cash            63.51 Living Expens  138.94\\n',\n",
       " u' 2-22-87:15 NOW -----         .00                   .00                   .00\\n']"
      ]
     },
     "execution_count": 3,
     "metadata": {},
     "output_type": "execute_result"
    }
   ],
   "source": [
    "tx_lines[acct_hd_ix - 7: acct_hd_ix - 5]"
   ]
  },
  {
   "cell_type": "markdown",
   "metadata": {},
   "source": [
    "## Porting BASIC09 File Reading Code to Python\n",
    "\n",
    "I spent some time poring over the [EXP][] source code (`08c15cc`)\n",
    "to get the data out:\n",
    "\n",
    "```\n",
    "1986-cocodisks/archive/PRG-x/EXP$ wc *.b\n",
    "    0    38   300 Acct.b\n",
    "    3   506  4490 Entry.b\n",
    "    7   564  5141 Exp.b\n",
    "    1   125  1021 Rec.b\n",
    "    2   142  1269 Report.b\n",
    "   13  1375 12221 total\n",
    "```\n",
    "\n",
    "[EXP]: https://bitbucket.org/DanC/madmode-blog/src/08c15cccd1ef?at=default\n",
    "[or]: https://bitbucket.org/DanC/madmode-blog/src/82e8cc458606f46df7c2d7ef3393eb09448eec91/static/1986-cocodisks/archive/PRG-x/EXP/?at=default\n",
    "\n",
    "The `file` command even recognizes the compiled format:\n",
    "\n",
    "```\n",
    "1986-cocodisks/archive/PRG-x/EXP$ file Expenses \n",
    "Expenses: OS9/6809 module: BASIC I-code subroutine\n",
    "```\n"
   ]
  },
  {
   "cell_type": "code",
   "execution_count": 4,
   "metadata": {
    "collapsed": false
   },
   "outputs": [
    {
     "data": {
      "text/plain": [
       "{'numpy': '1.10.1', 'pandas': u'0.17.1'}"
      ]
     },
     "execution_count": 4,
     "metadata": {},
     "output_type": "execute_result"
    }
   ],
   "source": [
    "import pandas as pd\n",
    "import numpy as np\n",
    "dict(pandas=pd.__version__, numpy=np.__version__)"
   ]
  },
  {
   "cell_type": "markdown",
   "metadata": {},
   "source": [
    "The file is just 5K. These days it's trivial to read that into memory,\n",
    "but my coco only had 16K of RAM, upgraded from 4K."
   ]
  },
  {
   "cell_type": "code",
   "execution_count": 5,
   "metadata": {
    "collapsed": false
   },
   "outputs": [
    {
     "data": {
      "text/plain": [
       "5443"
      ]
     },
     "execution_count": 5,
     "metadata": {},
     "output_type": "execute_result"
    }
   ],
   "source": [
    "Jrnl = (EXP / 'Jrnl').open('rb').read()\n",
    "len(Jrnl)"
   ]
  },
  {
   "cell_type": "markdown",
   "metadata": {},
   "source": [
    "The transaction format is mostly straightforward,\n",
    "though I'm glad I had the source code to decode the `key` field:"
   ]
  },
  {
   "cell_type": "code",
   "execution_count": 6,
   "metadata": {
    "collapsed": true
   },
   "outputs": [],
   "source": [
    "import datetime\n",
    "from collections import namedtuple, OrderedDict\n",
    "import struct\n",
    "\n",
    "class Trans(namedtuple('Trans', 'key, desc, amt, db, cr')):\n",
    "    \"\"\"\n",
    "    TYPE Trans=Key:INTEGER; Desc:STRING[13]; Amt:REAL; DB,CR:BYTE\n",
    "    \"\"\"\n",
    "    struct = struct.Struct('>h13s5sBB')\n",
    "\n",
    "    @classmethod\n",
    "    def unpack(cls, data):\n",
    "        it = cls(*cls.struct.unpack(data[:cls.struct.size]))\n",
    "        it = it._replace(desc=Basic09.string(it.desc),\n",
    "                         amt=Basic09.real(it.amt))\n",
    "        return it\n",
    "\n",
    "    @property\n",
    "    def indx(self):\n",
    "        return self.key % 32 + 1\n",
    "\n",
    "    @property\n",
    "    def date(self):\n",
    "        r\"\"\"\n",
    "        port of PROCEDURE DateStr\n",
    "\n",
    "        Indx=MOD(Key,32)+1 \\Copy=Key/32\n",
    "        Day=MOD(Copy,31)+1 \\Copy=Copy/31\n",
    "        Month=MOD(Copy,12)+1 \\Copy=Copy/12\n",
    "        Year=86+Copy\n",
    "        \"\"\"\n",
    "        copy = self.key / 32\n",
    "        day = copy % 31 + 1\n",
    "        copy = copy / 31\n",
    "        month = copy % 12 + 1\n",
    "        copy = copy / 12\n",
    "        year = 1986 + copy\n",
    "        try:\n",
    "            return datetime.date(year, month, day)\n",
    "        except ValueError:  # Nov 31???\n",
    "            return datetime.date(year, month, day - 1)\n",
    "\n",
    "    def as_dict(self):\n",
    "        return dict(date=self.date, indx=self.indx,\n",
    "                    desc=self.desc, amt=round(self.amt, 2), db=self.db, cr=self.cr)"
   ]
  },
  {
   "cell_type": "markdown",
   "metadata": {},
   "source": [
    "I couldn't figure out how to decode the floating point\n",
    "account balances until I realized I was comparing them\n",
    "against the Feb 22 report rather than their March 12 values.\n",
    "\n",
    "> Type REAL\n",
    "\n",
    "> REAL numbers are stored in 5 consecutive memory bytes.\n",
    "> The first byte is the (8-bit) exponent in binary two's-complement representation.\n",
    "> The next four bytes are the binary sign-and-magnitude representation of the mantissa;\n",
    "> the mantissa in the first 31 bits, and the sign of the mantissa in the last\n",
    "> (least significant) bit of the last byte of the real quantity.\n",
    ">  -- [BASIC09: Programming Language Reference Manual][ref]\n",
    ">  Copyright (c) 1983 Microware Systems Corporation\n",
    "\n",
    "[ref]: http://www.roug.org/soren/6809/basic09.pdf"
   ]
  },
  {
   "cell_type": "code",
   "execution_count": 7,
   "metadata": {
    "collapsed": true
   },
   "outputs": [],
   "source": [
    "class Basic09(object):\n",
    "    @classmethod\n",
    "    def string(cls, data):\n",
    "        return data[:data.find('\\xff')] if '\\xff' in data else data\n",
    "\n",
    "    @classmethod\n",
    "    def real(cls, b5):\n",
    "        exp, mag = struct.unpack('>bI', b5)\n",
    "        sgn = -1 if (mag % 2) else 1\n",
    "        mag = mag >> 1\n",
    "        mag = mag * 1.0 / (2 ** 31)\n",
    "        return mag * (2 ** exp) * sgn"
   ]
  },
  {
   "cell_type": "markdown",
   "metadata": {},
   "source": [
    "The overall file format is a linked list:"
   ]
  },
  {
   "cell_type": "code",
   "execution_count": 8,
   "metadata": {
    "collapsed": false,
    "scrolled": true
   },
   "outputs": [
    {
     "name": "stdout",
     "output_type": "stream",
     "text": [
      "Trans(key=32767, desc='Delphi Bill', amt=46.80000001192093, db=10, cr=19)\n",
      "{'avail': 5443, 'rec': 0, 'tail': 5313, 'head': 607}\n"
     ]
    },
    {
     "data": {
      "text/html": [
       "<div>\n",
       "<table border=\"1\" class=\"dataframe\">\n",
       "  <thead>\n",
       "    <tr style=\"text-align: right;\">\n",
       "      <th></th>\n",
       "      <th>name</th>\n",
       "      <th>bal</th>\n",
       "    </tr>\n",
       "  </thead>\n",
       "  <tbody>\n",
       "    <tr>\n",
       "      <th>1</th>\n",
       "      <td>Cash</td>\n",
       "      <td>76.220001</td>\n",
       "    </tr>\n",
       "    <tr>\n",
       "      <th>2</th>\n",
       "      <td>Checks</td>\n",
       "      <td>552.950000</td>\n",
       "    </tr>\n",
       "    <tr>\n",
       "      <th>3</th>\n",
       "      <td>Bank Account</td>\n",
       "      <td>890.420005</td>\n",
       "    </tr>\n",
       "  </tbody>\n",
       "</table>\n",
       "</div>"
      ],
      "text/plain": [
       "           name         bal\n",
       "1          Cash   76.220001\n",
       "2        Checks  552.950000\n",
       "3  Bank Account  890.420005"
      ]
     },
     "execution_count": 8,
     "metadata": {},
     "output_type": "execute_result"
    }
   ],
   "source": [
    "class Global(namedtuple('Global', 'trx, head, tail, rec, avail, name, bal, file')):\n",
    "    \"\"\"\n",
    "    TYPE Global=Trx:Trans; Head,Tail,Rec,Avail:INTEGER; Name(32):STRING\n",
    "    \"\"\"\n",
    "    struct = struct.Struct('>hhhh%ds%dsB' % (32 * 13, 32 * 5))\n",
    "    @classmethod\n",
    "    def unpack(cls, data):\n",
    "        trx = Trans.unpack(data)\n",
    "        data = data[Trans.struct.size:]\n",
    "        it = cls(*((trx,) + cls.struct.unpack(data[:cls.struct.size])))\n",
    "        ea = 13\n",
    "        name = [Basic09.string(it.name[ea * ix:ea * (ix + 1)]) for ix in range(32)]\n",
    "        ea = 5\n",
    "        bal = [Basic09.real(it.bal[ea * ix:ea * (ix + 1)]) for ix in range(32)]\n",
    "        return it._replace(name=name, bal=bal)\n",
    "\n",
    "    def accounts(self):\n",
    "        a = pd.DataFrame(dict(name=self.name, bal=self.bal), columns=['name', 'bal'])\n",
    "        a.index = a.index + 1\n",
    "        return a\n",
    "\n",
    "    def iter_trans(self, jrnl):\n",
    "        here = self.rec\n",
    "        while True:\n",
    "            after, before = struct.unpack('>HH', jrnl[here + Trans.struct.size:][:4])\n",
    "            here = after\n",
    "            if here == 0:\n",
    "                break\n",
    "            yield Trans.unpack(jrnl[here:])\n",
    "\n",
    "G = Global.unpack(Jrnl)\n",
    "print G.trx\n",
    "print dict(head=G.head, tail=G.tail, rec=G.rec, avail=G.avail)\n",
    "ut_accounts = G.accounts()\n",
    "ut_accounts.head(3)"
   ]
  },
  {
   "cell_type": "code",
   "execution_count": 9,
   "metadata": {
    "collapsed": false
   },
   "outputs": [
    {
     "data": {
      "text/html": [
       "<div>\n",
       "<table border=\"1\" class=\"dataframe\">\n",
       "  <thead>\n",
       "    <tr style=\"text-align: right;\">\n",
       "      <th></th>\n",
       "      <th></th>\n",
       "      <th>desc</th>\n",
       "      <th>amt</th>\n",
       "      <th>db</th>\n",
       "      <th>cr</th>\n",
       "      <th>Source Name</th>\n",
       "      <th>Dest Name</th>\n",
       "    </tr>\n",
       "    <tr>\n",
       "      <th>date</th>\n",
       "      <th>indx</th>\n",
       "      <th></th>\n",
       "      <th></th>\n",
       "      <th></th>\n",
       "      <th></th>\n",
       "      <th></th>\n",
       "      <th></th>\n",
       "    </tr>\n",
       "  </thead>\n",
       "  <tbody>\n",
       "    <tr>\n",
       "      <th>1986-09-01</th>\n",
       "      <th>11</th>\n",
       "      <td>Books</td>\n",
       "      <td>117.85</td>\n",
       "      <td>1</td>\n",
       "      <td>23</td>\n",
       "      <td>Cash</td>\n",
       "      <td>Books/Supplie</td>\n",
       "    </tr>\n",
       "    <tr>\n",
       "      <th rowspan=\"2\" valign=\"top\">1986-09-15</th>\n",
       "      <th>11</th>\n",
       "      <td>Scholarship</td>\n",
       "      <td>296.46</td>\n",
       "      <td>7</td>\n",
       "      <td>20</td>\n",
       "      <td>National Meri</td>\n",
       "      <td>U T</td>\n",
       "    </tr>\n",
       "    <tr>\n",
       "      <th>15</th>\n",
       "      <td>Scholarship</td>\n",
       "      <td>78.54</td>\n",
       "      <td>7</td>\n",
       "      <td>1</td>\n",
       "      <td>National Meri</td>\n",
       "      <td>Cash</td>\n",
       "    </tr>\n",
       "  </tbody>\n",
       "</table>\n",
       "</div>"
      ],
      "text/plain": [
       "                        desc     amt  db  cr    Source Name      Dest Name\n",
       "date       indx                                                           \n",
       "1986-09-01 11          Books  117.85   1  23           Cash  Books/Supplie\n",
       "1986-09-15 11    Scholarship  296.46   7  20  National Meri            U T\n",
       "           15    Scholarship   78.54   7   1  National Meri           Cash"
      ]
     },
     "execution_count": 9,
     "metadata": {},
     "output_type": "execute_result"
    }
   ],
   "source": [
    "journal = pd.DataFrame.from_records(\n",
    "    (tx.as_dict() for tx in G.iter_trans(Jrnl)),\n",
    "    columns=['date', 'indx', 'desc', 'amt', 'db', 'cr']).set_index(['date', 'indx'])\n",
    "\n",
    "journal = journal.merge(ut_accounts[['name']], left_on='db', right_index=True)\n",
    "journal = journal.rename(columns=dict(name='Source Name'))\n",
    "journal = journal.merge(ut_accounts[['name']], left_on='cr', right_index=True)\n",
    "journal = journal.rename(columns=dict(name='Dest Name'))\n",
    "journal = journal.sort_index()\n",
    "\n",
    "journal.iloc[6:9]"
   ]
  },
  {
   "cell_type": "markdown",
   "metadata": {},
   "source": [
    "Computing running balances with pandas with `cumsum` was fun."
   ]
  },
  {
   "cell_type": "code",
   "execution_count": 10,
   "metadata": {
    "collapsed": false,
    "scrolled": true
   },
   "outputs": [
    {
     "data": {
      "text/html": [
       "<div>\n",
       "<table border=\"1\" class=\"dataframe\">\n",
       "  <thead>\n",
       "    <tr style=\"text-align: right;\">\n",
       "      <th></th>\n",
       "      <th></th>\n",
       "      <th>desc</th>\n",
       "      <th>amt</th>\n",
       "      <th>db</th>\n",
       "      <th>cr</th>\n",
       "      <th>Source Name</th>\n",
       "      <th>Src Bal</th>\n",
       "      <th>Dest Name</th>\n",
       "      <th>Dest Bal</th>\n",
       "    </tr>\n",
       "    <tr>\n",
       "      <th>date</th>\n",
       "      <th>indx</th>\n",
       "      <th></th>\n",
       "      <th></th>\n",
       "      <th></th>\n",
       "      <th></th>\n",
       "      <th></th>\n",
       "      <th></th>\n",
       "      <th></th>\n",
       "      <th></th>\n",
       "    </tr>\n",
       "  </thead>\n",
       "  <tbody>\n",
       "    <tr>\n",
       "      <th>1986-09-01</th>\n",
       "      <th>11</th>\n",
       "      <td>Books</td>\n",
       "      <td>117.85</td>\n",
       "      <td>1</td>\n",
       "      <td>23</td>\n",
       "      <td>Cash</td>\n",
       "      <td>182.15</td>\n",
       "      <td>Books/Supplie</td>\n",
       "      <td>117.85</td>\n",
       "    </tr>\n",
       "    <tr>\n",
       "      <th rowspan=\"2\" valign=\"top\">1986-09-15</th>\n",
       "      <th>11</th>\n",
       "      <td>Scholarship</td>\n",
       "      <td>296.46</td>\n",
       "      <td>7</td>\n",
       "      <td>20</td>\n",
       "      <td>National Meri</td>\n",
       "      <td>-296.46</td>\n",
       "      <td>U T</td>\n",
       "      <td>496.28</td>\n",
       "    </tr>\n",
       "    <tr>\n",
       "      <th>15</th>\n",
       "      <td>Scholarship</td>\n",
       "      <td>78.54</td>\n",
       "      <td>7</td>\n",
       "      <td>1</td>\n",
       "      <td>National Meri</td>\n",
       "      <td>-375.00</td>\n",
       "      <td>Cash</td>\n",
       "      <td>260.69</td>\n",
       "    </tr>\n",
       "  </tbody>\n",
       "</table>\n",
       "</div>"
      ],
      "text/plain": [
       "                        desc     amt  db  cr    Source Name  Src Bal  \\\n",
       "date       indx                                                        \n",
       "1986-09-01 11          Books  117.85   1  23           Cash   182.15   \n",
       "1986-09-15 11    Scholarship  296.46   7  20  National Meri  -296.46   \n",
       "           15    Scholarship   78.54   7   1  National Meri  -375.00   \n",
       "\n",
       "                     Dest Name  Dest Bal  \n",
       "date       indx                           \n",
       "1986-09-01 11    Books/Supplie    117.85  \n",
       "1986-09-15 11              U T    496.28  \n",
       "           15             Cash    260.69  "
      ]
     },
     "execution_count": 10,
     "metadata": {},
     "output_type": "execute_result"
    }
   ],
   "source": [
    "def running_balance(journal):\n",
    "    cr = journal[['cr', 'amt']].rename(columns=dict(cr='acct'))\n",
    "    cr['col'] = 'cr'\n",
    "    db = journal[['db', 'amt']].rename(columns=dict(db='acct'))\n",
    "    db['col'] = 'db'\n",
    "    db.amt = -db.amt\n",
    "    ea = cr.append(db).sort_index()\n",
    "    ea['bal'] = ea.groupby('acct').amt.cumsum()\n",
    "    cum = ea.reset_index().pivot_table(index=['date', 'indx'], columns='col', values=['bal'])\n",
    "    journal = journal.copy()\n",
    "    journal.insert(len(journal.columns) - 1, 'Src Bal', cum.bal.db)\n",
    "    journal['Dest Bal'] = cum.bal.cr\n",
    "    return journal\n",
    "\n",
    "running_balance(journal).to_csv('ut-austin-journal.csv')\n",
    "\n",
    "running_balance(journal).iloc[6:9]"
   ]
  },
  {
   "cell_type": "markdown",
   "metadata": {},
   "source": [
    "And with that, we have recovered the journal data from the report:"
   ]
  },
  {
   "cell_type": "code",
   "execution_count": 11,
   "metadata": {
    "collapsed": false,
    "scrolled": true
   },
   "outputs": [
    {
     "data": {
      "text/plain": [
       "[u'Date        Description   Amount  Source Name   Src Bal Dest Name     Dest Bal\\n',\n",
       " u'----------- ------------- ------- ------------- ------- ------------- --------\\n',\n",
       " u' 9-01-86:11 Books          117.85 Cash           182.15 Books/Supplie  117.85\\n',\n",
       " u' 9-15-86:11 Scholarship    296.46 National Meri -296.46 U T            496.28\\n',\n",
       " u' 9-15-86:15 Scholarship     78.54 National Meri -375.00 Cash           260.69\\n']"
      ]
     },
     "execution_count": 11,
     "metadata": {},
     "output_type": "execute_result"
    }
   ],
   "source": [
    "tx_lines[:2] + tx_lines[8:11]"
   ]
  },
  {
   "cell_type": "markdown",
   "metadata": {},
   "source": [
    "And we can compute account balances:"
   ]
  },
  {
   "cell_type": "code",
   "execution_count": 12,
   "metadata": {
    "collapsed": false
   },
   "outputs": [
    {
     "data": {
      "text/html": [
       "<div>\n",
       "<table border=\"1\" class=\"dataframe\">\n",
       "  <thead>\n",
       "    <tr style=\"text-align: right;\">\n",
       "      <th></th>\n",
       "      <th>name</th>\n",
       "      <th>balance</th>\n",
       "    </tr>\n",
       "  </thead>\n",
       "  <tbody>\n",
       "    <tr>\n",
       "      <th>1</th>\n",
       "      <td>Cash</td>\n",
       "      <td>76.22</td>\n",
       "    </tr>\n",
       "    <tr>\n",
       "      <th>2</th>\n",
       "      <td>Checks</td>\n",
       "      <td>552.95</td>\n",
       "    </tr>\n",
       "    <tr>\n",
       "      <th>3</th>\n",
       "      <td>Bank Account</td>\n",
       "      <td>890.42</td>\n",
       "    </tr>\n",
       "  </tbody>\n",
       "</table>\n",
       "</div>"
      ],
      "text/plain": [
       "           name  balance\n",
       "1          Cash    76.22\n",
       "2        Checks   552.95\n",
       "3  Bank Account   890.42"
      ]
     },
     "execution_count": 12,
     "metadata": {},
     "output_type": "execute_result"
    }
   ],
   "source": [
    "src_bal = journal.groupby('db')[['amt']].sum()\n",
    "dst_bal = journal.groupby('cr')[['amt']].sum()\n",
    "bal = src_bal.merge(dst_bal, left_index=True, right_index=True, how='outer', suffixes=['_src', '_dst']).fillna(0)\n",
    "bal['balance'] = bal.amt_dst - bal.amt_src\n",
    "bal = bal.drop(['amt_src', 'amt_dst'], axis=1)\n",
    "bal = bal.merge(ut_accounts[['name']], left_index=True, right_index=True)[['name', 'balance']]\n",
    "bal.to_csv('ut-austin-accounts.csv', index_label='acct_num')\n",
    "bal[:3]"
   ]
  }
 ],
 "metadata": {
  "kernelspec": {
   "display_name": "Python 2",
   "language": "python",
   "name": "python2"
  },
  "language_info": {
   "codemirror_mode": {
    "name": "ipython",
    "version": 2
   },
   "file_extension": ".py",
   "mimetype": "text/x-python",
   "name": "python",
   "nbconvert_exporter": "python",
   "pygments_lexer": "ipython2",
   "version": "2.7.12"
  }
 },
 "nbformat": 4,
 "nbformat_minor": 0
}
