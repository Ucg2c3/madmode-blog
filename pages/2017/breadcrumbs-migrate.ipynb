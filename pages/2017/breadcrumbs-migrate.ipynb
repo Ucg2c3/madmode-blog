{
 "cells": [
  {
   "cell_type": "markdown",
   "metadata": {},
   "source": [
    "# Migrating Breadcrumbs\n",
    "\n",
    "<pre class=\"yaml\">\n",
    "date: 2017-12-29\n",
    "tags: [publishing, breadcrumbs, ipython]\n",
    "summary: migrating an old drupal blog\n",
    "published: True\n",
    "</pre>"
   ]
  },
  {
   "cell_type": "markdown",
   "metadata": {},
   "source": [
    "_Breadcrumbs_ was the blog of [DIG][], the Decentralized Information Group at MIT CSAIL.\n",
    "\n",
    "[DIG]: http://dig.csail.mit.edu/\n",
    "\n",
    "In a [2015 #microformats chat][2015], I discovered that it was down:\n",
    "\n",
    "> DanC> grr... the blog is down. http://dig.csail.mit.edu/breadcrumbs/node/228  \n",
    "> \"Unable to connect to database server\"  \n",
    "> _DanC verifies that he has an export of his work there..._  \n",
    "> DanC> interesting... my backup is evidently python pickles of XMLRPC responses from the API of that CMS (drupal?)  \n",
    ">     >>> x['dateCreated']\n",
    ">     <DateTime '20080306T17:00:05' at 7f20e8aef5f0>\n",
    ">     >>> x['dateCreated'].__class__\n",
    ">     <class xmlrpclib.DateTime at 0x7f20e444eef0>\n",
    "\n",
    "[2015]: http://logs.glob.uno/?c=freenode%23microformats&s=20+Jun+2015&e=20+Jun+2015#c81549\n",
    "\n",
    "The files are numbered:"
   ]
  },
  {
   "cell_type": "code",
   "execution_count": 1,
   "metadata": {
    "collapsed": false
   },
   "outputs": [
    {
     "data": {
      "text/plain": [
       "[4, 5, 6, 7, 8, 9, 10, 11, 12, 13]"
      ]
     },
     "execution_count": 1,
     "metadata": {},
     "output_type": "execute_result"
    }
   ],
   "source": [
    "def _numbered_files(pattern='[0-9]*',\n",
    "                    breadcrumbs='/home/connolly/sites/breadcrumbs'):\n",
    "    from pathlib import Path\n",
    "    return Path(breadcrumbs).glob(pattern)\n",
    "\n",
    "breadcrumbs_bak = list(_numbered_files())\n",
    "sorted(int(f.parts[-1]) for f in breadcrumbs_bak)[:10]"
   ]
  },
  {
   "cell_type": "markdown",
   "metadata": {},
   "source": [
    "Each is a pickled XMLRPC response:"
   ]
  },
  {
   "cell_type": "code",
   "execution_count": 2,
   "metadata": {
    "collapsed": false
   },
   "outputs": [
    {
     "data": {
      "text/plain": [
       "('hAudio for microformats mixtapes, in progress',\n",
       " <DateTime '20080306T17:00:05' at 7fa8242a5320>,\n",
       " <class xmlrpclib.DateTime at 0x7fa82427cf58>)"
      ]
     },
     "execution_count": 2,
     "metadata": {},
     "output_type": "execute_result"
    }
   ],
   "source": [
    "import pickle\n",
    "\n",
    "breadcrumbs_xmlrpc = dict((int(f.parts[-1]), pickle.load(f.open('rb'))) for f in breadcrumbs_bak)\n",
    "x = breadcrumbs_xmlrpc[228]\n",
    "x['title'], x['dateCreated'], x['dateCreated'].__class__"
   ]
  },
  {
   "cell_type": "markdown",
   "metadata": {},
   "source": [
    "## MadMode blog pages"
   ]
  },
  {
   "cell_type": "code",
   "execution_count": 3,
   "metadata": {
    "collapsed": false
   },
   "outputs": [],
   "source": [
    "from collections import OrderedDict\n",
    "from __future__ import print_function\n",
    "from sys import stderr\n",
    "\n",
    "\n",
    "class BlogWriter(object):\n",
    "    def __init__(self, pages):\n",
    "        self._pages = pages\n",
    "\n",
    "    def addPage(self, body, title, date, tags, published, slug):\n",
    "        datestr = date.isoformat()\n",
    "        headings = OrderedDict(title=repr(title),\n",
    "                               date=datestr[:10],\n",
    "                               tags=\"[%s]\" % (', '.join(\"'%s'\" % tag for tag in tags)),\n",
    "                               published=published)\n",
    "        header = '\\n'.join([\"%s: %s\" % (k, v) for k, v in headings.iteritems()])\n",
    "        yyyy = datestr[:4]\n",
    "        page = (self._pages / yyyy / slug).with_suffix('.md')\n",
    "        print(\"addPage: \", page, tags, file=stderr)\n",
    "        with page.open('wb') as out:\n",
    "            out.write(header)\n",
    "            out.write('\\n\\n')\n",
    "            out.write(body.encode('utf-8'))\n",
    "\n",
    "def _madmode():\n",
    "    from pathlib import Path\n",
    "\n",
    "    return BlogWriter(Path('/home/connolly/sites') / 'madmode-blog' / 'pages')\n",
    "\n",
    "mmwr = _madmode()"
   ]
  },
  {
   "cell_type": "code",
   "execution_count": 4,
   "metadata": {
    "collapsed": false
   },
   "outputs": [
    {
     "name": "stderr",
     "output_type": "stream",
     "text": [
      "4 On OpenID and comment policies\n",
      "addPage:  /home/connolly/sites/madmode-blog/pages/2005/breadcrumbs_0004.md ['breadcrumbs']\n",
      "5 little burst of PAW demo hacking\n",
      "addPage:  /home/connolly/sites/madmode-blog/pages/2005/breadcrumbs_0005.md ['breadcrumbs']\n",
      "6 DIG blog wish list\n",
      "addPage:  /home/connolly/sites/madmode-blog/pages/2005/breadcrumbs_0006.md ['breadcrumbs', 'connolly']\n",
      "7 Fire at Southampton... hope everything's alright soon\n",
      "addPage:  /home/connolly/sites/madmode-blog/pages/2005/breadcrumbs_0007.md ['breadcrumbs']\n",
      "8 Sourceforge is the place... to sell soap?\n",
      "addPage:  /home/connolly/sites/madmode-blog/pages/2005/breadcrumbs_0008.md ['breadcrumbs']\n",
      "9 Reflecting blog structure into the Semantic Web with SIOC?\n",
      "addPage:  /home/connolly/sites/madmode-blog/pages/2005/breadcrumbs_0009.md ['breadcrumbs']\n",
      "10 I'd rather be...\n",
      "addPage:  /home/connolly/sites/madmode-blog/pages/2005/breadcrumbs_0010.md ['breadcrumbs']\n",
      "11 PHP angst\n",
      "addPage:  /home/connolly/sites/madmode-blog/pages/2005/breadcrumbs_0011.md ['breadcrumbs']\n",
      "12 Shopping for a client-side blogging editor\n",
      "addPage:  /home/connolly/sites/madmode-blog/pages/2005/breadcrumbs_0012.md ['breadcrumbs', 'authoring']\n",
      "13 presented Issues in Semantic Web Logic to 6.898\n",
      "addPage:  /home/connolly/sites/madmode-blog/pages/2005/breadcrumbs_0013.md ['breadcrumbs']\n",
      "14 xchat RFE: \"mail a log of this chat to mbox@domain\" macro\n",
      "addPage:  /home/connolly/sites/madmode-blog/pages/2005/breadcrumbs_0014.md ['breadcrumbs']\n",
      "15 U.S. papertrail: the federal register\n",
      "addPage:  /home/connolly/sites/madmode-blog/pages/2005/breadcrumbs_0015.md ['breadcrumbs']\n",
      "16 XHTML for computer science research papers and bibliographies\n",
      "addPage:  /home/connolly/sites/madmode-blog/pages/2005/breadcrumbs_0016.md ['breadcrumbs']\n",
      "17 ISWC buzz\n",
      "addPage:  /home/connolly/sites/madmode-blog/pages/2005/breadcrumbs_0017.md ['breadcrumbs']\n",
      "18 Why isn't bill payee set-up integrated with address book or yellow pages lookup?\n",
      "addPage:  /home/connolly/sites/madmode-blog/pages/2005/breadcrumbs_0018.md ['breadcrumbs']\n",
      "23 RDF Calendar, GRDDL, Microformats, and all that at XML2005 in Atlanta\n",
      "addPage:  /home/connolly/sites/madmode-blog/pages/2005/breadcrumbs_0023.md ['breadcrumbs', 'quality']\n",
      "24 SKOS, SIOC, and drupal taxonomy\n",
      "addPage:  /home/connolly/sites/madmode-blog/pages/2005/breadcrumbs_0024.md ['breadcrumbs']\n",
      "25 sorry about overriding your font size\n",
      "addPage:  /home/connolly/sites/madmode-blog/pages/2005/breadcrumbs_0025.md ['breadcrumbs']\n",
      "26 Ray Ozzie's take on diff/sync\n",
      "addPage:  /home/connolly/sites/madmode-blog/pages/2005/breadcrumbs_0026.md ['breadcrumbs']\n",
      "27 a fly-by of XACML\n",
      "addPage:  /home/connolly/sites/madmode-blog/pages/2005/breadcrumbs_0027.md ['breadcrumbs']\n",
      "28 MathML as a rule interchange format\n",
      "addPage:  /home/connolly/sites/madmode-blog/pages/2005/breadcrumbs_0028.md ['breadcrumbs']\n",
      "29 GRDDL transform wanted: National Information Exchange Model (NIEM)\n",
      "addPage:  /home/connolly/sites/madmode-blog/pages/2005/breadcrumbs_0029.md ['breadcrumbs']\n",
      "30 Go-Karting rush tainted by lack of OpenID for bug reporting about hypertext editing\n",
      "addPage:  /home/connolly/sites/madmode-blog/pages/2005/breadcrumbs_0030.md ['breadcrumbs']\n",
      "45 Toward richtext syndicated feed\n",
      "addPage:  /home/connolly/sites/madmode-blog/pages/2005/breadcrumbs_0045.md ['breadcrumbs']\n",
      "46 Toward better documentation of some schemas for the W3C digital library\n",
      "addPage:  /home/connolly/sites/madmode-blog/pages/2005/breadcrumbs_0046.md ['breadcrumbs']\n",
      "47 Brought my hockey skates with me this time\n",
      "addPage:  /home/connolly/sites/madmode-blog/pages/2005/breadcrumbs_0047.md ['breadcrumbs']\n",
      "52 Connecting DIG Student Projects to the MIT UROP listing\n",
      "addPage:  /home/connolly/sites/madmode-blog/pages/2005/breadcrumbs_0052.md ['breadcrumbs']\n",
      "55 Drupal, OpenID, and the Mac OS X Keychain\n",
      "addPage:  /home/connolly/sites/madmode-blog/pages/2005/breadcrumbs_0055.md ['breadcrumbs']\n",
      "56 Wikicompany?\n",
      "addPage:  /home/connolly/sites/madmode-blog/pages/2005/breadcrumbs_0056.md ['breadcrumbs']\n",
      "57 upgrade to CivicSpace?\n",
      "addPage:  /home/connolly/sites/madmode-blog/pages/2005/breadcrumbs_0057.md ['breadcrumbs']\n",
      "61 frbr:embodiment is enough without frbr:embodimentOf, no?\n",
      "addPage:  /home/connolly/sites/madmode-blog/pages/2005/breadcrumbs_0061.md ['breadcrumbs']\n",
      "63 On Google, Jabber, and Jingle and good and evil in IM and IP networks\n",
      "addPage:  /home/connolly/sites/madmode-blog/pages/2006/breadcrumbs_0063.md ['breadcrumbs']\n",
      "66 Arpeggio in D, a little three chord ditty\n",
      "addPage:  /home/connolly/sites/madmode-blog/pages/2006/breadcrumbs_0066.md ['breadcrumbs']\n",
      "69 Fun with Policy Aware Web at UMD, AFS/SVN at CSAIL\n",
      "addPage:  /home/connolly/sites/madmode-blog/pages/2006/breadcrumbs_0069.md ['breadcrumbs']\n",
      "70 Using truth maintenance techniques in RDF stores?\n",
      "addPage:  /home/connolly/sites/madmode-blog/pages/2006/breadcrumbs_0070.md ['breadcrumbs']\n",
      "77 MadScientistMode\n",
      "addPage:  /home/connolly/sites/madmode-blog/pages/2006/breadcrumbs_0077.md ['breadcrumbs']\n",
      "78 RSS is dead; long live RSS\n",
      "addPage:  /home/connolly/sites/madmode-blog/pages/2006/breadcrumbs_0078.md ['breadcrumbs']\n",
      "82 python, javascript, and PHP, oh my!\n",
      "addPage:  /home/connolly/sites/madmode-blog/pages/2006/breadcrumbs_0082.md ['breadcrumbs', 'installation', 'javascript', 'python', 'quality', 'testing', 'programming']\n",
      "84 tabulator use cases: when can we meet? and PathCross\n",
      "addPage:  /home/connolly/sites/madmode-blog/pages/2006/breadcrumbs_0084.md ['breadcrumbs']\n",
      "85 bnf2turtle -- write a turtle version of an EBNF grammar\n",
      "addPage:  /home/connolly/sites/madmode-blog/pages/2006/breadcrumbs_0085.md ['breadcrumbs']\n",
      "86 formally closing the feedback loop\n",
      "addPage:  /home/connolly/sites/madmode-blog/pages/2006/breadcrumbs_0086.md ['breadcrumbs']\n",
      "87 Using RDF and OWL to model language evolution\n",
      "addPage:  /home/connolly/sites/madmode-blog/pages/2006/breadcrumbs_0087.md ['breadcrumbs']\n",
      "88 Toward integration of cwm's proof structures with InferenceWeb's PML\n",
      "addPage:  /home/connolly/sites/madmode-blog/pages/2006/breadcrumbs_0088.md ['breadcrumbs']\n",
      "89 Investigating logical reflection, constructive proof, and explicit provability\n",
      "addPage:  /home/connolly/sites/madmode-blog/pages/2006/breadcrumbs_0089.md ['breadcrumbs']\n",
      "90 Fun with Embedded RDF and DOAP for the GRDDL profile\n",
      "addPage:  /home/connolly/sites/madmode-blog/pages/2006/breadcrumbs_0090.md ['breadcrumbs']\n",
      "91 Toward Semantic Web data from Wikipedia\n",
      "addPage:  /home/connolly/sites/madmode-blog/pages/2006/breadcrumbs_0091.md ['breadcrumbs', u'connolly']\n",
      "92 Reflections on the W3C Technical Plenary week\n",
      "addPage:  /home/connolly/sites/madmode-blog/pages/2006/breadcrumbs_0092.md ['breadcrumbs', 'NCE']\n",
      "93 Getting (dis)organized for SxSWi in Austin\n",
      "addPage:  /home/connolly/sites/madmode-blog/pages/2006/breadcrumbs_0093.md ['breadcrumbs', 'Austin']\n",
      "94 Dates in drupal vs planetrdf\n",
      "addPage:  /home/connolly/sites/madmode-blog/pages/2006/breadcrumbs_0094.md ['breadcrumbs']\n",
      "96 Getting my Personal Finance data back with hCalendar and hCard\n",
      "addPage:  /home/connolly/sites/madmode-blog/pages/2006/breadcrumbs_0096.md ['breadcrumbs']\n",
      "97 A look at emerging Web security architectures from a Semantic Web perspective\n",
      "addPage:  /home/connolly/sites/madmode-blog/pages/2006/breadcrumbs_0097.md ['breadcrumbs']\n",
      "98 a quick take on Kiko, a nifty looking calendar service\n",
      "addPage:  /home/connolly/sites/madmode-blog/pages/2006/breadcrumbs_0098.md ['breadcrumbs']\n",
      "99 using JSON and templates to produce microformat data\n",
      "addPage:  /home/connolly/sites/madmode-blog/pages/2006/breadcrumbs_0099.md ['breadcrumbs']\n",
      "100 geocoding and hCards for airports from wikipedia\n",
      "addPage:  /home/connolly/sites/madmode-blog/pages/2006/breadcrumbs_0100.md ['breadcrumbs', 'geo']\n",
      "101 time, context, quoting, and reification\n",
      "addPage:  /home/connolly/sites/madmode-blog/pages/2006/breadcrumbs_0101.md ['breadcrumbs']\n",
      "102 no more life in a textarea: MozEx and emacs to the rescue!\n",
      "addPage:  /home/connolly/sites/madmode-blog/pages/2006/breadcrumbs_0102.md ['breadcrumbs']\n",
      "107 hacking soccer schedules into hCalendar and into my sidekick\n",
      "addPage:  /home/connolly/sites/madmode-blog/pages/2006/breadcrumbs_0107.md ['breadcrumbs']\n",
      "123 A step forward with python and sshagent, and a walk around gnome security tools\n",
      "addPage:  /home/connolly/sites/madmode-blog/pages/2006/breadcrumbs_0123.md ['breadcrumbs', 'web', 'policy', 'security', 'python', 'programming']\n",
      "124 Consensus and community review in open source and open standards\n",
      "addPage:  /home/connolly/sites/madmode-blog/pages/2006/breadcrumbs_0124.md ['breadcrumbs']\n",
      "127 busy day in #microformats\n",
      "addPage:  /home/connolly/sites/madmode-blog/pages/2006/breadcrumbs_0127.md ['breadcrumbs']\n",
      "129 Access control and version control: an over-constrained problem?\n",
      "addPage:  /home/connolly/sites/madmode-blog/pages/2006/breadcrumbs_0129.md ['breadcrumbs']\n",
      "130 citing W3C specs from WWW conference papers\n",
      "addPage:  /home/connolly/sites/madmode-blog/pages/2006/breadcrumbs_0130.md ['breadcrumbs']\n",
      "131 On GData, SPARQL update, and RDF Diff/Sync\n",
      "addPage:  /home/connolly/sites/madmode-blog/pages/2006/breadcrumbs_0131.md ['breadcrumbs', 'diff', 'sync', 'sparql', 'calendar', 'web+architecture']\n",
      "133 RDF, Microformats, and Javascript hacking in person at the 'tute\n",
      "addPage:  /home/connolly/sites/madmode-blog/pages/2006/breadcrumbs_0133.md ['breadcrumbs', 'mobile', 'javascript', 'microformats', 'travel', 'calendar', 'BOS', 'bos']\n",
      "135 webizing TaskJuggler\n",
      "addPage:  /home/connolly/sites/madmode-blog/pages/2006/breadcrumbs_0135.md ['breadcrumbs', 'calendar']\n",
      "139 WWW2006 in Edinburgh: Identity, Reference, and Meaning\n",
      "addPage:  /home/connolly/sites/madmode-blog/pages/2006/breadcrumbs_0139.md ['breadcrumbs', 'www2006', 'EDI', 'travel', 'web+architecture', 'URI']\n",
      "140 Exporting databases in the Semantic Web with SPARQL, D2R, dbview, ARC, and such\n",
      "addPage:  /home/connolly/sites/madmode-blog/pages/2006/breadcrumbs_0140.md ['breadcrumbs', 'www2006', 'EDI', 'travel', 'sparql']\n",
      "141 Equality and inconsistency in the rules layer\n",
      "addPage:  /home/connolly/sites/madmode-blog/pages/2006/breadcrumbs_0141.md ['breadcrumbs']\n",
      "142 fun with flock\n",
      "addPage:  /home/connolly/sites/madmode-blog/pages/2006/breadcrumbs_0142.md ['breadcrumbs', u'flock', u'writing', u'editing', u'drupal']\n",
      "146 converting vcard .vcf syntax to hcard and catching up on CALSIFY\n",
      "addPage:  /home/connolly/sites/madmode-blog/pages/2006/breadcrumbs_0146.md ['breadcrumbs']\n",
      "148 a walk thru the tabulator calendar view\n",
      "addPage:  /home/connolly/sites/madmode-blog/pages/2006/breadcrumbs_0148.md ['breadcrumbs', 'calendar', 'SeedApplications']\n",
      "151 Choosing flight itineraries using tabulator and data from Wikipedia\n",
      "addPage:  /home/connolly/sites/madmode-blog/pages/2006/breadcrumbs_0151.md ['breadcrumbs']\n",
      "154 OpenID, verisign, and my life: mediawiki, bugzilla, mailman, roundup, ...\n",
      "addPage:  /home/connolly/sites/madmode-blog/pages/2006/breadcrumbs_0154.md ['breadcrumbs']\n",
      "155 tabulator maps in Argentina\n",
      "addPage:  /home/connolly/sites/madmode-blog/pages/2006/breadcrumbs_0155.md ['breadcrumbs']\n",
      "156 how much do I want to know about drupal?\n",
      "addPage:  /home/connolly/sites/madmode-blog/pages/2006/breadcrumbs_0156.md ['breadcrumbs']\n",
      "157 on Wikimania 2006, from a few hundred miles away\n",
      "addPage:  /home/connolly/sites/madmode-blog/pages/2006/breadcrumbs_0157.md ['breadcrumbs']\n",
      "158 Stitching the Semantic Web together with OWL at AAAI-06\n",
      "addPage:  /home/connolly/sites/madmode-blog/pages/2006/breadcrumbs_0158.md ['breadcrumbs', 'RdfAndSql', 'AAAI', 'public-sparql-dev', 'citation']\n",
      "159 On the Future of Research Libraries at U.T. Austin\n",
      "addPage:  /home/connolly/sites/madmode-blog/pages/2006/breadcrumbs_0159.md ['breadcrumbs', 'Austin', 'URI', 'web+architecture']\n",
      "160 ACL 2 seminar at U.T. Austin: Toward proof exchange in the Semantic Web\n",
      "addPage:  /home/connolly/sites/madmode-blog/pages/2006/breadcrumbs_0160.md ['breadcrumbs', 'Austin', 'semantic', 'web', 'logic', 'research']\n",
      "161 Talking with U.T. Austin students about the Microformats, Drug Discovery, the Tabulator, and the Semantic Web\n",
      "addPage:  /home/connolly/sites/madmode-blog/pages/2006/breadcrumbs_0161.md ['breadcrumbs', 'Austin', 'semantic', 'web']\n",
      "162 Wishing for XOXO microformat support in OmniOutliner\n",
      "addPage:  /home/connolly/sites/madmode-blog/pages/2006/breadcrumbs_0162.md ['breadcrumbs']\n",
      "163 Trip reporting with flock\n",
      "addPage:  /home/connolly/sites/madmode-blog/pages/2006/breadcrumbs_0163.md ['breadcrumbs']\n",
      "164 Adding Shoenfield, Brachman books to my bookshelf?\n",
      "addPage:  /home/connolly/sites/madmode-blog/pages/2006/breadcrumbs_0164.md ['breadcrumbs']\n",
      "165 Now is a good time to try the tabulator\n",
      "addPage:  /home/connolly/sites/madmode-blog/pages/2006/breadcrumbs_0165.md ['breadcrumbs']\n",
      "171 Celebrating OWL interoperability and spec quality\n",
      "addPage:  /home/connolly/sites/madmode-blog/pages/2006/breadcrumbs_0171.md ['breadcrumbs']\n",
      "172 A new Basketball season brings a new episode in the personal information disaster\n",
      "addPage:  /home/connolly/sites/madmode-blog/pages/2006/breadcrumbs_0172.md ['breadcrumbs']\n",
      "178 Modelling HTTP cache configuration in the Semantic Web\n",
      "addPage:  /home/connolly/sites/madmode-blog/pages/2006/breadcrumbs_0178.md ['breadcrumbs']\n",
      "179 She's a witch and I have the proof (in N3)\n",
      "addPage:  /home/connolly/sites/madmode-blog/pages/2007/breadcrumbs_0179.md ['breadcrumbs']\n",
      "180 A design for web content labels built from GRDDL and rules\n",
      "addPage:  /home/connolly/sites/madmode-blog/pages/2007/breadcrumbs_0180.md ['breadcrumbs']\n",
      "187 The Mercurial SCM: great for lots of stuff, but not the holy grail\n",
      "addPage:  /home/connolly/sites/madmode-blog/pages/2007/breadcrumbs_0187.md ['breadcrumbs', 'python+scm']\n",
      "192 Collaboration and crime at a distance at HASTAC, WWW2007\n",
      "addPage:  /home/connolly/sites/madmode-blog/pages/2007/breadcrumbs_0192.md ['breadcrumbs', 'openid', 'hastac', 'Duke', 'RDU', 'digital+media']\n",
      "193 IKL by Hayes et al. provides a semantics for N3?\n",
      "addPage:  /home/connolly/sites/madmode-blog/pages/2007/breadcrumbs_0193.md ['breadcrumbs']\n",
      "194 Linked Data at WWW2007: GRDDL, SPARQL, and Wikipedia, oh my!\n",
      "addPage:  /home/connolly/sites/madmode-blog/pages/2007/breadcrumbs_0194.md ['breadcrumbs', u'banff', u'grddl', u'www2007', u'travel']\n",
      "198 Units of measure and property chaining\n",
      "addPage:  /home/connolly/sites/madmode-blog/pages/2007/breadcrumbs_0198.md ['breadcrumbs']\n",
      "201 Soccer schedules, flight itineraries, timezones, and python web frameworks\n",
      "addPage:  /home/connolly/sites/madmode-blog/pages/2007/breadcrumbs_0201.md ['breadcrumbs']\n",
      "206 FOAF and OpenID: two great tastes that taste great together\n",
      "addPage:  /home/connolly/sites/madmode-blog/pages/2007/breadcrumbs_0206.md ['breadcrumbs']\n",
      "207 brainstorming, issue tracking, and problem reporting... with tabulator?\n",
      "addPage:  /home/connolly/sites/madmode-blog/pages/2007/breadcrumbs_0207.md ['breadcrumbs']\n",
      "214 Free Culture: Why buy the Amazon Kindle when you can give and get an OLPC XO-1 for the same price?\n",
      "addPage:  /home/connolly/sites/madmode-blog/pages/2007/breadcrumbs_0214.md ['breadcrumbs']\n",
      "221 I can only imagine...\n",
      "addPage:  /home/connolly/sites/madmode-blog/pages/2007/breadcrumbs_0221.md ['breadcrumbs']\n",
      "228 hAudio for microformats mixtapes, in progress\n",
      "addPage:  /home/connolly/sites/madmode-blog/pages/2008/breadcrumbs_0228.md ['breadcrumbs']\n",
      "229 sidekick calendar subscription for SXSW\n",
      "addPage:  /home/connolly/sites/madmode-blog/pages/2008/breadcrumbs_0229.md ['breadcrumbs']\n",
      "240 The details of data in documents; GRDDL, profiles, and HTML5\n",
      "addPage:  /home/connolly/sites/madmode-blog/pages/2008/breadcrumbs_0240.md ['breadcrumbs']\n",
      "246 OpenID \"Hello World\" on apache still deep magic\n",
      "addPage:  /home/connolly/sites/madmode-blog/pages/2009/breadcrumbs_0246.md ['breadcrumbs']\n",
      "250 DIG losing the battle with spammers again\n",
      "addPage:  /home/connolly/sites/madmode-blog/pages/2009/breadcrumbs_0250.md ['breadcrumbs']\n",
      "251 migrating from danger/sidekick to android/G1\n",
      "addPage:  /home/connolly/sites/madmode-blog/pages/2009/breadcrumbs_0251.md ['breadcrumbs']\n",
      "252 Existentials in ACL2 and Milawa make sense; how about level breakers?\n",
      "addPage:  /home/connolly/sites/madmode-blog/pages/2010/breadcrumbs_0252.md ['breadcrumbs']\n",
      "253 Map and Territory in RDF APIs\n",
      "addPage:  /home/connolly/sites/madmode-blog/pages/2010/breadcrumbs_0253.md ['breadcrumbs']\n"
     ]
    }
   ],
   "source": [
    "from time import mktime\n",
    "from datetime import datetime\n",
    "import re\n",
    "\n",
    "\n",
    "def drupal2md(body):\n",
    "    body = body.split('</title>', 1)[1]  # remove redundant title\n",
    "    body = body.replace('\\r', '')  # unix newlines\n",
    "    return body\n",
    "\n",
    "\n",
    "def findTags(body):\n",
    "    tags = []\n",
    "    for txt in body.split('<'):\n",
    "        if txt.startswith('a '):\n",
    "            txt = txt[len('a '):]\n",
    "            attrs = {}\n",
    "            while '=' in txt and not txt.startswith('>'):\n",
    "                name, txt = txt.split('=', 1)\n",
    "                name = name.strip()\n",
    "                txt = txt.strip()\n",
    "                _, value, txt = txt.split('\"', 2)\n",
    "                attrs[name] = value\n",
    "                txt = txt.strip()\n",
    "            href = attrs.get('href', '')\n",
    "            if 'tag' in attrs.get('rel', '') or 'del.icio.us' in href:\n",
    "                if href.endswith('/'):\n",
    "                    href = href[:-1]\n",
    "                tags.append(href.split('/')[-1])\n",
    "    return tags\n",
    "\n",
    "\n",
    "for postid, item in sorted(breadcrumbs_xmlrpc.items()):\n",
    "    print(postid, item['title'], file=stderr)\n",
    "    dt = datetime.fromtimestamp(mktime(item['dateCreated'].timetuple()))\n",
    "    tags = ['breadcrumbs'] + findTags(item['content'])\n",
    "    mmwr.addPage(drupal2md(item['content']), title=item['title'], date=dt,\n",
    "                 tags=tags,\n",
    "                 published=True, slug='breadcrumbs_%04d' % postid)"
   ]
  },
  {
   "cell_type": "markdown",
   "metadata": {},
   "source": [
    "## PyData Tools"
   ]
  },
  {
   "cell_type": "code",
   "execution_count": 5,
   "metadata": {
    "collapsed": false
   },
   "outputs": [
    {
     "data": {
      "text/plain": [
       "{'pandas': u'0.17.1'}"
      ]
     },
     "execution_count": 5,
     "metadata": {},
     "output_type": "execute_result"
    }
   ],
   "source": [
    "import pandas as pd\n",
    "dict(pandas=pd.__version__)"
   ]
  },
  {
   "cell_type": "code",
   "execution_count": 6,
   "metadata": {
    "collapsed": false
   },
   "outputs": [
    {
     "name": "stdout",
     "output_type": "stream",
     "text": [
      "content              object\n",
      "dateCreated          object\n",
      "description          object\n",
      "link                 object\n",
      "mt_allow_comments     int64\n",
      "mt_convert_breaks    object\n",
      "permaLink            object\n",
      "title                object\n",
      "userid               object\n",
      "dtype: object\n"
     ]
    },
    {
     "data": {
      "text/html": [
       "<div>\n",
       "<table border=\"1\" class=\"dataframe\">\n",
       "  <thead>\n",
       "    <tr style=\"text-align: right;\">\n",
       "      <th></th>\n",
       "      <th>title</th>\n",
       "      <th>dateCreated</th>\n",
       "    </tr>\n",
       "    <tr>\n",
       "      <th>postid</th>\n",
       "      <th></th>\n",
       "      <th></th>\n",
       "    </tr>\n",
       "  </thead>\n",
       "  <tbody>\n",
       "    <tr>\n",
       "      <th>4</th>\n",
       "      <td>On OpenID and comment policies</td>\n",
       "      <td>20051024T23:28:49</td>\n",
       "    </tr>\n",
       "    <tr>\n",
       "      <th>5</th>\n",
       "      <td>little burst of PAW demo hacking</td>\n",
       "      <td>20051026T20:12:18</td>\n",
       "    </tr>\n",
       "    <tr>\n",
       "      <th>6</th>\n",
       "      <td>DIG blog wish list</td>\n",
       "      <td>20051026T20:14:27</td>\n",
       "    </tr>\n",
       "    <tr>\n",
       "      <th>7</th>\n",
       "      <td>Fire at Southampton... hope everything's alrig...</td>\n",
       "      <td>20051031T11:59:08</td>\n",
       "    </tr>\n",
       "    <tr>\n",
       "      <th>9</th>\n",
       "      <td>Reflecting blog structure into the Semantic We...</td>\n",
       "      <td>20051031T13:18:51</td>\n",
       "    </tr>\n",
       "  </tbody>\n",
       "</table>\n",
       "</div>"
      ],
      "text/plain": [
       "                                                    title        dateCreated\n",
       "postid                                                                      \n",
       "4                          On OpenID and comment policies  20051024T23:28:49\n",
       "5                        little burst of PAW demo hacking  20051026T20:12:18\n",
       "6                                      DIG blog wish list  20051026T20:14:27\n",
       "7       Fire at Southampton... hope everything's alrig...  20051031T11:59:08\n",
       "9       Reflecting blog structure into the Semantic We...  20051031T13:18:51"
      ]
     },
     "execution_count": 6,
     "metadata": {},
     "output_type": "execute_result"
    }
   ],
   "source": [
    "items = pd.DataFrame.from_records(breadcrumbs_xmlrpc.values())\n",
    "items.postid = items.postid.astype(int)\n",
    "items = items.set_index('postid')\n",
    "print(items.dtypes)\n",
    "items[['title', 'dateCreated']].sort_values('dateCreated').head()"
   ]
  },
  {
   "cell_type": "code",
   "execution_count": 7,
   "metadata": {
    "collapsed": false
   },
   "outputs": [
    {
     "data": {
      "text/html": [
       "<div>\n",
       "<table border=\"1\" class=\"dataframe\">\n",
       "  <thead>\n",
       "    <tr style=\"text-align: right;\">\n",
       "      <th></th>\n",
       "      <th>title</th>\n",
       "      <th>dateCreated</th>\n",
       "    </tr>\n",
       "    <tr>\n",
       "      <th>postid</th>\n",
       "      <th></th>\n",
       "      <th></th>\n",
       "    </tr>\n",
       "  </thead>\n",
       "  <tbody>\n",
       "    <tr>\n",
       "      <th>228</th>\n",
       "      <td>hAudio for microformats mixtapes, in progress</td>\n",
       "      <td>20080306T17:00:05</td>\n",
       "    </tr>\n",
       "  </tbody>\n",
       "</table>\n",
       "</div>"
      ],
      "text/plain": [
       "                                                title        dateCreated\n",
       "postid                                                                  \n",
       "228     hAudio for microformats mixtapes, in progress  20080306T17:00:05"
      ]
     },
     "execution_count": 7,
     "metadata": {},
     "output_type": "execute_result"
    }
   ],
   "source": [
    "items.loc[[228], ['title', 'dateCreated']]"
   ]
  }
 ],
 "metadata": {
  "kernelspec": {
   "display_name": "Python 2",
   "language": "python",
   "name": "python2"
  },
  "language_info": {
   "codemirror_mode": {
    "name": "ipython",
    "version": 2
   },
   "file_extension": ".py",
   "mimetype": "text/x-python",
   "name": "python",
   "nbconvert_exporter": "python",
   "pygments_lexer": "ipython2",
   "version": "2.7.12"
  }
 },
 "nbformat": 4,
 "nbformat_minor": 0
}
