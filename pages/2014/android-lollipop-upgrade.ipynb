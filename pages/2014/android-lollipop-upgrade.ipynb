{
 "metadata": {
  "name": "",
  "signature": "sha256:6bb93464c69e2fffbbc2a88101ef09f9490f5dee10ca88701fc0ddf2b6ec91fd"
 },
 "nbformat": 3,
 "nbformat_minor": 0,
 "worksheets": [
  {
   "cells": [
    {
     "cell_type": "markdown",
     "metadata": {},
     "source": [
      "Lolipop sound profile on power button\n",
      "\n",
      "Nov 18 19:36"
     ]
    },
    {
     "cell_type": "markdown",
     "metadata": {},
     "source": [
      "Lollipop keyboard background color"
     ]
    },
    {
     "cell_type": "markdown",
     "metadata": {},
     "source": [
      "Lollipop keyboard settings"
     ]
    },
    {
     "cell_type": "markdown",
     "metadata": {},
     "source": [
      "Lollipop flashlight lockscreen"
     ]
    }
   ],
   "metadata": {}
  }
 ]
}