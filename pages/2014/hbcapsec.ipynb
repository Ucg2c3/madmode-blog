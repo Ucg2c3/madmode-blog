{
 "metadata": {
  "name": "",
  "signature": "sha256:37148c26e65981735af7d6020580278bed1d840f442d821444802a6adcf81461"
 },
 "nbformat": 3,
 "nbformat_minor": 0,
 "worksheets": [
  {
   "cells": [
    {
     "cell_type": "markdown",
     "metadata": {},
     "source": [
      "heartbleed\n",
      "\n",
      "market. web science\n",
      "\n",
      "capsec\n",
      "\n",
      "genode\n",
      "\n",
      "ses\n",
      "\n",
      "nova"
     ]
    }
   ],
   "metadata": {}
  }
 ]
}