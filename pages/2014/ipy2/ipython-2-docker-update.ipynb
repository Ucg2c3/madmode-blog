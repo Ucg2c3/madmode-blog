{
 "metadata": {
  "name": "",
  "signature": "sha256:020249405ad5cfe62bc8304d82e9ba7ca10e28075eba1213c561a1e0779288b1"
 },
 "nbformat": 3,
 "nbformat_minor": 0,
 "worksheets": [
  {
   "cells": [
    {
     "cell_type": "heading",
     "level": 1,
     "metadata": {},
     "source": [
      "IPython2 is more Web-Like (and the cost of upgrading)"
     ]
    },
    {
     "cell_type": "markdown",
     "metadata": {},
     "source": [
      "<pre class=\"about yaml\">\n",
      "date: 2014-04-20\n",
      "published: false\n",
      "tags: [ipython, python, writing, publishing, docker, installation]\n",
      "</pre>"
     ]
    },
    {
     "cell_type": "markdown",
     "metadata": {},
     "source": [
      "Silly me... after [my previous episode with ipython and docker container](../../2013/fs-tt/nbpub.ipynb) to insulate myself from dependencies, I checked to see if I was current and found ipython 2.0 is out, my biggest wish has been granted: mult-directory support. "
     ]
    },
    {
     "cell_type": "markdown",
     "metadata": {},
     "source": [
      "So I visited my [ipython-docker][] package and when I log in, there's a nice one-button system to schedule a re-build now.\n",
      "\n",
      "Unfortunately, my Dockerfile doesn't work now:\n",
      "\n",
      "```\n",
      " $ sudo docker run -i -t dckc/ipython-docker ipython\n",
      " 2014/04/15 22:37:41 exec: \"ipython\": executable file not found in $PATH\n",
      "```\n",
      "\n",
      "[ipython-docker]: https://index.docker.io/u/dckc/ipython-docker/\n"
     ]
    },
    {
     "cell_type": "heading",
     "level": 1,
     "metadata": {},
     "source": [
      "Apt and Term/ReadLine.pm"
     ]
    },
    {
     "cell_type": "markdown",
     "metadata": {},
     "source": [
      "At first I didn't see a build log, so I went through the steps of the dockerfile in a local container. The failure was in the `RUN apt-get install -y python python-pip` step:\n",
      "\n",
      "```\n",
      "debconf: (Can't locate Term/ReadLine.pm in  ...\n",
      "\n",
      "python-dev : Depends: python2.7-dev (>= 2.7.3) but it is not going to be installed\n",
      "```"
     ]
    },
    {
     "cell_type": "heading",
     "level": 1,
     "metadata": {},
     "source": [
      "Crosby's Python"
     ]
    },
    {
     "cell_type": "markdown",
     "metadata": {},
     "source": [
      "[Discussion last fall][62] suggests `apt-get upgrade` should fix it.\n",
      "\n",
      "[62]: http://askubuntu.com/questions/344962/how-do-i-correct-this-error-with-debootstrap-in-ubuntu-server-12-04-3\n",
      "\n",
      "My dockerfile did apt-get update but not apt-get upgrade, which left things in a bit  of a goofy state. Meanwhile, I learned in the `#docker` channel that [best practice][bp2] is to not upgrade, as parent images are upgraded by rebuilding. I also learned that `<crosbymichael>` maintains a nicy debian-based python image, including pip. So using `FROM crosbymichael/python` and `apt-get update`, I got:\n",
      "\n",
      "```\n",
      "Successfully built 987cc452e3cb\n",
      "```\n",
      "\n",
      "[bp2]: http://crosbymichael.com/dockerfile-best-practices-take-2.html\n"
     ]
    },
    {
     "cell_type": "heading",
     "level": 1,
     "metadata": {},
     "source": [
      "Docker Mental Model"
     ]
    },
    {
     "cell_type": "markdown",
     "metadata": {},
     "source": [
      " \n",
      " but that's not what `sudo docker images` shows.\n",
      " oh. phpht. I used the wrong tag when I built it.\n",
      " now I have two dckc/ipython-notebook , both tagged latest\n",
      " whimper\n",
      " my mental model is evidently incomplete\n",
      " shouldn't building a new one replace the old one?\n",
      " ah. the old one is running\n",
      " $ sudo docker rmi df6dc7863abf\n",
      " Error: Conflict, cannot delete df6dc7863abf because the container 7f894ff3caaa is using it\n",
      " '\n",
      " but `sudo docker ps` shows nothing\n",
      " whimper\n",
      "`<tcard>` DanC_: `sudo docker ps -a` ?\n",
      "`<DanC_>` pages of output!\n",
      " wtf?\n",
      "`<tcard>` DanC_: by default `docker ps` only shows running containers, not stopped ones\n",
      "`<DanC_>` is there a quick way to get rid of all of those containers I didn't know existed?\n",
      "`<tcard>` DanC_: an easy way to delete all containers is `docker rm $(docker ps -a -q)`\n",
      "`<DanC_>` nice!\n",
      "`<Frank81>` https://coderwall.com/p/ag1agw\n",
      " read that too\n",
      " ist for updating runnin containers\n",
      " that you cant get ride of else when you wanna update em\n",
      "\n",
      "2014-04-16 04:19:26.270 [NotebookApp] The IPython Notebook is running at: http://0.0.0.0:8888/\n",
      " yay!\n",
      "\n",
      "* DanC_ wonders if there are some diagrams in the docs that would help with a mental model\n",
      "\n",
      "speaking of docs... why are there no links from the index back to the rest of docker?\n",
      "\n",
      "does the doc system grok graphviz? If so, I could perhaps help with some diagrams."
     ]
    },
    {
     "cell_type": "heading",
     "level": 2,
     "metadata": {},
     "source": [
      "GraphViz Diagrams"
     ]
    },
    {
     "cell_type": "markdown",
     "metadata": {},
     "source": [
      "Install graphviz..."
     ]
    },
    {
     "cell_type": "code",
     "collapsed": true,
     "input": [
      "!apt-get -y install graphviz"
     ],
     "language": "python",
     "metadata": {},
     "outputs": [
      {
       "output_type": "stream",
       "stream": "stdout",
       "text": [
        "\r",
        "Reading package lists... 0%\r"
       ]
      },
      {
       "output_type": "stream",
       "stream": "stdout",
       "text": [
        "\r",
        "Reading package lists... 0%\r",
        "\r",
        "Reading package lists... 1%\r"
       ]
      },
      {
       "output_type": "stream",
       "stream": "stdout",
       "text": [
        "\r",
        "Reading package lists... 99%\r",
        "\r",
        "Reading package lists... 99%\r",
        "\r",
        "Reading package lists... 99%\r",
        "\r",
        "Reading package lists... 99%\r",
        "\r",
        "Reading package lists... 99%\r",
        "\r",
        "Reading package lists... 99%\r",
        "\r",
        "Reading package lists... Done\r",
        "\r\n"
       ]
      },
      {
       "output_type": "stream",
       "stream": "stdout",
       "text": [
        "\r",
        "Building dependency tree... 0%\r",
        "\r",
        "Building dependency tree... 0%\r",
        "\r",
        "Building dependency tree... 0%\r",
        "\r",
        "Building dependency tree... 50%\r",
        "\r",
        "Building dependency tree... 50%\r"
       ]
      },
      {
       "output_type": "stream",
       "stream": "stdout",
       "text": [
        "\r",
        "Building dependency tree       \r",
        "\r\n",
        "\r",
        "Reading state information... 0%\r",
        "\r",
        "Reading state information... 1%\r",
        "\r",
        "Reading state information... Done\r",
        "\r\n"
       ]
      },
      {
       "output_type": "stream",
       "stream": "stdout",
       "text": [
        "The following extra packages will be installed:\r\n",
        "  fontconfig fontconfig-config fonts-dejavu-core fonts-liberation libcairo2\r\n",
        "  libcdt4 libcgraph5 libdatrie1 libdrm-intel1 libdrm-nouveau2 libdrm-radeon1\r\n",
        "  libdrm2 libegl1-mesa libegl1-mesa-drivers libelf1 libfontconfig1\r\n",
        "  libfreetype6 libgbm1 libgd3 libgl1-mesa-dri libgl1-mesa-glx libglapi-mesa\r\n",
        "  libglib2.0-0 libglib2.0-data libgraph4 libgraphite2-3 libgvc5 libgvpr1\r\n",
        "  libharfbuzz0b libice6 libjbig0 libjpeg8 libllvm3.4 libltdl7 libopenvg1-mesa\r\n",
        "  libpango-1.0-0 libpangocairo-1.0-0 libpangoft2-1.0-0 libpathplan4\r\n",
        "  libpciaccess0 libpixman-1-0 libpng12-0 libsm6 libthai-data libthai0 libtiff5\r\n",
        "  libtxc-dxtn-s2tc0 libudev1 libvpx1 libwayland-client0 libwayland-egl1-mesa\r\n",
        "  libwayland-server0 libx11-xcb1 libxaw7 libxcb-dri2-0 libxcb-dri3-0\r\n",
        "  libxcb-glx0 libxcb-present0 libxcb-render0 libxcb-shape0 libxcb-shm0\r\n",
        "  libxcb-sync1 libxcb-xfixes0 libxdamage1 libxdot4 libxfixes3 libxmu6 libxpm4\r\n",
        "  libxrender1 libxshmfence1 libxt6 libxxf86vm1 shared-mime-info ttf-liberation\r\n",
        "  ucf x11-common\r\n",
        "Suggested packages:\r\n",
        "  gsfonts graphviz-doc libgd-tools libglide3 ttf-baekmuk ttf-arphic-gbsn00lp\r\n",
        "  ttf-arphic-bsmi00lp ttf-arphic-gkai00mp ttf-arphic-bkai00mp pciutils\r\n",
        "The following NEW packages will be installed:\r\n",
        "  fontconfig fontconfig-config fonts-dejavu-core fonts-liberation graphviz\r\n",
        "  libcairo2 libcdt4 libcgraph5 libdatrie1 libdrm-intel1 libdrm-nouveau2\r\n",
        "  libdrm-radeon1 libdrm2 libegl1-mesa libegl1-mesa-drivers libelf1\r\n",
        "  libfontconfig1 libfreetype6 libgbm1 libgd3 libgl1-mesa-dri libgl1-mesa-glx\r\n",
        "  libglapi-mesa libglib2.0-0 libglib2.0-data libgraph4 libgraphite2-3 libgvc5\r\n",
        "  libgvpr1 libharfbuzz0b libice6 libjbig0 libjpeg8 libllvm3.4 libltdl7\r\n",
        "  libopenvg1-mesa libpango-1.0-0 libpangocairo-1.0-0 libpangoft2-1.0-0\r\n",
        "  libpathplan4 libpciaccess0 libpixman-1-0 libpng12-0 libsm6 libthai-data\r\n",
        "  libthai0 libtiff5 libtxc-dxtn-s2tc0 libudev1 libvpx1 libwayland-client0\r\n",
        "  libwayland-egl1-mesa libwayland-server0 libx11-xcb1 libxaw7 libxcb-dri2-0\r\n",
        "  libxcb-dri3-0 libxcb-glx0 libxcb-present0 libxcb-render0 libxcb-shape0\r\n",
        "  libxcb-shm0 libxcb-sync1 libxcb-xfixes0 libxdamage1 libxdot4 libxfixes3\r\n",
        "  libxmu6 libxpm4 libxrender1 libxshmfence1 libxt6 libxxf86vm1\r\n",
        "  shared-mime-info ttf-liberation ucf x11-common\r\n",
        "0 upgraded, 77 newly installed, 0 to remove and 73 not upgraded.\r\n"
       ]
      },
      {
       "output_type": "stream",
       "stream": "stdout",
       "text": [
        "Need to get 31.9 MB of archives.\r\n",
        "After this operation, 137 MB of additional disk space will be used.\r\n"
       ]
      },
      {
       "output_type": "stream",
       "stream": "stdout",
       "text": [
        "\r",
        "\r",
        "0% [Working]"
       ]
      },
      {
       "output_type": "stream",
       "stream": "stdout",
       "text": [
        "\r",
        "0% [Working]\r",
        "            \r",
        "0% [Waiting for headers]"
       ]
      },
      {
       "output_type": "stream",
       "stream": "stdout",
       "text": [
        "\r",
        "                        \r",
        "0% [Connecting to cloudfront.debian.net]"
       ]
      },
      {
       "output_type": "stream",
       "stream": "stdout",
       "text": [
        "\r",
        "0% [Connecting to cloudfront.debian.net]"
       ]
      },
      {
       "output_type": "stream",
       "stream": "stdout",
       "text": [
        "\r",
        "                                        \r",
        "Get:1 http://http.debian.net/debian/ jessie/main libudev1 amd64 204-8 [43.9 kB]\r\n",
        "\r",
        "                                        \r",
        "0% [1 libudev1 14.0 kB/43.9 kB 32%] [Waiting for headers]\r",
        "                                                         \r",
        "0% [1 libudev1 14.0 kB/43.9 kB 32%]"
       ]
      },
      {
       "output_type": "stream",
       "stream": "stdout",
       "text": [
        "\r",
        "                                   \r",
        "0% [Waiting for headers]"
       ]
      },
      {
       "output_type": "stream",
       "stream": "stdout",
       "text": [
        "\r",
        "                        \r",
        "Get:2 http://http.debian.net/debian/ jessie/main libdrm2 amd64 2.4.52-1 [29.2 kB]\r\n",
        "\r",
        "                        \r",
        "0% [2 libdrm2 5338 B/29.2 kB 18%] [Waiting for headers]\r",
        "                                                       \r",
        "0% [Waiting for headers]"
       ]
      },
      {
       "output_type": "stream",
       "stream": "stdout",
       "text": [
        "\r",
        "                        \r",
        "Get:3 http://http.debian.net/debian/ jessie/main libglapi-mesa amd64 10.1.0-5 [50.8 kB]\r\n",
        "\r",
        "                        \r",
        "0% [3 libglapi-mesa 0 B/50.8 kB 0%] [Waiting for headers]\r",
        "                                                         \r",
        "0% [3 libglapi-mesa 50.8 kB/50.8 kB 100%]\r",
        "                                         \r",
        "0% [Waiting for headers]"
       ]
      },
      {
       "output_type": "stream",
       "stream": "stdout",
       "text": [
        "\r",
        "                        \r",
        "Get:4 http://http.debian.net/debian/ jessie/main libllvm3.4 amd64 1:3.4-2 [6527 kB]\r\n",
        "\r",
        "                        \r",
        "0% [4 libllvm3.4 5346 B/6527 kB 0%] [Waiting for headers]"
       ]
      },
      {
       "output_type": "stream",
       "stream": "stdout",
       "text": [
        "\r",
        "                                                         \r",
        "1% [4 libllvm3.4 224 kB/6527 kB 3%]"
       ]
      },
      {
       "output_type": "stream",
       "stream": "stdout",
       "text": [
        "\r",
        "2% [4 libllvm3.4 543 kB/6527 kB 8%]"
       ]
      },
      {
       "output_type": "stream",
       "stream": "stdout",
       "text": [
        "\r",
        "                                   \r",
        "4% [4 libllvm3.4 1064 kB/6527 kB 16%]"
       ]
      },
      {
       "output_type": "stream",
       "stream": "stdout",
       "text": [
        "\r",
        "5% [4 libllvm3.4 1455 kB/6527 kB 22%]"
       ]
      },
      {
       "output_type": "stream",
       "stream": "stdout",
       "text": [
        "\r",
        "6% [4 libllvm3.4 1911 kB/6527 kB 29%]"
       ]
      },
      {
       "output_type": "stream",
       "stream": "stdout",
       "text": [
        "\r",
        "8% [4 libllvm3.4 2432 kB/6527 kB 37%]"
       ]
      },
      {
       "output_type": "stream",
       "stream": "stdout",
       "text": [
        "\r",
        "                                     \r",
        "10% [4 libllvm3.4 2953 kB/6527 kB 45%]"
       ]
      },
      {
       "output_type": "stream",
       "stream": "stdout",
       "text": [
        "\r",
        "11% [4 libllvm3.4 3508 kB/6527 kB 54%]"
       ]
      },
      {
       "output_type": "stream",
       "stream": "stdout",
       "text": [
        "\r",
        "13% [4 libllvm3.4 4061 kB/6527 kB 62%]"
       ]
      },
      {
       "output_type": "stream",
       "stream": "stdout",
       "text": [
        "\r",
        "15% [4 libllvm3.4 4648 kB/6527 kB 71%]"
       ]
      },
      {
       "output_type": "stream",
       "stream": "stdout",
       "text": [
        "\r",
        "17% [4 libllvm3.4 5299 kB/6527 kB 81%]"
       ]
      },
      {
       "output_type": "stream",
       "stream": "stdout",
       "text": [
        "\r",
        "19% [4 libllvm3.4 6054 kB/6527 kB 93%]"
       ]
      },
      {
       "output_type": "stream",
       "stream": "stdout",
       "text": [
        "\r",
        "                                      \r",
        "21% [4 libllvm3.4 6527 kB/6527 kB 100%]\r",
        "                                       \r",
        "21% [Waiting for headers]"
       ]
      },
      {
       "output_type": "stream",
       "stream": "stdout",
       "text": [
        "\r",
        "                         \r",
        "Get:5 http://http.debian.net/debian/ jessie/main libwayland-client0 amd64 1.4.0-1 [22.5 kB]\r\n",
        "\r",
        "                         \r",
        "21% [5 libwayland-client0 8238 B/22.5 kB 37%] [Waiting for headers]\r",
        "                                                                   \r",
        "21% [Waiting for headers]\r",
        "                         \r",
        "Get:6 http://http.debian.net/debian/ jessie/main libwayland-server0 amd64 1.4.0-1 [27.5 kB]\r\n",
        "\r",
        "                         \r",
        "21% [6 libwayland-server0 8238 B/27.5 kB 30%] [Waiting for headers]\r",
        "                                                                   \r",
        "21% [Waiting for headers]"
       ]
      },
      {
       "output_type": "stream",
       "stream": "stdout",
       "text": [
        "\r",
        "                         \r",
        "Get:7 http://http.debian.net/debian/ jessie/main libxcb-dri2-0 amd64 1.10-2 [12.1 kB]\r\n",
        "\r",
        "                         \r",
        "21% [7 libxcb-dri2-0 5343 B/12.1 kB 44%] [Waiting for headers]\r",
        "                                                              \r",
        "21% [Waiting for headers]\r",
        "                         \r",
        "Get:8 http://http.debian.net/debian/ jessie/main libgbm1 amd64 10.1.0-5 [534 kB]\r\n",
        "\r",
        "                         \r",
        "21% [8 libgbm1 5341 B/534 kB 1%] [Waiting for headers]"
       ]
      },
      {
       "output_type": "stream",
       "stream": "stdout",
       "text": [
        "\r",
        "                                                      \r",
        "22% [8 libgbm1 463 kB/534 kB 87%]\r",
        "                                 \r",
        "23% [Waiting for headers]"
       ]
      },
      {
       "output_type": "stream",
       "stream": "stdout",
       "text": [
        "\r",
        "                         \r",
        "Get:9 http://http.debian.net/debian/ jessie/main libx11-xcb1 amd64 2:1.6.2-1 [162 kB]\r\n",
        "\r",
        "                         \r",
        "23% [9 libx11-xcb1 5341 B/162 kB 3%] [Waiting for headers]"
       ]
      },
      {
       "output_type": "stream",
       "stream": "stdout",
       "text": [
        "\r",
        "                                                          \r",
        "23% [Waiting for headers]\r",
        "23% [Waiting for headers]"
       ]
      },
      {
       "output_type": "stream",
       "stream": "stdout",
       "text": [
        "\r",
        "                         \r",
        "Get:10 http://http.debian.net/debian/ jessie/main libxcb-render0 amd64 1.10-2 [16.5 kB]\r\n",
        "\r",
        "                         \r",
        "23% [10 libxcb-render0 8239 B/16.5 kB 50%] [Waiting for headers]\r",
        "                                                                \r",
        "23% [Waiting for headers]\r",
        "                         \r",
        "Get:11 http://http.debian.net/debian/ jessie/main libxcb-shape0 amd64 1.10-2 [11.0 kB]\r\n",
        "\r",
        "                         \r",
        "23% [11 libxcb-shape0 5343 B/11.0 kB 48%] [Waiting for headers]\r",
        "                                                               \r",
        "23% [Waiting for headers]"
       ]
      },
      {
       "output_type": "stream",
       "stream": "stdout",
       "text": [
        "\r",
        "                         \r",
        "Get:12 http://http.debian.net/debian/ jessie/main libxcb-xfixes0 amd64 1.10-2 [13.9 kB]\r\n",
        "\r",
        "                         \r",
        "23% [12 libxcb-xfixes0 5343 B/13.9 kB 38%] [Waiting for headers]\r",
        "                                                                \r",
        "23% [Waiting for headers]"
       ]
      },
      {
       "output_type": "stream",
       "stream": "stdout",
       "text": [
        "\r",
        "                         \r",
        "Get:13 http://http.debian.net/debian/ jessie/main libegl1-mesa amd64 10.1.0-5 [88.3 kB]\r\n",
        "\r",
        "                         \r",
        "23% [13 libegl1-mesa 8238 B/88.3 kB 9%] [Waiting for headers]\r",
        "                                                             \r",
        "24% [Waiting for headers]\r",
        "24% [Waiting for headers]"
       ]
      },
      {
       "output_type": "stream",
       "stream": "stdout",
       "text": [
        "\r",
        "                         \r",
        "Get:14 http://http.debian.net/debian/ jessie/main libpng12-0 amd64 1.2.50-1 [189 kB]\r\n",
        "\r",
        "                         \r",
        "24% [14 libpng12-0 5341 B/189 kB 3%] [Waiting for headers]"
       ]
      },
      {
       "output_type": "stream",
       "stream": "stdout",
       "text": [
        "\r",
        "                                                          \r",
        "24% [Waiting for headers]"
       ]
      },
      {
       "output_type": "stream",
       "stream": "stdout",
       "text": [
        "\r",
        "                         \r",
        "Get:15 http://http.debian.net/debian/ jessie/main libfreetype6 amd64 2.5.2-1 [454 kB]\r\n",
        "\r",
        "                         \r",
        "24% [15 libfreetype6 5335 B/454 kB 1%] [Waiting for headers]"
       ]
      },
      {
       "output_type": "stream",
       "stream": "stdout",
       "text": [
        "\r",
        "                                                            \r",
        "26% [15 libfreetype6 426 kB/454 kB 94%]\r",
        "                                       \r",
        "26% [Waiting for headers]"
       ]
      },
      {
       "output_type": "stream",
       "stream": "stdout",
       "text": [
        "\r",
        "26% [Waiting for headers]"
       ]
      },
      {
       "output_type": "stream",
       "stream": "stdout",
       "text": [
        "\r",
        "26% [Waiting for headers]"
       ]
      },
      {
       "output_type": "stream",
       "stream": "stdout",
       "text": [
        "\r",
        "                         \r",
        "Get:16 http://http.debian.net/debian/ jessie/main ucf all 3.0027+nmu1 [70.6 kB]\r\n",
        "\r",
        "                         \r",
        "26% [16 ucf 2798 B/70.6 kB 4%] [Waiting for headers]"
       ]
      },
      {
       "output_type": "stream",
       "stream": "stdout",
       "text": [
        "\r",
        "                                                    \r",
        "26% [16 ucf 14.2 kB/70.6 kB 20%]"
       ]
      },
      {
       "output_type": "stream",
       "stream": "stdout",
       "text": [
        "\r",
        "                                \r",
        "26% [Waiting for headers]                                         1321 kB/s 17s"
       ]
      },
      {
       "output_type": "stream",
       "stream": "stdout",
       "text": [
        "\r",
        "                                                                               \r",
        "Get:17 http://http.debian.net/debian/ jessie/main fonts-dejavu-core all 2.34-1 [1047 kB]\r\n",
        "\r",
        "                                                                               \r",
        "26% [17 fonts-dejavu-core 5334 B/1047 kB 1%] [Waiting for headers]"
       ]
      },
      {
       "output_type": "stream",
       "stream": "stdout",
       "text": [
        "\r",
        "                                                                  \r",
        "27% [17 fonts-dejavu-core 260 kB/1047 kB 25%]                     1321 kB/s 17s"
       ]
      },
      {
       "output_type": "stream",
       "stream": "stdout",
       "text": [
        "\r",
        "29% [17 fonts-dejavu-core 872 kB/1047 kB 83%]                     1321 kB/s 17s"
       ]
      },
      {
       "output_type": "stream",
       "stream": "stdout",
       "text": [
        "\r",
        "29% [Waiting for headers]                                         1321 kB/s 17s\r",
        "                                                                               \r",
        "Get:18 http://http.debian.net/debian/ jessie/main fonts-liberation all 1.07.3-3 [834 kB]\r\n",
        "\r",
        "29% [18 fonts-liberation 3887 B/834 kB 0%] [Waiting for headers]  1321 kB/s 17s"
       ]
      },
      {
       "output_type": "stream",
       "stream": "stdout",
       "text": [
        "\r",
        "30% [18 fonts-liberation 379 kB/834 kB 45%]                       1321 kB/s 16s"
       ]
      },
      {
       "output_type": "stream",
       "stream": "stdout",
       "text": [
        "\r",
        "32% [18 fonts-liberation 834 kB/834 kB 100%]                      1321 kB/s 16s\r",
        "32% [Waiting for headers]                                         1321 kB/s 16s"
       ]
      },
      {
       "output_type": "stream",
       "stream": "stdout",
       "text": [
        "\r",
        "                                                                               \r",
        "Get:19 http://http.debian.net/debian/ jessie/main fontconfig-config all 2.11.0-2 [270 kB]\r\n",
        "\r",
        "                                                                               \r",
        "32% [19 fontconfig-config 5340 B/270 kB 2%] [Waiting for headers]"
       ]
      },
      {
       "output_type": "stream",
       "stream": "stdout",
       "text": [
        "\r",
        "                                                                 \r",
        "33% [Waiting for headers]                                         1321 kB/s 16s\r",
        "33% [Waiting for headers]                                         1321 kB/s 16s"
       ]
      },
      {
       "output_type": "stream",
       "stream": "stdout",
       "text": [
        "\r",
        "                                                                               \r",
        "Get:20 http://http.debian.net/debian/ jessie/main libfontconfig1 amd64 2.11.0-2 [326 kB]\r\n",
        "\r",
        "33% [20 libfontconfig1 7643 B/326 kB 2%] [Waiting for headers]    1321 kB/s 16s"
       ]
      },
      {
       "output_type": "stream",
       "stream": "stdout",
       "text": [
        "\r",
        "34% [20 libfontconfig1 326 kB/326 kB 100%]                        1321 kB/s 16s\r",
        "34% [Waiting for headers]                                         1321 kB/s 16s"
       ]
      },
      {
       "output_type": "stream",
       "stream": "stdout",
       "text": [
        "\r",
        "                                                                               \r",
        "Get:21 http://http.debian.net/debian/ jessie/main libxcb-dri3-0 amd64 1.10-2 [10.6 kB]\r\n",
        "\r",
        "34% [21 libxcb-dri3-0 8234 B/10.6 kB 78%] [Waiting for headers]   1321 kB/s 16s\r",
        "34% [Waiting for headers]                                         1321 kB/s 16s"
       ]
      },
      {
       "output_type": "stream",
       "stream": "stdout",
       "text": [
        "\r",
        "                                                                               \r",
        "Get:22 http://http.debian.net/debian/ jessie/main libxcb-glx0 amd64 1.10-2 [25.3 kB]\r\n",
        "\r",
        "34% [22 libxcb-glx0 5343 B/25.3 kB 21%] [Waiting for headers]     1321 kB/s 16s\r",
        "34% [Waiting for headers]                                         1321 kB/s 16s\r",
        "                                                                               \r",
        "Get:23 http://http.debian.net/debian/ jessie/main libxcb-present0 amd64 1.10-2 [10.7 kB]\r\n",
        "\r",
        "                                                                               \r",
        "34% [23 libxcb-present0 8239 B/10.7 kB 77%] [Waiting for headers]\r",
        "                                                                 \r",
        "34% [Waiting for headers]                                         1321 kB/s 16s"
       ]
      },
      {
       "output_type": "stream",
       "stream": "stdout",
       "text": [
        "\r",
        "                                                                               \r",
        "Get:24 http://http.debian.net/debian/ jessie/main libxcb-sync1 amd64 1.10-2 [13.6 kB]\r\n",
        "\r",
        "34% [24 libxcb-sync1 11.1 kB/13.6 kB 82%] [Waiting for headers]   1321 kB/s 15s\r",
        "34% [Waiting for headers]                                         1321 kB/s 15s\r",
        "34% [Waiting for headers]                                         1321 kB/s 15s\r",
        "                                                                               \r",
        "Get:25 http://http.debian.net/debian/ jessie/main libxfixes3 amd64 1:5.0.1-1 [22.5 kB]\r\n",
        "\r",
        "34% [25 libxfixes3 8192 B/22.5 kB 36%] [Waiting for headers]      1321 kB/s 15s"
       ]
      },
      {
       "output_type": "stream",
       "stream": "stdout",
       "text": [
        "\r",
        "34% [Waiting for headers]                                         1321 kB/s 15s\r",
        "                                                                               \r",
        "Get:26 http://http.debian.net/debian/ jessie/main libxdamage1 amd64 1:1.1.4-1 [15.1 kB]\r\n",
        "\r",
        "34% [26 libxdamage1 12.6 kB/15.1 kB 83%] [Waiting for headers]    1321 kB/s 15s\r",
        "34% [Waiting for headers]                                         1321 kB/s 15s"
       ]
      },
      {
       "output_type": "stream",
       "stream": "stdout",
       "text": [
        "\r",
        "                                                                               \r",
        "Get:27 http://http.debian.net/debian/ jessie/main libxshmfence1 amd64 1.1-2 [6452 B]\r\n",
        "\r",
        "34% [27 libxshmfence1 5343 B/6452 B 83%] [Waiting for headers]    1321 kB/s 15s\r",
        "34% [Waiting for headers]                                         1321 kB/s 15s"
       ]
      },
      {
       "output_type": "stream",
       "stream": "stdout",
       "text": [
        "\r",
        "34% [Waiting for headers]                                         1321 kB/s 15s"
       ]
      },
      {
       "output_type": "stream",
       "stream": "stdout",
       "text": [
        "\r",
        "                                                                               \r",
        "Get:28 http://http.debian.net/debian/ jessie/main libxxf86vm1 amd64 1:1.1.3-1 [19.1 kB]\r\n",
        "\r",
        "34% [28 libxxf86vm1 8239 B/19.1 kB 43%] [Waiting for headers]     1321 kB/s 15s\r",
        "34% [Waiting for headers]                                         1321 kB/s 15s\r",
        "                                                                               \r",
        "Get:29 http://http.debian.net/debian/ jessie/main libgl1-mesa-glx amd64 10.1.0-5 [144 kB]\r\n",
        "\r",
        "34% [29 libgl1-mesa-glx 5336 B/144 kB 4%] [Waiting for headers]   1321 kB/s 15s"
       ]
      },
      {
       "output_type": "stream",
       "stream": "stdout",
       "text": [
        "\r",
        "34% [Waiting for headers]                                         1321 kB/s 15s\r",
        "                                                                               \r",
        "Get:30 http://http.debian.net/debian/ jessie/main libpixman-1-0 amd64 0.32.4-1 [496 kB]\r\n",
        "\r",
        "34% [30 libpixman-1-0 5340 B/496 kB 1%] [Waiting for headers]     1321 kB/s 15s"
       ]
      },
      {
       "output_type": "stream",
       "stream": "stdout",
       "text": [
        "\r",
        "36% [30 libpixman-1-0 353 kB/496 kB 71%]                          1321 kB/s 15s"
       ]
      },
      {
       "output_type": "stream",
       "stream": "stdout",
       "text": [
        "\r",
        "36% [Waiting for headers]                                         1321 kB/s 15s"
       ]
      },
      {
       "output_type": "stream",
       "stream": "stdout",
       "text": [
        "\r",
        "                                                                               \r",
        "Get:31 http://http.debian.net/debian/ jessie/main libxcb-shm0 amd64 1.10-2 [10.8 kB]\r\n",
        "\r",
        "36% [31 libxcb-shm0 8239 B/10.8 kB 76%] [Waiting for headers]     1321 kB/s 15s\r",
        "36% [Waiting for headers]                                         1321 kB/s 15s\r",
        "                                                                               \r",
        "Get:32 http://http.debian.net/debian/ jessie/main libxrender1 amd64 1:0.9.8-1 [33.5 kB]\r\n",
        "\r",
        "36% [32 libxrender1 5343 B/33.5 kB 16%] [Waiting for headers]     1321 kB/s 15s"
       ]
      },
      {
       "output_type": "stream",
       "stream": "stdout",
       "text": [
        "\r",
        "36% [Waiting for headers]                                         1321 kB/s 15s\r",
        "36% [Waiting for headers]                                         1321 kB/s 15s\r",
        "                                                                               \r",
        "Get:33 http://http.debian.net/debian/ jessie/main libcairo2 amd64 1.12.16-2 [987 kB]\r\n",
        "\r",
        "36% [33 libcairo2 6783 B/987 kB 1%] [Waiting for headers]         1321 kB/s 15s"
       ]
      },
      {
       "output_type": "stream",
       "stream": "stdout",
       "text": [
        "\r",
        "38% [33 libcairo2 701 kB/987 kB 71%]                              1321 kB/s 14s"
       ]
      },
      {
       "output_type": "stream",
       "stream": "stdout",
       "text": [
        "\r",
        "39% [Waiting for headers]                                         1321 kB/s 14s\r",
        "                                                                               \r",
        "Get:34 http://http.debian.net/debian/ jessie/main libdatrie1 amd64 0.2.8-1 [32.6 kB]\r\n",
        "\r",
        "39% [34 libdatrie1 5343 B/32.6 kB 16%] [Waiting for headers]      1321 kB/s 14s\r",
        "39% [34 libdatrie1 32.6 kB/32.6 kB 100%]                          1321 kB/s 14s\r",
        "39% [Waiting for headers]                                         1321 kB/s 14s"
       ]
      },
      {
       "output_type": "stream",
       "stream": "stdout",
       "text": [
        "\r",
        "                                                                               \r",
        "Get:35 http://http.debian.net/debian/ jessie/main libpciaccess0 amd64 0.13.2-1 [46.5 kB]\r\n",
        "\r",
        "39% [35 libpciaccess0 9758 B/46.5 kB 21%] [Waiting for headers]   1321 kB/s 14s\r",
        "39% [Waiting for headers]                                         1321 kB/s 14s"
       ]
      },
      {
       "output_type": "stream",
       "stream": "stdout",
       "text": [
        "\r",
        "                                                                               \r",
        "Get:36 http://http.debian.net/debian/ jessie/main libdrm-intel1 amd64 2.4.52-1 [62.2 kB]\r\n",
        "\r",
        "40% [36 libdrm-intel1 5343 B/62.2 kB 9%] [Waiting for headers]    1321 kB/s 14s\r",
        "40% [Waiting for headers]                                         1321 kB/s 14s"
       ]
      },
      {
       "output_type": "stream",
       "stream": "stdout",
       "text": [
        "\r",
        "                                                                               \r",
        "Get:37 http://http.debian.net/debian/ jessie/main libdrm-nouveau2 amd64 2.4.52-1 [20.8 kB]\r\n",
        "\r",
        "                                                                               \r",
        "40% [37 libdrm-nouveau2 8239 B/20.8 kB 40%] [Waiting for headers]\r",
        "                                                                 \r",
        "40% [Waiting for headers]                                         1321 kB/s 14s\r",
        "40% [Waiting for headers]                                         1321 kB/s 14s"
       ]
      },
      {
       "output_type": "stream",
       "stream": "stdout",
       "text": [
        "\r",
        "                                                                               \r",
        "Get:38 http://http.debian.net/debian/ jessie/main libdrm-radeon1 amd64 2.4.52-1 [31.2 kB]\r\n",
        "\r",
        "40% [38 libdrm-radeon1 5343 B/31.2 kB 17%] [Waiting for headers]  1321 kB/s 14s\r",
        "40% [Waiting for headers]                                         1321 kB/s 14s"
       ]
      },
      {
       "output_type": "stream",
       "stream": "stdout",
       "text": [
        "\r",
        "                                                                               \r",
        "Get:39 http://http.debian.net/debian/ jessie/main libelf1 amd64 0.157-3 [156 kB]\r\n",
        "\r",
        "40% [39 libelf1 3887 B/156 kB 2%] [Waiting for headers]           1321 kB/s 14s"
       ]
      },
      {
       "output_type": "stream",
       "stream": "stdout",
       "text": [
        "\r",
        "40% [Waiting for headers]                                         1321 kB/s 14s"
       ]
      },
      {
       "output_type": "stream",
       "stream": "stdout",
       "text": [
        "\r",
        "40% [Waiting for headers]                                         1321 kB/s 14s\r",
        "                                                                               \r",
        "Get:40 http://http.debian.net/debian/ jessie/main libopenvg1-mesa amd64 10.1.0-5 [42.9 kB]\r\n",
        "\r",
        "                                                                               \r",
        "40% [40 libopenvg1-mesa 8234 B/42.9 kB 19%] [Waiting for headers]\r",
        "                                                                 \r",
        "40% [Waiting for headers]                                         1321 kB/s 14s"
       ]
      },
      {
       "output_type": "stream",
       "stream": "stdout",
       "text": [
        "\r",
        "                                                                               \r",
        "Get:41 http://http.debian.net/debian/ jessie/main libwayland-egl1-mesa amd64 10.1.0-5 [37.7 kB]\r\n",
        "\r",
        "                                                                               \r",
        "40% [41 libwayland-egl1-mesa 8239 B/37.7 kB 22%] [Waiting for headers]\r",
        "                                                                      \r",
        "41% [Waiting for headers]                                         1321 kB/s 14s\r",
        "                                                                               \r",
        "Get:42 http://http.debian.net/debian/ jessie/main libegl1-mesa-drivers amd64 10.1.0-5 [2517 kB]\r\n",
        "\r",
        "                                                                               \r",
        "41% [42 libegl1-mesa-drivers 5339 B/2517 kB 0%] [Waiting for headers]"
       ]
      },
      {
       "output_type": "stream",
       "stream": "stdout",
       "text": [
        "\r",
        "                                                                     \r",
        "42% [42 libegl1-mesa-drivers 512 kB/2517 kB 20%]                  1321 kB/s 13s"
       ]
      },
      {
       "output_type": "stream",
       "stream": "stdout",
       "text": [
        "\r",
        "44% [42 libegl1-mesa-drivers 1229 kB/2517 kB 49%]                 1321 kB/s 13s"
       ]
      },
      {
       "output_type": "stream",
       "stream": "stdout",
       "text": [
        "\r",
        "47% [42 libegl1-mesa-drivers 2076 kB/2517 kB 82%]                 1321 kB/s 12s"
       ]
      },
      {
       "output_type": "stream",
       "stream": "stdout",
       "text": [
        "\r",
        "48% [42 libegl1-mesa-drivers 2517 kB/2517 kB 100%]                1321 kB/s 12s\r",
        "48% [Waiting for headers]                                         1321 kB/s 12s\r",
        "                                                                               \r",
        "Get:43 http://http.debian.net/debian/ jessie/main libjpeg8 amd64 8d-2 [120 kB]\r\n",
        "\r",
        "48% [43 libjpeg8 8192 B/120 kB 7%] [Waiting for headers]          1321 kB/s 12s"
       ]
      },
      {
       "output_type": "stream",
       "stream": "stdout",
       "text": [
        "\r",
        "49% [Waiting for headers]                                         1321 kB/s 12s"
       ]
      },
      {
       "output_type": "stream",
       "stream": "stdout",
       "text": [
        "\r",
        "49% [Waiting for headers]                                         1321 kB/s 12s"
       ]
      },
      {
       "output_type": "stream",
       "stream": "stdout",
       "text": [
        "\r",
        "                                                                               \r",
        "Get:44 http://http.debian.net/debian/ jessie/main libjbig0 amd64 2.0-2 [32.2 kB]\r\n",
        "\r",
        "49% [44 libjbig0 5352 B/32.2 kB 17%] [Waiting for headers]        1321 kB/s 12s"
       ]
      },
      {
       "output_type": "stream",
       "stream": "stdout",
       "text": [
        "\r",
        "49% [44 libjbig0 20.0 kB/32.2 kB 62%]                             1321 kB/s 12s"
       ]
      },
      {
       "output_type": "stream",
       "stream": "stdout",
       "text": [
        "\r",
        "49% [Waiting for headers]                                         1321 kB/s 12s\r",
        "                                                                               \r",
        "Get:45 http://http.debian.net/debian/ jessie/main libtiff5 amd64 4.0.3-8 [209 kB]\r\n",
        "\r",
        "49% [45 libtiff5 8231 B/209 kB 4%] [Waiting for headers]          1321 kB/s 12s"
       ]
      },
      {
       "output_type": "stream",
       "stream": "stdout",
       "text": [
        "\r",
        "50% [45 libtiff5 209 kB/209 kB 100%]                              1321 kB/s 12s\r",
        "50% [Waiting for headers]                                         1321 kB/s 12s"
       ]
      },
      {
       "output_type": "stream",
       "stream": "stdout",
       "text": [
        "\r",
        "                                                                               \r",
        "Get:46 http://http.debian.net/debian/ jessie/main libvpx1 amd64 1.3.0-2 [565 kB]\r\n",
        "\r",
        "50% [46 libvpx1 5341 B/565 kB 1%] [Waiting for headers]           1321 kB/s 12s"
       ]
      },
      {
       "output_type": "stream",
       "stream": "stdout",
       "text": [
        "\r",
        "51% [46 libvpx1 565 kB/565 kB 100%]                               1321 kB/s 11s\r",
        "51% [Waiting for headers]                                         1321 kB/s 11s"
       ]
      },
      {
       "output_type": "stream",
       "stream": "stdout",
       "text": [
        "\r",
        "51% [Waiting for headers]                                         1321 kB/s 11s"
       ]
      },
      {
       "output_type": "stream",
       "stream": "stdout",
       "text": [
        "\r",
        "51% [Waiting for headers]                                         1321 kB/s 11s"
       ]
      },
      {
       "output_type": "stream",
       "stream": "stdout",
       "text": [
        "\r",
        "                                                                               \r",
        "Get:47 http://http.debian.net/debian/ jessie/main libxpm4 amd64 1:3.5.10-1 [49.4 kB]\r\n",
        "\r",
        "51% [47 libxpm4 8249 B/49.4 kB 17%] [Waiting for headers]         1321 kB/s 11s"
       ]
      },
      {
       "output_type": "stream",
       "stream": "stdout",
       "text": [
        "\r",
        "51% [47 libxpm4 14.2 kB/49.4 kB 29%]                              1321 kB/s 11s"
       ]
      },
      {
       "output_type": "stream",
       "stream": "stdout",
       "text": [
        "\r",
        "52% [47 libxpm4 49.4 kB/49.4 kB 100%]                             1321 kB/s 11s\r",
        "52% [Waiting for headers]                                         1321 kB/s 11s"
       ]
      },
      {
       "output_type": "stream",
       "stream": "stdout",
       "text": [
        "\r",
        "52% [Waiting for headers]                                         1321 kB/s 11s"
       ]
      },
      {
       "output_type": "stream",
       "stream": "stdout",
       "text": [
        "\r",
        "                                                                               \r",
        "Get:48 http://http.debian.net/debian/ jessie/main libgd3 amd64 2.1.0-3+b1 [144 kB]\r\n",
        "\r",
        "52% [48 libgd3 3903 B/144 kB 3%] [Waiting for headers]            1321 kB/s 11s"
       ]
      },
      {
       "output_type": "stream",
       "stream": "stdout",
       "text": [
        "\r",
        "52% [48 libgd3 14.2 kB/144 kB 10%]                                1321 kB/s 11s"
       ]
      },
      {
       "output_type": "stream",
       "stream": "stdout",
       "text": [
        "\r",
        "52% [48 libgd3 30.1 kB/144 kB 21%]                                1321 kB/s 11s"
       ]
      },
      {
       "output_type": "stream",
       "stream": "stdout",
       "text": [
        "\r",
        "52% [48 libgd3 117 kB/144 kB 81%]                                 1349 kB/s 11s"
       ]
      },
      {
       "output_type": "stream",
       "stream": "stdout",
       "text": [
        "\r",
        "52% [Waiting for headers]                                         1349 kB/s 11s"
       ]
      },
      {
       "output_type": "stream",
       "stream": "stdout",
       "text": [
        "\r",
        "                                                                               \r",
        "Get:49 http://http.debian.net/debian/ jessie/main libgl1-mesa-dri amd64 10.1.0-5 [5804 kB]\r\n",
        "\r",
        "52% [49 libgl1-mesa-dri 5339 B/5804 kB 0%] [Waiting for headers]  1349 kB/s 11s"
       ]
      },
      {
       "output_type": "stream",
       "stream": "stdout",
       "text": [
        "\r",
        "53% [49 libgl1-mesa-dri 406 kB/5804 kB 7%]                        1349 kB/s 11s"
       ]
      },
      {
       "output_type": "stream",
       "stream": "stdout",
       "text": [
        "\r",
        "55% [49 libgl1-mesa-dri 1032 kB/5804 kB 18%]                      1349 kB/s 10s"
       ]
      },
      {
       "output_type": "stream",
       "stream": "stdout",
       "text": [
        "\r",
        "57% [49 libgl1-mesa-dri 1709 kB/5804 kB 29%]                      1349 kB/s 10s"
       ]
      },
      {
       "output_type": "stream",
       "stream": "stdout",
       "text": [
        "\r",
        "60% [49 libgl1-mesa-dri 2426 kB/5804 kB 42%]                       1349 kB/s 9s"
       ]
      },
      {
       "output_type": "stream",
       "stream": "stdout",
       "text": [
        "\r",
        "62% [49 libgl1-mesa-dri 3208 kB/5804 kB 55%]                       1349 kB/s 8s"
       ]
      },
      {
       "output_type": "stream",
       "stream": "stdout",
       "text": [
        "\r",
        "65% [49 libgl1-mesa-dri 4055 kB/5804 kB 70%]                       1349 kB/s 8s"
       ]
      },
      {
       "output_type": "stream",
       "stream": "stdout",
       "text": [
        "\r",
        "68% [49 libgl1-mesa-dri 4967 kB/5804 kB 86%]                       1349 kB/s 7s"
       ]
      },
      {
       "output_type": "stream",
       "stream": "stdout",
       "text": [
        "\r",
        "70% [49 libgl1-mesa-dri 5804 kB/5804 kB 100%]                      1349 kB/s 7s\r",
        "70% [Waiting for headers]                                          1349 kB/s 7s"
       ]
      },
      {
       "output_type": "stream",
       "stream": "stdout",
       "text": [
        "\r",
        "                                                                               \r",
        "Get:50 http://http.debian.net/debian/ jessie/main libglib2.0-0 amd64 2.40.0-2 [2403 kB]\r\n",
        "\r",
        "70% [50 libglib2.0-0 5338 B/2403 kB 0%] [Waiting for headers]      1349 kB/s 7s"
       ]
      },
      {
       "output_type": "stream",
       "stream": "stdout",
       "text": [
        "\r",
        "73% [50 libglib2.0-0 801 kB/2403 kB 33%]                           1349 kB/s 6s"
       ]
      },
      {
       "output_type": "stream",
       "stream": "stdout",
       "text": [
        "\r",
        "76% [50 libglib2.0-0 1903 kB/2403 kB 79%]                          1349 kB/s 5s"
       ]
      },
      {
       "output_type": "stream",
       "stream": "stdout",
       "text": [
        "\r",
        "78% [Waiting for headers]                                          1349 kB/s 5s\r",
        "78% [Waiting for headers]                                          1349 kB/s 5s"
       ]
      },
      {
       "output_type": "stream",
       "stream": "stdout",
       "text": [
        "\r",
        "                                                                               \r",
        "Get:51 http://http.debian.net/debian/ jessie/main libgraphite2-3 amd64 1.2.4-2 [57.4 kB]\r\n",
        "\r",
        "78% [51 libgraphite2-3 2441 B/57.4 kB 4%] [Waiting for headers]    1349 kB/s 5s"
       ]
      },
      {
       "output_type": "stream",
       "stream": "stdout",
       "text": [
        "\r",
        "78% [Waiting for headers]                                          1349 kB/s 5s"
       ]
      },
      {
       "output_type": "stream",
       "stream": "stdout",
       "text": [
        "\r",
        "                                                                               \r",
        "Get:52 http://http.debian.net/debian/ jessie/main libharfbuzz0b amd64 0.9.27-1 [450 kB]\r\n",
        "\r",
        "78% [52 libharfbuzz0b 5340 B/450 kB 1%] [Waiting for headers]      1349 kB/s 5s"
       ]
      },
      {
       "output_type": "stream",
       "stream": "stdout",
       "text": [
        "\r",
        "79% [52 libharfbuzz0b 393 kB/450 kB 87%]                           1349 kB/s 4s\r",
        "79% [Waiting for headers]                                          1349 kB/s 4s"
       ]
      },
      {
       "output_type": "stream",
       "stream": "stdout",
       "text": [
        "\r",
        "79% [Waiting for headers]                                          1349 kB/s 4s"
       ]
      },
      {
       "output_type": "stream",
       "stream": "stdout",
       "text": [
        "\r",
        "79% [Waiting for headers]                                          1349 kB/s 4s\r",
        "                                                                               \r",
        "Get:53 http://http.debian.net/debian/ jessie/main x11-common all 1:7.7+7 [287 kB]\r\n",
        "\r",
        "79% [53 x11-common 5364 B/287 kB 2%] [Waiting for headers]         1349 kB/s 4s"
       ]
      },
      {
       "output_type": "stream",
       "stream": "stdout",
       "text": [
        "\r",
        "79% [53 x11-common 34.5 kB/287 kB 12%]                             1349 kB/s 4s"
       ]
      },
      {
       "output_type": "stream",
       "stream": "stdout",
       "text": [
        "\r",
        "79% [53 x11-common 59.1 kB/287 kB 21%]                             1349 kB/s 4s"
       ]
      },
      {
       "output_type": "stream",
       "stream": "stdout",
       "text": [
        "\r",
        "80% [53 x11-common 83.7 kB/287 kB 29%]                             1349 kB/s 4s"
       ]
      },
      {
       "output_type": "stream",
       "stream": "stdout",
       "text": [
        "\r",
        "80% [53 x11-common 168 kB/287 kB 58%]                              1349 kB/s 4s"
       ]
      },
      {
       "output_type": "stream",
       "stream": "stdout",
       "text": [
        "\r",
        "80% [53 x11-common 230 kB/287 kB 80%]                              1349 kB/s 4s"
       ]
      },
      {
       "output_type": "stream",
       "stream": "stdout",
       "text": [
        "\r",
        "80% [Working]                                                      1349 kB/s 4s"
       ]
      },
      {
       "output_type": "stream",
       "stream": "stdout",
       "text": [
        "\r",
        "                                                                               \r",
        "Get:54 http://http.debian.net/debian/ jessie/main libice6 amd64 2:1.0.8-2 [63.1 kB]\r\n",
        "\r",
        "80% [54 libice6 7242 B/63.1 kB 11%]                                1349 kB/s 4s"
       ]
      },
      {
       "output_type": "stream",
       "stream": "stdout",
       "text": [
        "\r",
        "80% [Working]                                                      1349 kB/s 4s"
       ]
      },
      {
       "output_type": "stream",
       "stream": "stdout",
       "text": [
        "\r",
        "                                                                               \r",
        "Get:55 http://http.debian.net/debian/ jessie/main libltdl7 amd64 2.4.2-1.7 [352 kB]\r\n",
        "\r",
        "80% [55 libltdl7 8232 B/352 kB 2%]                                 1503 kB/s 4s"
       ]
      },
      {
       "output_type": "stream",
       "stream": "stdout",
       "text": [
        "\r",
        "81% [Working]                                                      1503 kB/s 3s"
       ]
      },
      {
       "output_type": "stream",
       "stream": "stdout",
       "text": [
        "\r",
        "                                                                               \r",
        "Get:56 http://http.debian.net/debian/ jessie/main libthai-data all 0.1.20-3 [157 kB]\r\n",
        "\r",
        "82% [56 libthai-data 8192 B/157 kB 5%]                             1503 kB/s 3s"
       ]
      },
      {
       "output_type": "stream",
       "stream": "stdout",
       "text": [
        "\r",
        "82% [Working]                                                      1503 kB/s 3s"
       ]
      },
      {
       "output_type": "stream",
       "stream": "stdout",
       "text": [
        "\r",
        "                                                                               \r",
        "Get:57 http://http.debian.net/debian/ jessie/main libthai0 amd64 0.1.20-3 [44.2 kB]\r\n",
        "\r",
        "82% [57 libthai0 3890 B/44.2 kB 9%]                                1503 kB/s 3s\r",
        "82% [Working]                                                      1503 kB/s 3s"
       ]
      },
      {
       "output_type": "stream",
       "stream": "stdout",
       "text": [
        "\r",
        "                                                                               \r",
        "Get:58 http://http.debian.net/debian/ jessie/main fontconfig amd64 2.11.0-2 [402 kB]\r\n",
        "\r",
        "82% [58 fontconfig 5340 B/402 kB 1%]                               1503 kB/s 3s"
       ]
      },
      {
       "output_type": "stream",
       "stream": "stdout",
       "text": [
        "\r",
        "83% [Working]                                                      1503 kB/s 3s"
       ]
      },
      {
       "output_type": "stream",
       "stream": "stdout",
       "text": [
        "\r",
        "                                                                               \r",
        "Get:59 http://http.debian.net/debian/ jessie/main libpango-1.0-0 amd64 1.36.3-1 [281 kB]\r\n",
        "\r",
        "83% [59 libpango-1.0-0 3887 B/281 kB 1%]                           1503 kB/s 3s"
       ]
      },
      {
       "output_type": "stream",
       "stream": "stdout",
       "text": [
        "\r",
        "84% [Working]                                                      1503 kB/s 3s"
       ]
      },
      {
       "output_type": "stream",
       "stream": "stdout",
       "text": [
        "\r",
        "                                                                               \r",
        "Get:60 http://http.debian.net/debian/ jessie/main libpangoft2-1.0-0 amd64 1.36.3-1 [205 kB]\r\n",
        "\r",
        "84% [60 libpangoft2-1.0-0 5335 B/205 kB 3%]                        1503 kB/s 3s"
       ]
      },
      {
       "output_type": "stream",
       "stream": "stdout",
       "text": [
        "\r",
        "85% [Working]                                                      1503 kB/s 3s"
       ]
      },
      {
       "output_type": "stream",
       "stream": "stdout",
       "text": [
        "\r",
        "                                                                               \r",
        "Get:61 http://http.debian.net/debian/ jessie/main libpangocairo-1.0-0 amd64 1.36.3-1 [192 kB]\r\n",
        "\r",
        "85% [61 libpangocairo-1.0-0 5340 B/192 kB 3%]                      1503 kB/s 3s"
       ]
      },
      {
       "output_type": "stream",
       "stream": "stdout",
       "text": [
        "\r",
        "86% [Working]                                                      1503 kB/s 3s"
       ]
      },
      {
       "output_type": "stream",
       "stream": "stdout",
       "text": [
        "\r",
        "                                                                               \r",
        "Get:62 http://http.debian.net/debian/ jessie/main libsm6 amd64 2:1.2.1-2 [34.2 kB]\r\n",
        "\r",
        "86% [62 libsm6 8249 B/34.2 kB 24%]                                 1503 kB/s 3s"
       ]
      },
      {
       "output_type": "stream",
       "stream": "stdout",
       "text": [
        "\r",
        "86% [Working]                                                      1503 kB/s 3s\r",
        "                                                                               \r",
        "Get:63 http://http.debian.net/debian/ jessie/main libxt6 amd64 1:1.1.4-1 [180 kB]\r\n",
        "\r",
        "86% [63 libxt6 3888 B/180 kB 2%]                                   1503 kB/s 3s"
       ]
      },
      {
       "output_type": "stream",
       "stream": "stdout",
       "text": [
        "\r",
        "86% [Working]                                                      1503 kB/s 2s"
       ]
      },
      {
       "output_type": "stream",
       "stream": "stdout",
       "text": [
        "\r",
        "                                                                               \r",
        "Get:64 http://http.debian.net/debian/ jessie/main libxmu6 amd64 2:1.1.1-1 [66.6 kB]\r\n",
        "\r",
        "86% [64 libxmu6 5366 B/66.6 kB 8%]                                 1503 kB/s 2s"
       ]
      },
      {
       "output_type": "stream",
       "stream": "stdout",
       "text": [
        "\r",
        "86% [Working]                                                      1503 kB/s 2s"
       ]
      },
      {
       "output_type": "stream",
       "stream": "stdout",
       "text": [
        "\r",
        "                                                                               \r",
        "Get:65 http://http.debian.net/debian/ jessie/main libxaw7 amd64 2:1.0.12-1 [192 kB]\r\n",
        "\r",
        "86% [65 libxaw7 8232 B/192 kB 4%]                                  1503 kB/s 2s"
       ]
      },
      {
       "output_type": "stream",
       "stream": "stdout",
       "text": [
        "\r",
        "87% [Working]                                                      1503 kB/s 2s"
       ]
      },
      {
       "output_type": "stream",
       "stream": "stdout",
       "text": [
        "\r",
        "                                                                               \r",
        "Get:66 http://http.debian.net/debian/ jessie/main libtxc-dxtn-s2tc0 amd64 0~git20131104-1.1 [51.6 kB]\r\n",
        "\r",
        "87% [66 libtxc-dxtn-s2tc0 3895 B/51.6 kB 8%]                       1503 kB/s 2s\r",
        "87% [Working]                                                      1503 kB/s 2s"
       ]
      },
      {
       "output_type": "stream",
       "stream": "stdout",
       "text": [
        "\r",
        "                                                                               \r",
        "Get:67 http://http.debian.net/debian/ jessie/main libcdt4 amd64 2.26.3-16.2 [57.8 kB]\r\n",
        "\r",
        "87% [67 libcdt4 7303 B/57.8 kB 13%]                                1503 kB/s 2s"
       ]
      },
      {
       "output_type": "stream",
       "stream": "stdout",
       "text": [
        "\r",
        "87% [Working]                                                      1503 kB/s 2s"
       ]
      },
      {
       "output_type": "stream",
       "stream": "stdout",
       "text": [
        "\r",
        "                                                                               \r",
        "Get:68 http://http.debian.net/debian/ jessie/main libcgraph5 amd64 2.26.3-16.2 [79.8 kB]\r\n",
        "\r",
        "87% [68 libcgraph5 3917 B/79.8 kB 5%]                              1503 kB/s 2s"
       ]
      },
      {
       "output_type": "stream",
       "stream": "stdout",
       "text": [
        "\r",
        "88% [Working]                                                      1503 kB/s 2s"
       ]
      },
      {
       "output_type": "stream",
       "stream": "stdout",
       "text": [
        "\r",
        "                                                                               \r",
        "Get:69 http://http.debian.net/debian/ jessie/main libgraph4 amd64 2.26.3-16.2 [68.9 kB]\r\n",
        "\r",
        "88% [69 libgraph4 8247 B/68.9 kB 12%]                              1503 kB/s 2s"
       ]
      },
      {
       "output_type": "stream",
       "stream": "stdout",
       "text": [
        "\r",
        "88% [Working]                                                      1503 kB/s 2s"
       ]
      },
      {
       "output_type": "stream",
       "stream": "stdout",
       "text": [
        "\r",
        "                                                                               \r",
        "Get:70 http://http.debian.net/debian/ jessie/main libpathplan4 amd64 2.26.3-16.2 [62.0 kB]\r\n",
        "\r",
        "88% [70 libpathplan4 8248 B/62.0 kB 13%]                           1503 kB/s 2s"
       ]
      },
      {
       "output_type": "stream",
       "stream": "stdout",
       "text": [
        "\r",
        "88% [Working]                                                      1503 kB/s 2s"
       ]
      },
      {
       "output_type": "stream",
       "stream": "stdout",
       "text": [
        "\r",
        "                                                                               \r",
        "Get:71 http://http.debian.net/debian/ jessie/main libxdot4 amd64 2.26.3-16.2 [52.7 kB]\r\n",
        "\r",
        "88% [71 libxdot4 2470 B/52.7 kB 5%]                                1503 kB/s 2s"
       ]
      },
      {
       "output_type": "stream",
       "stream": "stdout",
       "text": [
        "\r",
        "88% [Working]                                                      1503 kB/s 2s"
       ]
      },
      {
       "output_type": "stream",
       "stream": "stdout",
       "text": [
        "\r",
        "                                                                               \r",
        "Get:72 http://http.debian.net/debian/ jessie/main libgvc5 amd64 2.26.3-16.2 [436 kB]\r\n",
        "\r",
        "88% [72 libgvc5 5350 B/436 kB 1%]                                  1503 kB/s 2s"
       ]
      },
      {
       "output_type": "stream",
       "stream": "stdout",
       "text": [
        "\r",
        "89% [72 libgvc5 218 kB/436 kB 50%]                                 1503 kB/s 2s"
       ]
      },
      {
       "output_type": "stream",
       "stream": "stdout",
       "text": [
        "\r",
        "90% [Working]                                                      1503 kB/s 2s"
       ]
      },
      {
       "output_type": "stream",
       "stream": "stdout",
       "text": [
        "\r",
        "                                                                               \r",
        "Get:73 http://http.debian.net/debian/ jessie/main libgvpr1 amd64 2.26.3-16.2 [205 kB]\r\n",
        "\r",
        "90% [73 libgvpr1 3902 B/205 kB 2%]                                 1503 kB/s 2s"
       ]
      },
      {
       "output_type": "stream",
       "stream": "stdout",
       "text": [
        "\r",
        "90% [Working]                                                      1503 kB/s 2s"
       ]
      },
      {
       "output_type": "stream",
       "stream": "stdout",
       "text": [
        "\r",
        "                                                                               \r",
        "Get:74 http://http.debian.net/debian/ jessie/main graphviz amd64 2.26.3-16.2 [308 kB]\r\n",
        "\r",
        "90% [74 graphviz 8246 B/308 kB 3%]                                 1503 kB/s 2s"
       ]
      },
      {
       "output_type": "stream",
       "stream": "stdout",
       "text": [
        "\r",
        "91% [Working]                                                      1503 kB/s 1s\r",
        "                                                                               \r",
        "Get:75 http://http.debian.net/debian/ jessie/main libglib2.0-data all 2.40.0-2 [2182 kB]\r\n",
        "\r",
        "91% [75 libglib2.0-data 5338 B/2182 kB 0%]                         1503 kB/s 1s"
       ]
      },
      {
       "output_type": "stream",
       "stream": "stdout",
       "text": [
        "\r",
        "95% [75 libglib2.0-data 1137 kB/2182 kB 52%]                        759 kB/s 2s"
       ]
      },
      {
       "output_type": "stream",
       "stream": "stdout",
       "text": [
        "\r",
        "98% [Working]                                                       759 kB/s 0s\r",
        "                                                                               \r",
        "Get:76 http://http.debian.net/debian/ jessie/main shared-mime-info amd64 1.2-1 [641 kB]\r\n",
        "\r",
        "98% [76 shared-mime-info 3887 B/641 kB 1%]                          759 kB/s 0s"
       ]
      },
      {
       "output_type": "stream",
       "stream": "stdout",
       "text": [
        "\r",
        "100% [Working]                                                      759 kB/s 0s\r",
        "                                                                               \r",
        "Get:77 http://http.debian.net/debian/ jessie/main ttf-liberation all 1.07.3-3 [9304 B]\r\n",
        "\r",
        "100% [77 ttf-liberation 2447 B/9304 B 26%]                          759 kB/s 0s\r",
        "100% [Working]                                                      759 kB/s 0s\r",
        "                                                                               \r",
        "Fetched 31.9 MB in 25s (1263 kB/s)\r\n"
       ]
      },
      {
       "output_type": "stream",
       "stream": "stdout",
       "text": [
        "debconf: delaying package configuration, since apt-utils is not installed\r\n"
       ]
      },
      {
       "output_type": "stream",
       "stream": "stdout",
       "text": [
        "Selecting previously unselected package libudev1:amd64.\r\n",
        "(Reading database ... \r",
        "(Reading database ... 5%\r",
        "(Reading database ... 10%\r",
        "(Reading database ... 15%\r"
       ]
      },
      {
       "output_type": "stream",
       "stream": "stdout",
       "text": [
        "(Reading database ... 20%\r",
        "(Reading database ... 25%\r",
        "(Reading database ... 30%\r",
        "(Reading database ... 35%\r",
        "(Reading database ... 40%\r",
        "(Reading database ... 45%\r",
        "(Reading database ... 50%\r",
        "(Reading database ... 55%\r",
        "(Reading database ... 60%\r",
        "(Reading database ... 65%\r",
        "(Reading database ... 70%\r",
        "(Reading database ... 75%\r",
        "(Reading database ... 80%\r",
        "(Reading database ... 85%\r",
        "(Reading database ... 90%\r",
        "(Reading database ... 95%\r",
        "(Reading database ... 100%\r",
        "(Reading database ... 15798 files and directories currently installed.)\r\n",
        "Preparing to unpack .../libudev1_204-8_amd64.deb ...\r\n",
        "Unpacking libudev1:amd64 (204-8) ...\r\n"
       ]
      },
      {
       "output_type": "stream",
       "stream": "stdout",
       "text": [
        "Selecting previously unselected package libdrm2:amd64.\r\n",
        "Preparing to unpack .../libdrm2_2.4.52-1_amd64.deb ...\r\n",
        "Unpacking libdrm2:amd64 (2.4.52-1) ...\r\n"
       ]
      },
      {
       "output_type": "stream",
       "stream": "stdout",
       "text": [
        "Selecting previously unselected package libglapi-mesa:amd64.\r\n",
        "Preparing to unpack .../libglapi-mesa_10.1.0-5_amd64.deb ...\r\n",
        "Unpacking libglapi-mesa:amd64 (10.1.0-5) ...\r\n"
       ]
      },
      {
       "output_type": "stream",
       "stream": "stdout",
       "text": [
        "Selecting previously unselected package libllvm3.4:amd64.\r\n",
        "Preparing to unpack .../libllvm3.4_1%3a3.4-2_amd64.deb ...\r\n",
        "Unpacking libllvm3.4:amd64 (1:3.4-2) ...\r\n"
       ]
      },
      {
       "output_type": "stream",
       "stream": "stdout",
       "text": [
        "Selecting previously unselected package libwayland-client0:amd64.\r\n",
        "Preparing to unpack .../libwayland-client0_1.4.0-1_amd64.deb ...\r\n",
        "Unpacking libwayland-client0:amd64 (1.4.0-1) ...\r\n"
       ]
      },
      {
       "output_type": "stream",
       "stream": "stdout",
       "text": [
        "Selecting previously unselected package libwayland-server0:amd64.\r\n",
        "Preparing to unpack .../libwayland-server0_1.4.0-1_amd64.deb ...\r\n",
        "Unpacking libwayland-server0:amd64 (1.4.0-1) ...\r\n"
       ]
      },
      {
       "output_type": "stream",
       "stream": "stdout",
       "text": [
        "Selecting previously unselected package libxcb-dri2-0:amd64.\r\n",
        "Preparing to unpack .../libxcb-dri2-0_1.10-2_amd64.deb ...\r\n",
        "Unpacking libxcb-dri2-0:amd64 (1.10-2) ...\r\n"
       ]
      },
      {
       "output_type": "stream",
       "stream": "stdout",
       "text": [
        "Selecting previously unselected package libgbm1:amd64.\r\n",
        "Preparing to unpack .../libgbm1_10.1.0-5_amd64.deb ...\r\n"
       ]
      },
      {
       "output_type": "stream",
       "stream": "stdout",
       "text": [
        "Unpacking libgbm1:amd64 (10.1.0-5) ...\r\n"
       ]
      },
      {
       "output_type": "stream",
       "stream": "stdout",
       "text": [
        "Selecting previously unselected package libx11-xcb1:amd64.\r\n",
        "Preparing to unpack .../libx11-xcb1_2%3a1.6.2-1_amd64.deb ...\r\n"
       ]
      },
      {
       "output_type": "stream",
       "stream": "stdout",
       "text": [
        "Unpacking libx11-xcb1:amd64 (2:1.6.2-1) ...\r\n"
       ]
      },
      {
       "output_type": "stream",
       "stream": "stdout",
       "text": [
        "Selecting previously unselected package libxcb-render0:amd64.\r\n",
        "Preparing to unpack .../libxcb-render0_1.10-2_amd64.deb ...\r\n",
        "Unpacking libxcb-render0:amd64 (1.10-2) ...\r\n"
       ]
      },
      {
       "output_type": "stream",
       "stream": "stdout",
       "text": [
        "Selecting previously unselected package libxcb-shape0:amd64.\r\n",
        "Preparing to unpack .../libxcb-shape0_1.10-2_amd64.deb ...\r\n"
       ]
      },
      {
       "output_type": "stream",
       "stream": "stdout",
       "text": [
        "Unpacking libxcb-shape0:amd64 (1.10-2) ...\r\n"
       ]
      },
      {
       "output_type": "stream",
       "stream": "stdout",
       "text": [
        "Selecting previously unselected package libxcb-xfixes0:amd64.\r\n"
       ]
      },
      {
       "output_type": "stream",
       "stream": "stdout",
       "text": [
        "Preparing to unpack .../libxcb-xfixes0_1.10-2_amd64.deb ...\r\n",
        "Unpacking libxcb-xfixes0:amd64 (1.10-2) ...\r\n"
       ]
      },
      {
       "output_type": "stream",
       "stream": "stdout",
       "text": [
        "Selecting previously unselected package libegl1-mesa:amd64.\r\n",
        "Preparing to unpack .../libegl1-mesa_10.1.0-5_amd64.deb ...\r\n",
        "Unpacking libegl1-mesa:amd64 (10.1.0-5) ...\r\n"
       ]
      },
      {
       "output_type": "stream",
       "stream": "stdout",
       "text": [
        "Selecting previously unselected package libpng12-0:amd64.\r\n",
        "Preparing to unpack .../libpng12-0_1.2.50-1_amd64.deb ...\r\n",
        "Unpacking libpng12-0:amd64 (1.2.50-1) ...\r\n"
       ]
      },
      {
       "output_type": "stream",
       "stream": "stdout",
       "text": [
        "Selecting previously unselected package libfreetype6:amd64.\r\n",
        "Preparing to unpack .../libfreetype6_2.5.2-1_amd64.deb ...\r\n"
       ]
      },
      {
       "output_type": "stream",
       "stream": "stdout",
       "text": [
        "Unpacking libfreetype6:amd64 (2.5.2-1) ...\r\n"
       ]
      },
      {
       "output_type": "stream",
       "stream": "stdout",
       "text": [
        "Selecting previously unselected package ucf.\r\n",
        "Preparing to unpack .../ucf_3.0027+nmu1_all.deb ...\r\n"
       ]
      },
      {
       "output_type": "stream",
       "stream": "stdout",
       "text": [
        "Moving old data out of the way\r\n",
        "Unpacking ucf (3.0027+nmu1) ...\r\n"
       ]
      },
      {
       "output_type": "stream",
       "stream": "stdout",
       "text": [
        "Selecting previously unselected package fonts-dejavu-core.\r\n"
       ]
      },
      {
       "output_type": "stream",
       "stream": "stdout",
       "text": [
        "Preparing to unpack .../fonts-dejavu-core_2.34-1_all.deb ...\r\n",
        "Unpacking fonts-dejavu-core (2.34-1) ...\r\n"
       ]
      },
      {
       "output_type": "stream",
       "stream": "stdout",
       "text": [
        "Selecting previously unselected package fonts-liberation.\r\n",
        "Preparing to unpack .../fonts-liberation_1.07.3-3_all.deb ...\r\n"
       ]
      },
      {
       "output_type": "stream",
       "stream": "stdout",
       "text": [
        "Unpacking fonts-liberation (1.07.3-3) ...\r\n"
       ]
      },
      {
       "output_type": "stream",
       "stream": "stdout",
       "text": [
        "Selecting previously unselected package fontconfig-config.\r\n",
        "Preparing to unpack .../fontconfig-config_2.11.0-2_all.deb ...\r\n"
       ]
      },
      {
       "output_type": "stream",
       "stream": "stdout",
       "text": [
        "Unpacking fontconfig-config (2.11.0-2) ...\r\n"
       ]
      },
      {
       "output_type": "stream",
       "stream": "stdout",
       "text": [
        "Selecting previously unselected package libfontconfig1:amd64.\r\n",
        "Preparing to unpack .../libfontconfig1_2.11.0-2_amd64.deb ...\r\n"
       ]
      },
      {
       "output_type": "stream",
       "stream": "stdout",
       "text": [
        "Unpacking libfontconfig1:amd64 (2.11.0-2) ...\r\n"
       ]
      },
      {
       "output_type": "stream",
       "stream": "stdout",
       "text": [
        "Selecting previously unselected package libxcb-dri3-0:amd64.\r\n",
        "Preparing to unpack .../libxcb-dri3-0_1.10-2_amd64.deb ...\r\n"
       ]
      },
      {
       "output_type": "stream",
       "stream": "stdout",
       "text": [
        "Unpacking libxcb-dri3-0:amd64 (1.10-2) ...\r\n"
       ]
      },
      {
       "output_type": "stream",
       "stream": "stdout",
       "text": [
        "Selecting previously unselected package libxcb-glx0:amd64.\r\n",
        "Preparing to unpack .../libxcb-glx0_1.10-2_amd64.deb ...\r\n"
       ]
      },
      {
       "output_type": "stream",
       "stream": "stdout",
       "text": [
        "Unpacking libxcb-glx0:amd64 (1.10-2) ...\r\n"
       ]
      },
      {
       "output_type": "stream",
       "stream": "stdout",
       "text": [
        "Selecting previously unselected package libxcb-present0:amd64.\r\n",
        "Preparing to unpack .../libxcb-present0_1.10-2_amd64.deb ...\r\n"
       ]
      },
      {
       "output_type": "stream",
       "stream": "stdout",
       "text": [
        "Unpacking libxcb-present0:amd64 (1.10-2) ...\r\n"
       ]
      },
      {
       "output_type": "stream",
       "stream": "stdout",
       "text": [
        "Selecting previously unselected package libxcb-sync1:amd64.\r\n",
        "Preparing to unpack .../libxcb-sync1_1.10-2_amd64.deb ...\r\n"
       ]
      },
      {
       "output_type": "stream",
       "stream": "stdout",
       "text": [
        "Unpacking libxcb-sync1:amd64 (1.10-2) ...\r\n"
       ]
      },
      {
       "output_type": "stream",
       "stream": "stdout",
       "text": [
        "Selecting previously unselected package libxfixes3:amd64.\r\n",
        "Preparing to unpack .../libxfixes3_1%3a5.0.1-1_amd64.deb ...\r\n",
        "Unpacking libxfixes3:amd64 (1:5.0.1-1) ...\r\n"
       ]
      },
      {
       "output_type": "stream",
       "stream": "stdout",
       "text": [
        "Selecting previously unselected package libxdamage1:amd64.\r\n",
        "Preparing to unpack .../libxdamage1_1%3a1.1.4-1_amd64.deb ...\r\n",
        "Unpacking libxdamage1:amd64 (1:1.1.4-1) ...\r\n"
       ]
      },
      {
       "output_type": "stream",
       "stream": "stdout",
       "text": [
        "Selecting previously unselected package libxshmfence1:amd64.\r\n",
        "Preparing to unpack .../libxshmfence1_1.1-2_amd64.deb ...\r\n",
        "Unpacking libxshmfence1:amd64 (1.1-2) ...\r\n"
       ]
      },
      {
       "output_type": "stream",
       "stream": "stdout",
       "text": [
        "Selecting previously unselected package libxxf86vm1:amd64.\r\n",
        "Preparing to unpack .../libxxf86vm1_1%3a1.1.3-1_amd64.deb ...\r\n",
        "Unpacking libxxf86vm1:amd64 (1:1.1.3-1) ...\r\n"
       ]
      },
      {
       "output_type": "stream",
       "stream": "stdout",
       "text": [
        "Selecting previously unselected package libgl1-mesa-glx:amd64.\r\n",
        "Preparing to unpack .../libgl1-mesa-glx_10.1.0-5_amd64.deb ...\r\n",
        "Unpacking libgl1-mesa-glx:amd64 (10.1.0-5) ...\r\n"
       ]
      },
      {
       "output_type": "stream",
       "stream": "stdout",
       "text": [
        "Selecting previously unselected package libpixman-1-0:amd64.\r\n",
        "Preparing to unpack .../libpixman-1-0_0.32.4-1_amd64.deb ...\r\n"
       ]
      },
      {
       "output_type": "stream",
       "stream": "stdout",
       "text": [
        "Unpacking libpixman-1-0:amd64 (0.32.4-1) ...\r\n"
       ]
      },
      {
       "output_type": "stream",
       "stream": "stdout",
       "text": [
        "Selecting previously unselected package libxcb-shm0:amd64.\r\n",
        "Preparing to unpack .../libxcb-shm0_1.10-2_amd64.deb ...\r\n",
        "Unpacking libxcb-shm0:amd64 (1.10-2) ...\r\n"
       ]
      },
      {
       "output_type": "stream",
       "stream": "stdout",
       "text": [
        "Selecting previously unselected package libxrender1:amd64.\r\n",
        "Preparing to unpack .../libxrender1_1%3a0.9.8-1_amd64.deb ...\r\n",
        "Unpacking libxrender1:amd64 (1:0.9.8-1) ...\r\n"
       ]
      },
      {
       "output_type": "stream",
       "stream": "stdout",
       "text": [
        "Selecting previously unselected package libcairo2:amd64.\r\n",
        "Preparing to unpack .../libcairo2_1.12.16-2_amd64.deb ...\r\n"
       ]
      },
      {
       "output_type": "stream",
       "stream": "stdout",
       "text": [
        "Unpacking libcairo2:amd64 (1.12.16-2) ...\r\n"
       ]
      },
      {
       "output_type": "stream",
       "stream": "stdout",
       "text": [
        "Selecting previously unselected package libdatrie1:amd64.\r\n",
        "Preparing to unpack .../libdatrie1_0.2.8-1_amd64.deb ...\r\n"
       ]
      },
      {
       "output_type": "stream",
       "stream": "stdout",
       "text": [
        "Unpacking libdatrie1:amd64 (0.2.8-1) ...\r\n"
       ]
      },
      {
       "output_type": "stream",
       "stream": "stdout",
       "text": [
        "Selecting previously unselected package libpciaccess0:amd64.\r\n",
        "Preparing to unpack .../libpciaccess0_0.13.2-1_amd64.deb ...\r\n"
       ]
      },
      {
       "output_type": "stream",
       "stream": "stdout",
       "text": [
        "Unpacking libpciaccess0:amd64 (0.13.2-1) ...\r\n"
       ]
      },
      {
       "output_type": "stream",
       "stream": "stdout",
       "text": [
        "Selecting previously unselected package libdrm-intel1:amd64.\r\n",
        "Preparing to unpack .../libdrm-intel1_2.4.52-1_amd64.deb ...\r\n",
        "Unpacking libdrm-intel1:amd64 (2.4.52-1) ...\r\n"
       ]
      },
      {
       "output_type": "stream",
       "stream": "stdout",
       "text": [
        "Selecting previously unselected package libdrm-nouveau2:amd64.\r\n",
        "Preparing to unpack .../libdrm-nouveau2_2.4.52-1_amd64.deb ...\r\n"
       ]
      },
      {
       "output_type": "stream",
       "stream": "stdout",
       "text": [
        "Unpacking libdrm-nouveau2:amd64 (2.4.52-1) ...\r\n"
       ]
      },
      {
       "output_type": "stream",
       "stream": "stdout",
       "text": [
        "Selecting previously unselected package libdrm-radeon1:amd64.\r\n",
        "Preparing to unpack .../libdrm-radeon1_2.4.52-1_amd64.deb ...\r\n",
        "Unpacking libdrm-radeon1:amd64 (2.4.52-1) ...\r\n"
       ]
      },
      {
       "output_type": "stream",
       "stream": "stdout",
       "text": [
        "Selecting previously unselected package libelf1:amd64.\r\n",
        "Preparing to unpack .../libelf1_0.157-3_amd64.deb ...\r\n"
       ]
      },
      {
       "output_type": "stream",
       "stream": "stdout",
       "text": [
        "Unpacking libelf1:amd64 (0.157-3) ...\r\n"
       ]
      },
      {
       "output_type": "stream",
       "stream": "stdout",
       "text": [
        "Selecting previously unselected package libopenvg1-mesa:amd64.\r\n",
        "Preparing to unpack .../libopenvg1-mesa_10.1.0-5_amd64.deb ...\r\n"
       ]
      },
      {
       "output_type": "stream",
       "stream": "stdout",
       "text": [
        "Unpacking libopenvg1-mesa:amd64 (10.1.0-5) ...\r\n"
       ]
      },
      {
       "output_type": "stream",
       "stream": "stdout",
       "text": [
        "Selecting previously unselected package libwayland-egl1-mesa:amd64.\r\n",
        "Preparing to unpack .../libwayland-egl1-mesa_10.1.0-5_amd64.deb ...\r\n",
        "Unpacking libwayland-egl1-mesa:amd64 (10.1.0-5) ...\r\n"
       ]
      },
      {
       "output_type": "stream",
       "stream": "stdout",
       "text": [
        "Selecting previously unselected package libegl1-mesa-drivers:amd64.\r\n",
        "Preparing to unpack .../libegl1-mesa-drivers_10.1.0-5_amd64.deb ...\r\n"
       ]
      },
      {
       "output_type": "stream",
       "stream": "stdout",
       "text": [
        "Unpacking libegl1-mesa-drivers:amd64 (10.1.0-5) ...\r\n"
       ]
      },
      {
       "output_type": "stream",
       "stream": "stdout",
       "text": [
        "Selecting previously unselected package libjpeg8:amd64.\r\n",
        "Preparing to unpack .../libjpeg8_8d-2_amd64.deb ...\r\n",
        "Unpacking libjpeg8:amd64 (8d-2) ...\r\n"
       ]
      },
      {
       "output_type": "stream",
       "stream": "stdout",
       "text": [
        "Selecting previously unselected package libjbig0:amd64.\r\n",
        "Preparing to unpack .../libjbig0_2.0-2_amd64.deb ...\r\n",
        "Unpacking libjbig0:amd64 (2.0-2) ...\r\n"
       ]
      },
      {
       "output_type": "stream",
       "stream": "stdout",
       "text": [
        "Selecting previously unselected package libtiff5:amd64.\r\n",
        "Preparing to unpack .../libtiff5_4.0.3-8_amd64.deb ...\r\n"
       ]
      },
      {
       "output_type": "stream",
       "stream": "stdout",
       "text": [
        "Unpacking libtiff5:amd64 (4.0.3-8) ...\r\n"
       ]
      },
      {
       "output_type": "stream",
       "stream": "stdout",
       "text": [
        "Selecting previously unselected package libvpx1:amd64.\r\n",
        "Preparing to unpack .../libvpx1_1.3.0-2_amd64.deb ...\r\n",
        "Unpacking libvpx1:amd64 (1.3.0-2) ...\r\n"
       ]
      },
      {
       "output_type": "stream",
       "stream": "stdout",
       "text": [
        "Selecting previously unselected package libxpm4:amd64.\r\n",
        "Preparing to unpack .../libxpm4_1%3a3.5.10-1_amd64.deb ...\r\n",
        "Unpacking libxpm4:amd64 (1:3.5.10-1) ...\r\n"
       ]
      },
      {
       "output_type": "stream",
       "stream": "stdout",
       "text": [
        "Selecting previously unselected package libgd3:amd64.\r\n",
        "Preparing to unpack .../libgd3_2.1.0-3+b1_amd64.deb ...\r\n"
       ]
      },
      {
       "output_type": "stream",
       "stream": "stdout",
       "text": [
        "Unpacking libgd3:amd64 (2.1.0-3+b1) ...\r\n"
       ]
      },
      {
       "output_type": "stream",
       "stream": "stdout",
       "text": [
        "Selecting previously unselected package libgl1-mesa-dri:amd64.\r\n",
        "Preparing to unpack .../libgl1-mesa-dri_10.1.0-5_amd64.deb ...\r\n",
        "Unpacking libgl1-mesa-dri:amd64 (10.1.0-5) ...\r\n"
       ]
      },
      {
       "output_type": "stream",
       "stream": "stdout",
       "text": [
        "Selecting previously unselected package libglib2.0-0:amd64.\r\n",
        "Preparing to unpack .../libglib2.0-0_2.40.0-2_amd64.deb ...\r\n"
       ]
      },
      {
       "output_type": "stream",
       "stream": "stdout",
       "text": [
        "Unpacking libglib2.0-0:amd64 (2.40.0-2) ...\r\n"
       ]
      },
      {
       "output_type": "stream",
       "stream": "stdout",
       "text": [
        "Selecting previously unselected package libgraphite2-3:amd64.\r\n",
        "Preparing to unpack .../libgraphite2-3_1.2.4-2_amd64.deb ...\r\n"
       ]
      },
      {
       "output_type": "stream",
       "stream": "stdout",
       "text": [
        "Unpacking libgraphite2-3:amd64 (1.2.4-2) ...\r\n"
       ]
      },
      {
       "output_type": "stream",
       "stream": "stdout",
       "text": [
        "Selecting previously unselected package libharfbuzz0b:amd64.\r\n",
        "Preparing to unpack .../libharfbuzz0b_0.9.27-1_amd64.deb ...\r\n"
       ]
      },
      {
       "output_type": "stream",
       "stream": "stdout",
       "text": [
        "Unpacking libharfbuzz0b:amd64 (0.9.27-1) ...\r\n"
       ]
      },
      {
       "output_type": "stream",
       "stream": "stdout",
       "text": [
        "Selecting previously unselected package x11-common.\r\n",
        "Preparing to unpack .../x11-common_1%3a7.7+7_all.deb ...\r\n"
       ]
      },
      {
       "output_type": "stream",
       "stream": "stdout",
       "text": [
        "Unpacking x11-common (1:7.7+7) ...\r\n"
       ]
      },
      {
       "output_type": "stream",
       "stream": "stdout",
       "text": [
        "Selecting previously unselected package libice6:amd64.\r\n",
        "Preparing to unpack .../libice6_2%3a1.0.8-2_amd64.deb ...\r\n",
        "Unpacking libice6:amd64 (2:1.0.8-2) ...\r\n"
       ]
      },
      {
       "output_type": "stream",
       "stream": "stdout",
       "text": [
        "Selecting previously unselected package libltdl7:amd64.\r\n",
        "Preparing to unpack .../libltdl7_2.4.2-1.7_amd64.deb ...\r\n",
        "Unpacking libltdl7:amd64 (2.4.2-1.7) ...\r\n"
       ]
      },
      {
       "output_type": "stream",
       "stream": "stdout",
       "text": [
        "Selecting previously unselected package libthai-data.\r\n"
       ]
      },
      {
       "output_type": "stream",
       "stream": "stdout",
       "text": [
        "Preparing to unpack .../libthai-data_0.1.20-3_all.deb ...\r\n",
        "Unpacking libthai-data (0.1.20-3) ...\r\n"
       ]
      },
      {
       "output_type": "stream",
       "stream": "stdout",
       "text": [
        "Selecting previously unselected package libthai0:amd64.\r\n",
        "Preparing to unpack .../libthai0_0.1.20-3_amd64.deb ...\r\n",
        "Unpacking libthai0:amd64 (0.1.20-3) ...\r\n"
       ]
      },
      {
       "output_type": "stream",
       "stream": "stdout",
       "text": [
        "Selecting previously unselected package fontconfig.\r\n",
        "Preparing to unpack .../fontconfig_2.11.0-2_amd64.deb ...\r\n"
       ]
      },
      {
       "output_type": "stream",
       "stream": "stdout",
       "text": [
        "Unpacking fontconfig (2.11.0-2) ...\r\n"
       ]
      },
      {
       "output_type": "stream",
       "stream": "stdout",
       "text": [
        "Selecting previously unselected package libpango-1.0-0:amd64.\r\n",
        "Preparing to unpack .../libpango-1.0-0_1.36.3-1_amd64.deb ...\r\n",
        "Unpacking libpango-1.0-0:amd64 (1.36.3-1) ...\r\n"
       ]
      },
      {
       "output_type": "stream",
       "stream": "stdout",
       "text": [
        "Selecting previously unselected package libpangoft2-1.0-0:amd64.\r\n",
        "Preparing to unpack .../libpangoft2-1.0-0_1.36.3-1_amd64.deb ...\r\n"
       ]
      },
      {
       "output_type": "stream",
       "stream": "stdout",
       "text": [
        "Unpacking libpangoft2-1.0-0:amd64 (1.36.3-1) ...\r\n"
       ]
      },
      {
       "output_type": "stream",
       "stream": "stdout",
       "text": [
        "Selecting previously unselected package libpangocairo-1.0-0:amd64.\r\n",
        "Preparing to unpack .../libpangocairo-1.0-0_1.36.3-1_amd64.deb ...\r\n"
       ]
      },
      {
       "output_type": "stream",
       "stream": "stdout",
       "text": [
        "Unpacking libpangocairo-1.0-0:amd64 (1.36.3-1) ...\r\n"
       ]
      },
      {
       "output_type": "stream",
       "stream": "stdout",
       "text": [
        "Selecting previously unselected package libsm6:amd64.\r\n",
        "Preparing to unpack .../libsm6_2%3a1.2.1-2_amd64.deb ...\r\n",
        "Unpacking libsm6:amd64 (2:1.2.1-2) ...\r\n"
       ]
      },
      {
       "output_type": "stream",
       "stream": "stdout",
       "text": [
        "Selecting previously unselected package libxt6:amd64.\r\n",
        "Preparing to unpack .../libxt6_1%3a1.1.4-1_amd64.deb ...\r\n",
        "Unpacking libxt6:amd64 (1:1.1.4-1) ...\r\n"
       ]
      },
      {
       "output_type": "stream",
       "stream": "stdout",
       "text": [
        "Selecting previously unselected package libxmu6:amd64.\r\n",
        "Preparing to unpack .../libxmu6_2%3a1.1.1-1_amd64.deb ...\r\n",
        "Unpacking libxmu6:amd64 (2:1.1.1-1) ...\r\n"
       ]
      },
      {
       "output_type": "stream",
       "stream": "stdout",
       "text": [
        "Selecting previously unselected package libxaw7:amd64.\r\n",
        "Preparing to unpack .../libxaw7_2%3a1.0.12-1_amd64.deb ...\r\n"
       ]
      },
      {
       "output_type": "stream",
       "stream": "stdout",
       "text": [
        "Unpacking libxaw7:amd64 (2:1.0.12-1) ...\r\n"
       ]
      },
      {
       "output_type": "stream",
       "stream": "stdout",
       "text": [
        "Selecting previously unselected package libtxc-dxtn-s2tc0:amd64.\r\n",
        "Preparing to unpack .../libtxc-dxtn-s2tc0_0~git20131104-1.1_amd64.deb ...\r\n"
       ]
      },
      {
       "output_type": "stream",
       "stream": "stdout",
       "text": [
        "Unpacking libtxc-dxtn-s2tc0:amd64 (0~git20131104-1.1) ...\r\n"
       ]
      },
      {
       "output_type": "stream",
       "stream": "stdout",
       "text": [
        "Selecting previously unselected package libcdt4.\r\n",
        "Preparing to unpack .../libcdt4_2.26.3-16.2_amd64.deb ...\r\n",
        "Unpacking libcdt4 (2.26.3-16.2) ...\r\n"
       ]
      },
      {
       "output_type": "stream",
       "stream": "stdout",
       "text": [
        "Selecting previously unselected package libcgraph5.\r\n",
        "Preparing to unpack .../libcgraph5_2.26.3-16.2_amd64.deb ...\r\n"
       ]
      },
      {
       "output_type": "stream",
       "stream": "stdout",
       "text": [
        "Unpacking libcgraph5 (2.26.3-16.2) ...\r\n"
       ]
      },
      {
       "output_type": "stream",
       "stream": "stdout",
       "text": [
        "Selecting previously unselected package libgraph4.\r\n",
        "Preparing to unpack .../libgraph4_2.26.3-16.2_amd64.deb ...\r\n"
       ]
      },
      {
       "output_type": "stream",
       "stream": "stdout",
       "text": [
        "Unpacking libgraph4 (2.26.3-16.2) ...\r\n"
       ]
      },
      {
       "output_type": "stream",
       "stream": "stdout",
       "text": [
        "Selecting previously unselected package libpathplan4.\r\n",
        "Preparing to unpack .../libpathplan4_2.26.3-16.2_amd64.deb ...\r\n",
        "Unpacking libpathplan4 (2.26.3-16.2) ...\r\n"
       ]
      },
      {
       "output_type": "stream",
       "stream": "stdout",
       "text": [
        "Selecting previously unselected package libxdot4.\r\n",
        "Preparing to unpack .../libxdot4_2.26.3-16.2_amd64.deb ...\r\n"
       ]
      },
      {
       "output_type": "stream",
       "stream": "stdout",
       "text": [
        "Unpacking libxdot4 (2.26.3-16.2) ...\r\n"
       ]
      },
      {
       "output_type": "stream",
       "stream": "stdout",
       "text": [
        "Selecting previously unselected package libgvc5.\r\n",
        "Preparing to unpack .../libgvc5_2.26.3-16.2_amd64.deb ...\r\n"
       ]
      },
      {
       "output_type": "stream",
       "stream": "stdout",
       "text": [
        "Unpacking libgvc5 (2.26.3-16.2) ...\r\n"
       ]
      },
      {
       "output_type": "stream",
       "stream": "stdout",
       "text": [
        "Selecting previously unselected package libgvpr1.\r\n",
        "Preparing to unpack .../libgvpr1_2.26.3-16.2_amd64.deb ...\r\n"
       ]
      },
      {
       "output_type": "stream",
       "stream": "stdout",
       "text": [
        "Unpacking libgvpr1 (2.26.3-16.2) ...\r\n"
       ]
      },
      {
       "output_type": "stream",
       "stream": "stdout",
       "text": [
        "Selecting previously unselected package graphviz.\r\n",
        "Preparing to unpack .../graphviz_2.26.3-16.2_amd64.deb ...\r\n",
        "Unpacking graphviz (2.26.3-16.2) ...\r\n"
       ]
      },
      {
       "output_type": "stream",
       "stream": "stdout",
       "text": [
        "Selecting previously unselected package libglib2.0-data.\r\n",
        "Preparing to unpack .../libglib2.0-data_2.40.0-2_all.deb ...\r\n"
       ]
      },
      {
       "output_type": "stream",
       "stream": "stdout",
       "text": [
        "Unpacking libglib2.0-data (2.40.0-2) ...\r\n"
       ]
      },
      {
       "output_type": "stream",
       "stream": "stdout",
       "text": [
        "Selecting previously unselected package shared-mime-info.\r\n",
        "Preparing to unpack .../shared-mime-info_1.2-1_amd64.deb ...\r\n",
        "Unpacking shared-mime-info (1.2-1) ...\r\n"
       ]
      },
      {
       "output_type": "stream",
       "stream": "stdout",
       "text": [
        "Selecting previously unselected package ttf-liberation.\r\n",
        "Preparing to unpack .../ttf-liberation_1.07.3-3_all.deb ...\r\n"
       ]
      },
      {
       "output_type": "stream",
       "stream": "stdout",
       "text": [
        "Unpacking ttf-liberation (1.07.3-3) ...\r\n"
       ]
      },
      {
       "output_type": "stream",
       "stream": "stdout",
       "text": [
        "Setting up libudev1:amd64 (204-8) ...\r\n"
       ]
      },
      {
       "output_type": "stream",
       "stream": "stdout",
       "text": [
        "Setting up libdrm2:amd64 (2.4.52-1) ...\r\n"
       ]
      },
      {
       "output_type": "stream",
       "stream": "stdout",
       "text": [
        "Setting up libglapi-mesa:amd64 (10.1.0-5) ...\r\n"
       ]
      },
      {
       "output_type": "stream",
       "stream": "stdout",
       "text": [
        "Setting up libllvm3.4:amd64 (1:3.4-2) ...\r\n"
       ]
      },
      {
       "output_type": "stream",
       "stream": "stdout",
       "text": [
        "Setting up libwayland-client0:amd64 (1.4.0-1) ...\r\n"
       ]
      },
      {
       "output_type": "stream",
       "stream": "stdout",
       "text": [
        "Setting up libwayland-server0:amd64 (1.4.0-1) ...\r\n"
       ]
      },
      {
       "output_type": "stream",
       "stream": "stdout",
       "text": [
        "Setting up libxcb-dri2-0:amd64 (1.10-2) ...\r\n"
       ]
      },
      {
       "output_type": "stream",
       "stream": "stdout",
       "text": [
        "Setting up libgbm1:amd64 (10.1.0-5) ...\r\n"
       ]
      },
      {
       "output_type": "stream",
       "stream": "stdout",
       "text": [
        "Setting up libx11-xcb1:amd64 (2:1.6.2-1) ...\r\n"
       ]
      },
      {
       "output_type": "stream",
       "stream": "stdout",
       "text": [
        "Setting up libxcb-render0:amd64 (1.10-2) ...\r\n"
       ]
      },
      {
       "output_type": "stream",
       "stream": "stdout",
       "text": [
        "Setting up libxcb-shape0:amd64 (1.10-2) ...\r\n"
       ]
      },
      {
       "output_type": "stream",
       "stream": "stdout",
       "text": [
        "Setting up libxcb-xfixes0:amd64 (1.10-2) ...\r\n"
       ]
      },
      {
       "output_type": "stream",
       "stream": "stdout",
       "text": [
        "Setting up libegl1-mesa:amd64 (10.1.0-5) ...\r\n"
       ]
      },
      {
       "output_type": "stream",
       "stream": "stdout",
       "text": [
        "Setting up libpng12-0:amd64 (1.2.50-1) ...\r\n"
       ]
      },
      {
       "output_type": "stream",
       "stream": "stdout",
       "text": [
        "Setting up libfreetype6:amd64 (2.5.2-1) ...\r\n"
       ]
      },
      {
       "output_type": "stream",
       "stream": "stdout",
       "text": [
        "Setting up ucf (3.0027+nmu1) ...\r\n"
       ]
      },
      {
       "output_type": "stream",
       "stream": "stdout",
       "text": [
        "debconf: unable to initialize frontend: Dialog\r\n",
        "debconf: (No usable dialog-like program is installed, so the dialog based frontend cannot be used. at /usr/share/perl5/Debconf/FrontEnd/Dialog.pm line 76.)\r\n",
        "debconf: falling back to frontend: Readline\r\n"
       ]
      },
      {
       "output_type": "stream",
       "stream": "stdout",
       "text": [
        "Setting up fonts-dejavu-core (2.34-1) ...\r\n"
       ]
      },
      {
       "output_type": "stream",
       "stream": "stdout",
       "text": [
        "Setting up fonts-liberation (1.07.3-3) ...\r\n"
       ]
      },
      {
       "output_type": "stream",
       "stream": "stdout",
       "text": [
        "Setting up fontconfig-config (2.11.0-2) ...\r\n"
       ]
      },
      {
       "output_type": "stream",
       "stream": "stdout",
       "text": [
        "debconf: unable to initialize frontend: Dialog\r\n",
        "debconf: (No usable dialog-like program is installed, so the dialog based frontend cannot be used. at /usr/share/perl5/Debconf/FrontEnd/Dialog.pm line 76.)\r\n",
        "debconf: falling back to frontend: Readline\r\n"
       ]
      },
      {
       "output_type": "stream",
       "stream": "stdout",
       "text": [
        "Setting up libfontconfig1:amd64 (2.11.0-2) ...\r\n"
       ]
      },
      {
       "output_type": "stream",
       "stream": "stdout",
       "text": [
        "Setting up libxcb-dri3-0:amd64 (1.10-2) ...\r\n"
       ]
      },
      {
       "output_type": "stream",
       "stream": "stdout",
       "text": [
        "Setting up libxcb-glx0:amd64 (1.10-2) ...\r\n"
       ]
      },
      {
       "output_type": "stream",
       "stream": "stdout",
       "text": [
        "Setting up libxcb-present0:amd64 (1.10-2) ...\r\n"
       ]
      },
      {
       "output_type": "stream",
       "stream": "stdout",
       "text": [
        "Setting up libxcb-sync1:amd64 (1.10-2) ...\r\n"
       ]
      },
      {
       "output_type": "stream",
       "stream": "stdout",
       "text": [
        "Setting up libxfixes3:amd64 (1:5.0.1-1) ...\r\n"
       ]
      },
      {
       "output_type": "stream",
       "stream": "stdout",
       "text": [
        "Setting up libxdamage1:amd64 (1:1.1.4-1) ...\r\n"
       ]
      },
      {
       "output_type": "stream",
       "stream": "stdout",
       "text": [
        "Setting up libxshmfence1:amd64 (1.1-2) ...\r\n"
       ]
      },
      {
       "output_type": "stream",
       "stream": "stdout",
       "text": [
        "Setting up libxxf86vm1:amd64 (1:1.1.3-1) ...\r\n"
       ]
      },
      {
       "output_type": "stream",
       "stream": "stdout",
       "text": [
        "Setting up libgl1-mesa-glx:amd64 (10.1.0-5) ...\r\n"
       ]
      },
      {
       "output_type": "stream",
       "stream": "stdout",
       "text": [
        "Setting up libpixman-1-0:amd64 (0.32.4-1) ...\r\n"
       ]
      },
      {
       "output_type": "stream",
       "stream": "stdout",
       "text": [
        "Setting up libxcb-shm0:amd64 (1.10-2) ...\r\n"
       ]
      },
      {
       "output_type": "stream",
       "stream": "stdout",
       "text": [
        "Setting up libxrender1:amd64 (1:0.9.8-1) ...\r\n"
       ]
      },
      {
       "output_type": "stream",
       "stream": "stdout",
       "text": [
        "Setting up libcairo2:amd64 (1.12.16-2) ...\r\n"
       ]
      },
      {
       "output_type": "stream",
       "stream": "stdout",
       "text": [
        "Setting up libdatrie1:amd64 (0.2.8-1) ...\r\n"
       ]
      },
      {
       "output_type": "stream",
       "stream": "stdout",
       "text": [
        "Setting up libpciaccess0:amd64 (0.13.2-1) ...\r\n"
       ]
      },
      {
       "output_type": "stream",
       "stream": "stdout",
       "text": [
        "Setting up libdrm-intel1:amd64 (2.4.52-1) ...\r\n"
       ]
      },
      {
       "output_type": "stream",
       "stream": "stdout",
       "text": [
        "Setting up libdrm-nouveau2:amd64 (2.4.52-1) ...\r\n"
       ]
      },
      {
       "output_type": "stream",
       "stream": "stdout",
       "text": [
        "Setting up libdrm-radeon1:amd64 (2.4.52-1) ...\r\n"
       ]
      },
      {
       "output_type": "stream",
       "stream": "stdout",
       "text": [
        "Setting up libelf1:amd64 (0.157-3) ...\r\n"
       ]
      },
      {
       "output_type": "stream",
       "stream": "stdout",
       "text": [
        "Setting up libopenvg1-mesa:amd64 (10.1.0-5) ...\r\n"
       ]
      },
      {
       "output_type": "stream",
       "stream": "stdout",
       "text": [
        "Setting up libwayland-egl1-mesa:amd64 (10.1.0-5) ...\r\n"
       ]
      },
      {
       "output_type": "stream",
       "stream": "stdout",
       "text": [
        "Setting up libegl1-mesa-drivers:amd64 (10.1.0-5) ...\r\n"
       ]
      },
      {
       "output_type": "stream",
       "stream": "stdout",
       "text": [
        "Setting up libjpeg8:amd64 (8d-2) ...\r\n"
       ]
      },
      {
       "output_type": "stream",
       "stream": "stdout",
       "text": [
        "Setting up libjbig0:amd64 (2.0-2) ...\r\n"
       ]
      },
      {
       "output_type": "stream",
       "stream": "stdout",
       "text": [
        "Setting up libtiff5:amd64 (4.0.3-8) ...\r\n"
       ]
      },
      {
       "output_type": "stream",
       "stream": "stdout",
       "text": [
        "Setting up libvpx1:amd64 (1.3.0-2) ...\r\n"
       ]
      },
      {
       "output_type": "stream",
       "stream": "stdout",
       "text": [
        "Setting up libxpm4:amd64 (1:3.5.10-1) ...\r\n"
       ]
      },
      {
       "output_type": "stream",
       "stream": "stdout",
       "text": [
        "Setting up libgd3:amd64 (2.1.0-3+b1) ...\r\n"
       ]
      },
      {
       "output_type": "stream",
       "stream": "stdout",
       "text": [
        "Setting up libgl1-mesa-dri:amd64 (10.1.0-5) ...\r\n"
       ]
      },
      {
       "output_type": "stream",
       "stream": "stdout",
       "text": [
        "Setting up libglib2.0-0:amd64 (2.40.0-2) ...\r\n"
       ]
      },
      {
       "output_type": "stream",
       "stream": "stdout",
       "text": [
        "No schema files found: doing nothing.\r\n"
       ]
      },
      {
       "output_type": "stream",
       "stream": "stdout",
       "text": [
        "Setting up libgraphite2-3:amd64 (1.2.4-2) ...\r\n"
       ]
      },
      {
       "output_type": "stream",
       "stream": "stdout",
       "text": [
        "Setting up libharfbuzz0b:amd64 (0.9.27-1) ...\r\n"
       ]
      },
      {
       "output_type": "stream",
       "stream": "stdout",
       "text": [
        "Setting up x11-common (1:7.7+7) ...\r\n"
       ]
      },
      {
       "output_type": "stream",
       "stream": "stdout",
       "text": [
        "debconf: unable to initialize frontend: Dialog\r\n",
        "debconf: (No usable dialog-like program is installed, so the dialog based frontend cannot be used. at /usr/share/perl5/Debconf/FrontEnd/Dialog.pm line 76.)\r\n",
        "debconf: falling back to frontend: Readline\r\n"
       ]
      },
      {
       "output_type": "stream",
       "stream": "stdout",
       "text": [
        "update-rc.d: warning: start and stop actions are no longer supported; falling back to defaults\r\n"
       ]
      },
      {
       "output_type": "stream",
       "stream": "stdout",
       "text": [
        "invoke-rc.d: policy-rc.d denied execution of start.\r\n"
       ]
      },
      {
       "output_type": "stream",
       "stream": "stdout",
       "text": [
        "Setting up libice6:amd64 (2:1.0.8-2) ...\r\n"
       ]
      },
      {
       "output_type": "stream",
       "stream": "stdout",
       "text": [
        "Setting up libltdl7:amd64 (2.4.2-1.7) ...\r\n"
       ]
      },
      {
       "output_type": "stream",
       "stream": "stdout",
       "text": [
        "Setting up libthai-data (0.1.20-3) ...\r\n"
       ]
      },
      {
       "output_type": "stream",
       "stream": "stdout",
       "text": [
        "Setting up libthai0:amd64 (0.1.20-3) ...\r\n"
       ]
      },
      {
       "output_type": "stream",
       "stream": "stdout",
       "text": [
        "Setting up fontconfig (2.11.0-2) ...\r\n"
       ]
      },
      {
       "output_type": "stream",
       "stream": "stdout",
       "text": [
        "Regenerating fonts cache... "
       ]
      },
      {
       "output_type": "stream",
       "stream": "stdout",
       "text": [
        "done.\r\n"
       ]
      },
      {
       "output_type": "stream",
       "stream": "stdout",
       "text": [
        "Setting up libpango-1.0-0:amd64 (1.36.3-1) ...\r\n"
       ]
      },
      {
       "output_type": "stream",
       "stream": "stdout",
       "text": [
        "Setting up libpangoft2-1.0-0:amd64 (1.36.3-1) ...\r\n"
       ]
      },
      {
       "output_type": "stream",
       "stream": "stdout",
       "text": [
        "Setting up libpangocairo-1.0-0:amd64 (1.36.3-1) ...\r\n"
       ]
      },
      {
       "output_type": "stream",
       "stream": "stdout",
       "text": [
        "Setting up libsm6:amd64 (2:1.2.1-2) ...\r\n"
       ]
      },
      {
       "output_type": "stream",
       "stream": "stdout",
       "text": [
        "Setting up libxt6:amd64 (1:1.1.4-1) ...\r\n"
       ]
      },
      {
       "output_type": "stream",
       "stream": "stdout",
       "text": [
        "Setting up libxmu6:amd64 (2:1.1.1-1) ...\r\n"
       ]
      },
      {
       "output_type": "stream",
       "stream": "stdout",
       "text": [
        "Setting up libxaw7:amd64 (2:1.0.12-1) ...\r\n"
       ]
      },
      {
       "output_type": "stream",
       "stream": "stdout",
       "text": [
        "Setting up libtxc-dxtn-s2tc0:amd64 (0~git20131104-1.1) ...\r\n"
       ]
      },
      {
       "output_type": "stream",
       "stream": "stdout",
       "text": [
        "update-alternatives: using /usr/lib/x86_64-linux-gnu/libtxc_dxtn_s2tc.so.0 to provide /usr/lib/x86_64-linux-gnu/libtxc_dxtn.so (libtxc-dxtn-x86_64-linux-gnu) in auto mode\r\n"
       ]
      },
      {
       "output_type": "stream",
       "stream": "stdout",
       "text": [
        "Setting up libcdt4 (2.26.3-16.2) ...\r\n"
       ]
      },
      {
       "output_type": "stream",
       "stream": "stdout",
       "text": [
        "Setting up libcgraph5 (2.26.3-16.2) ...\r\n"
       ]
      },
      {
       "output_type": "stream",
       "stream": "stdout",
       "text": [
        "Setting up libgraph4 (2.26.3-16.2) ...\r\n"
       ]
      },
      {
       "output_type": "stream",
       "stream": "stdout",
       "text": [
        "Setting up libpathplan4 (2.26.3-16.2) ...\r\n"
       ]
      },
      {
       "output_type": "stream",
       "stream": "stdout",
       "text": [
        "Setting up libxdot4 (2.26.3-16.2) ...\r\n"
       ]
      },
      {
       "output_type": "stream",
       "stream": "stdout",
       "text": [
        "Setting up libgvc5 (2.26.3-16.2) ...\r\n"
       ]
      },
      {
       "output_type": "stream",
       "stream": "stdout",
       "text": [
        "Setting up libgvpr1 (2.26.3-16.2) ...\r\n"
       ]
      },
      {
       "output_type": "stream",
       "stream": "stdout",
       "text": [
        "Setting up graphviz (2.26.3-16.2) ...\r\n"
       ]
      },
      {
       "output_type": "stream",
       "stream": "stdout",
       "text": [
        "Setting up libglib2.0-data (2.40.0-2) ...\r\n"
       ]
      },
      {
       "output_type": "stream",
       "stream": "stdout",
       "text": [
        "Setting up shared-mime-info (1.2-1) ...\r\n"
       ]
      },
      {
       "output_type": "stream",
       "stream": "stdout",
       "text": [
        "Setting up ttf-liberation (1.07.3-3) ...\r\n"
       ]
      },
      {
       "output_type": "stream",
       "stream": "stdout",
       "text": [
        "Processing triggers for libc-bin (2.18-4) ...\r\n"
       ]
      }
     ],
     "prompt_number": 1
    },
    {
     "cell_type": "markdown",
     "metadata": {},
     "source": [
      "The dot magic is bundled with this hierarchymagic which seems to require sphinx...."
     ]
    },
    {
     "cell_type": "code",
     "collapsed": true,
     "input": [
      "!pip install sphinx"
     ],
     "language": "python",
     "metadata": {},
     "outputs": [
      {
       "output_type": "stream",
       "stream": "stdout",
       "text": [
        "Downloading/unpacking sphinx\r\n"
       ]
      },
      {
       "output_type": "stream",
       "stream": "stdout",
       "text": [
        "  Downloading Sphinx-1.2.2.tar.gz (3.1MB): \r",
        "  Downloading Sphinx-1.2.2.tar.gz (3.1MB):   0%  4.1kB\r",
        "  Downloading Sphinx-1.2.2.tar.gz (3.1MB):   0%  8.2kB"
       ]
      },
      {
       "output_type": "stream",
       "stream": "stdout",
       "text": [
        "\r",
        "  Downloading Sphinx-1.2.2.tar.gz (3.1MB):   0%  12kB \r",
        "  Downloading Sphinx-1.2.2.tar.gz (3.1MB):   0%  16kB\r",
        "  Downloading Sphinx-1.2.2.tar.gz (3.1MB):   0%  20kB\r",
        "  Downloading Sphinx-1.2.2.tar.gz (3.1MB):   0%  24kB\r",
        "  Downloading Sphinx-1.2.2.tar.gz (3.1MB):   0%  28kB\r",
        "  Downloading Sphinx-1.2.2.tar.gz (3.1MB):   1%  32kB\r",
        "  Downloading Sphinx-1.2.2.tar.gz (3.1MB):   1%  36kB\r",
        "  Downloading Sphinx-1.2.2.tar.gz (3.1MB):   1%  40kB\r",
        "  Downloading Sphinx-1.2.2.tar.gz (3.1MB):   1%  45kB\r",
        "  Downloading Sphinx-1.2.2.tar.gz (3.1MB):   1%  49kB"
       ]
      },
      {
       "output_type": "stream",
       "stream": "stdout",
       "text": [
        "\r",
        "  Downloading Sphinx-1.2.2.tar.gz (3.1MB):   1%  53kB\r",
        "  Downloading Sphinx-1.2.2.tar.gz (3.1MB):   1%  57kB\r",
        "  Downloading Sphinx-1.2.2.tar.gz (3.1MB):   1%  61kB\r",
        "  Downloading Sphinx-1.2.2.tar.gz (3.1MB):   2%  65kB\r",
        "  Downloading Sphinx-1.2.2.tar.gz (3.1MB):   2%  69kB"
       ]
      },
      {
       "output_type": "stream",
       "stream": "stdout",
       "text": [
        "\r",
        "  Downloading Sphinx-1.2.2.tar.gz (3.1MB):   2%  73kB\r",
        "  Downloading Sphinx-1.2.2.tar.gz (3.1MB):   2%  77kB\r",
        "  Downloading Sphinx-1.2.2.tar.gz (3.1MB):   2%  81kB\r",
        "  Downloading Sphinx-1.2.2.tar.gz (3.1MB):   2%  86kB\r",
        "  Downloading Sphinx-1.2.2.tar.gz (3.1MB):   2%  90kB\r",
        "  Downloading Sphinx-1.2.2.tar.gz (3.1MB):   2%  94kB\r",
        "  Downloading Sphinx-1.2.2.tar.gz (3.1MB):   3%  98kB\r",
        "  Downloading Sphinx-1.2.2.tar.gz (3.1MB):   3%  102kB\r",
        "  Downloading Sphinx-1.2.2.tar.gz (3.1MB):   3%  106kB\r",
        "  Downloading Sphinx-1.2.2.tar.gz (3.1MB):   3%  110kB\r",
        "  Downloading Sphinx-1.2.2.tar.gz (3.1MB):   3%  114kB\r",
        "  Downloading Sphinx-1.2.2.tar.gz (3.1MB):   3%  118kB"
       ]
      },
      {
       "output_type": "stream",
       "stream": "stdout",
       "text": [
        "\r",
        "  Downloading Sphinx-1.2.2.tar.gz (3.1MB):   3%  122kB\r",
        "  Downloading Sphinx-1.2.2.tar.gz (3.1MB):   4%  126kB\r",
        "  Downloading Sphinx-1.2.2.tar.gz (3.1MB):   4%  131kB\r",
        "  Downloading Sphinx-1.2.2.tar.gz (3.1MB):   4%  135kB\r",
        "  Downloading Sphinx-1.2.2.tar.gz (3.1MB):   4%  139kB\r",
        "  Downloading Sphinx-1.2.2.tar.gz (3.1MB):   4%  143kB\r",
        "  Downloading Sphinx-1.2.2.tar.gz (3.1MB):   4%  147kB\r",
        "  Downloading Sphinx-1.2.2.tar.gz (3.1MB):   4%  151kB\r",
        "  Downloading Sphinx-1.2.2.tar.gz (3.1MB):   4%  155kB"
       ]
      },
      {
       "output_type": "stream",
       "stream": "stdout",
       "text": [
        "\r",
        "  Downloading Sphinx-1.2.2.tar.gz (3.1MB):   5%  159kB\r",
        "  Downloading Sphinx-1.2.2.tar.gz (3.1MB):   5%  163kB\r",
        "  Downloading Sphinx-1.2.2.tar.gz (3.1MB):   5%  167kB\r",
        "  Downloading Sphinx-1.2.2.tar.gz (3.1MB):   5%  172kB\r",
        "  Downloading Sphinx-1.2.2.tar.gz (3.1MB):   5%  176kB\r",
        "  Downloading Sphinx-1.2.2.tar.gz (3.1MB):   5%  180kB\r",
        "  Downloading Sphinx-1.2.2.tar.gz (3.1MB):   5%  184kB\r",
        "  Downloading Sphinx-1.2.2.tar.gz (3.1MB):   5%  188kB\r",
        "  Downloading Sphinx-1.2.2.tar.gz (3.1MB):   6%  192kB\r",
        "  Downloading Sphinx-1.2.2.tar.gz (3.1MB):   6%  196kB\r",
        "  Downloading Sphinx-1.2.2.tar.gz (3.1MB):   6%  200kB\r",
        "  Downloading Sphinx-1.2.2.tar.gz (3.1MB):   6%  204kB\r",
        "  Downloading Sphinx-1.2.2.tar.gz (3.1MB):   6%  208kB\r",
        "  Downloading Sphinx-1.2.2.tar.gz (3.1MB):   6%  212kB"
       ]
      },
      {
       "output_type": "stream",
       "stream": "stdout",
       "text": [
        "\r",
        "  Downloading Sphinx-1.2.2.tar.gz (3.1MB):   6%  217kB\r",
        "  Downloading Sphinx-1.2.2.tar.gz (3.1MB):   7%  221kB\r",
        "  Downloading Sphinx-1.2.2.tar.gz (3.1MB):   7%  225kB\r",
        "  Downloading Sphinx-1.2.2.tar.gz (3.1MB):   7%  229kB\r",
        "  Downloading Sphinx-1.2.2.tar.gz (3.1MB):   7%  233kB\r",
        "  Downloading Sphinx-1.2.2.tar.gz (3.1MB):   7%  237kB\r",
        "  Downloading Sphinx-1.2.2.tar.gz (3.1MB):   7%  241kB\r",
        "  Downloading Sphinx-1.2.2.tar.gz (3.1MB):   7%  245kB\r",
        "  Downloading Sphinx-1.2.2.tar.gz (3.1MB):   7%  249kB\r",
        "  Downloading Sphinx-1.2.2.tar.gz (3.1MB):   8%  253kB\r",
        "  Downloading Sphinx-1.2.2.tar.gz (3.1MB):   8%  258kB\r",
        "  Downloading Sphinx-1.2.2.tar.gz (3.1MB):   8%  262kB\r",
        "  Downloading Sphinx-1.2.2.tar.gz (3.1MB):   8%  266kB\r",
        "  Downloading Sphinx-1.2.2.tar.gz (3.1MB):   8%  270kB"
       ]
      },
      {
       "output_type": "stream",
       "stream": "stdout",
       "text": [
        "\r",
        "  Downloading Sphinx-1.2.2.tar.gz (3.1MB):   8%  274kB\r",
        "  Downloading Sphinx-1.2.2.tar.gz (3.1MB):   8%  278kB\r",
        "  Downloading Sphinx-1.2.2.tar.gz (3.1MB):   8%  282kB\r",
        "  Downloading Sphinx-1.2.2.tar.gz (3.1MB):   9%  286kB"
       ]
      },
      {
       "output_type": "stream",
       "stream": "stdout",
       "text": [
        "\r",
        "  Downloading Sphinx-1.2.2.tar.gz (3.1MB):   9%  290kB\r",
        "  Downloading Sphinx-1.2.2.tar.gz (3.1MB):   9%  294kB\r",
        "  Downloading Sphinx-1.2.2.tar.gz (3.1MB):   9%  299kB\r",
        "  Downloading Sphinx-1.2.2.tar.gz (3.1MB):   9%  303kB\r",
        "  Downloading Sphinx-1.2.2.tar.gz (3.1MB):   9%  307kB\r",
        "  Downloading Sphinx-1.2.2.tar.gz (3.1MB):   9%  311kB\r",
        "  Downloading Sphinx-1.2.2.tar.gz (3.1MB):  10%  315kB\r",
        "  Downloading Sphinx-1.2.2.tar.gz (3.1MB):  10%  319kB\r",
        "  Downloading Sphinx-1.2.2.tar.gz (3.1MB):  10%  323kB\r",
        "  Downloading Sphinx-1.2.2.tar.gz (3.1MB):  10%  327kB\r",
        "  Downloading Sphinx-1.2.2.tar.gz (3.1MB):  10%  331kB\r",
        "  Downloading Sphinx-1.2.2.tar.gz (3.1MB):  10%  335kB\r",
        "  Downloading Sphinx-1.2.2.tar.gz (3.1MB):  10%  339kB\r",
        "  Downloading Sphinx-1.2.2.tar.gz (3.1MB):  10%  344kB\r",
        "  Downloading Sphinx-1.2.2.tar.gz (3.1MB):  11%  348kB\r",
        "  Downloading Sphinx-1.2.2.tar.gz (3.1MB):  11%  352kB"
       ]
      },
      {
       "output_type": "stream",
       "stream": "stdout",
       "text": [
        "\r",
        "  Downloading Sphinx-1.2.2.tar.gz (3.1MB):  11%  356kB\r",
        "  Downloading Sphinx-1.2.2.tar.gz (3.1MB):  11%  360kB\r",
        "  Downloading Sphinx-1.2.2.tar.gz (3.1MB):  11%  364kB\r",
        "  Downloading Sphinx-1.2.2.tar.gz (3.1MB):  11%  368kB\r",
        "  Downloading Sphinx-1.2.2.tar.gz (3.1MB):  11%  372kB\r",
        "  Downloading Sphinx-1.2.2.tar.gz (3.1MB):  11%  376kB\r",
        "  Downloading Sphinx-1.2.2.tar.gz (3.1MB):  12%  380kB\r",
        "  Downloading Sphinx-1.2.2.tar.gz (3.1MB):  12%  385kB\r",
        "  Downloading Sphinx-1.2.2.tar.gz (3.1MB):  12%  389kB\r",
        "  Downloading Sphinx-1.2.2.tar.gz (3.1MB):  12%  393kB\r",
        "  Downloading Sphinx-1.2.2.tar.gz (3.1MB):  12%  397kB\r",
        "  Downloading Sphinx-1.2.2.tar.gz (3.1MB):  12%  401kB\r",
        "  Downloading Sphinx-1.2.2.tar.gz (3.1MB):  12%  405kB\r",
        "  Downloading Sphinx-1.2.2.tar.gz (3.1MB):  13%  409kB"
       ]
      },
      {
       "output_type": "stream",
       "stream": "stdout",
       "text": [
        "\r",
        "  Downloading Sphinx-1.2.2.tar.gz (3.1MB):  13%  413kB\r",
        "  Downloading Sphinx-1.2.2.tar.gz (3.1MB):  13%  417kB\r",
        "  Downloading Sphinx-1.2.2.tar.gz (3.1MB):  13%  421kB\r",
        "  Downloading Sphinx-1.2.2.tar.gz (3.1MB):  13%  425kB\r",
        "  Downloading Sphinx-1.2.2.tar.gz (3.1MB):  13%  430kB\r",
        "  Downloading Sphinx-1.2.2.tar.gz (3.1MB):  13%  434kB\r",
        "  Downloading Sphinx-1.2.2.tar.gz (3.1MB):  13%  438kB\r",
        "  Downloading Sphinx-1.2.2.tar.gz (3.1MB):  14%  442kB\r",
        "  Downloading Sphinx-1.2.2.tar.gz (3.1MB):  14%  446kB\r",
        "  Downloading Sphinx-1.2.2.tar.gz (3.1MB):  14%  450kB\r",
        "  Downloading Sphinx-1.2.2.tar.gz (3.1MB):  14%  454kB\r",
        "  Downloading Sphinx-1.2.2.tar.gz (3.1MB):  14%  458kB\r",
        "  Downloading Sphinx-1.2.2.tar.gz (3.1MB):  14%  462kB\r",
        "  Downloading Sphinx-1.2.2.tar.gz (3.1MB):  14%  466kB\r",
        "  Downloading Sphinx-1.2.2.tar.gz (3.1MB):  14%  471kB\r",
        "  Downloading Sphinx-1.2.2.tar.gz (3.1MB):  15%  475kB\r",
        "  Downloading Sphinx-1.2.2.tar.gz (3.1MB):  15%  479kB\r",
        "  Downloading Sphinx-1.2.2.tar.gz (3.1MB):  15%  483kB\r",
        "  Downloading Sphinx-1.2.2.tar.gz (3.1MB):  15%  487kB\r",
        "  Downloading Sphinx-1.2.2.tar.gz (3.1MB):  15%  491kB\r",
        "  Downloading Sphinx-1.2.2.tar.gz (3.1MB):  15%  495kB"
       ]
      },
      {
       "output_type": "stream",
       "stream": "stdout",
       "text": [
        "\r",
        "  Downloading Sphinx-1.2.2.tar.gz (3.1MB):  15%  499kB\r",
        "  Downloading Sphinx-1.2.2.tar.gz (3.1MB):  16%  503kB\r",
        "  Downloading Sphinx-1.2.2.tar.gz (3.1MB):  16%  507kB\r",
        "  Downloading Sphinx-1.2.2.tar.gz (3.1MB):  16%  512kB\r",
        "  Downloading Sphinx-1.2.2.tar.gz (3.1MB):  16%  516kB\r",
        "  Downloading Sphinx-1.2.2.tar.gz (3.1MB):  16%  520kB\r",
        "  Downloading Sphinx-1.2.2.tar.gz (3.1MB):  16%  524kB\r",
        "  Downloading Sphinx-1.2.2.tar.gz (3.1MB):  16%  528kB\r",
        "  Downloading Sphinx-1.2.2.tar.gz (3.1MB):  16%  532kB\r",
        "  Downloading Sphinx-1.2.2.tar.gz (3.1MB):  17%  536kB\r",
        "  Downloading Sphinx-1.2.2.tar.gz (3.1MB):  17%  540kB\r",
        "  Downloading Sphinx-1.2.2.tar.gz (3.1MB):  17%  544kB\r",
        "  Downloading Sphinx-1.2.2.tar.gz (3.1MB):  17%  548kB\r",
        "  Downloading Sphinx-1.2.2.tar.gz (3.1MB):  17%  552kB\r",
        "  Downloading Sphinx-1.2.2.tar.gz (3.1MB):  17%  557kB\r",
        "  Downloading Sphinx-1.2.2.tar.gz (3.1MB):  17%  561kB\r",
        "  Downloading Sphinx-1.2.2.tar.gz (3.1MB):  17%  565kB\r",
        "  Downloading Sphinx-1.2.2.tar.gz (3.1MB):  18%  569kB\r",
        "  Downloading Sphinx-1.2.2.tar.gz (3.1MB):  18%  573kB"
       ]
      },
      {
       "output_type": "stream",
       "stream": "stdout",
       "text": [
        "\r",
        "  Downloading Sphinx-1.2.2.tar.gz (3.1MB):  18%  577kB\r",
        "  Downloading Sphinx-1.2.2.tar.gz (3.1MB):  18%  581kB\r",
        "  Downloading Sphinx-1.2.2.tar.gz (3.1MB):  18%  585kB\r",
        "  Downloading Sphinx-1.2.2.tar.gz (3.1MB):  18%  589kB\r",
        "  Downloading Sphinx-1.2.2.tar.gz (3.1MB):  18%  593kB\r",
        "  Downloading Sphinx-1.2.2.tar.gz (3.1MB):  19%  598kB\r",
        "  Downloading Sphinx-1.2.2.tar.gz (3.1MB):  19%  602kB\r",
        "  Downloading Sphinx-1.2.2.tar.gz (3.1MB):  19%  606kB\r",
        "  Downloading Sphinx-1.2.2.tar.gz (3.1MB):  19%  610kB\r",
        "  Downloading Sphinx-1.2.2.tar.gz (3.1MB):  19%  614kB\r",
        "  Downloading Sphinx-1.2.2.tar.gz (3.1MB):  19%  618kB\r",
        "  Downloading Sphinx-1.2.2.tar.gz (3.1MB):  19%  622kB\r",
        "  Downloading Sphinx-1.2.2.tar.gz (3.1MB):  19%  626kB\r",
        "  Downloading Sphinx-1.2.2.tar.gz (3.1MB):  20%  630kB\r",
        "  Downloading Sphinx-1.2.2.tar.gz (3.1MB):  20%  634kB\r",
        "  Downloading Sphinx-1.2.2.tar.gz (3.1MB):  20%  638kB\r",
        "  Downloading Sphinx-1.2.2.tar.gz (3.1MB):  20%  643kB\r",
        "  Downloading Sphinx-1.2.2.tar.gz (3.1MB):  20%  647kB\r",
        "  Downloading Sphinx-1.2.2.tar.gz (3.1MB):  20%  651kB\r",
        "  Downloading Sphinx-1.2.2.tar.gz (3.1MB):  20%  655kB\r",
        "  Downloading Sphinx-1.2.2.tar.gz (3.1MB):  20%  659kB\r",
        "  Downloading Sphinx-1.2.2.tar.gz (3.1MB):  21%  663kB\r",
        "  Downloading Sphinx-1.2.2.tar.gz (3.1MB):  21%  667kB\r",
        "  Downloading Sphinx-1.2.2.tar.gz (3.1MB):  21%  671kB"
       ]
      },
      {
       "output_type": "stream",
       "stream": "stdout",
       "text": [
        "\r",
        "  Downloading Sphinx-1.2.2.tar.gz (3.1MB):  21%  675kB\r",
        "  Downloading Sphinx-1.2.2.tar.gz (3.1MB):  21%  679kB\r",
        "  Downloading Sphinx-1.2.2.tar.gz (3.1MB):  21%  684kB\r",
        "  Downloading Sphinx-1.2.2.tar.gz (3.1MB):  21%  688kB\r",
        "  Downloading Sphinx-1.2.2.tar.gz (3.1MB):  22%  692kB\r",
        "  Downloading Sphinx-1.2.2.tar.gz (3.1MB):  22%  696kB\r",
        "  Downloading Sphinx-1.2.2.tar.gz (3.1MB):  22%  700kB\r",
        "  Downloading Sphinx-1.2.2.tar.gz (3.1MB):  22%  704kB\r",
        "  Downloading Sphinx-1.2.2.tar.gz (3.1MB):  22%  708kB\r",
        "  Downloading Sphinx-1.2.2.tar.gz (3.1MB):  22%  712kB\r",
        "  Downloading Sphinx-1.2.2.tar.gz (3.1MB):  22%  716kB\r",
        "  Downloading Sphinx-1.2.2.tar.gz (3.1MB):  22%  720kB\r",
        "  Downloading Sphinx-1.2.2.tar.gz (3.1MB):  23%  724kB\r",
        "  Downloading Sphinx-1.2.2.tar.gz (3.1MB):  23%  729kB\r",
        "  Downloading Sphinx-1.2.2.tar.gz (3.1MB):  23%  733kB\r",
        "  Downloading Sphinx-1.2.2.tar.gz (3.1MB):  23%  737kB"
       ]
      },
      {
       "output_type": "stream",
       "stream": "stdout",
       "text": [
        "\r",
        "  Downloading Sphinx-1.2.2.tar.gz (3.1MB):  23%  741kB\r",
        "  Downloading Sphinx-1.2.2.tar.gz (3.1MB):  23%  745kB\r",
        "  Downloading Sphinx-1.2.2.tar.gz (3.1MB):  23%  749kB\r",
        "  Downloading Sphinx-1.2.2.tar.gz (3.1MB):  23%  753kB\r",
        "  Downloading Sphinx-1.2.2.tar.gz (3.1MB):  24%  757kB\r",
        "  Downloading Sphinx-1.2.2.tar.gz (3.1MB):  24%  761kB\r",
        "  Downloading Sphinx-1.2.2.tar.gz (3.1MB):  24%  765kB\r",
        "  Downloading Sphinx-1.2.2.tar.gz (3.1MB):  24%  770kB\r",
        "  Downloading Sphinx-1.2.2.tar.gz (3.1MB):  24%  774kB\r",
        "  Downloading Sphinx-1.2.2.tar.gz (3.1MB):  24%  778kB\r",
        "  Downloading Sphinx-1.2.2.tar.gz (3.1MB):  24%  782kB\r",
        "  Downloading Sphinx-1.2.2.tar.gz (3.1MB):  25%  786kB\r",
        "  Downloading Sphinx-1.2.2.tar.gz (3.1MB):  25%  790kB\r",
        "  Downloading Sphinx-1.2.2.tar.gz (3.1MB):  25%  794kB\r",
        "  Downloading Sphinx-1.2.2.tar.gz (3.1MB):  25%  798kB\r",
        "  Downloading Sphinx-1.2.2.tar.gz (3.1MB):  25%  802kB\r",
        "  Downloading Sphinx-1.2.2.tar.gz (3.1MB):  25%  806kB\r",
        "  Downloading Sphinx-1.2.2.tar.gz (3.1MB):  25%  811kB\r",
        "  Downloading Sphinx-1.2.2.tar.gz (3.1MB):  25%  815kB\r",
        "  Downloading Sphinx-1.2.2.tar.gz (3.1MB):  26%  819kB\r",
        "  Downloading Sphinx-1.2.2.tar.gz (3.1MB):  26%  823kB\r",
        "  Downloading Sphinx-1.2.2.tar.gz (3.1MB):  26%  827kB\r",
        "  Downloading Sphinx-1.2.2.tar.gz (3.1MB):  26%  831kB\r",
        "  Downloading Sphinx-1.2.2.tar.gz (3.1MB):  26%  835kB\r",
        "  Downloading Sphinx-1.2.2.tar.gz (3.1MB):  26%  839kB\r",
        "  Downloading Sphinx-1.2.2.tar.gz (3.1MB):  26%  843kB"
       ]
      },
      {
       "output_type": "stream",
       "stream": "stdout",
       "text": [
        "\r",
        "  Downloading Sphinx-1.2.2.tar.gz (3.1MB):  26%  847kB\r",
        "  Downloading Sphinx-1.2.2.tar.gz (3.1MB):  27%  851kB\r",
        "  Downloading Sphinx-1.2.2.tar.gz (3.1MB):  27%  856kB\r",
        "  Downloading Sphinx-1.2.2.tar.gz (3.1MB):  27%  860kB\r",
        "  Downloading Sphinx-1.2.2.tar.gz (3.1MB):  27%  864kB\r",
        "  Downloading Sphinx-1.2.2.tar.gz (3.1MB):  27%  868kB\r",
        "  Downloading Sphinx-1.2.2.tar.gz (3.1MB):  27%  872kB\r",
        "  Downloading Sphinx-1.2.2.tar.gz (3.1MB):  27%  876kB\r",
        "  Downloading Sphinx-1.2.2.tar.gz (3.1MB):  28%  880kB\r",
        "  Downloading Sphinx-1.2.2.tar.gz (3.1MB):  28%  884kB\r",
        "  Downloading Sphinx-1.2.2.tar.gz (3.1MB):  28%  888kB\r",
        "  Downloading Sphinx-1.2.2.tar.gz (3.1MB):  28%  892kB\r",
        "  Downloading Sphinx-1.2.2.tar.gz (3.1MB):  28%  897kB\r",
        "  Downloading Sphinx-1.2.2.tar.gz (3.1MB):  28%  901kB\r",
        "  Downloading Sphinx-1.2.2.tar.gz (3.1MB):  28%  905kB\r",
        "  Downloading Sphinx-1.2.2.tar.gz (3.1MB):  28%  909kB\r",
        "  Downloading Sphinx-1.2.2.tar.gz (3.1MB):  29%  913kB\r",
        "  Downloading Sphinx-1.2.2.tar.gz (3.1MB):  29%  917kB\r",
        "  Downloading Sphinx-1.2.2.tar.gz (3.1MB):  29%  921kB\r",
        "  Downloading Sphinx-1.2.2.tar.gz (3.1MB):  29%  925kB\r",
        "  Downloading Sphinx-1.2.2.tar.gz (3.1MB):  29%  929kB\r",
        "  Downloading Sphinx-1.2.2.tar.gz (3.1MB):  29%  933kB\r",
        "  Downloading Sphinx-1.2.2.tar.gz (3.1MB):  29%  937kB\r",
        "  Downloading Sphinx-1.2.2.tar.gz (3.1MB):  29%  942kB\r",
        "  Downloading Sphinx-1.2.2.tar.gz (3.1MB):  30%  946kB\r",
        "  Downloading Sphinx-1.2.2.tar.gz (3.1MB):  30%  950kB\r",
        "  Downloading Sphinx-1.2.2.tar.gz (3.1MB):  30%  954kB\r",
        "  Downloading Sphinx-1.2.2.tar.gz (3.1MB):  30%  958kB"
       ]
      },
      {
       "output_type": "stream",
       "stream": "stdout",
       "text": [
        "\r",
        "  Downloading Sphinx-1.2.2.tar.gz (3.1MB):  30%  962kB\r",
        "  Downloading Sphinx-1.2.2.tar.gz (3.1MB):  30%  966kB\r",
        "  Downloading Sphinx-1.2.2.tar.gz (3.1MB):  30%  970kB\r",
        "  Downloading Sphinx-1.2.2.tar.gz (3.1MB):  31%  974kB\r",
        "  Downloading Sphinx-1.2.2.tar.gz (3.1MB):  31%  978kB\r",
        "  Downloading Sphinx-1.2.2.tar.gz (3.1MB):  31%  983kB\r",
        "  Downloading Sphinx-1.2.2.tar.gz (3.1MB):  31%  987kB\r",
        "  Downloading Sphinx-1.2.2.tar.gz (3.1MB):  31%  991kB\r",
        "  Downloading Sphinx-1.2.2.tar.gz (3.1MB):  31%  995kB\r",
        "  Downloading Sphinx-1.2.2.tar.gz (3.1MB):  31%  999kB\r",
        "  Downloading Sphinx-1.2.2.tar.gz (3.1MB):  31%  1.0MB\r",
        "  Downloading Sphinx-1.2.2.tar.gz (3.1MB):  32%  1.0MB\r",
        "  Downloading Sphinx-1.2.2.tar.gz (3.1MB):  32%  1.0MB\r",
        "  Downloading Sphinx-1.2.2.tar.gz (3.1MB):  32%  1.0MB\r",
        "  Downloading Sphinx-1.2.2.tar.gz (3.1MB):  32%  1.0MB\r",
        "  Downloading Sphinx-1.2.2.tar.gz (3.1MB):  32%  1.0MB\r",
        "  Downloading Sphinx-1.2.2.tar.gz (3.1MB):  32%  1.0MB\r",
        "  Downloading Sphinx-1.2.2.tar.gz (3.1MB):  32%  1.0MB\r",
        "  Downloading Sphinx-1.2.2.tar.gz (3.1MB):  32%  1.0MB\r",
        "  Downloading Sphinx-1.2.2.tar.gz (3.1MB):  33%  1.0MB\r",
        "  Downloading Sphinx-1.2.2.tar.gz (3.1MB):  33%  1.0MB\r",
        "  Downloading Sphinx-1.2.2.tar.gz (3.1MB):  33%  1.0MB\r",
        "  Downloading Sphinx-1.2.2.tar.gz (3.1MB):  33%  1.1MB\r",
        "  Downloading Sphinx-1.2.2.tar.gz (3.1MB):  33%  1.1MB\r",
        "  Downloading Sphinx-1.2.2.tar.gz (3.1MB):  33%  1.1MB\r",
        "  Downloading Sphinx-1.2.2.tar.gz (3.1MB):  33%  1.1MB\r",
        "  Downloading Sphinx-1.2.2.tar.gz (3.1MB):  34%  1.1MB\r",
        "  Downloading Sphinx-1.2.2.tar.gz (3.1MB):  34%  1.1MB"
       ]
      },
      {
       "output_type": "stream",
       "stream": "stdout",
       "text": [
        "\r",
        "  Downloading Sphinx-1.2.2.tar.gz (3.1MB):  34%  1.1MB\r",
        "  Downloading Sphinx-1.2.2.tar.gz (3.1MB):  34%  1.1MB\r",
        "  Downloading Sphinx-1.2.2.tar.gz (3.1MB):  34%  1.1MB\r",
        "  Downloading Sphinx-1.2.2.tar.gz (3.1MB):  34%  1.1MB\r",
        "  Downloading Sphinx-1.2.2.tar.gz (3.1MB):  34%  1.1MB\r",
        "  Downloading Sphinx-1.2.2.tar.gz (3.1MB):  34%  1.1MB\r",
        "  Downloading Sphinx-1.2.2.tar.gz (3.1MB):  35%  1.1MB\r",
        "  Downloading Sphinx-1.2.2.tar.gz (3.1MB):  35%  1.1MB\r",
        "  Downloading Sphinx-1.2.2.tar.gz (3.1MB):  35%  1.1MB\r",
        "  Downloading Sphinx-1.2.2.tar.gz (3.1MB):  35%  1.1MB\r",
        "  Downloading Sphinx-1.2.2.tar.gz (3.1MB):  35%  1.1MB\r",
        "  Downloading Sphinx-1.2.2.tar.gz (3.1MB):  35%  1.1MB\r",
        "  Downloading Sphinx-1.2.2.tar.gz (3.1MB):  35%  1.1MB\r",
        "  Downloading Sphinx-1.2.2.tar.gz (3.1MB):  35%  1.1MB\r",
        "  Downloading Sphinx-1.2.2.tar.gz (3.1MB):  36%  1.1MB\r",
        "  Downloading Sphinx-1.2.2.tar.gz (3.1MB):  36%  1.1MB\r",
        "  Downloading Sphinx-1.2.2.tar.gz (3.1MB):  36%  1.1MB\r",
        "  Downloading Sphinx-1.2.2.tar.gz (3.1MB):  36%  1.1MB\r",
        "  Downloading Sphinx-1.2.2.tar.gz (3.1MB):  36%  1.2MB\r",
        "  Downloading Sphinx-1.2.2.tar.gz (3.1MB):  36%  1.2MB\r",
        "  Downloading Sphinx-1.2.2.tar.gz (3.1MB):  36%  1.2MB\r",
        "  Downloading Sphinx-1.2.2.tar.gz (3.1MB):  37%  1.2MB\r",
        "  Downloading Sphinx-1.2.2.tar.gz (3.1MB):  37%  1.2MB\r",
        "  Downloading Sphinx-1.2.2.tar.gz (3.1MB):  37%  1.2MB\r",
        "  Downloading Sphinx-1.2.2.tar.gz (3.1MB):  37%  1.2MB\r",
        "  Downloading Sphinx-1.2.2.tar.gz (3.1MB):  37%  1.2MB\r",
        "  Downloading Sphinx-1.2.2.tar.gz (3.1MB):  37%  1.2MB\r",
        "  Downloading Sphinx-1.2.2.tar.gz (3.1MB):  37%  1.2MB"
       ]
      },
      {
       "output_type": "stream",
       "stream": "stdout",
       "text": [
        "\r",
        "  Downloading Sphinx-1.2.2.tar.gz (3.1MB):  37%  1.2MB\r",
        "  Downloading Sphinx-1.2.2.tar.gz (3.1MB):  38%  1.2MB\r",
        "  Downloading Sphinx-1.2.2.tar.gz (3.1MB):  38%  1.2MB\r",
        "  Downloading Sphinx-1.2.2.tar.gz (3.1MB):  38%  1.2MB\r",
        "  Downloading Sphinx-1.2.2.tar.gz (3.1MB):  38%  1.2MB\r",
        "  Downloading Sphinx-1.2.2.tar.gz (3.1MB):  38%  1.2MB\r",
        "  Downloading Sphinx-1.2.2.tar.gz (3.1MB):  38%  1.2MB\r",
        "  Downloading Sphinx-1.2.2.tar.gz (3.1MB):  38%  1.2MB\r",
        "  Downloading Sphinx-1.2.2.tar.gz (3.1MB):  38%  1.2MB\r",
        "  Downloading Sphinx-1.2.2.tar.gz (3.1MB):  39%  1.2MB\r",
        "  Downloading Sphinx-1.2.2.tar.gz (3.1MB):  39%  1.2MB\r",
        "  Downloading Sphinx-1.2.2.tar.gz (3.1MB):  39%  1.2MB\r",
        "  Downloading Sphinx-1.2.2.tar.gz (3.1MB):  39%  1.2MB\r",
        "  Downloading Sphinx-1.2.2.tar.gz (3.1MB):  39%  1.2MB\r",
        "  Downloading Sphinx-1.2.2.tar.gz (3.1MB):  39%  1.2MB\r",
        "  Downloading Sphinx-1.2.2.tar.gz (3.1MB):  39%  1.3MB\r",
        "  Downloading Sphinx-1.2.2.tar.gz (3.1MB):  40%  1.3MB\r",
        "  Downloading Sphinx-1.2.2.tar.gz (3.1MB):  40%  1.3MB\r",
        "  Downloading Sphinx-1.2.2.tar.gz (3.1MB):  40%  1.3MB\r",
        "  Downloading Sphinx-1.2.2.tar.gz (3.1MB):  40%  1.3MB\r",
        "  Downloading Sphinx-1.2.2.tar.gz (3.1MB):  40%  1.3MB\r",
        "  Downloading Sphinx-1.2.2.tar.gz (3.1MB):  40%  1.3MB\r",
        "  Downloading Sphinx-1.2.2.tar.gz (3.1MB):  40%  1.3MB\r",
        "  Downloading Sphinx-1.2.2.tar.gz (3.1MB):  40%  1.3MB\r",
        "  Downloading Sphinx-1.2.2.tar.gz (3.1MB):  41%  1.3MB\r",
        "  Downloading Sphinx-1.2.2.tar.gz (3.1MB):  41%  1.3MB\r",
        "  Downloading Sphinx-1.2.2.tar.gz (3.1MB):  41%  1.3MB\r",
        "  Downloading Sphinx-1.2.2.tar.gz (3.1MB):  41%  1.3MB"
       ]
      },
      {
       "output_type": "stream",
       "stream": "stdout",
       "text": [
        "\r",
        "  Downloading Sphinx-1.2.2.tar.gz (3.1MB):  41%  1.3MB\r",
        "  Downloading Sphinx-1.2.2.tar.gz (3.1MB):  41%  1.3MB\r",
        "  Downloading Sphinx-1.2.2.tar.gz (3.1MB):  41%  1.3MB\r",
        "  Downloading Sphinx-1.2.2.tar.gz (3.1MB):  41%  1.3MB\r",
        "  Downloading Sphinx-1.2.2.tar.gz (3.1MB):  42%  1.3MB\r",
        "  Downloading Sphinx-1.2.2.tar.gz (3.1MB):  42%  1.3MB\r",
        "  Downloading Sphinx-1.2.2.tar.gz (3.1MB):  42%  1.3MB\r",
        "  Downloading Sphinx-1.2.2.tar.gz (3.1MB):  42%  1.3MB\r",
        "  Downloading Sphinx-1.2.2.tar.gz (3.1MB):  42%  1.3MB\r",
        "  Downloading Sphinx-1.2.2.tar.gz (3.1MB):  42%  1.3MB\r",
        "  Downloading Sphinx-1.2.2.tar.gz (3.1MB):  42%  1.3MB\r",
        "  Downloading Sphinx-1.2.2.tar.gz (3.1MB):  42%  1.4MB\r",
        "  Downloading Sphinx-1.2.2.tar.gz (3.1MB):  43%  1.4MB\r",
        "  Downloading Sphinx-1.2.2.tar.gz (3.1MB):  43%  1.4MB\r",
        "  Downloading Sphinx-1.2.2.tar.gz (3.1MB):  43%  1.4MB\r",
        "  Downloading Sphinx-1.2.2.tar.gz (3.1MB):  43%  1.4MB\r",
        "  Downloading Sphinx-1.2.2.tar.gz (3.1MB):  43%  1.4MB\r",
        "  Downloading Sphinx-1.2.2.tar.gz (3.1MB):  43%  1.4MB\r",
        "  Downloading Sphinx-1.2.2.tar.gz (3.1MB):  43%  1.4MB\r",
        "  Downloading Sphinx-1.2.2.tar.gz (3.1MB):  44%  1.4MB\r",
        "  Downloading Sphinx-1.2.2.tar.gz (3.1MB):  44%  1.4MB\r",
        "  Downloading Sphinx-1.2.2.tar.gz (3.1MB):  44%  1.4MB\r",
        "  Downloading Sphinx-1.2.2.tar.gz (3.1MB):  44%  1.4MB\r",
        "  Downloading Sphinx-1.2.2.tar.gz (3.1MB):  44%  1.4MB\r",
        "  Downloading Sphinx-1.2.2.tar.gz (3.1MB):  44%  1.4MB\r",
        "  Downloading Sphinx-1.2.2.tar.gz (3.1MB):  44%  1.4MB\r",
        "  Downloading Sphinx-1.2.2.tar.gz (3.1MB):  44%  1.4MB"
       ]
      },
      {
       "output_type": "stream",
       "stream": "stdout",
       "text": [
        "\r",
        "  Downloading Sphinx-1.2.2.tar.gz (3.1MB):  45%  1.4MB\r",
        "  Downloading Sphinx-1.2.2.tar.gz (3.1MB):  45%  1.4MB\r",
        "  Downloading Sphinx-1.2.2.tar.gz (3.1MB):  45%  1.4MB\r",
        "  Downloading Sphinx-1.2.2.tar.gz (3.1MB):  45%  1.4MB\r",
        "  Downloading Sphinx-1.2.2.tar.gz (3.1MB):  45%  1.4MB\r",
        "  Downloading Sphinx-1.2.2.tar.gz (3.1MB):  45%  1.4MB\r",
        "  Downloading Sphinx-1.2.2.tar.gz (3.1MB):  45%  1.4MB\r",
        "  Downloading Sphinx-1.2.2.tar.gz (3.1MB):  45%  1.4MB\r",
        "  Downloading Sphinx-1.2.2.tar.gz (3.1MB):  46%  1.4MB\r",
        "  Downloading Sphinx-1.2.2.tar.gz (3.1MB):  46%  1.5MB\r",
        "  Downloading Sphinx-1.2.2.tar.gz (3.1MB):  46%  1.5MB\r",
        "  Downloading Sphinx-1.2.2.tar.gz (3.1MB):  46%  1.5MB\r",
        "  Downloading Sphinx-1.2.2.tar.gz (3.1MB):  46%  1.5MB\r",
        "  Downloading Sphinx-1.2.2.tar.gz (3.1MB):  46%  1.5MB\r",
        "  Downloading Sphinx-1.2.2.tar.gz (3.1MB):  46%  1.5MB\r",
        "  Downloading Sphinx-1.2.2.tar.gz (3.1MB):  47%  1.5MB\r",
        "  Downloading Sphinx-1.2.2.tar.gz (3.1MB):  47%  1.5MB\r",
        "  Downloading Sphinx-1.2.2.tar.gz (3.1MB):  47%  1.5MB\r",
        "  Downloading Sphinx-1.2.2.tar.gz (3.1MB):  47%  1.5MB\r",
        "  Downloading Sphinx-1.2.2.tar.gz (3.1MB):  47%  1.5MB\r",
        "  Downloading Sphinx-1.2.2.tar.gz (3.1MB):  47%  1.5MB\r",
        "  Downloading Sphinx-1.2.2.tar.gz (3.1MB):  47%  1.5MB\r",
        "  Downloading Sphinx-1.2.2.tar.gz (3.1MB):  47%  1.5MB\r",
        "  Downloading Sphinx-1.2.2.tar.gz (3.1MB):  48%  1.5MB\r",
        "  Downloading Sphinx-1.2.2.tar.gz (3.1MB):  48%  1.5MB\r",
        "  Downloading Sphinx-1.2.2.tar.gz (3.1MB):  48%  1.5MB\r",
        "  Downloading Sphinx-1.2.2.tar.gz (3.1MB):  48%  1.5MB"
       ]
      },
      {
       "output_type": "stream",
       "stream": "stdout",
       "text": [
        "\r",
        "  Downloading Sphinx-1.2.2.tar.gz (3.1MB):  48%  1.5MB\r",
        "  Downloading Sphinx-1.2.2.tar.gz (3.1MB):  48%  1.5MB\r",
        "  Downloading Sphinx-1.2.2.tar.gz (3.1MB):  48%  1.5MB\r",
        "  Downloading Sphinx-1.2.2.tar.gz (3.1MB):  48%  1.5MB\r",
        "  Downloading Sphinx-1.2.2.tar.gz (3.1MB):  49%  1.5MB\r",
        "  Downloading Sphinx-1.2.2.tar.gz (3.1MB):  49%  1.5MB\r",
        "  Downloading Sphinx-1.2.2.tar.gz (3.1MB):  49%  1.6MB\r",
        "  Downloading Sphinx-1.2.2.tar.gz (3.1MB):  49%  1.6MB\r",
        "  Downloading Sphinx-1.2.2.tar.gz (3.1MB):  49%  1.6MB\r",
        "  Downloading Sphinx-1.2.2.tar.gz (3.1MB):  49%  1.6MB\r",
        "  Downloading Sphinx-1.2.2.tar.gz (3.1MB):  49%  1.6MB\r",
        "  Downloading Sphinx-1.2.2.tar.gz (3.1MB):  50%  1.6MB\r",
        "  Downloading Sphinx-1.2.2.tar.gz (3.1MB):  50%  1.6MB\r",
        "  Downloading Sphinx-1.2.2.tar.gz (3.1MB):  50%  1.6MB\r",
        "  Downloading Sphinx-1.2.2.tar.gz (3.1MB):  50%  1.6MB\r",
        "  Downloading Sphinx-1.2.2.tar.gz (3.1MB):  50%  1.6MB\r",
        "  Downloading Sphinx-1.2.2.tar.gz (3.1MB):  50%  1.6MB\r",
        "  Downloading Sphinx-1.2.2.tar.gz (3.1MB):  50%  1.6MB\r",
        "  Downloading Sphinx-1.2.2.tar.gz (3.1MB):  50%  1.6MB\r",
        "  Downloading Sphinx-1.2.2.tar.gz (3.1MB):  51%  1.6MB\r",
        "  Downloading Sphinx-1.2.2.tar.gz (3.1MB):  51%  1.6MB\r",
        "  Downloading Sphinx-1.2.2.tar.gz (3.1MB):  51%  1.6MB\r",
        "  Downloading Sphinx-1.2.2.tar.gz (3.1MB):  51%  1.6MB\r",
        "  Downloading Sphinx-1.2.2.tar.gz (3.1MB):  51%  1.6MB\r",
        "  Downloading Sphinx-1.2.2.tar.gz (3.1MB):  51%  1.6MB\r",
        "  Downloading Sphinx-1.2.2.tar.gz (3.1MB):  51%  1.6MB\r",
        "  Downloading Sphinx-1.2.2.tar.gz (3.1MB):  51%  1.6MB\r",
        "  Downloading Sphinx-1.2.2.tar.gz (3.1MB):  52%  1.6MB"
       ]
      },
      {
       "output_type": "stream",
       "stream": "stdout",
       "text": [
        "\r",
        "  Downloading Sphinx-1.2.2.tar.gz (3.1MB):  52%  1.6MB\r",
        "  Downloading Sphinx-1.2.2.tar.gz (3.1MB):  52%  1.6MB\r",
        "  Downloading Sphinx-1.2.2.tar.gz (3.1MB):  52%  1.7MB\r",
        "  Downloading Sphinx-1.2.2.tar.gz (3.1MB):  52%  1.7MB\r",
        "  Downloading Sphinx-1.2.2.tar.gz (3.1MB):  52%  1.7MB\r",
        "  Downloading Sphinx-1.2.2.tar.gz (3.1MB):  52%  1.7MB\r",
        "  Downloading Sphinx-1.2.2.tar.gz (3.1MB):  53%  1.7MB\r",
        "  Downloading Sphinx-1.2.2.tar.gz (3.1MB):  53%  1.7MB\r",
        "  Downloading Sphinx-1.2.2.tar.gz (3.1MB):  53%  1.7MB\r",
        "  Downloading Sphinx-1.2.2.tar.gz (3.1MB):  53%  1.7MB\r",
        "  Downloading Sphinx-1.2.2.tar.gz (3.1MB):  53%  1.7MB\r",
        "  Downloading Sphinx-1.2.2.tar.gz (3.1MB):  53%  1.7MB\r",
        "  Downloading Sphinx-1.2.2.tar.gz (3.1MB):  53%  1.7MB\r",
        "  Downloading Sphinx-1.2.2.tar.gz (3.1MB):  53%  1.7MB\r",
        "  Downloading Sphinx-1.2.2.tar.gz (3.1MB):  54%  1.7MB\r",
        "  Downloading Sphinx-1.2.2.tar.gz (3.1MB):  54%  1.7MB\r",
        "  Downloading Sphinx-1.2.2.tar.gz (3.1MB):  54%  1.7MB\r",
        "  Downloading Sphinx-1.2.2.tar.gz (3.1MB):  54%  1.7MB\r",
        "  Downloading Sphinx-1.2.2.tar.gz (3.1MB):  54%  1.7MB\r",
        "  Downloading Sphinx-1.2.2.tar.gz (3.1MB):  54%  1.7MB\r",
        "  Downloading Sphinx-1.2.2.tar.gz (3.1MB):  54%  1.7MB\r",
        "  Downloading Sphinx-1.2.2.tar.gz (3.1MB):  54%  1.7MB\r",
        "  Downloading Sphinx-1.2.2.tar.gz (3.1MB):  55%  1.7MB\r",
        "  Downloading Sphinx-1.2.2.tar.gz (3.1MB):  55%  1.7MB"
       ]
      },
      {
       "output_type": "stream",
       "stream": "stdout",
       "text": [
        "\r",
        "  Downloading Sphinx-1.2.2.tar.gz (3.1MB):  55%  1.7MB\r",
        "  Downloading Sphinx-1.2.2.tar.gz (3.1MB):  55%  1.7MB\r",
        "  Downloading Sphinx-1.2.2.tar.gz (3.1MB):  55%  1.7MB\r",
        "  Downloading Sphinx-1.2.2.tar.gz (3.1MB):  55%  1.8MB\r",
        "  Downloading Sphinx-1.2.2.tar.gz (3.1MB):  55%  1.8MB\r",
        "  Downloading Sphinx-1.2.2.tar.gz (3.1MB):  56%  1.8MB\r",
        "  Downloading Sphinx-1.2.2.tar.gz (3.1MB):  56%  1.8MB\r",
        "  Downloading Sphinx-1.2.2.tar.gz (3.1MB):  56%  1.8MB\r",
        "  Downloading Sphinx-1.2.2.tar.gz (3.1MB):  56%  1.8MB\r",
        "  Downloading Sphinx-1.2.2.tar.gz (3.1MB):  56%  1.8MB\r",
        "  Downloading Sphinx-1.2.2.tar.gz (3.1MB):  56%  1.8MB\r",
        "  Downloading Sphinx-1.2.2.tar.gz (3.1MB):  56%  1.8MB\r",
        "  Downloading Sphinx-1.2.2.tar.gz (3.1MB):  56%  1.8MB\r",
        "  Downloading Sphinx-1.2.2.tar.gz (3.1MB):  57%  1.8MB\r",
        "  Downloading Sphinx-1.2.2.tar.gz (3.1MB):  57%  1.8MB\r",
        "  Downloading Sphinx-1.2.2.tar.gz (3.1MB):  57%  1.8MB\r",
        "  Downloading Sphinx-1.2.2.tar.gz (3.1MB):  57%  1.8MB\r",
        "  Downloading Sphinx-1.2.2.tar.gz (3.1MB):  57%  1.8MB\r",
        "  Downloading Sphinx-1.2.2.tar.gz (3.1MB):  57%  1.8MB\r",
        "  Downloading Sphinx-1.2.2.tar.gz (3.1MB):  57%  1.8MB\r",
        "  Downloading Sphinx-1.2.2.tar.gz (3.1MB):  57%  1.8MB\r",
        "  Downloading Sphinx-1.2.2.tar.gz (3.1MB):  58%  1.8MB\r",
        "  Downloading Sphinx-1.2.2.tar.gz (3.1MB):  58%  1.8MB\r",
        "  Downloading Sphinx-1.2.2.tar.gz (3.1MB):  58%  1.8MB\r",
        "  Downloading Sphinx-1.2.2.tar.gz (3.1MB):  58%  1.8MB\r",
        "  Downloading Sphinx-1.2.2.tar.gz (3.1MB):  58%  1.8MB\r",
        "  Downloading Sphinx-1.2.2.tar.gz (3.1MB):  58%  1.8MB\r",
        "  Downloading Sphinx-1.2.2.tar.gz (3.1MB):  58%  1.9MB"
       ]
      },
      {
       "output_type": "stream",
       "stream": "stdout",
       "text": [
        "\r",
        "  Downloading Sphinx-1.2.2.tar.gz (3.1MB):  59%  1.9MB\r",
        "  Downloading Sphinx-1.2.2.tar.gz (3.1MB):  59%  1.9MB\r",
        "  Downloading Sphinx-1.2.2.tar.gz (3.1MB):  59%  1.9MB\r",
        "  Downloading Sphinx-1.2.2.tar.gz (3.1MB):  59%  1.9MB\r",
        "  Downloading Sphinx-1.2.2.tar.gz (3.1MB):  59%  1.9MB\r",
        "  Downloading Sphinx-1.2.2.tar.gz (3.1MB):  59%  1.9MB\r",
        "  Downloading Sphinx-1.2.2.tar.gz (3.1MB):  59%  1.9MB\r",
        "  Downloading Sphinx-1.2.2.tar.gz (3.1MB):  59%  1.9MB\r",
        "  Downloading Sphinx-1.2.2.tar.gz (3.1MB):  60%  1.9MB\r",
        "  Downloading Sphinx-1.2.2.tar.gz (3.1MB):  60%  1.9MB\r",
        "  Downloading Sphinx-1.2.2.tar.gz (3.1MB):  60%  1.9MB\r",
        "  Downloading Sphinx-1.2.2.tar.gz (3.1MB):  60%  1.9MB\r",
        "  Downloading Sphinx-1.2.2.tar.gz (3.1MB):  60%  1.9MB\r",
        "  Downloading Sphinx-1.2.2.tar.gz (3.1MB):  60%  1.9MB\r",
        "  Downloading Sphinx-1.2.2.tar.gz (3.1MB):  60%  1.9MB\r",
        "  Downloading Sphinx-1.2.2.tar.gz (3.1MB):  60%  1.9MB\r",
        "  Downloading Sphinx-1.2.2.tar.gz (3.1MB):  61%  1.9MB\r",
        "  Downloading Sphinx-1.2.2.tar.gz (3.1MB):  61%  1.9MB\r",
        "  Downloading Sphinx-1.2.2.tar.gz (3.1MB):  61%  1.9MB\r",
        "  Downloading Sphinx-1.2.2.tar.gz (3.1MB):  61%  1.9MB\r",
        "  Downloading Sphinx-1.2.2.tar.gz (3.1MB):  61%  1.9MB\r",
        "  Downloading Sphinx-1.2.2.tar.gz (3.1MB):  61%  1.9MB\r",
        "  Downloading Sphinx-1.2.2.tar.gz (3.1MB):  61%  1.9MB\r",
        "  Downloading Sphinx-1.2.2.tar.gz (3.1MB):  62%  1.9MB\r",
        "  Downloading Sphinx-1.2.2.tar.gz (3.1MB):  62%  2.0MB\r",
        "  Downloading Sphinx-1.2.2.tar.gz (3.1MB):  62%  2.0MB\r",
        "  Downloading Sphinx-1.2.2.tar.gz (3.1MB):  62%  2.0MB\r",
        "  Downloading Sphinx-1.2.2.tar.gz (3.1MB):  62%  2.0MB"
       ]
      },
      {
       "output_type": "stream",
       "stream": "stdout",
       "text": [
        "\r",
        "  Downloading Sphinx-1.2.2.tar.gz (3.1MB):  62%  2.0MB\r",
        "  Downloading Sphinx-1.2.2.tar.gz (3.1MB):  62%  2.0MB\r",
        "  Downloading Sphinx-1.2.2.tar.gz (3.1MB):  62%  2.0MB\r",
        "  Downloading Sphinx-1.2.2.tar.gz (3.1MB):  63%  2.0MB\r",
        "  Downloading Sphinx-1.2.2.tar.gz (3.1MB):  63%  2.0MB\r",
        "  Downloading Sphinx-1.2.2.tar.gz (3.1MB):  63%  2.0MB\r",
        "  Downloading Sphinx-1.2.2.tar.gz (3.1MB):  63%  2.0MB\r",
        "  Downloading Sphinx-1.2.2.tar.gz (3.1MB):  63%  2.0MB\r",
        "  Downloading Sphinx-1.2.2.tar.gz (3.1MB):  63%  2.0MB\r",
        "  Downloading Sphinx-1.2.2.tar.gz (3.1MB):  63%  2.0MB\r",
        "  Downloading Sphinx-1.2.2.tar.gz (3.1MB):  63%  2.0MB\r",
        "  Downloading Sphinx-1.2.2.tar.gz (3.1MB):  64%  2.0MB\r",
        "  Downloading Sphinx-1.2.2.tar.gz (3.1MB):  64%  2.0MB\r",
        "  Downloading Sphinx-1.2.2.tar.gz (3.1MB):  64%  2.0MB\r",
        "  Downloading Sphinx-1.2.2.tar.gz (3.1MB):  64%  2.0MB\r",
        "  Downloading Sphinx-1.2.2.tar.gz (3.1MB):  64%  2.0MB\r",
        "  Downloading Sphinx-1.2.2.tar.gz (3.1MB):  64%  2.0MB\r",
        "  Downloading Sphinx-1.2.2.tar.gz (3.1MB):  64%  2.0MB\r",
        "  Downloading Sphinx-1.2.2.tar.gz (3.1MB):  65%  2.0MB\r",
        "  Downloading Sphinx-1.2.2.tar.gz (3.1MB):  65%  2.0MB\r",
        "  Downloading Sphinx-1.2.2.tar.gz (3.1MB):  65%  2.1MB\r",
        "  Downloading Sphinx-1.2.2.tar.gz (3.1MB):  65%  2.1MB\r",
        "  Downloading Sphinx-1.2.2.tar.gz (3.1MB):  65%  2.1MB\r",
        "  Downloading Sphinx-1.2.2.tar.gz (3.1MB):  65%  2.1MB\r",
        "  Downloading Sphinx-1.2.2.tar.gz (3.1MB):  65%  2.1MB\r",
        "  Downloading Sphinx-1.2.2.tar.gz (3.1MB):  65%  2.1MB\r",
        "  Downloading Sphinx-1.2.2.tar.gz (3.1MB):  66%  2.1MB\r",
        "  Downloading Sphinx-1.2.2.tar.gz (3.1MB):  66%  2.1MB"
       ]
      },
      {
       "output_type": "stream",
       "stream": "stdout",
       "text": [
        "\r",
        "  Downloading Sphinx-1.2.2.tar.gz (3.1MB):  66%  2.1MB\r",
        "  Downloading Sphinx-1.2.2.tar.gz (3.1MB):  66%  2.1MB\r",
        "  Downloading Sphinx-1.2.2.tar.gz (3.1MB):  66%  2.1MB\r",
        "  Downloading Sphinx-1.2.2.tar.gz (3.1MB):  66%  2.1MB\r",
        "  Downloading Sphinx-1.2.2.tar.gz (3.1MB):  66%  2.1MB\r",
        "  Downloading Sphinx-1.2.2.tar.gz (3.1MB):  66%  2.1MB\r",
        "  Downloading Sphinx-1.2.2.tar.gz (3.1MB):  67%  2.1MB\r",
        "  Downloading Sphinx-1.2.2.tar.gz (3.1MB):  67%  2.1MB\r",
        "  Downloading Sphinx-1.2.2.tar.gz (3.1MB):  67%  2.1MB\r",
        "  Downloading Sphinx-1.2.2.tar.gz (3.1MB):  67%  2.1MB\r",
        "  Downloading Sphinx-1.2.2.tar.gz (3.1MB):  67%  2.1MB\r",
        "  Downloading Sphinx-1.2.2.tar.gz (3.1MB):  67%  2.1MB\r",
        "  Downloading Sphinx-1.2.2.tar.gz (3.1MB):  67%  2.1MB\r",
        "  Downloading Sphinx-1.2.2.tar.gz (3.1MB):  68%  2.1MB\r",
        "  Downloading Sphinx-1.2.2.tar.gz (3.1MB):  68%  2.1MB\r",
        "  Downloading Sphinx-1.2.2.tar.gz (3.1MB):  68%  2.1MB\r",
        "  Downloading Sphinx-1.2.2.tar.gz (3.1MB):  68%  2.2MB\r",
        "  Downloading Sphinx-1.2.2.tar.gz (3.1MB):  68%  2.2MB\r",
        "  Downloading Sphinx-1.2.2.tar.gz (3.1MB):  68%  2.2MB\r",
        "  Downloading Sphinx-1.2.2.tar.gz (3.1MB):  68%  2.2MB\r",
        "  Downloading Sphinx-1.2.2.tar.gz (3.1MB):  68%  2.2MB\r",
        "  Downloading Sphinx-1.2.2.tar.gz (3.1MB):  69%  2.2MB\r",
        "  Downloading Sphinx-1.2.2.tar.gz (3.1MB):  69%  2.2MB\r",
        "  Downloading Sphinx-1.2.2.tar.gz (3.1MB):  69%  2.2MB\r",
        "  Downloading Sphinx-1.2.2.tar.gz (3.1MB):  69%  2.2MB\r",
        "  Downloading Sphinx-1.2.2.tar.gz (3.1MB):  69%  2.2MB\r",
        "  Downloading Sphinx-1.2.2.tar.gz (3.1MB):  69%  2.2MB\r",
        "  Downloading Sphinx-1.2.2.tar.gz (3.1MB):  69%  2.2MB"
       ]
      },
      {
       "output_type": "stream",
       "stream": "stdout",
       "text": [
        "\r",
        "  Downloading Sphinx-1.2.2.tar.gz (3.1MB):  69%  2.2MB\r",
        "  Downloading Sphinx-1.2.2.tar.gz (3.1MB):  70%  2.2MB\r",
        "  Downloading Sphinx-1.2.2.tar.gz (3.1MB):  70%  2.2MB\r",
        "  Downloading Sphinx-1.2.2.tar.gz (3.1MB):  70%  2.2MB\r",
        "  Downloading Sphinx-1.2.2.tar.gz (3.1MB):  70%  2.2MB\r",
        "  Downloading Sphinx-1.2.2.tar.gz (3.1MB):  70%  2.2MB\r",
        "  Downloading Sphinx-1.2.2.tar.gz (3.1MB):  70%  2.2MB\r",
        "  Downloading Sphinx-1.2.2.tar.gz (3.1MB):  70%  2.2MB\r",
        "  Downloading Sphinx-1.2.2.tar.gz (3.1MB):  71%  2.2MB\r",
        "  Downloading Sphinx-1.2.2.tar.gz (3.1MB):  71%  2.2MB\r",
        "  Downloading Sphinx-1.2.2.tar.gz (3.1MB):  71%  2.2MB\r",
        "  Downloading Sphinx-1.2.2.tar.gz (3.1MB):  71%  2.2MB\r",
        "  Downloading Sphinx-1.2.2.tar.gz (3.1MB):  71%  2.2MB\r",
        "  Downloading Sphinx-1.2.2.tar.gz (3.1MB):  71%  2.3MB\r",
        "  Downloading Sphinx-1.2.2.tar.gz (3.1MB):  71%  2.3MB\r",
        "  Downloading Sphinx-1.2.2.tar.gz (3.1MB):  71%  2.3MB\r",
        "  Downloading Sphinx-1.2.2.tar.gz (3.1MB):  72%  2.3MB\r",
        "  Downloading Sphinx-1.2.2.tar.gz (3.1MB):  72%  2.3MB\r",
        "  Downloading Sphinx-1.2.2.tar.gz (3.1MB):  72%  2.3MB\r",
        "  Downloading Sphinx-1.2.2.tar.gz (3.1MB):  72%  2.3MB\r",
        "  Downloading Sphinx-1.2.2.tar.gz (3.1MB):  72%  2.3MB\r",
        "  Downloading Sphinx-1.2.2.tar.gz (3.1MB):  72%  2.3MB\r",
        "  Downloading Sphinx-1.2.2.tar.gz (3.1MB):  72%  2.3MB\r",
        "  Downloading Sphinx-1.2.2.tar.gz (3.1MB):  72%  2.3MB\r",
        "  Downloading Sphinx-1.2.2.tar.gz (3.1MB):  73%  2.3MB\r",
        "  Downloading Sphinx-1.2.2.tar.gz (3.1MB):  73%  2.3MB"
       ]
      },
      {
       "output_type": "stream",
       "stream": "stdout",
       "text": [
        "\r",
        "  Downloading Sphinx-1.2.2.tar.gz (3.1MB):  73%  2.3MB\r",
        "  Downloading Sphinx-1.2.2.tar.gz (3.1MB):  73%  2.3MB\r",
        "  Downloading Sphinx-1.2.2.tar.gz (3.1MB):  73%  2.3MB\r",
        "  Downloading Sphinx-1.2.2.tar.gz (3.1MB):  73%  2.3MB\r",
        "  Downloading Sphinx-1.2.2.tar.gz (3.1MB):  73%  2.3MB\r",
        "  Downloading Sphinx-1.2.2.tar.gz (3.1MB):  74%  2.3MB\r",
        "  Downloading Sphinx-1.2.2.tar.gz (3.1MB):  74%  2.3MB\r",
        "  Downloading Sphinx-1.2.2.tar.gz (3.1MB):  74%  2.3MB\r",
        "  Downloading Sphinx-1.2.2.tar.gz (3.1MB):  74%  2.3MB\r",
        "  Downloading Sphinx-1.2.2.tar.gz (3.1MB):  74%  2.3MB\r",
        "  Downloading Sphinx-1.2.2.tar.gz (3.1MB):  74%  2.3MB\r",
        "  Downloading Sphinx-1.2.2.tar.gz (3.1MB):  74%  2.4MB\r",
        "  Downloading Sphinx-1.2.2.tar.gz (3.1MB):  74%  2.4MB\r",
        "  Downloading Sphinx-1.2.2.tar.gz (3.1MB):  75%  2.4MB\r",
        "  Downloading Sphinx-1.2.2.tar.gz (3.1MB):  75%  2.4MB\r",
        "  Downloading Sphinx-1.2.2.tar.gz (3.1MB):  75%  2.4MB\r",
        "  Downloading Sphinx-1.2.2.tar.gz (3.1MB):  75%  2.4MB\r",
        "  Downloading Sphinx-1.2.2.tar.gz (3.1MB):  75%  2.4MB\r",
        "  Downloading Sphinx-1.2.2.tar.gz (3.1MB):  75%  2.4MB\r",
        "  Downloading Sphinx-1.2.2.tar.gz (3.1MB):  75%  2.4MB\r",
        "  Downloading Sphinx-1.2.2.tar.gz (3.1MB):  75%  2.4MB\r",
        "  Downloading Sphinx-1.2.2.tar.gz (3.1MB):  76%  2.4MB\r",
        "  Downloading Sphinx-1.2.2.tar.gz (3.1MB):  76%  2.4MB\r",
        "  Downloading Sphinx-1.2.2.tar.gz (3.1MB):  76%  2.4MB\r",
        "  Downloading Sphinx-1.2.2.tar.gz (3.1MB):  76%  2.4MB\r",
        "  Downloading Sphinx-1.2.2.tar.gz (3.1MB):  76%  2.4MB\r",
        "  Downloading Sphinx-1.2.2.tar.gz (3.1MB):  76%  2.4MB\r",
        "  Downloading Sphinx-1.2.2.tar.gz (3.1MB):  76%  2.4MB"
       ]
      },
      {
       "output_type": "stream",
       "stream": "stdout",
       "text": [
        "\r",
        "  Downloading Sphinx-1.2.2.tar.gz (3.1MB):  77%  2.4MB\r",
        "  Downloading Sphinx-1.2.2.tar.gz (3.1MB):  77%  2.4MB\r",
        "  Downloading Sphinx-1.2.2.tar.gz (3.1MB):  77%  2.4MB\r",
        "  Downloading Sphinx-1.2.2.tar.gz (3.1MB):  77%  2.4MB\r",
        "  Downloading Sphinx-1.2.2.tar.gz (3.1MB):  77%  2.4MB\r",
        "  Downloading Sphinx-1.2.2.tar.gz (3.1MB):  77%  2.4MB\r",
        "  Downloading Sphinx-1.2.2.tar.gz (3.1MB):  77%  2.4MB\r",
        "  Downloading Sphinx-1.2.2.tar.gz (3.1MB):  77%  2.4MB\r",
        "  Downloading Sphinx-1.2.2.tar.gz (3.1MB):  78%  2.5MB\r",
        "  Downloading Sphinx-1.2.2.tar.gz (3.1MB):  78%  2.5MB\r",
        "  Downloading Sphinx-1.2.2.tar.gz (3.1MB):  78%  2.5MB\r",
        "  Downloading Sphinx-1.2.2.tar.gz (3.1MB):  78%  2.5MB\r",
        "  Downloading Sphinx-1.2.2.tar.gz (3.1MB):  78%  2.5MB\r",
        "  Downloading Sphinx-1.2.2.tar.gz (3.1MB):  78%  2.5MB\r",
        "  Downloading Sphinx-1.2.2.tar.gz (3.1MB):  78%  2.5MB\r",
        "  Downloading Sphinx-1.2.2.tar.gz (3.1MB):  78%  2.5MB\r",
        "  Downloading Sphinx-1.2.2.tar.gz (3.1MB):  79%  2.5MB\r",
        "  Downloading Sphinx-1.2.2.tar.gz (3.1MB):  79%  2.5MB\r",
        "  Downloading Sphinx-1.2.2.tar.gz (3.1MB):  79%  2.5MB\r",
        "  Downloading Sphinx-1.2.2.tar.gz (3.1MB):  79%  2.5MB\r",
        "  Downloading Sphinx-1.2.2.tar.gz (3.1MB):  79%  2.5MB\r",
        "  Downloading Sphinx-1.2.2.tar.gz (3.1MB):  79%  2.5MB\r",
        "  Downloading Sphinx-1.2.2.tar.gz (3.1MB):  79%  2.5MB\r",
        "  Downloading Sphinx-1.2.2.tar.gz (3.1MB):  80%  2.5MB\r",
        "  Downloading Sphinx-1.2.2.tar.gz (3.1MB):  80%  2.5MB\r",
        "  Downloading Sphinx-1.2.2.tar.gz (3.1MB):  80%  2.5MB\r",
        "  Downloading Sphinx-1.2.2.tar.gz (3.1MB):  80%  2.5MB\r",
        "  Downloading Sphinx-1.2.2.tar.gz (3.1MB):  80%  2.5MB\r",
        "  Downloading Sphinx-1.2.2.tar.gz (3.1MB):  80%  2.5MB"
       ]
      },
      {
       "output_type": "stream",
       "stream": "stdout",
       "text": [
        "\r",
        "  Downloading Sphinx-1.2.2.tar.gz (3.1MB):  80%  2.5MB\r",
        "  Downloading Sphinx-1.2.2.tar.gz (3.1MB):  80%  2.5MB\r",
        "  Downloading Sphinx-1.2.2.tar.gz (3.1MB):  81%  2.5MB\r",
        "  Downloading Sphinx-1.2.2.tar.gz (3.1MB):  81%  2.6MB\r",
        "  Downloading Sphinx-1.2.2.tar.gz (3.1MB):  81%  2.6MB\r",
        "  Downloading Sphinx-1.2.2.tar.gz (3.1MB):  81%  2.6MB\r",
        "  Downloading Sphinx-1.2.2.tar.gz (3.1MB):  81%  2.6MB\r",
        "  Downloading Sphinx-1.2.2.tar.gz (3.1MB):  81%  2.6MB\r",
        "  Downloading Sphinx-1.2.2.tar.gz (3.1MB):  81%  2.6MB\r",
        "  Downloading Sphinx-1.2.2.tar.gz (3.1MB):  81%  2.6MB\r",
        "  Downloading Sphinx-1.2.2.tar.gz (3.1MB):  82%  2.6MB\r",
        "  Downloading Sphinx-1.2.2.tar.gz (3.1MB):  82%  2.6MB\r",
        "  Downloading Sphinx-1.2.2.tar.gz (3.1MB):  82%  2.6MB\r",
        "  Downloading Sphinx-1.2.2.tar.gz (3.1MB):  82%  2.6MB\r",
        "  Downloading Sphinx-1.2.2.tar.gz (3.1MB):  82%  2.6MB\r",
        "  Downloading Sphinx-1.2.2.tar.gz (3.1MB):  82%  2.6MB\r",
        "  Downloading Sphinx-1.2.2.tar.gz (3.1MB):  82%  2.6MB\r",
        "  Downloading Sphinx-1.2.2.tar.gz (3.1MB):  82%  2.6MB\r",
        "  Downloading Sphinx-1.2.2.tar.gz (3.1MB):  83%  2.6MB\r",
        "  Downloading Sphinx-1.2.2.tar.gz (3.1MB):  83%  2.6MB\r",
        "  Downloading Sphinx-1.2.2.tar.gz (3.1MB):  83%  2.6MB\r",
        "  Downloading Sphinx-1.2.2.tar.gz (3.1MB):  83%  2.6MB\r",
        "  Downloading Sphinx-1.2.2.tar.gz (3.1MB):  83%  2.6MB\r",
        "  Downloading Sphinx-1.2.2.tar.gz (3.1MB):  83%  2.6MB\r",
        "  Downloading Sphinx-1.2.2.tar.gz (3.1MB):  83%  2.6MB\r",
        "  Downloading Sphinx-1.2.2.tar.gz (3.1MB):  84%  2.6MB\r",
        "  Downloading Sphinx-1.2.2.tar.gz (3.1MB):  84%  2.6MB"
       ]
      },
      {
       "output_type": "stream",
       "stream": "stdout",
       "text": [
        "\r",
        "  Downloading Sphinx-1.2.2.tar.gz (3.1MB):  84%  2.7MB\r",
        "  Downloading Sphinx-1.2.2.tar.gz (3.1MB):  84%  2.7MB\r",
        "  Downloading Sphinx-1.2.2.tar.gz (3.1MB):  84%  2.7MB\r",
        "  Downloading Sphinx-1.2.2.tar.gz (3.1MB):  84%  2.7MB\r",
        "  Downloading Sphinx-1.2.2.tar.gz (3.1MB):  84%  2.7MB\r",
        "  Downloading Sphinx-1.2.2.tar.gz (3.1MB):  84%  2.7MB\r",
        "  Downloading Sphinx-1.2.2.tar.gz (3.1MB):  85%  2.7MB\r",
        "  Downloading Sphinx-1.2.2.tar.gz (3.1MB):  85%  2.7MB\r",
        "  Downloading Sphinx-1.2.2.tar.gz (3.1MB):  85%  2.7MB\r",
        "  Downloading Sphinx-1.2.2.tar.gz (3.1MB):  85%  2.7MB\r",
        "  Downloading Sphinx-1.2.2.tar.gz (3.1MB):  85%  2.7MB\r",
        "  Downloading Sphinx-1.2.2.tar.gz (3.1MB):  85%  2.7MB\r",
        "  Downloading Sphinx-1.2.2.tar.gz (3.1MB):  85%  2.7MB\r",
        "  Downloading Sphinx-1.2.2.tar.gz (3.1MB):  85%  2.7MB\r",
        "  Downloading Sphinx-1.2.2.tar.gz (3.1MB):  86%  2.7MB\r",
        "  Downloading Sphinx-1.2.2.tar.gz (3.1MB):  86%  2.7MB\r",
        "  Downloading Sphinx-1.2.2.tar.gz (3.1MB):  86%  2.7MB\r",
        "  Downloading Sphinx-1.2.2.tar.gz (3.1MB):  86%  2.7MB\r",
        "  Downloading Sphinx-1.2.2.tar.gz (3.1MB):  86%  2.7MB\r",
        "  Downloading Sphinx-1.2.2.tar.gz (3.1MB):  86%  2.7MB\r",
        "  Downloading Sphinx-1.2.2.tar.gz (3.1MB):  86%  2.7MB\r",
        "  Downloading Sphinx-1.2.2.tar.gz (3.1MB):  87%  2.7MB\r",
        "  Downloading Sphinx-1.2.2.tar.gz (3.1MB):  87%  2.7MB\r",
        "  Downloading Sphinx-1.2.2.tar.gz (3.1MB):  87%  2.7MB\r",
        "  Downloading Sphinx-1.2.2.tar.gz (3.1MB):  87%  2.7MB\r",
        "  Downloading Sphinx-1.2.2.tar.gz (3.1MB):  87%  2.8MB\r",
        "  Downloading Sphinx-1.2.2.tar.gz (3.1MB):  87%  2.8MB\r",
        "  Downloading Sphinx-1.2.2.tar.gz (3.1MB):  87%  2.8MB"
       ]
      },
      {
       "output_type": "stream",
       "stream": "stdout",
       "text": [
        "\r",
        "  Downloading Sphinx-1.2.2.tar.gz (3.1MB):  87%  2.8MB\r",
        "  Downloading Sphinx-1.2.2.tar.gz (3.1MB):  88%  2.8MB\r",
        "  Downloading Sphinx-1.2.2.tar.gz (3.1MB):  88%  2.8MB\r",
        "  Downloading Sphinx-1.2.2.tar.gz (3.1MB):  88%  2.8MB\r",
        "  Downloading Sphinx-1.2.2.tar.gz (3.1MB):  88%  2.8MB\r",
        "  Downloading Sphinx-1.2.2.tar.gz (3.1MB):  88%  2.8MB\r",
        "  Downloading Sphinx-1.2.2.tar.gz (3.1MB):  88%  2.8MB\r",
        "  Downloading Sphinx-1.2.2.tar.gz (3.1MB):  88%  2.8MB\r",
        "  Downloading Sphinx-1.2.2.tar.gz (3.1MB):  88%  2.8MB\r",
        "  Downloading Sphinx-1.2.2.tar.gz (3.1MB):  89%  2.8MB\r",
        "  Downloading Sphinx-1.2.2.tar.gz (3.1MB):  89%  2.8MB\r",
        "  Downloading Sphinx-1.2.2.tar.gz (3.1MB):  89%  2.8MB\r",
        "  Downloading Sphinx-1.2.2.tar.gz (3.1MB):  89%  2.8MB\r",
        "  Downloading Sphinx-1.2.2.tar.gz (3.1MB):  89%  2.8MB\r",
        "  Downloading Sphinx-1.2.2.tar.gz (3.1MB):  89%  2.8MB\r",
        "  Downloading Sphinx-1.2.2.tar.gz (3.1MB):  89%  2.8MB\r",
        "  Downloading Sphinx-1.2.2.tar.gz (3.1MB):  90%  2.8MB\r",
        "  Downloading Sphinx-1.2.2.tar.gz (3.1MB):  90%  2.8MB\r",
        "  Downloading Sphinx-1.2.2.tar.gz (3.1MB):  90%  2.8MB\r",
        "  Downloading Sphinx-1.2.2.tar.gz (3.1MB):  90%  2.8MB\r",
        "  Downloading Sphinx-1.2.2.tar.gz (3.1MB):  90%  2.8MB\r",
        "  Downloading Sphinx-1.2.2.tar.gz (3.1MB):  90%  2.9MB\r",
        "  Downloading Sphinx-1.2.2.tar.gz (3.1MB):  90%  2.9MB\r",
        "  Downloading Sphinx-1.2.2.tar.gz (3.1MB):  90%  2.9MB\r",
        "  Downloading Sphinx-1.2.2.tar.gz (3.1MB):  91%  2.9MB\r",
        "  Downloading Sphinx-1.2.2.tar.gz (3.1MB):  91%  2.9MB\r",
        "  Downloading Sphinx-1.2.2.tar.gz (3.1MB):  91%  2.9MB\r",
        "  Downloading Sphinx-1.2.2.tar.gz (3.1MB):  91%  2.9MB"
       ]
      },
      {
       "output_type": "stream",
       "stream": "stdout",
       "text": [
        "\r",
        "  Downloading Sphinx-1.2.2.tar.gz (3.1MB):  91%  2.9MB\r",
        "  Downloading Sphinx-1.2.2.tar.gz (3.1MB):  91%  2.9MB\r",
        "  Downloading Sphinx-1.2.2.tar.gz (3.1MB):  91%  2.9MB\r",
        "  Downloading Sphinx-1.2.2.tar.gz (3.1MB):  91%  2.9MB\r",
        "  Downloading Sphinx-1.2.2.tar.gz (3.1MB):  92%  2.9MB\r",
        "  Downloading Sphinx-1.2.2.tar.gz (3.1MB):  92%  2.9MB\r",
        "  Downloading Sphinx-1.2.2.tar.gz (3.1MB):  92%  2.9MB\r",
        "  Downloading Sphinx-1.2.2.tar.gz (3.1MB):  92%  2.9MB\r",
        "  Downloading Sphinx-1.2.2.tar.gz (3.1MB):  92%  2.9MB\r",
        "  Downloading Sphinx-1.2.2.tar.gz (3.1MB):  92%  2.9MB\r",
        "  Downloading Sphinx-1.2.2.tar.gz (3.1MB):  92%  2.9MB\r",
        "  Downloading Sphinx-1.2.2.tar.gz (3.1MB):  93%  2.9MB\r",
        "  Downloading Sphinx-1.2.2.tar.gz (3.1MB):  93%  2.9MB\r",
        "  Downloading Sphinx-1.2.2.tar.gz (3.1MB):  93%  2.9MB\r",
        "  Downloading Sphinx-1.2.2.tar.gz (3.1MB):  93%  2.9MB\r",
        "  Downloading Sphinx-1.2.2.tar.gz (3.1MB):  93%  2.9MB\r",
        "  Downloading Sphinx-1.2.2.tar.gz (3.1MB):  93%  2.9MB\r",
        "  Downloading Sphinx-1.2.2.tar.gz (3.1MB):  93%  2.9MB\r",
        "  Downloading Sphinx-1.2.2.tar.gz (3.1MB):  93%  3.0MB\r",
        "  Downloading Sphinx-1.2.2.tar.gz (3.1MB):  94%  3.0MB\r",
        "  Downloading Sphinx-1.2.2.tar.gz (3.1MB):  94%  3.0MB\r",
        "  Downloading Sphinx-1.2.2.tar.gz (3.1MB):  94%  3.0MB\r",
        "  Downloading Sphinx-1.2.2.tar.gz (3.1MB):  94%  3.0MB\r",
        "  Downloading Sphinx-1.2.2.tar.gz (3.1MB):  94%  3.0MB\r",
        "  Downloading Sphinx-1.2.2.tar.gz (3.1MB):  94%  3.0MB\r",
        "  Downloading Sphinx-1.2.2.tar.gz (3.1MB):  94%  3.0MB\r",
        "  Downloading Sphinx-1.2.2.tar.gz (3.1MB):  94%  3.0MB"
       ]
      },
      {
       "output_type": "stream",
       "stream": "stdout",
       "text": [
        "\r",
        "  Downloading Sphinx-1.2.2.tar.gz (3.1MB):  95%  3.0MB\r",
        "  Downloading Sphinx-1.2.2.tar.gz (3.1MB):  95%  3.0MB\r",
        "  Downloading Sphinx-1.2.2.tar.gz (3.1MB):  95%  3.0MB\r",
        "  Downloading Sphinx-1.2.2.tar.gz (3.1MB):  95%  3.0MB\r",
        "  Downloading Sphinx-1.2.2.tar.gz (3.1MB):  95%  3.0MB\r",
        "  Downloading Sphinx-1.2.2.tar.gz (3.1MB):  95%  3.0MB\r",
        "  Downloading Sphinx-1.2.2.tar.gz (3.1MB):  95%  3.0MB\r",
        "  Downloading Sphinx-1.2.2.tar.gz (3.1MB):  96%  3.0MB\r",
        "  Downloading Sphinx-1.2.2.tar.gz (3.1MB):  96%  3.0MB\r",
        "  Downloading Sphinx-1.2.2.tar.gz (3.1MB):  96%  3.0MB\r",
        "  Downloading Sphinx-1.2.2.tar.gz (3.1MB):  96%  3.0MB\r",
        "  Downloading Sphinx-1.2.2.tar.gz (3.1MB):  96%  3.0MB\r",
        "  Downloading Sphinx-1.2.2.tar.gz (3.1MB):  96%  3.0MB\r",
        "  Downloading Sphinx-1.2.2.tar.gz (3.1MB):  96%  3.0MB\r",
        "  Downloading Sphinx-1.2.2.tar.gz (3.1MB):  96%  3.0MB\r",
        "  Downloading Sphinx-1.2.2.tar.gz (3.1MB):  97%  3.1MB\r",
        "  Downloading Sphinx-1.2.2.tar.gz (3.1MB):  97%  3.1MB\r",
        "  Downloading Sphinx-1.2.2.tar.gz (3.1MB):  97%  3.1MB\r",
        "  Downloading Sphinx-1.2.2.tar.gz (3.1MB):  97%  3.1MB\r",
        "  Downloading Sphinx-1.2.2.tar.gz (3.1MB):  97%  3.1MB\r",
        "  Downloading Sphinx-1.2.2.tar.gz (3.1MB):  97%  3.1MB\r",
        "  Downloading Sphinx-1.2.2.tar.gz (3.1MB):  97%  3.1MB\r",
        "  Downloading Sphinx-1.2.2.tar.gz (3.1MB):  97%  3.1MB\r",
        "  Downloading Sphinx-1.2.2.tar.gz (3.1MB):  98%  3.1MB\r",
        "  Downloading Sphinx-1.2.2.tar.gz (3.1MB):  98%  3.1MB\r",
        "  Downloading Sphinx-1.2.2.tar.gz (3.1MB):  98%  3.1MB\r",
        "  Downloading Sphinx-1.2.2.tar.gz (3.1MB):  98%  3.1MB"
       ]
      },
      {
       "output_type": "stream",
       "stream": "stdout",
       "text": [
        "\r",
        "  Downloading Sphinx-1.2.2.tar.gz (3.1MB):  98%  3.1MB\r",
        "  Downloading Sphinx-1.2.2.tar.gz (3.1MB):  98%  3.1MB\r",
        "  Downloading Sphinx-1.2.2.tar.gz (3.1MB):  98%  3.1MB\r",
        "  Downloading Sphinx-1.2.2.tar.gz (3.1MB):  99%  3.1MB\r",
        "  Downloading Sphinx-1.2.2.tar.gz (3.1MB):  99%  3.1MB\r",
        "  Downloading Sphinx-1.2.2.tar.gz (3.1MB):  99%  3.1MB\r",
        "  Downloading Sphinx-1.2.2.tar.gz (3.1MB):  99%  3.1MB\r",
        "  Downloading Sphinx-1.2.2.tar.gz (3.1MB):  99%  3.1MB\r",
        "  Downloading Sphinx-1.2.2.tar.gz (3.1MB):  99%  3.1MB\r",
        "  Downloading Sphinx-1.2.2.tar.gz (3.1MB):  99%  3.1MB\r",
        "  Downloading Sphinx-1.2.2.tar.gz (3.1MB):  99%  3.1MB\r",
        "  Downloading Sphinx-1.2.2.tar.gz (3.1MB): 100%  3.1MB\r",
        "  Downloading Sphinx-1.2.2.tar.gz (3.1MB):            \r",
        "  Downloading Sphinx-1.2.2.tar.gz (3.1MB): 3.1MB downloaded\r\n"
       ]
      },
      {
       "output_type": "stream",
       "stream": "stdout",
       "text": [
        "  Running setup.py egg_info for package sphinx\r\n"
       ]
      },
      {
       "output_type": "stream",
       "stream": "stdout",
       "text": [
        "    \r\n"
       ]
      },
      {
       "output_type": "stream",
       "stream": "stdout",
       "text": [
        "    no previously-included directories found matching 'doc/_build'\r\n",
        "Requirement already satisfied (use --upgrade to upgrade): Pygments>=1.2 in /usr/local/lib/python2.7/dist-packages (from sphinx)\r\n",
        "Downloading/unpacking docutils>=0.7 (from sphinx)\r\n"
       ]
      },
      {
       "output_type": "stream",
       "stream": "stdout",
       "text": [
        "  Downloading docutils-0.11.tar.gz (1.6MB): \r",
        "  Downloading docutils-0.11.tar.gz (1.6MB):   0%  4.1kB\r",
        "  Downloading docutils-0.11.tar.gz (1.6MB):   0%  8.2kB\r",
        "  Downloading docutils-0.11.tar.gz (1.6MB):   0%  12kB \r",
        "  Downloading docutils-0.11.tar.gz (1.6MB):   1%  16kB\r",
        "  Downloading docutils-0.11.tar.gz (1.6MB):   1%  20kB\r",
        "  Downloading docutils-0.11.tar.gz (1.6MB):   1%  24kB"
       ]
      },
      {
       "output_type": "stream",
       "stream": "stdout",
       "text": [
        "\r",
        "  Downloading docutils-0.11.tar.gz (1.6MB):   1%  28kB\r",
        "  Downloading docutils-0.11.tar.gz (1.6MB):   2%  32kB\r",
        "  Downloading docutils-0.11.tar.gz (1.6MB):   2%  36kB\r",
        "  Downloading docutils-0.11.tar.gz (1.6MB):   2%  40kB"
       ]
      },
      {
       "output_type": "stream",
       "stream": "stdout",
       "text": [
        "\r",
        "  Downloading docutils-0.11.tar.gz (1.6MB):   2%  45kB\r",
        "  Downloading docutils-0.11.tar.gz (1.6MB):   3%  49kB\r",
        "  Downloading docutils-0.11.tar.gz (1.6MB):   3%  53kB\r",
        "  Downloading docutils-0.11.tar.gz (1.6MB):   3%  57kB\r",
        "  Downloading docutils-0.11.tar.gz (1.6MB):   3%  61kB"
       ]
      },
      {
       "output_type": "stream",
       "stream": "stdout",
       "text": [
        "\r",
        "  Downloading docutils-0.11.tar.gz (1.6MB):   4%  65kB\r",
        "  Downloading docutils-0.11.tar.gz (1.6MB):   4%  69kB\r",
        "  Downloading docutils-0.11.tar.gz (1.6MB):   4%  73kB\r",
        "  Downloading docutils-0.11.tar.gz (1.6MB):   4%  77kB\r",
        "  Downloading docutils-0.11.tar.gz (1.6MB):   5%  81kB\r",
        "  Downloading docutils-0.11.tar.gz (1.6MB):   5%  86kB\r",
        "  Downloading docutils-0.11.tar.gz (1.6MB):   5%  90kB\r",
        "  Downloading docutils-0.11.tar.gz (1.6MB):   5%  94kB\r",
        "  Downloading docutils-0.11.tar.gz (1.6MB):   6%  98kB\r",
        "  Downloading docutils-0.11.tar.gz (1.6MB):   6%  102kB"
       ]
      },
      {
       "output_type": "stream",
       "stream": "stdout",
       "text": [
        "\r",
        "  Downloading docutils-0.11.tar.gz (1.6MB):   6%  106kB\r",
        "  Downloading docutils-0.11.tar.gz (1.6MB):   6%  110kB\r",
        "  Downloading docutils-0.11.tar.gz (1.6MB):   7%  114kB\r",
        "  Downloading docutils-0.11.tar.gz (1.6MB):   7%  118kB\r",
        "  Downloading docutils-0.11.tar.gz (1.6MB):   7%  122kB"
       ]
      },
      {
       "output_type": "stream",
       "stream": "stdout",
       "text": [
        "\r",
        "  Downloading docutils-0.11.tar.gz (1.6MB):   7%  126kB\r",
        "  Downloading docutils-0.11.tar.gz (1.6MB):   8%  131kB\r",
        "  Downloading docutils-0.11.tar.gz (1.6MB):   8%  135kB\r",
        "  Downloading docutils-0.11.tar.gz (1.6MB):   8%  139kB\r",
        "  Downloading docutils-0.11.tar.gz (1.6MB):   8%  143kB\r",
        "  Downloading docutils-0.11.tar.gz (1.6MB):   9%  147kB\r",
        "  Downloading docutils-0.11.tar.gz (1.6MB):   9%  151kB\r",
        "  Downloading docutils-0.11.tar.gz (1.6MB):   9%  155kB"
       ]
      },
      {
       "output_type": "stream",
       "stream": "stdout",
       "text": [
        "\r",
        "  Downloading docutils-0.11.tar.gz (1.6MB):   9%  159kB\r",
        "  Downloading docutils-0.11.tar.gz (1.6MB):  10%  163kB\r",
        "  Downloading docutils-0.11.tar.gz (1.6MB):  10%  167kB\r",
        "  Downloading docutils-0.11.tar.gz (1.6MB):  10%  172kB\r",
        "  Downloading docutils-0.11.tar.gz (1.6MB):  10%  176kB\r",
        "  Downloading docutils-0.11.tar.gz (1.6MB):  11%  180kB"
       ]
      },
      {
       "output_type": "stream",
       "stream": "stdout",
       "text": [
        "\r",
        "  Downloading docutils-0.11.tar.gz (1.6MB):  11%  184kB\r",
        "  Downloading docutils-0.11.tar.gz (1.6MB):  11%  188kB\r",
        "  Downloading docutils-0.11.tar.gz (1.6MB):  11%  192kB\r",
        "  Downloading docutils-0.11.tar.gz (1.6MB):  12%  196kB\r",
        "  Downloading docutils-0.11.tar.gz (1.6MB):  12%  200kB\r",
        "  Downloading docutils-0.11.tar.gz (1.6MB):  12%  204kB\r",
        "  Downloading docutils-0.11.tar.gz (1.6MB):  12%  208kB\r",
        "  Downloading docutils-0.11.tar.gz (1.6MB):  13%  212kB"
       ]
      },
      {
       "output_type": "stream",
       "stream": "stdout",
       "text": [
        "\r",
        "  Downloading docutils-0.11.tar.gz (1.6MB):  13%  217kB\r",
        "  Downloading docutils-0.11.tar.gz (1.6MB):  13%  221kB\r",
        "  Downloading docutils-0.11.tar.gz (1.6MB):  13%  225kB\r",
        "  Downloading docutils-0.11.tar.gz (1.6MB):  14%  229kB\r",
        "  Downloading docutils-0.11.tar.gz (1.6MB):  14%  233kB\r",
        "  Downloading docutils-0.11.tar.gz (1.6MB):  14%  237kB\r",
        "  Downloading docutils-0.11.tar.gz (1.6MB):  14%  241kB\r",
        "  Downloading docutils-0.11.tar.gz (1.6MB):  15%  245kB\r",
        "  Downloading docutils-0.11.tar.gz (1.6MB):  15%  249kB\r",
        "  Downloading docutils-0.11.tar.gz (1.6MB):  15%  253kB\r",
        "  Downloading docutils-0.11.tar.gz (1.6MB):  16%  258kB\r",
        "  Downloading docutils-0.11.tar.gz (1.6MB):  16%  262kB\r",
        "  Downloading docutils-0.11.tar.gz (1.6MB):  16%  266kB\r",
        "  Downloading docutils-0.11.tar.gz (1.6MB):  16%  270kB\r",
        "  Downloading docutils-0.11.tar.gz (1.6MB):  17%  274kB\r",
        "  Downloading docutils-0.11.tar.gz (1.6MB):  17%  278kB\r",
        "  Downloading docutils-0.11.tar.gz (1.6MB):  17%  282kB\r",
        "  Downloading docutils-0.11.tar.gz (1.6MB):  17%  286kB"
       ]
      },
      {
       "output_type": "stream",
       "stream": "stdout",
       "text": [
        "\r",
        "  Downloading docutils-0.11.tar.gz (1.6MB):  18%  290kB\r",
        "  Downloading docutils-0.11.tar.gz (1.6MB):  18%  294kB\r",
        "  Downloading docutils-0.11.tar.gz (1.6MB):  18%  299kB\r",
        "  Downloading docutils-0.11.tar.gz (1.6MB):  18%  303kB\r",
        "  Downloading docutils-0.11.tar.gz (1.6MB):  19%  307kB\r",
        "  Downloading docutils-0.11.tar.gz (1.6MB):  19%  311kB\r",
        "  Downloading docutils-0.11.tar.gz (1.6MB):  19%  315kB\r",
        "  Downloading docutils-0.11.tar.gz (1.6MB):  19%  319kB\r",
        "  Downloading docutils-0.11.tar.gz (1.6MB):  20%  323kB\r",
        "  Downloading docutils-0.11.tar.gz (1.6MB):  20%  327kB\r",
        "  Downloading docutils-0.11.tar.gz (1.6MB):  20%  331kB\r",
        "  Downloading docutils-0.11.tar.gz (1.6MB):  20%  335kB"
       ]
      },
      {
       "output_type": "stream",
       "stream": "stdout",
       "text": [
        "\r",
        "  Downloading docutils-0.11.tar.gz (1.6MB):  21%  339kB\r",
        "  Downloading docutils-0.11.tar.gz (1.6MB):  21%  344kB\r",
        "  Downloading docutils-0.11.tar.gz (1.6MB):  21%  348kB\r",
        "  Downloading docutils-0.11.tar.gz (1.6MB):  21%  352kB\r",
        "  Downloading docutils-0.11.tar.gz (1.6MB):  22%  356kB\r",
        "  Downloading docutils-0.11.tar.gz (1.6MB):  22%  360kB\r",
        "  Downloading docutils-0.11.tar.gz (1.6MB):  22%  364kB\r",
        "  Downloading docutils-0.11.tar.gz (1.6MB):  22%  368kB\r",
        "  Downloading docutils-0.11.tar.gz (1.6MB):  23%  372kB\r",
        "  Downloading docutils-0.11.tar.gz (1.6MB):  23%  376kB\r",
        "  Downloading docutils-0.11.tar.gz (1.6MB):  23%  380kB\r",
        "  Downloading docutils-0.11.tar.gz (1.6MB):  23%  385kB\r",
        "  Downloading docutils-0.11.tar.gz (1.6MB):  24%  389kB\r",
        "  Downloading docutils-0.11.tar.gz (1.6MB):  24%  393kB\r",
        "  Downloading docutils-0.11.tar.gz (1.6MB):  24%  397kB\r",
        "  Downloading docutils-0.11.tar.gz (1.6MB):  24%  401kB\r",
        "  Downloading docutils-0.11.tar.gz (1.6MB):  25%  405kB\r",
        "  Downloading docutils-0.11.tar.gz (1.6MB):  25%  409kB\r",
        "  Downloading docutils-0.11.tar.gz (1.6MB):  25%  413kB\r",
        "  Downloading docutils-0.11.tar.gz (1.6MB):  25%  417kB"
       ]
      },
      {
       "output_type": "stream",
       "stream": "stdout",
       "text": [
        "\r",
        "  Downloading docutils-0.11.tar.gz (1.6MB):  26%  421kB\r",
        "  Downloading docutils-0.11.tar.gz (1.6MB):  26%  425kB\r",
        "  Downloading docutils-0.11.tar.gz (1.6MB):  26%  430kB\r",
        "  Downloading docutils-0.11.tar.gz (1.6MB):  26%  434kB\r",
        "  Downloading docutils-0.11.tar.gz (1.6MB):  27%  438kB\r",
        "  Downloading docutils-0.11.tar.gz (1.6MB):  27%  442kB\r",
        "  Downloading docutils-0.11.tar.gz (1.6MB):  27%  446kB\r",
        "  Downloading docutils-0.11.tar.gz (1.6MB):  27%  450kB\r",
        "  Downloading docutils-0.11.tar.gz (1.6MB):  28%  454kB\r",
        "  Downloading docutils-0.11.tar.gz (1.6MB):  28%  458kB\r",
        "  Downloading docutils-0.11.tar.gz (1.6MB):  28%  462kB\r",
        "  Downloading docutils-0.11.tar.gz (1.6MB):  28%  466kB\r",
        "  Downloading docutils-0.11.tar.gz (1.6MB):  29%  471kB\r",
        "  Downloading docutils-0.11.tar.gz (1.6MB):  29%  475kB\r",
        "  Downloading docutils-0.11.tar.gz (1.6MB):  29%  479kB\r",
        "  Downloading docutils-0.11.tar.gz (1.6MB):  29%  483kB\r",
        "  Downloading docutils-0.11.tar.gz (1.6MB):  30%  487kB\r",
        "  Downloading docutils-0.11.tar.gz (1.6MB):  30%  491kB\r",
        "  Downloading docutils-0.11.tar.gz (1.6MB):  30%  495kB\r",
        "  Downloading docutils-0.11.tar.gz (1.6MB):  31%  499kB\r",
        "  Downloading docutils-0.11.tar.gz (1.6MB):  31%  503kB\r",
        "  Downloading docutils-0.11.tar.gz (1.6MB):  31%  507kB"
       ]
      },
      {
       "output_type": "stream",
       "stream": "stdout",
       "text": [
        "\r",
        "  Downloading docutils-0.11.tar.gz (1.6MB):  31%  512kB\r",
        "  Downloading docutils-0.11.tar.gz (1.6MB):  32%  516kB\r",
        "  Downloading docutils-0.11.tar.gz (1.6MB):  32%  520kB\r",
        "  Downloading docutils-0.11.tar.gz (1.6MB):  32%  524kB\r",
        "  Downloading docutils-0.11.tar.gz (1.6MB):  32%  528kB\r",
        "  Downloading docutils-0.11.tar.gz (1.6MB):  33%  532kB\r",
        "  Downloading docutils-0.11.tar.gz (1.6MB):  33%  536kB\r",
        "  Downloading docutils-0.11.tar.gz (1.6MB):  33%  540kB\r",
        "  Downloading docutils-0.11.tar.gz (1.6MB):  33%  544kB\r",
        "  Downloading docutils-0.11.tar.gz (1.6MB):  34%  548kB\r",
        "  Downloading docutils-0.11.tar.gz (1.6MB):  34%  552kB\r",
        "  Downloading docutils-0.11.tar.gz (1.6MB):  34%  557kB\r",
        "  Downloading docutils-0.11.tar.gz (1.6MB):  34%  561kB\r",
        "  Downloading docutils-0.11.tar.gz (1.6MB):  35%  565kB\r",
        "  Downloading docutils-0.11.tar.gz (1.6MB):  35%  569kB\r",
        "  Downloading docutils-0.11.tar.gz (1.6MB):  35%  573kB\r",
        "  Downloading docutils-0.11.tar.gz (1.6MB):  35%  577kB\r",
        "  Downloading docutils-0.11.tar.gz (1.6MB):  36%  581kB\r",
        "  Downloading docutils-0.11.tar.gz (1.6MB):  36%  585kB\r",
        "  Downloading docutils-0.11.tar.gz (1.6MB):  36%  589kB"
       ]
      },
      {
       "output_type": "stream",
       "stream": "stdout",
       "text": [
        "\r",
        "  Downloading docutils-0.11.tar.gz (1.6MB):  36%  593kB\r",
        "  Downloading docutils-0.11.tar.gz (1.6MB):  37%  598kB\r",
        "  Downloading docutils-0.11.tar.gz (1.6MB):  37%  602kB\r",
        "  Downloading docutils-0.11.tar.gz (1.6MB):  37%  606kB\r",
        "  Downloading docutils-0.11.tar.gz (1.6MB):  37%  610kB\r",
        "  Downloading docutils-0.11.tar.gz (1.6MB):  38%  614kB\r",
        "  Downloading docutils-0.11.tar.gz (1.6MB):  38%  618kB\r",
        "  Downloading docutils-0.11.tar.gz (1.6MB):  38%  622kB\r",
        "  Downloading docutils-0.11.tar.gz (1.6MB):  38%  626kB\r",
        "  Downloading docutils-0.11.tar.gz (1.6MB):  39%  630kB\r",
        "  Downloading docutils-0.11.tar.gz (1.6MB):  39%  634kB\r",
        "  Downloading docutils-0.11.tar.gz (1.6MB):  39%  638kB\r",
        "  Downloading docutils-0.11.tar.gz (1.6MB):  39%  643kB\r",
        "  Downloading docutils-0.11.tar.gz (1.6MB):  40%  647kB\r",
        "  Downloading docutils-0.11.tar.gz (1.6MB):  40%  651kB\r",
        "  Downloading docutils-0.11.tar.gz (1.6MB):  40%  655kB\r",
        "  Downloading docutils-0.11.tar.gz (1.6MB):  40%  659kB\r",
        "  Downloading docutils-0.11.tar.gz (1.6MB):  41%  663kB\r",
        "  Downloading docutils-0.11.tar.gz (1.6MB):  41%  667kB\r",
        "  Downloading docutils-0.11.tar.gz (1.6MB):  41%  671kB\r",
        "  Downloading docutils-0.11.tar.gz (1.6MB):  41%  675kB\r",
        "  Downloading docutils-0.11.tar.gz (1.6MB):  42%  679kB\r",
        "  Downloading docutils-0.11.tar.gz (1.6MB):  42%  684kB\r",
        "  Downloading docutils-0.11.tar.gz (1.6MB):  42%  688kB"
       ]
      },
      {
       "output_type": "stream",
       "stream": "stdout",
       "text": [
        "\r",
        "  Downloading docutils-0.11.tar.gz (1.6MB):  42%  692kB\r",
        "  Downloading docutils-0.11.tar.gz (1.6MB):  43%  696kB\r",
        "  Downloading docutils-0.11.tar.gz (1.6MB):  43%  700kB\r",
        "  Downloading docutils-0.11.tar.gz (1.6MB):  43%  704kB\r",
        "  Downloading docutils-0.11.tar.gz (1.6MB):  43%  708kB\r",
        "  Downloading docutils-0.11.tar.gz (1.6MB):  44%  712kB\r",
        "  Downloading docutils-0.11.tar.gz (1.6MB):  44%  716kB\r",
        "  Downloading docutils-0.11.tar.gz (1.6MB):  44%  720kB\r",
        "  Downloading docutils-0.11.tar.gz (1.6MB):  44%  724kB\r",
        "  Downloading docutils-0.11.tar.gz (1.6MB):  45%  729kB\r",
        "  Downloading docutils-0.11.tar.gz (1.6MB):  45%  733kB\r",
        "  Downloading docutils-0.11.tar.gz (1.6MB):  45%  737kB\r",
        "  Downloading docutils-0.11.tar.gz (1.6MB):  45%  741kB\r",
        "  Downloading docutils-0.11.tar.gz (1.6MB):  46%  745kB"
       ]
      },
      {
       "output_type": "stream",
       "stream": "stdout",
       "text": [
        "\r",
        "  Downloading docutils-0.11.tar.gz (1.6MB):  46%  749kB\r",
        "  Downloading docutils-0.11.tar.gz (1.6MB):  46%  753kB\r",
        "  Downloading docutils-0.11.tar.gz (1.6MB):  47%  757kB\r",
        "  Downloading docutils-0.11.tar.gz (1.6MB):  47%  761kB\r",
        "  Downloading docutils-0.11.tar.gz (1.6MB):  47%  765kB\r",
        "  Downloading docutils-0.11.tar.gz (1.6MB):  47%  770kB\r",
        "  Downloading docutils-0.11.tar.gz (1.6MB):  48%  774kB\r",
        "  Downloading docutils-0.11.tar.gz (1.6MB):  48%  778kB\r",
        "  Downloading docutils-0.11.tar.gz (1.6MB):  48%  782kB\r",
        "  Downloading docutils-0.11.tar.gz (1.6MB):  48%  786kB\r",
        "  Downloading docutils-0.11.tar.gz (1.6MB):  49%  790kB\r",
        "  Downloading docutils-0.11.tar.gz (1.6MB):  49%  794kB\r",
        "  Downloading docutils-0.11.tar.gz (1.6MB):  49%  798kB\r",
        "  Downloading docutils-0.11.tar.gz (1.6MB):  49%  802kB\r",
        "  Downloading docutils-0.11.tar.gz (1.6MB):  50%  806kB\r",
        "  Downloading docutils-0.11.tar.gz (1.6MB):  50%  811kB\r",
        "  Downloading docutils-0.11.tar.gz (1.6MB):  50%  815kB\r",
        "  Downloading docutils-0.11.tar.gz (1.6MB):  50%  819kB"
       ]
      },
      {
       "output_type": "stream",
       "stream": "stdout",
       "text": [
        "\r",
        "  Downloading docutils-0.11.tar.gz (1.6MB):  51%  823kB\r",
        "  Downloading docutils-0.11.tar.gz (1.6MB):  51%  827kB\r",
        "  Downloading docutils-0.11.tar.gz (1.6MB):  51%  831kB\r",
        "  Downloading docutils-0.11.tar.gz (1.6MB):  51%  835kB\r",
        "  Downloading docutils-0.11.tar.gz (1.6MB):  52%  839kB\r",
        "  Downloading docutils-0.11.tar.gz (1.6MB):  52%  843kB\r",
        "  Downloading docutils-0.11.tar.gz (1.6MB):  52%  847kB\r",
        "  Downloading docutils-0.11.tar.gz (1.6MB):  52%  851kB\r",
        "  Downloading docutils-0.11.tar.gz (1.6MB):  53%  856kB\r",
        "  Downloading docutils-0.11.tar.gz (1.6MB):  53%  860kB\r",
        "  Downloading docutils-0.11.tar.gz (1.6MB):  53%  864kB\r",
        "  Downloading docutils-0.11.tar.gz (1.6MB):  53%  868kB\r",
        "  Downloading docutils-0.11.tar.gz (1.6MB):  54%  872kB\r",
        "  Downloading docutils-0.11.tar.gz (1.6MB):  54%  876kB\r",
        "  Downloading docutils-0.11.tar.gz (1.6MB):  54%  880kB\r",
        "  Downloading docutils-0.11.tar.gz (1.6MB):  54%  884kB\r",
        "  Downloading docutils-0.11.tar.gz (1.6MB):  55%  888kB\r",
        "  Downloading docutils-0.11.tar.gz (1.6MB):  55%  892kB\r",
        "  Downloading docutils-0.11.tar.gz (1.6MB):  55%  897kB\r",
        "  Downloading docutils-0.11.tar.gz (1.6MB):  55%  901kB\r",
        "  Downloading docutils-0.11.tar.gz (1.6MB):  56%  905kB\r",
        "  Downloading docutils-0.11.tar.gz (1.6MB):  56%  909kB\r",
        "  Downloading docutils-0.11.tar.gz (1.6MB):  56%  913kB\r",
        "  Downloading docutils-0.11.tar.gz (1.6MB):  56%  917kB\r",
        "  Downloading docutils-0.11.tar.gz (1.6MB):  57%  921kB\r",
        "  Downloading docutils-0.11.tar.gz (1.6MB):  57%  925kB"
       ]
      },
      {
       "output_type": "stream",
       "stream": "stdout",
       "text": [
        "\r",
        "  Downloading docutils-0.11.tar.gz (1.6MB):  57%  929kB\r",
        "  Downloading docutils-0.11.tar.gz (1.6MB):  57%  933kB\r",
        "  Downloading docutils-0.11.tar.gz (1.6MB):  58%  937kB\r",
        "  Downloading docutils-0.11.tar.gz (1.6MB):  58%  942kB\r",
        "  Downloading docutils-0.11.tar.gz (1.6MB):  58%  946kB\r",
        "  Downloading docutils-0.11.tar.gz (1.6MB):  58%  950kB\r",
        "  Downloading docutils-0.11.tar.gz (1.6MB):  59%  954kB\r",
        "  Downloading docutils-0.11.tar.gz (1.6MB):  59%  958kB\r",
        "  Downloading docutils-0.11.tar.gz (1.6MB):  59%  962kB\r",
        "  Downloading docutils-0.11.tar.gz (1.6MB):  59%  966kB\r",
        "  Downloading docutils-0.11.tar.gz (1.6MB):  60%  970kB\r",
        "  Downloading docutils-0.11.tar.gz (1.6MB):  60%  974kB\r",
        "  Downloading docutils-0.11.tar.gz (1.6MB):  60%  978kB\r",
        "  Downloading docutils-0.11.tar.gz (1.6MB):  60%  983kB\r",
        "  Downloading docutils-0.11.tar.gz (1.6MB):  61%  987kB\r",
        "  Downloading docutils-0.11.tar.gz (1.6MB):  61%  991kB\r",
        "  Downloading docutils-0.11.tar.gz (1.6MB):  61%  995kB\r",
        "  Downloading docutils-0.11.tar.gz (1.6MB):  62%  999kB\r",
        "  Downloading docutils-0.11.tar.gz (1.6MB):  62%  1.0MB\r",
        "  Downloading docutils-0.11.tar.gz (1.6MB):  62%  1.0MB\r",
        "  Downloading docutils-0.11.tar.gz (1.6MB):  62%  1.0MB\r",
        "  Downloading docutils-0.11.tar.gz (1.6MB):  63%  1.0MB\r",
        "  Downloading docutils-0.11.tar.gz (1.6MB):  63%  1.0MB\r",
        "  Downloading docutils-0.11.tar.gz (1.6MB):  63%  1.0MB\r",
        "  Downloading docutils-0.11.tar.gz (1.6MB):  63%  1.0MB\r",
        "  Downloading docutils-0.11.tar.gz (1.6MB):  64%  1.0MB\r",
        "  Downloading docutils-0.11.tar.gz (1.6MB):  64%  1.0MB\r",
        "  Downloading docutils-0.11.tar.gz (1.6MB):  64%  1.0MB"
       ]
      },
      {
       "output_type": "stream",
       "stream": "stdout",
       "text": [
        "\r",
        "  Downloading docutils-0.11.tar.gz (1.6MB):  64%  1.0MB\r",
        "  Downloading docutils-0.11.tar.gz (1.6MB):  65%  1.0MB\r",
        "  Downloading docutils-0.11.tar.gz (1.6MB):  65%  1.1MB\r",
        "  Downloading docutils-0.11.tar.gz (1.6MB):  65%  1.1MB\r",
        "  Downloading docutils-0.11.tar.gz (1.6MB):  65%  1.1MB\r",
        "  Downloading docutils-0.11.tar.gz (1.6MB):  66%  1.1MB\r",
        "  Downloading docutils-0.11.tar.gz (1.6MB):  66%  1.1MB\r",
        "  Downloading docutils-0.11.tar.gz (1.6MB):  66%  1.1MB\r",
        "  Downloading docutils-0.11.tar.gz (1.6MB):  66%  1.1MB\r",
        "  Downloading docutils-0.11.tar.gz (1.6MB):  67%  1.1MB\r",
        "  Downloading docutils-0.11.tar.gz (1.6MB):  67%  1.1MB\r",
        "  Downloading docutils-0.11.tar.gz (1.6MB):  67%  1.1MB\r",
        "  Downloading docutils-0.11.tar.gz (1.6MB):  67%  1.1MB\r",
        "  Downloading docutils-0.11.tar.gz (1.6MB):  68%  1.1MB\r",
        "  Downloading docutils-0.11.tar.gz (1.6MB):  68%  1.1MB\r",
        "  Downloading docutils-0.11.tar.gz (1.6MB):  68%  1.1MB\r",
        "  Downloading docutils-0.11.tar.gz (1.6MB):  68%  1.1MB\r",
        "  Downloading docutils-0.11.tar.gz (1.6MB):  69%  1.1MB\r",
        "  Downloading docutils-0.11.tar.gz (1.6MB):  69%  1.1MB\r",
        "  Downloading docutils-0.11.tar.gz (1.6MB):  69%  1.1MB\r",
        "  Downloading docutils-0.11.tar.gz (1.6MB):  69%  1.1MB\r",
        "  Downloading docutils-0.11.tar.gz (1.6MB):  70%  1.1MB\r",
        "  Downloading docutils-0.11.tar.gz (1.6MB):  70%  1.1MB\r",
        "  Downloading docutils-0.11.tar.gz (1.6MB):  70%  1.1MB\r",
        "  Downloading docutils-0.11.tar.gz (1.6MB):  70%  1.1MB\r",
        "  Downloading docutils-0.11.tar.gz (1.6MB):  71%  1.1MB\r",
        "  Downloading docutils-0.11.tar.gz (1.6MB):  71%  1.2MB\r",
        "  Downloading docutils-0.11.tar.gz (1.6MB):  71%  1.2MB"
       ]
      },
      {
       "output_type": "stream",
       "stream": "stdout",
       "text": [
        "\r",
        "  Downloading docutils-0.11.tar.gz (1.6MB):  71%  1.2MB\r",
        "  Downloading docutils-0.11.tar.gz (1.6MB):  72%  1.2MB\r",
        "  Downloading docutils-0.11.tar.gz (1.6MB):  72%  1.2MB\r",
        "  Downloading docutils-0.11.tar.gz (1.6MB):  72%  1.2MB\r",
        "  Downloading docutils-0.11.tar.gz (1.6MB):  72%  1.2MB\r",
        "  Downloading docutils-0.11.tar.gz (1.6MB):  73%  1.2MB\r",
        "  Downloading docutils-0.11.tar.gz (1.6MB):  73%  1.2MB\r",
        "  Downloading docutils-0.11.tar.gz (1.6MB):  73%  1.2MB\r",
        "  Downloading docutils-0.11.tar.gz (1.6MB):  73%  1.2MB\r",
        "  Downloading docutils-0.11.tar.gz (1.6MB):  74%  1.2MB\r",
        "  Downloading docutils-0.11.tar.gz (1.6MB):  74%  1.2MB\r",
        "  Downloading docutils-0.11.tar.gz (1.6MB):  74%  1.2MB\r",
        "  Downloading docutils-0.11.tar.gz (1.6MB):  74%  1.2MB\r",
        "  Downloading docutils-0.11.tar.gz (1.6MB):  75%  1.2MB\r",
        "  Downloading docutils-0.11.tar.gz (1.6MB):  75%  1.2MB\r",
        "  Downloading docutils-0.11.tar.gz (1.6MB):  75%  1.2MB\r",
        "  Downloading docutils-0.11.tar.gz (1.6MB):  75%  1.2MB\r",
        "  Downloading docutils-0.11.tar.gz (1.6MB):  76%  1.2MB\r",
        "  Downloading docutils-0.11.tar.gz (1.6MB):  76%  1.2MB\r",
        "  Downloading docutils-0.11.tar.gz (1.6MB):  76%  1.2MB\r",
        "  Downloading docutils-0.11.tar.gz (1.6MB):  77%  1.2MB\r",
        "  Downloading docutils-0.11.tar.gz (1.6MB):  77%  1.2MB\r",
        "  Downloading docutils-0.11.tar.gz (1.6MB):  77%  1.2MB\r",
        "  Downloading docutils-0.11.tar.gz (1.6MB):  77%  1.3MB\r",
        "  Downloading docutils-0.11.tar.gz (1.6MB):  78%  1.3MB\r",
        "  Downloading docutils-0.11.tar.gz (1.6MB):  78%  1.3MB"
       ]
      },
      {
       "output_type": "stream",
       "stream": "stdout",
       "text": [
        "\r",
        "  Downloading docutils-0.11.tar.gz (1.6MB):  78%  1.3MB\r",
        "  Downloading docutils-0.11.tar.gz (1.6MB):  78%  1.3MB\r",
        "  Downloading docutils-0.11.tar.gz (1.6MB):  79%  1.3MB\r",
        "  Downloading docutils-0.11.tar.gz (1.6MB):  79%  1.3MB\r",
        "  Downloading docutils-0.11.tar.gz (1.6MB):  79%  1.3MB\r",
        "  Downloading docutils-0.11.tar.gz (1.6MB):  79%  1.3MB\r",
        "  Downloading docutils-0.11.tar.gz (1.6MB):  80%  1.3MB\r",
        "  Downloading docutils-0.11.tar.gz (1.6MB):  80%  1.3MB\r",
        "  Downloading docutils-0.11.tar.gz (1.6MB):  80%  1.3MB\r",
        "  Downloading docutils-0.11.tar.gz (1.6MB):  80%  1.3MB\r",
        "  Downloading docutils-0.11.tar.gz (1.6MB):  81%  1.3MB\r",
        "  Downloading docutils-0.11.tar.gz (1.6MB):  81%  1.3MB\r",
        "  Downloading docutils-0.11.tar.gz (1.6MB):  81%  1.3MB\r",
        "  Downloading docutils-0.11.tar.gz (1.6MB):  81%  1.3MB\r",
        "  Downloading docutils-0.11.tar.gz (1.6MB):  82%  1.3MB\r",
        "  Downloading docutils-0.11.tar.gz (1.6MB):  82%  1.3MB\r",
        "  Downloading docutils-0.11.tar.gz (1.6MB):  82%  1.3MB\r",
        "  Downloading docutils-0.11.tar.gz (1.6MB):  82%  1.3MB\r",
        "  Downloading docutils-0.11.tar.gz (1.6MB):  83%  1.3MB\r",
        "  Downloading docutils-0.11.tar.gz (1.6MB):  83%  1.3MB\r",
        "  Downloading docutils-0.11.tar.gz (1.6MB):  83%  1.3MB\r",
        "  Downloading docutils-0.11.tar.gz (1.6MB):  83%  1.4MB\r",
        "  Downloading docutils-0.11.tar.gz (1.6MB):  84%  1.4MB\r",
        "  Downloading docutils-0.11.tar.gz (1.6MB):  84%  1.4MB\r",
        "  Downloading docutils-0.11.tar.gz (1.6MB):  84%  1.4MB\r",
        "  Downloading docutils-0.11.tar.gz (1.6MB):  84%  1.4MB\r",
        "  Downloading docutils-0.11.tar.gz (1.6MB):  85%  1.4MB\r",
        "  Downloading docutils-0.11.tar.gz (1.6MB):  85%  1.4MB"
       ]
      },
      {
       "output_type": "stream",
       "stream": "stdout",
       "text": [
        "\r",
        "  Downloading docutils-0.11.tar.gz (1.6MB):  85%  1.4MB\r",
        "  Downloading docutils-0.11.tar.gz (1.6MB):  85%  1.4MB\r",
        "  Downloading docutils-0.11.tar.gz (1.6MB):  86%  1.4MB\r",
        "  Downloading docutils-0.11.tar.gz (1.6MB):  86%  1.4MB\r",
        "  Downloading docutils-0.11.tar.gz (1.6MB):  86%  1.4MB\r",
        "  Downloading docutils-0.11.tar.gz (1.6MB):  86%  1.4MB\r",
        "  Downloading docutils-0.11.tar.gz (1.6MB):  87%  1.4MB\r",
        "  Downloading docutils-0.11.tar.gz (1.6MB):  87%  1.4MB\r",
        "  Downloading docutils-0.11.tar.gz (1.6MB):  87%  1.4MB\r",
        "  Downloading docutils-0.11.tar.gz (1.6MB):  87%  1.4MB\r",
        "  Downloading docutils-0.11.tar.gz (1.6MB):  88%  1.4MB\r",
        "  Downloading docutils-0.11.tar.gz (1.6MB):  88%  1.4MB\r",
        "  Downloading docutils-0.11.tar.gz (1.6MB):  88%  1.4MB\r",
        "  Downloading docutils-0.11.tar.gz (1.6MB):  88%  1.4MB\r",
        "  Downloading docutils-0.11.tar.gz (1.6MB):  89%  1.4MB\r",
        "  Downloading docutils-0.11.tar.gz (1.6MB):  89%  1.4MB\r",
        "  Downloading docutils-0.11.tar.gz (1.6MB):  89%  1.4MB\r",
        "  Downloading docutils-0.11.tar.gz (1.6MB):  89%  1.4MB\r",
        "  Downloading docutils-0.11.tar.gz (1.6MB):  90%  1.5MB\r",
        "  Downloading docutils-0.11.tar.gz (1.6MB):  90%  1.5MB\r",
        "  Downloading docutils-0.11.tar.gz (1.6MB):  90%  1.5MB\r",
        "  Downloading docutils-0.11.tar.gz (1.6MB):  90%  1.5MB\r",
        "  Downloading docutils-0.11.tar.gz (1.6MB):  91%  1.5MB\r",
        "  Downloading docutils-0.11.tar.gz (1.6MB):  91%  1.5MB\r",
        "  Downloading docutils-0.11.tar.gz (1.6MB):  91%  1.5MB\r",
        "  Downloading docutils-0.11.tar.gz (1.6MB):  91%  1.5MB\r",
        "  Downloading docutils-0.11.tar.gz (1.6MB):  92%  1.5MB\r",
        "  Downloading docutils-0.11.tar.gz (1.6MB):  92%  1.5MB"
       ]
      },
      {
       "output_type": "stream",
       "stream": "stdout",
       "text": [
        "\r",
        "  Downloading docutils-0.11.tar.gz (1.6MB):  92%  1.5MB\r",
        "  Downloading docutils-0.11.tar.gz (1.6MB):  93%  1.5MB\r",
        "  Downloading docutils-0.11.tar.gz (1.6MB):  93%  1.5MB\r",
        "  Downloading docutils-0.11.tar.gz (1.6MB):  93%  1.5MB\r",
        "  Downloading docutils-0.11.tar.gz (1.6MB):  93%  1.5MB\r",
        "  Downloading docutils-0.11.tar.gz (1.6MB):  94%  1.5MB\r",
        "  Downloading docutils-0.11.tar.gz (1.6MB):  94%  1.5MB\r",
        "  Downloading docutils-0.11.tar.gz (1.6MB):  94%  1.5MB\r",
        "  Downloading docutils-0.11.tar.gz (1.6MB):  94%  1.5MB\r",
        "  Downloading docutils-0.11.tar.gz (1.6MB):  95%  1.5MB\r",
        "  Downloading docutils-0.11.tar.gz (1.6MB):  95%  1.5MB\r",
        "  Downloading docutils-0.11.tar.gz (1.6MB):  95%  1.5MB\r",
        "  Downloading docutils-0.11.tar.gz (1.6MB):  95%  1.5MB\r",
        "  Downloading docutils-0.11.tar.gz (1.6MB):  96%  1.5MB\r",
        "  Downloading docutils-0.11.tar.gz (1.6MB):  96%  1.6MB\r",
        "  Downloading docutils-0.11.tar.gz (1.6MB):  96%  1.6MB\r",
        "  Downloading docutils-0.11.tar.gz (1.6MB):  96%  1.6MB\r",
        "  Downloading docutils-0.11.tar.gz (1.6MB):  97%  1.6MB\r",
        "  Downloading docutils-0.11.tar.gz (1.6MB):  97%  1.6MB\r",
        "  Downloading docutils-0.11.tar.gz (1.6MB):  97%  1.6MB\r",
        "  Downloading docutils-0.11.tar.gz (1.6MB):  97%  1.6MB\r",
        "  Downloading docutils-0.11.tar.gz (1.6MB):  98%  1.6MB\r",
        "  Downloading docutils-0.11.tar.gz (1.6MB):  98%  1.6MB\r",
        "  Downloading docutils-0.11.tar.gz (1.6MB):  98%  1.6MB\r",
        "  Downloading docutils-0.11.tar.gz (1.6MB):  98%  1.6MB\r",
        "  Downloading docutils-0.11.tar.gz (1.6MB):  99%  1.6MB\r",
        "  Downloading docutils-0.11.tar.gz (1.6MB):  99%  1.6MB\r",
        "  Downloading docutils-0.11.tar.gz (1.6MB):  99%  1.6MB"
       ]
      },
      {
       "output_type": "stream",
       "stream": "stdout",
       "text": [
        "\r",
        "  Downloading docutils-0.11.tar.gz (1.6MB):  99%  1.6MB\r",
        "  Downloading docutils-0.11.tar.gz (1.6MB): 100%  1.6MB\r",
        "  Downloading docutils-0.11.tar.gz (1.6MB):            \r",
        "  Downloading docutils-0.11.tar.gz (1.6MB): 1.6MB downloaded\r\n"
       ]
      },
      {
       "output_type": "stream",
       "stream": "stdout",
       "text": [
        "  Running setup.py egg_info for package docutils\r\n"
       ]
      },
      {
       "output_type": "stream",
       "stream": "stdout",
       "text": [
        "    \r\n",
        "    warning: no files found matching 'MANIFEST'\r\n",
        "    warning: no files found matching '*' under directory 'extras'\r\n",
        "    warning: no previously-included files matching '.cvsignore' found under directory '*'\r\n",
        "    warning: no previously-included files matching '*.pyc' found under directory '*'\r\n",
        "    warning: no previously-included files matching '*~' found under directory '*'\r\n",
        "    warning: no previously-included files matching '.DS_Store' found under directory '*'\r\n"
       ]
      },
      {
       "output_type": "stream",
       "stream": "stdout",
       "text": [
        "Requirement already satisfied (use --upgrade to upgrade): Jinja2>=2.3 in /usr/local/lib/python2.7/dist-packages (from sphinx)\r\n",
        "Requirement already satisfied (use --upgrade to upgrade): markupsafe in /usr/local/lib/python2.7/dist-packages (from Jinja2>=2.3->sphinx)\r\n",
        "Installing collected packages: sphinx, docutils\r\n",
        "  Running setup.py install for sphinx\r\n"
       ]
      },
      {
       "output_type": "stream",
       "stream": "stdout",
       "text": [
        "    \r\n"
       ]
      },
      {
       "output_type": "stream",
       "stream": "stdout",
       "text": [
        "    no previously-included directories found matching 'doc/_build'\r\n"
       ]
      },
      {
       "output_type": "stream",
       "stream": "stdout",
       "text": [
        "    Installing sphinx-apidoc script to /usr/local/bin\r\n",
        "    Installing sphinx-build script to /usr/local/bin\r\n",
        "    Installing sphinx-quickstart script to /usr/local/bin\r\n",
        "    Installing sphinx-autogen script to /usr/local/bin\r\n"
       ]
      },
      {
       "output_type": "stream",
       "stream": "stdout",
       "text": [
        "  Running setup.py install for docutils\r\n"
       ]
      },
      {
       "output_type": "stream",
       "stream": "stdout",
       "text": [
        "    changing mode of build/scripts-2.7/rst2html.py from 644 to 755\r\n",
        "    changing mode of build/scripts-2.7/rst2s5.py from 644 to 755\r\n",
        "    changing mode of build/scripts-2.7/rst2latex.py from 644 to 755\r\n",
        "    changing mode of build/scripts-2.7/rst2xetex.py from 644 to 755\r\n",
        "    changing mode of build/scripts-2.7/rst2man.py from 644 to 755\r\n",
        "    changing mode of build/scripts-2.7/rst2xml.py from 644 to 755\r\n",
        "    changing mode of build/scripts-2.7/rst2pseudoxml.py from 644 to 755\r\n",
        "    changing mode of build/scripts-2.7/rstpep2html.py from 644 to 755\r\n",
        "    changing mode of build/scripts-2.7/rst2odt.py from 644 to 755\r\n",
        "    changing mode of build/scripts-2.7/rst2odt_prepstyles.py from 644 to 755\r\n"
       ]
      },
      {
       "output_type": "stream",
       "stream": "stdout",
       "text": [
        "    \r\n"
       ]
      },
      {
       "output_type": "stream",
       "stream": "stdout",
       "text": [
        "    warning: no files found matching 'MANIFEST'\r\n",
        "    warning: no files found matching '*' under directory 'extras'\r\n",
        "    warning: no previously-included files matching '.cvsignore' found under directory '*'\r\n",
        "    warning: no previously-included files matching '*.pyc' found under directory '*'\r\n",
        "    warning: no previously-included files matching '*~' found under directory '*'\r\n",
        "    warning: no previously-included files matching '.DS_Store' found under directory '*'\r\n",
        "    changing mode of /usr/local/bin/rst2odt_prepstyles.py to 755\r\n",
        "    changing mode of /usr/local/bin/rst2xetex.py to 755\r\n",
        "    changing mode of /usr/local/bin/rst2html.py to 755\r\n",
        "    changing mode of /usr/local/bin/rstpep2html.py to 755\r\n",
        "    changing mode of /usr/local/bin/rst2pseudoxml.py to 755\r\n",
        "    changing mode of /usr/local/bin/rst2s5.py to 755\r\n",
        "    changing mode of /usr/local/bin/rst2man.py to 755\r\n",
        "    changing mode of /usr/local/bin/rst2xml.py to 755\r\n",
        "    changing mode of /usr/local/bin/rst2odt.py to 755\r\n",
        "    changing mode of /usr/local/bin/rst2latex.py to 755\r\n"
       ]
      },
      {
       "output_type": "stream",
       "stream": "stdout",
       "text": [
        "Successfully installed sphinx docutils\r\n",
        "Cleaning up...\r\n"
       ]
      }
     ],
     "prompt_number": 2
    },
    {
     "cell_type": "markdown",
     "metadata": {},
     "source": [
      "Now we can install the hierarchymagic:"
     ]
    },
    {
     "cell_type": "code",
     "collapsed": false,
     "input": [
      "%install_ext https://raw.github.com/tkf/ipython-hierarchymagic/master/hierarchymagic.py"
     ],
     "language": "python",
     "metadata": {},
     "outputs": [
      {
       "output_type": "stream",
       "stream": "stdout",
       "text": [
        "Installed hierarchymagic.py. To use it, type:\n",
        "  %load_ext hierarchymagic\n"
       ]
      }
     ],
     "prompt_number": 3
    },
    {
     "cell_type": "code",
     "collapsed": false,
     "input": [
      "%load_ext hierarchymagic"
     ],
     "language": "python",
     "metadata": {},
     "outputs": [],
     "prompt_number": 4
    },
    {
     "cell_type": "markdown",
     "metadata": {},
     "source": [
      "And lo! GraphViz diagrams!"
     ]
    },
    {
     "cell_type": "code",
     "collapsed": false,
     "input": [
      "%%dot -f svg\n",
      "digraph DockerStates {\n",
      "    rankdir=LR;\n",
      "    no_image -> image [label=\"build\"];\n",
      "    no_image [label=\"\"];\n",
      "    no_image -> image [label=\"pull\"];\n",
      "    image -> no_image [label=\"rmi\"];\n",
      "    image -> attached [label=\"run\"];\n",
      "    attached -> running [label=\"ctrl-c\"];\n",
      "    running -> running [label=\"restart\"];\n",
      "    running -> stopped [label=\"stop\"];\n",
      "    stopped -> running [label=\"start\"];\n",
      "    stopped -> image [label=\"rm\"];\n",
      "}"
     ],
     "language": "python",
     "metadata": {},
     "outputs": [
      {
       "metadata": {},
       "output_type": "display_data",
       "svg": [
        "<?xml version=\"1.0\" encoding=\"UTF-8\" standalone=\"no\"?>\n",
        "<!DOCTYPE svg PUBLIC \"-//W3C//DTD SVG 1.1//EN\"\n",
        " \"http://www.w3.org/Graphics/SVG/1.1/DTD/svg11.dtd\">\n",
        "<!-- Generated by graphviz version 2.26.3 (20100126.1600)\n",
        " -->\n",
        "<!-- Title: DockerStates Pages: 1 -->\n",
        "<svg width=\"726pt\" height=\"118pt\"\n",
        " viewBox=\"0.00 0.00 726.00 118.08\" xmlns=\"http://www.w3.org/2000/svg\" xmlns:xlink=\"http://www.w3.org/1999/xlink\">\n",
        "<g id=\"graph1\" class=\"graph\" transform=\"scale(1 1) rotate(0) translate(4 114.076)\">\n",
        "<title>DockerStates</title>\n",
        "<polygon fill=\"white\" stroke=\"white\" points=\"-4,5 -4,-114.076 723,-114.076 723,5 -4,5\"/>\n",
        "<!-- no_image -->\n",
        "<g id=\"node1\" class=\"node\"><title>no_image</title>\n",
        "<ellipse fill=\"none\" stroke=\"black\" cx=\"27\" cy=\"-27.0755\" rx=\"27\" ry=\"18\"/>\n",
        "</g>\n",
        "<!-- image -->\n",
        "<g id=\"node3\" class=\"node\"><title>image</title>\n",
        "<ellipse fill=\"none\" stroke=\"black\" cx=\"165\" cy=\"-27.0755\" rx=\"39.8056\" ry=\"18\"/>\n",
        "<text text-anchor=\"middle\" x=\"165\" y=\"-22.9755\" font-family=\"Times Roman,serif\" font-size=\"14.00\">image</text>\n",
        "</g>\n",
        "<!-- no_image&#45;&gt;image -->\n",
        "<g id=\"edge2\" class=\"edge\"><title>no_image&#45;&gt;image</title>\n",
        "<path fill=\"none\" stroke=\"black\" d=\"M48.9234,-37.7802C56.103,-40.7556 64.2333,-43.5798 72,-45.0755 89.2514,-48.3978 108.3,-45.8129 124.641,-41.6723\"/>\n",
        "<polygon fill=\"black\" stroke=\"black\" points=\"125.74,-44.9993 134.426,-38.9321 123.852,-38.2586 125.74,-44.9993\"/>\n",
        "<text text-anchor=\"middle\" x=\"89\" y=\"-50.4755\" font-family=\"Times Roman,serif\" font-size=\"14.00\">build</text>\n",
        "</g>\n",
        "<!-- no_image&#45;&gt;image -->\n",
        "<g id=\"edge4\" class=\"edge\"><title>no_image&#45;&gt;image</title>\n",
        "<path fill=\"none\" stroke=\"black\" d=\"M54.1129,-24.975C60.006,-24.6004 66.2091,-24.2683 72,-24.0755 85.7664,-23.6172 100.679,-23.7969 114.448,-24.2406\"/>\n",
        "<polygon fill=\"black\" stroke=\"black\" points=\"114.592,-27.7484 124.716,-24.6251 114.854,-20.7533 114.592,-27.7484\"/>\n",
        "<text text-anchor=\"middle\" x=\"89\" y=\"-28.4755\" font-family=\"Times Roman,serif\" font-size=\"14.00\">pull</text>\n",
        "</g>\n",
        "<!-- image&#45;&gt;no_image -->\n",
        "<g id=\"edge6\" class=\"edge\"><title>image&#45;&gt;no_image</title>\n",
        "<path fill=\"none\" stroke=\"black\" d=\"M139.375,-12.8934C120.715,-4.34681 94.8201,3.83776 72,-2.07553 66.1251,-3.59786 60.2007,-6.07162 54.6663,-8.88495\"/>\n",
        "<polygon fill=\"black\" stroke=\"black\" points=\"52.8261,-5.90369 45.7983,-13.8321 56.2365,-12.0168 52.8261,-5.90369\"/>\n",
        "<text text-anchor=\"middle\" x=\"89\" y=\"-6.47553\" font-family=\"Times Roman,serif\" font-size=\"14.00\">rmi</text>\n",
        "</g>\n",
        "<!-- attached -->\n",
        "<g id=\"node7\" class=\"node\"><title>attached</title>\n",
        "<ellipse fill=\"none\" stroke=\"black\" cx=\"322\" cy=\"-57.0755\" rx=\"53.0059\" ry=\"18\"/>\n",
        "<text text-anchor=\"middle\" x=\"322\" y=\"-52.9755\" font-family=\"Times Roman,serif\" font-size=\"14.00\">attached</text>\n",
        "</g>\n",
        "<!-- image&#45;&gt;attached -->\n",
        "<g id=\"edge8\" class=\"edge\"><title>image&#45;&gt;attached</title>\n",
        "<path fill=\"none\" stroke=\"black\" d=\"M202.605,-34.2613C221.394,-37.8514 244.518,-42.2701 265.397,-46.2596\"/>\n",
        "<polygon fill=\"black\" stroke=\"black\" points=\"264.958,-49.739 275.437,-48.1781 266.271,-42.8633 264.958,-49.739\"/>\n",
        "<text text-anchor=\"middle\" x=\"237\" y=\"-46.4755\" font-family=\"Times Roman,serif\" font-size=\"14.00\">run</text>\n",
        "</g>\n",
        "<!-- running -->\n",
        "<g id=\"node9\" class=\"node\"><title>running</title>\n",
        "<ellipse fill=\"none\" stroke=\"black\" cx=\"498\" cy=\"-57.0755\" rx=\"48.8383\" ry=\"18\"/>\n",
        "<text text-anchor=\"middle\" x=\"498\" y=\"-52.9755\" font-family=\"Times Roman,serif\" font-size=\"14.00\">running</text>\n",
        "</g>\n",
        "<!-- attached&#45;&gt;running -->\n",
        "<g id=\"edge10\" class=\"edge\"><title>attached&#45;&gt;running</title>\n",
        "<path fill=\"none\" stroke=\"black\" d=\"M375.762,-57.0755C395.566,-57.0755 418.111,-57.0755 438.399,-57.0755\"/>\n",
        "<polygon fill=\"black\" stroke=\"black\" points=\"438.466,-60.5756 448.466,-57.0755 438.465,-53.5756 438.466,-60.5756\"/>\n",
        "<text text-anchor=\"middle\" x=\"412\" y=\"-61.4755\" font-family=\"Times Roman,serif\" font-size=\"14.00\">ctrl&#45;c</text>\n",
        "</g>\n",
        "<!-- running&#45;&gt;running -->\n",
        "<g id=\"edge12\" class=\"edge\"><title>running&#45;&gt;running</title>\n",
        "<path fill=\"none\" stroke=\"black\" d=\"M483.004,-74.4854C480.204,-84.1634 485.203,-93.0755 498,-93.0755 505.998,-93.0755 510.95,-89.5942 512.856,-84.6205\"/>\n",
        "<polygon fill=\"black\" stroke=\"black\" points=\"516.357,-84.533 512.996,-74.4854 509.358,-84.4359 516.357,-84.533\"/>\n",
        "<text text-anchor=\"middle\" x=\"498\" y=\"-97.4755\" font-family=\"Times Roman,serif\" font-size=\"14.00\">restart</text>\n",
        "</g>\n",
        "<!-- stopped -->\n",
        "<g id=\"node12\" class=\"node\"><title>stopped</title>\n",
        "<ellipse fill=\"none\" stroke=\"black\" cx=\"668\" cy=\"-44.0755\" rx=\"48.8383\" ry=\"18\"/>\n",
        "<text text-anchor=\"middle\" x=\"668\" y=\"-39.9755\" font-family=\"Times Roman,serif\" font-size=\"14.00\">stopped</text>\n",
        "</g>\n",
        "<!-- running&#45;&gt;stopped -->\n",
        "<g id=\"edge14\" class=\"edge\"><title>running&#45;&gt;stopped</title>\n",
        "<path fill=\"none\" stroke=\"black\" d=\"M545.112,-62.8779C562.426,-64.0921 582.155,-64.3974 600,-62.0755 606.672,-61.2074 613.622,-59.8793 620.42,-58.3294\"/>\n",
        "<polygon fill=\"black\" stroke=\"black\" points=\"621.344,-61.7067 630.224,-55.9275 619.678,-54.9078 621.344,-61.7067\"/>\n",
        "<text text-anchor=\"middle\" x=\"583\" y=\"-67.4755\" font-family=\"Times Roman,serif\" font-size=\"14.00\">stop</text>\n",
        "</g>\n",
        "<!-- stopped&#45;&gt;image -->\n",
        "<g id=\"edge18\" class=\"edge\"><title>stopped&#45;&gt;image</title>\n",
        "<path fill=\"none\" stroke=\"black\" d=\"M621.96,-37.3002C599.679,-34.3809 572.507,-31.3473 548,-30.0755 429.167,-23.909 289.323,-24.8977 215.907,-26.0514\"/>\n",
        "<polygon fill=\"black\" stroke=\"black\" points=\"215.508,-22.5574 205.567,-26.222 215.623,-29.5564 215.508,-22.5574\"/>\n",
        "<text text-anchor=\"middle\" x=\"412\" y=\"-29.4755\" font-family=\"Times Roman,serif\" font-size=\"14.00\">rm</text>\n",
        "</g>\n",
        "<!-- stopped&#45;&gt;running -->\n",
        "<g id=\"edge16\" class=\"edge\"><title>stopped&#45;&gt;running</title>\n",
        "<path fill=\"none\" stroke=\"black\" d=\"M619.88,-39.8044C602.817,-39.044 583.51,-39.0433 566,-41.0755 560.057,-41.7652 553.88,-42.7832 547.779,-43.9773\"/>\n",
        "<polygon fill=\"black\" stroke=\"black\" points=\"546.696,-40.629 537.639,-46.1264 548.148,-47.4769 546.696,-40.629\"/>\n",
        "<text text-anchor=\"middle\" x=\"583\" y=\"-45.4755\" font-family=\"Times Roman,serif\" font-size=\"14.00\">start</text>\n",
        "</g>\n",
        "</g>\n",
        "</svg>\n"
       ]
      }
     ],
     "prompt_number": 5
    }
   ],
   "metadata": {}
  }
 ]
}