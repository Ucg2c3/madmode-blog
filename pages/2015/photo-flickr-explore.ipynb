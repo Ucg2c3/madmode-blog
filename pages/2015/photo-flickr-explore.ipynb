{
 "cells": [
  {
   "cell_type": "markdown",
   "metadata": {},
   "source": [
    "# Syncing a 5 Year iPhoto Library with flickr\n",
    "\n",
    "<pre class=\"about yaml\">\n",
    "date: 2015-07-07\n",
    "tags: [mac, photos, sysadmin, ipython]\n",
    "published: false\n",
    "</pre>"
   ]
  },
  {
   "cell_type": "markdown",
   "metadata": {},
   "source": [
    "tags: [mac photos](https://www.diigo.com/user/dckc-madmode/mac%20photos), [mac sysadmin](https://www.diigo.com/user/dckc-madmode/mac%20sysadmin)"
   ]
  },
  {
   "cell_type": "markdown",
   "metadata": {},
   "source": [
    "Yay! jawj's [iphoto-flickr](https://github.com/jawj/iphoto-flickr) sync'd a 30GB iPhoto library flickr. Not only did it upload the images, but it made a map from iPhoto metadata to flickr metadata that lets me continue on with the flickr API, syncing dates and such, during and after the upload."
   ]
  },
  {
   "cell_type": "markdown",
   "metadata": {},
   "source": [
    "## OS X Yosemite runs iPhoto, reluctantly\n",
    "\n",
    "Having replaced it with a newer model, I gave **airbook**, our late 2008 MacBook Air MB543LL/A, a complete labotomy and installed OS X Yosemite. When I tried to re-introduce it to our photo archive, Apple told me iPhoto is no longer; Photos is the new thing, complete with iCloud hip-ness.\n",
    "\n",
    "So I'm faced with another \"to Mac or not to Mac?\" moment.\n",
    "\n",
    "This time I figure no, I lead a multi-platform life and I want something more web-native.\n",
    "\n",
    "I spent a bunch of time trying to downgrade to Mavericks. Just when I had given up trying to do it myself and ordered Mavericks on a USB flash drive via eBay, I learned that if you [start iPhoto from a command prompt][37], it runs on Yosemite after all.\n",
    "\n",
    "[37]: http://www.simplehelp.net/2015/05/01/how-to-install-iphoto-in-yosemite-os-x-10-10/#comment-2097851737\n",
    "\n",
    "The only complication was a dangling reference to `iLifeSlideshow.framework` in `/System/Library/PrivateFrameworks`. (Thank you [Carbon Copy Cloner](https://bombich.com/) for a complete backup!)"
   ]
  },
  {
   "cell_type": "markdown",
   "metadata": {},
   "source": [
    "### Home directory in encrypted sparsebundle\n",
    "\n",
    "This photo library is on an external USB drive, in an encrypted sparsebundle. The [sparsebundle support discussion](https://discussions.apple.com/thread/2082558?tstart=0) said all I have to do is double-click it, but it's hidden (filename starts with a dot). Command-line to the rescue, again: `open /Users/.maryc`."
   ]
  },
  {
   "cell_type": "markdown",
   "metadata": {},
   "source": [
    "## Flickr is the web photo service for the closet librarian\n",
    "\n",
    "As an Android mobile user, Google's photo offerings were tempting. Then I discovered browsing photos of person X only works within one album. And to put a photo in multiple albums, you have to copy it, i.e. maintain the tags and such twice.\n",
    "\n",
    "My friends-and-family photo sharing community mostly uses facebook these days, but for curating an archive, flickr is a much better match. Imagine my horror when I downloaded some of my photos from facebook and discovered they were only available at reduced resolution. Perhaps they've addressed that since, but I still haven't seen any support for date-taken as separate from date-uploaded on facebook. There's little, if any, support for quietly curating without notifications firing every which way.\n",
    "\n",
    "My photostream on flickr goes back to [Dec 2004](https://www.flickr.com/photos/dckc/archives/date-posted/2004/12/calendar/) when it was big in the open web community. I could never bring myself to go premium, but in May 2013 when they announced the terabyte storage offer, I dusted it off. Re-establishing my long lost yahoo credentials was no small feat, but I managed."
   ]
  },
  {
   "cell_type": "markdown",
   "metadata": {},
   "source": [
    "## Flickr Backup from Mac App Store was a Bust\n",
    "\n",
    "A quick search of the Mac App store turned up promising results:\n",
    "\n",
    " - [Backup to Flickr for iPhoto](https://itunes.apple.com/us/app/backup-to-flickr-for-iphoto/id733300407?mt=12)  \n",
    "   By Sonia Bohelay\n",
    "\n",
    "It was just a few bucks, so I went ahead. But oops: **Your iPhoto library is either too old (iPhoto version < 9.0) or no photo found**. Indeed, my library is from 8.1.2. I might have been able to upgrade the library, but with Apple pushing Photos over iPhoto, I didn't want to bet on it."
   ]
  },
  {
   "cell_type": "markdown",
   "metadata": {},
   "source": [
    "## iPhoto -> Flickr in 350 lines of code\n",
    "\n",
    "I was thinking about rolling my own with the flickr API when I discovered a kindred spirit had already been down this path and come up with [iPhoto -> Flickr](https://github.com/jawj/iphoto-flickr).\n",
    " \n",
    "It worked in one go, so the incremental upload support wasn't necessary for the initial bulk upload, but to further sync the metadata, the resulting `uploaded-photo-ids-map.txt` is critical. In fact, I had to wrestle with iPhoto a bit to get ids that are useful without iPhoto running."
   ]
  },
  {
   "cell_type": "markdown",
   "metadata": {},
   "source": [
    "### Just Add API Key and Authorize with OAuth"
   ]
  },
  {
   "cell_type": "markdown",
   "metadata": {},
   "source": [
    "It works pretty much like it says on the tin. (*The [colorize dependency issue][22] was easy enough to figure out.*)\n",
    "\n",
    "[22]: https://github.com/jawj/iphoto-flickr/issues/22"
   ]
  },
  {
   "cell_type": "markdown",
   "metadata": {},
   "source": [
    "```\n",
    "airbook:src connolly$ git clone https://github.com/jawj/flickrbackup.git  # e339169212\n",
    "airbook:flickrbackup connolly$ sudo gem install flickraw-cached colorize\n",
    "Successfully installed flickraw-0.9.8\n",
    "Successfully installed flickraw-cached-20120701\n",
    "Successfully installed colorize-0.7.7\n",
    "\n",
    "airbook:flickrbackup connolly$ ruby flickrbackup.rb \n",
    "\n",
    "Flickr API key: 0481...\n",
    "Flickr API shared secret: 897...\n",
    "Authorise access to your Flickr account: press [Return] when ready\n",
    "Authorisation code: 162-...\n",
    "\n",
    "2015-07-04 13:47:28 -0500  Authenticated as: DanC\n",
    "\n",
    "2015-07-04 13:47:44 -0500  8057 photos and 78 standard albums in iPhoto library\n",
    "2015-07-04 13:47:44 -0500  8057 photos not yet uploaded to Flickr\n",
    "```"
   ]
  },
  {
   "cell_type": "markdown",
   "metadata": {},
   "source": [
    "## Platform Independent Data\n",
    "\n",
    "The kernel for this notebook is on my linux desktop, but iPhoto is running on **airbook**.\n",
    "\n",
    "*Since spaces in filenames are a royal pain over ssh, I made a convenient symlink.*"
   ]
  },
  {
   "cell_type": "code",
   "execution_count": 190,
   "metadata": {
    "collapsed": false
   },
   "outputs": [
    {
     "name": "stdout",
     "output_type": "stream",
     "text": [
      "lrwxr-xr-x  1 connolly  staff  57 Jul  5 09:34 Pictures/flickrbackup -> /Users/connolly/Library/Application Support/flickrbackup/\r\n"
     ]
    }
   ],
   "source": [
    "!ssh airbook.local ls -l Pictures/flickrbackup"
   ]
  },
  {
   "cell_type": "markdown",
   "metadata": {},
   "source": [
    "## Upload Map DataFrame\n",
    "\n",
    "It carefully logs the correspondence to support incremental update:\n",
    "\n",
    "```\n",
    "2015-07-04 13:47:44 -0500  (1/8057)  Uploading '...2002/Sep 25, 2002/....jpg' ... 4294967334 -> 19226418710\n",
    "```\n",
    "\n",
    "Let's make sure we have redundant copies of the map. And let's use ordinary CSV rather than the funky ` -> ` format."
   ]
  },
  {
   "cell_type": "code",
   "execution_count": 191,
   "metadata": {
    "collapsed": false
   },
   "outputs": [
    {
     "data": {
      "text/plain": [
       "{'numpy': '1.9.2', 'pandas': '0.14.1'}"
      ]
     },
     "execution_count": 191,
     "metadata": {},
     "output_type": "execute_result"
    }
   ],
   "source": [
    "from IPython.display import display, Image\n",
    "import pandas as pd\n",
    "import numpy as np\n",
    "dict(pandas=pd.__version__, numpy=np.__version__)"
   ]
  },
  {
   "cell_type": "code",
   "execution_count": 112,
   "metadata": {
    "collapsed": false
   },
   "outputs": [
    {
     "data": {
      "text/html": [
       "<div style=\"max-height:1000px;max-width:1500px;overflow:auto;\">\n",
       "<table border=\"1\" class=\"dataframe\">\n",
       "  <thead>\n",
       "    <tr style=\"text-align: right;\">\n",
       "      <th></th>\n",
       "      <th>apple</th>\n",
       "      <th>flickr</th>\n",
       "    </tr>\n",
       "  </thead>\n",
       "  <tbody>\n",
       "    <tr>\n",
       "      <th>0</th>\n",
       "      <td> 4294967334</td>\n",
       "      <td> 19226418710</td>\n",
       "    </tr>\n",
       "    <tr>\n",
       "      <th>1</th>\n",
       "      <td> 4294976544</td>\n",
       "      <td> 18793385783</td>\n",
       "    </tr>\n",
       "    <tr>\n",
       "      <th>2</th>\n",
       "      <td> 4294976530</td>\n",
       "      <td> 18793388523</td>\n",
       "    </tr>\n",
       "    <tr>\n",
       "      <th>3</th>\n",
       "      <td> 4294976542</td>\n",
       "      <td> 18791506174</td>\n",
       "    </tr>\n",
       "    <tr>\n",
       "      <th>4</th>\n",
       "      <td> 4294971867</td>\n",
       "      <td> 19414016905</td>\n",
       "    </tr>\n",
       "  </tbody>\n",
       "</table>\n",
       "</div>"
      ],
      "text/plain": [
       "        apple       flickr\n",
       "0  4294967334  19226418710\n",
       "1  4294976544  18793385783\n",
       "2  4294976530  18793388523\n",
       "3  4294976542  18791506174\n",
       "4  4294971867  19414016905"
      ]
     },
     "execution_count": 112,
     "metadata": {},
     "output_type": "execute_result"
    }
   ],
   "source": [
    "upload_map = !ssh airbook.local cat Pictures/flickrbackup/uploaded-photo-ids-map.txt\n",
    "upload_map = pd.DataFrame(dict(apple=int(a), flickr=int(f))\n",
    "                          for (a, f) in [line.split(' -> ') for line in upload_map])\n",
    "upload_map.head()"
   ]
  },
  {
   "cell_type": "code",
   "execution_count": 187,
   "metadata": {
    "collapsed": false
   },
   "outputs": [],
   "source": [
    "upload_map.to_csv('uploaded-photo-ids-map.csv')"
   ]
  },
  {
   "cell_type": "markdown",
   "metadata": {},
   "source": [
    "## Flickr metadata access\n",
    "\n",
    "Let's take a at the results on flickr. I experimented with python flickr apis; the main one seems to be [Python Flickr][1]. [flickdata.py](flickdata.py) (in [palmagent](http://bitbucket.org/DanC/palmagent/)) is a least-authority packaging of that API.\n",
    "\n",
    "*TODO: use a separate Photo object for setDates.*\n",
    "\n",
    "[1]: http://stuvel.eu/media/flickrapi-docs/documentation/index.html"
   ]
  },
  {
   "cell_type": "code",
   "execution_count": 168,
   "metadata": {
    "collapsed": false
   },
   "outputs": [
    {
     "data": {
      "text/plain": [
       "'0.4'"
      ]
     },
     "execution_count": 168,
     "metadata": {},
     "output_type": "execute_result"
    }
   ],
   "source": [
    "import flickdata\n",
    "reload(flickdata)\n",
    "flickdata.__version__"
   ]
  },
  {
   "cell_type": "markdown",
   "metadata": {},
   "source": [
    "To make a `flickdata.Account`, we use the privileged iPython notebook environment to get network access and the API key (*and OAuth credentials... where do they get squirrelled away?*) and pass it to `flickdata`:"
   ]
  },
  {
   "cell_type": "code",
   "execution_count": 45,
   "metadata": {
    "collapsed": false
   },
   "outputs": [
    {
     "name": "stderr",
     "output_type": "stream",
     "text": [
      "INFO:root:We try to log I/O.\n"
     ]
    }
   ],
   "source": [
    "import json\n",
    "import logging\n",
    "logger = logging.getLogger()\n",
    "logger.setLevel(logging.INFO)\n",
    "logging.info('We try to log I/O.')"
   ]
  },
  {
   "cell_type": "code",
   "execution_count": 75,
   "metadata": {
    "collapsed": false
   },
   "outputs": [
    {
     "name": "stderr",
     "output_type": "stream",
     "text": [
      "INFO:flickdata:authenticating...\n",
      "INFO:flickrapi.core:Calling {'nojsoncallback': 1, 'method': 'flickr.auth.oauth.checkToken', 'format': 'parsed-json'}\n",
      "INFO:requests.packages.urllib3.connectionpool:Starting new HTTPS connection (1): api.flickr.com\n",
      "INFO:flickrapi.core:REST Parser: using xml.etree.cElementTree\n"
     ]
    }
   ],
   "source": [
    "def myFlickrAcct(user_id='14874637@N00'):\n",
    "    import pathlib\n",
    "    import flickrapi\n",
    "    api_secret = pathlib.Path('flickr_api_secret').open().read().strip()\n",
    "    return flickdata.Read.make(flickrapi, api_secret, user_id)\n",
    "\n",
    "myAcct = myFlickrAcct()"
   ]
  },
  {
   "cell_type": "markdown",
   "metadata": {},
   "source": [
    "### Photostream confused about recent photos\n",
    "\n",
    "A bunch of old photos and videos are showing up as recent in my photostream as the upload progresses.\n",
    "\n",
    "Flickr seems to set datetaken = date uploaded when there's no EXIF date, so let's look at these supposedly recent photos."
   ]
  },
  {
   "cell_type": "code",
   "execution_count": 172,
   "metadata": {
    "collapsed": false,
    "scrolled": false
   },
   "outputs": [
    {
     "name": "stderr",
     "output_type": "stream",
     "text": [
      "INFO:flickdata:getPhotos page 1 cirt: {'sort': 'date-taken-asc', 'min_taken_date': '2015-07', 'max_taken_date': '2015-08'}...\n",
      "INFO:flickrapi.core:Calling {'nojsoncallback': 1, 'method': 'flickr.people.getPhotos', 'format': 'parsed-json'}\n",
      "INFO:requests.packages.urllib3.connectionpool:Starting new HTTPS connection (1): api.flickr.com\n",
      "INFO:flickdata:page 1 of 1\n"
     ]
    },
    {
     "data": {
      "text/plain": [
       "78"
      ]
     },
     "execution_count": 172,
     "metadata": {},
     "output_type": "execute_result"
    }
   ],
   "source": [
    "records = [\n",
    "    r\n",
    "    for page in\n",
    "    myAcct.getPhotos(\n",
    "        min_taken_date='2015-07',\n",
    "        max_taken_date='2015-08',\n",
    "        sort='date-taken-asc')\n",
    "    for r in page]\n",
    "photo = pd.DataFrame(records)\n",
    "photo['id'] = photo.id.astype(int)  # odd... even in JSON format, ids come back as strings\n",
    "photo = photo.set_index('id')\n",
    "len(photo)"
   ]
  },
  {
   "cell_type": "markdown",
   "metadata": {},
   "source": [
    "### Photo URLs: Thumbnail\n",
    "\n",
    "Flickr's [URLs API](https://www.flickr.com/services/api/misc.urls.html) uses \"secrets\" so they serve as nice tasty [capability URLs][345] for the photos. So we can see this thumbnail from this iPython notebook even though we're not logged in to flickr here.\n",
    "\n",
    "[345]: http://www.w3.org/TR/capability-urls/"
   ]
  },
  {
   "cell_type": "code",
   "execution_count": 173,
   "metadata": {
    "collapsed": false
   },
   "outputs": [
    {
     "data": {
      "text/html": [
       "<img src=\"https://farm1.staticflickr.com/540/19350464562_2ff03b551d_t.jpg\"/>"
      ],
      "text/plain": [
       "<IPython.core.display.Image object>"
      ]
     },
     "execution_count": 173,
     "metadata": {},
     "output_type": "execute_result"
    }
   ],
   "source": [
    "Image(url=photo.iloc[0].url_t)"
   ]
  },
  {
   "cell_type": "markdown",
   "metadata": {},
   "source": [
    "### Photo info fields\n",
    "\n",
    "*Note: this isn't all fields available from [getPhotos][]*.\n",
    "\n",
    "[getPhotos]: https://www.flickr.com/services/api/flickr.galleries.getPhotos.html"
   ]
  },
  {
   "cell_type": "code",
   "execution_count": 174,
   "metadata": {
    "collapsed": false
   },
   "outputs": [
    {
     "data": {
      "text/plain": [
       "accuracy                                                               16\n",
       "context                                                                 0\n",
       "datetaken                                             2015-07-02 11:28:40\n",
       "datetakengranularity                                                    0\n",
       "datetakenunknown                                                        0\n",
       "dateupload                                                     1435854531\n",
       "description                                            {u'_content': u''}\n",
       "farm                                                                    1\n",
       "geo_is_contact                                                          0\n",
       "geo_is_family                                                           0\n",
       "geo_is_friend                                                           0\n",
       "geo_is_public                                                           1\n",
       "height_k                                                             1516\n",
       "height_o                                                             2368\n",
       "height_t                                                               74\n",
       "height_z                                                              474\n",
       "isfamily                                                                0\n",
       "isfriend                                                                0\n",
       "ispublic                                                                0\n",
       "latitude                                                        39.054611\n",
       "longitude                                                      -94.611264\n",
       "machine_tags                                                             \n",
       "owner                                                        14874637@N00\n",
       "place_id                                               _zncmCVTVLmQsuBlEg\n",
       "secret                                                         2ff03b551d\n",
       "server                                                                540\n",
       "tags                                                                     \n",
       "title                                                 IMG_20150702_112835\n",
       "url_k                   https://farm1.staticflickr.com/540/19350464562...\n",
       "url_o                   https://farm1.staticflickr.com/540/19350464562...\n",
       "url_t                   https://farm1.staticflickr.com/540/19350464562...\n",
       "url_z                   https://farm1.staticflickr.com/540/19350464562...\n",
       "width_k                                                              2048\n",
       "width_o                                                              3200\n",
       "width_t                                                               100\n",
       "width_z                                                               640\n",
       "woeid                                                            26342889\n",
       "Name: 19350464562, dtype: object"
      ]
     },
     "execution_count": 174,
     "metadata": {},
     "output_type": "execute_result"
    }
   ],
   "source": [
    "photo.iloc[0]"
   ]
  },
  {
   "cell_type": "markdown",
   "metadata": {},
   "source": [
    "Ah. Good. When the display defaults date taken to upload date, the underlying data tells us so:"
   ]
  },
  {
   "cell_type": "code",
   "execution_count": 176,
   "metadata": {
    "collapsed": false,
    "scrolled": true
   },
   "outputs": [
    {
     "data": {
      "text/html": [
       "<div style=\"max-height:1000px;max-width:1500px;overflow:auto;\">\n",
       "<table border=\"1\" class=\"dataframe\">\n",
       "  <thead>\n",
       "    <tr style=\"text-align: right;\">\n",
       "      <th></th>\n",
       "      <th>datetaken</th>\n",
       "      <th>upload_date</th>\n",
       "      <th>title</th>\n",
       "      <th>width_o</th>\n",
       "      <th>height_o</th>\n",
       "    </tr>\n",
       "    <tr>\n",
       "      <th>id</th>\n",
       "      <th></th>\n",
       "      <th></th>\n",
       "      <th></th>\n",
       "      <th></th>\n",
       "      <th></th>\n",
       "    </tr>\n",
       "  </thead>\n",
       "  <tbody>\n",
       "    <tr>\n",
       "      <th>19426161436</th>\n",
       "      <td> 2015-07-05 20:23:04</td>\n",
       "      <td>2015-07-05 20:23:04</td>\n",
       "      <td>  segway tour - 4</td>\n",
       "      <td>  466</td>\n",
       "      <td>  630</td>\n",
       "    </tr>\n",
       "    <tr>\n",
       "      <th>19456508621</th>\n",
       "      <td> 2015-07-05 20:23:10</td>\n",
       "      <td>2015-07-05 20:23:10</td>\n",
       "      <td> segway tour - 28</td>\n",
       "      <td>  851</td>\n",
       "      <td>  630</td>\n",
       "    </tr>\n",
       "    <tr>\n",
       "      <th>19266094319</th>\n",
       "      <td> 2015-07-05 20:23:12</td>\n",
       "      <td>2015-07-05 20:23:12</td>\n",
       "      <td>  segway tour - 2</td>\n",
       "      <td>  466</td>\n",
       "      <td>  630</td>\n",
       "    </tr>\n",
       "    <tr>\n",
       "      <th>19264673498</th>\n",
       "      <td> 2015-07-05 20:23:16</td>\n",
       "      <td>2015-07-05 20:23:16</td>\n",
       "      <td> segway tour - 33</td>\n",
       "      <td>  466</td>\n",
       "      <td>  630</td>\n",
       "    </tr>\n",
       "    <tr>\n",
       "      <th>19445946592</th>\n",
       "      <td> 2015-07-05 20:23:47</td>\n",
       "      <td>2015-07-05 20:23:47</td>\n",
       "      <td> Brennan baby tub</td>\n",
       "      <td> 2351</td>\n",
       "      <td> 2945</td>\n",
       "    </tr>\n",
       "  </tbody>\n",
       "</table>\n",
       "</div>"
      ],
      "text/plain": [
       "                       datetaken         upload_date             title  \\\n",
       "id                                                                       \n",
       "19426161436  2015-07-05 20:23:04 2015-07-05 20:23:04   segway tour - 4   \n",
       "19456508621  2015-07-05 20:23:10 2015-07-05 20:23:10  segway tour - 28   \n",
       "19266094319  2015-07-05 20:23:12 2015-07-05 20:23:12   segway tour - 2   \n",
       "19264673498  2015-07-05 20:23:16 2015-07-05 20:23:16  segway tour - 33   \n",
       "19445946592  2015-07-05 20:23:47 2015-07-05 20:23:47  Brennan baby tub   \n",
       "\n",
       "            width_o height_o  \n",
       "id                            \n",
       "19426161436     466      630  \n",
       "19456508621     851      630  \n",
       "19266094319     466      630  \n",
       "19264673498     466      630  \n",
       "19445946592    2351     2945  "
      ]
     },
     "execution_count": 176,
     "metadata": {},
     "output_type": "execute_result"
    }
   ],
   "source": [
    "import datetime\n",
    "\n",
    "photo['upload_date'] = [np.datetime64(datetime.datetime.fromtimestamp(int(ts))) for ts in photo.dateupload]\n",
    "photo[photo.datetakenunknown == '1'][['datetaken', 'upload_date', 'title', 'width_o', 'height_o']].head()"
   ]
  },
  {
   "cell_type": "markdown",
   "metadata": {},
   "source": [
    "These were uploaded very soon after being taken; I suppose I turned on auto-upload on my phone:"
   ]
  },
  {
   "cell_type": "code",
   "execution_count": 192,
   "metadata": {
    "collapsed": false,
    "scrolled": true
   },
   "outputs": [
    {
     "data": {
      "text/html": [
       "<div style=\"max-height:1000px;max-width:1500px;overflow:auto;\">\n",
       "<table border=\"1\" class=\"dataframe\">\n",
       "  <thead>\n",
       "    <tr style=\"text-align: right;\">\n",
       "      <th></th>\n",
       "      <th>datetaken</th>\n",
       "      <th>upload_date</th>\n",
       "      <th>title</th>\n",
       "      <th>width_o</th>\n",
       "      <th>height_o</th>\n",
       "    </tr>\n",
       "    <tr>\n",
       "      <th>id</th>\n",
       "      <th></th>\n",
       "      <th></th>\n",
       "      <th></th>\n",
       "      <th></th>\n",
       "      <th></th>\n",
       "    </tr>\n",
       "  </thead>\n",
       "  <tbody>\n",
       "    <tr>\n",
       "      <th>19350464562</th>\n",
       "      <td> 2015-07-02 11:28:40</td>\n",
       "      <td>2015-07-02 11:28:51</td>\n",
       "      <td> IMG_20150702_112835</td>\n",
       "      <td> 3200</td>\n",
       "      <td> 2368</td>\n",
       "    </tr>\n",
       "    <tr>\n",
       "      <th>19425609241</th>\n",
       "      <td> 2015-07-04 13:17:22</td>\n",
       "      <td>2015-07-04 19:49:20</td>\n",
       "      <td>                    </td>\n",
       "      <td> 1122</td>\n",
       "      <td>  712</td>\n",
       "    </tr>\n",
       "    <tr>\n",
       "      <th>19235236159</th>\n",
       "      <td> 2015-07-04 13:17:33</td>\n",
       "      <td>2015-07-04 19:49:22</td>\n",
       "      <td>                    </td>\n",
       "      <td>  458</td>\n",
       "      <td>   46</td>\n",
       "    </tr>\n",
       "    <tr>\n",
       "      <th>18800793223</th>\n",
       "      <td> 2015-07-04 13:17:43</td>\n",
       "      <td>2015-07-04 19:49:23</td>\n",
       "      <td>                    </td>\n",
       "      <td>  546</td>\n",
       "      <td>  100</td>\n",
       "    </tr>\n",
       "  </tbody>\n",
       "</table>\n",
       "</div>"
      ],
      "text/plain": [
       "                       datetaken         upload_date                title  \\\n",
       "id                                                                          \n",
       "19350464562  2015-07-02 11:28:40 2015-07-02 11:28:51  IMG_20150702_112835   \n",
       "19425609241  2015-07-04 13:17:22 2015-07-04 19:49:20                        \n",
       "19235236159  2015-07-04 13:17:33 2015-07-04 19:49:22                        \n",
       "18800793223  2015-07-04 13:17:43 2015-07-04 19:49:23                        \n",
       "\n",
       "            width_o height_o  \n",
       "id                            \n",
       "19350464562    3200     2368  \n",
       "19425609241    1122      712  \n",
       "19235236159     458       46  \n",
       "18800793223     546      100  "
      ]
     },
     "execution_count": 192,
     "metadata": {},
     "output_type": "execute_result"
    }
   ],
   "source": [
    "photo[photo.datetakenunknown == '0'][['datetaken', 'upload_date', 'title', 'width_o', 'height_o']].head()"
   ]
  },
  {
   "cell_type": "markdown",
   "metadata": {},
   "source": [
    "I verified the most recent upload dates against iphoto-flickr logs to be sure there were no timezone issues:"
   ]
  },
  {
   "cell_type": "code",
   "execution_count": 177,
   "metadata": {
    "collapsed": false
   },
   "outputs": [
    {
     "data": {
      "text/html": [
       "<div style=\"max-height:1000px;max-width:1500px;overflow:auto;\">\n",
       "<table border=\"1\" class=\"dataframe\">\n",
       "  <thead>\n",
       "    <tr style=\"text-align: right;\">\n",
       "      <th></th>\n",
       "      <th>datetaken</th>\n",
       "      <th>upload_date</th>\n",
       "      <th>title</th>\n",
       "      <th>width_o</th>\n",
       "      <th>height_o</th>\n",
       "    </tr>\n",
       "    <tr>\n",
       "      <th>id</th>\n",
       "      <th></th>\n",
       "      <th></th>\n",
       "      <th></th>\n",
       "      <th></th>\n",
       "      <th></th>\n",
       "    </tr>\n",
       "  </thead>\n",
       "  <tbody>\n",
       "    <tr>\n",
       "      <th>19453379905</th>\n",
       "      <td> 2015-07-05 21:18:18</td>\n",
       "      <td>2015-07-05 21:18:18</td>\n",
       "      <td> 11223919_10103150053978467_4385673914430987089_n</td>\n",
       "      <td> 960</td>\n",
       "      <td> 639</td>\n",
       "    </tr>\n",
       "    <tr>\n",
       "      <th>19457659531</th>\n",
       "      <td> 2015-07-05 21:18:17</td>\n",
       "      <td>2015-07-05 21:18:17</td>\n",
       "      <td>                        Dining_Room_Turned_Office</td>\n",
       "      <td> 550</td>\n",
       "      <td> 400</td>\n",
       "    </tr>\n",
       "    <tr>\n",
       "      <th>19447074092</th>\n",
       "      <td> 2015-07-05 21:18:04</td>\n",
       "      <td>2015-07-05 21:18:04</td>\n",
       "      <td> 11261973_10103150053743937_5354724846552149885_n</td>\n",
       "      <td> 960</td>\n",
       "      <td> 639</td>\n",
       "    </tr>\n",
       "    <tr>\n",
       "      <th>19447070902</th>\n",
       "      <td> 2015-07-05 21:17:59</td>\n",
       "      <td>2015-07-05 21:17:59</td>\n",
       "      <td> 11143223_10103150052730967_2134381211714517553_n</td>\n",
       "      <td> 960</td>\n",
       "      <td> 639</td>\n",
       "    </tr>\n",
       "    <tr>\n",
       "      <th>19457651521</th>\n",
       "      <td> 2015-07-05 21:17:55</td>\n",
       "      <td>2015-07-05 21:17:55</td>\n",
       "      <td> 11265214_10103150052591247_2966764364887797640_n</td>\n",
       "      <td> 960</td>\n",
       "      <td> 639</td>\n",
       "    </tr>\n",
       "  </tbody>\n",
       "</table>\n",
       "</div>"
      ],
      "text/plain": [
       "                       datetaken         upload_date  \\\n",
       "id                                                     \n",
       "19453379905  2015-07-05 21:18:18 2015-07-05 21:18:18   \n",
       "19457659531  2015-07-05 21:18:17 2015-07-05 21:18:17   \n",
       "19447074092  2015-07-05 21:18:04 2015-07-05 21:18:04   \n",
       "19447070902  2015-07-05 21:17:59 2015-07-05 21:17:59   \n",
       "19457651521  2015-07-05 21:17:55 2015-07-05 21:17:55   \n",
       "\n",
       "                                                        title width_o height_o  \n",
       "id                                                                              \n",
       "19453379905  11223919_10103150053978467_4385673914430987089_n     960      639  \n",
       "19457659531                         Dining_Room_Turned_Office     550      400  \n",
       "19447074092  11261973_10103150053743937_5354724846552149885_n     960      639  \n",
       "19447070902  11143223_10103150052730967_2134381211714517553_n     960      639  \n",
       "19457651521  11265214_10103150052591247_2966764364887797640_n     960      639  "
      ]
     },
     "execution_count": 177,
     "metadata": {},
     "output_type": "execute_result"
    }
   ],
   "source": [
    "photo[['datetaken', 'upload_date', 'title', 'width_o', 'height_o']].sort('upload_date', ascending=False).head()"
   ]
  },
  {
   "cell_type": "markdown",
   "metadata": {},
   "source": [
    "## iPhoto, give me my data back!\n",
    "\n",
    "flickrbackup found the library I'm interested in even though it's not in the default path. Ah... it's using Applescript.\n",
    "\n",
    "iPhoto uses fairly nice .xml and .db files with a nice, sturdy uuid for each photo. But the id `flickerbackup.rb` got via applescript is nowhere to be found in there!"
   ]
  },
  {
   "cell_type": "code",
   "execution_count": 16,
   "metadata": {
    "collapsed": false
   },
   "outputs": [
    {
     "name": "stdout",
     "output_type": "stream",
     "text": [
      "4294967334 -> 19226418710\r\n"
     ]
    }
   ],
   "source": [
    "!ssh airbook.local grep {photo.index[0]} Pictures/flickrbackup/uploaded-photo-ids-map.txt "
   ]
  },
  {
   "cell_type": "code",
   "execution_count": 17,
   "metadata": {
    "collapsed": true
   },
   "outputs": [],
   "source": [
    "!ssh airbook.local grep 4294967334 Pictures/iphoto-maryc/AlbumData.xml"
   ]
  },
  {
   "cell_type": "code",
   "execution_count": 18,
   "metadata": {
    "collapsed": true
   },
   "outputs": [],
   "source": [
    "!ssh airbook.local sqlite3 Pictures/iphoto-maryc/iPhotoMain.db .dump | grep 4294967334"
   ]
  },
  {
   "cell_type": "markdown",
   "metadata": {},
   "source": [
    "The [iPhoto script dictionary][sd] doesn't show a uid property. **Darn.** We'll have to use file paths or something.\n",
    "\n",
    "[sd]: http://www.mugginsoft.com/html/kosmictask/ASDictionaryDocs/Apple/iPhoto/OS-X-10.7/iPhoto-9.2.3/html/"
   ]
  },
  {
   "cell_type": "markdown",
   "metadata": {},
   "source": [
    "### iPhoto takes orders in JavaScript"
   ]
  },
  {
   "cell_type": "markdown",
   "metadata": {},
   "source": [
    "Ooh! We can use [JXA][], JavaScript for Automation. Somebody made a nice [cookbook][] on github.\n",
    "\n",
    "The first API I found for writing a string to a file was this `$.NSString` objective-C bridge thing. Oh well. It works.\n",
    "\n",
    "[JXA]: https://developer.apple.com/library/mac/releasenotes/InterapplicationCommunication/RN-JavaScriptForAutomation/\n",
    "[cookbook]: https://github.com/dtinth/JXA-Cookbook/wiki/Using-JavaScript-for-Automation"
   ]
  },
  {
   "cell_type": "code",
   "execution_count": 39,
   "metadata": {
    "collapsed": false
   },
   "outputs": [],
   "source": [
    "export_keys = '''\n",
    "#!/usr/bin/env osascript -l JavaScript\n",
    "\n",
    "function save(info, where) {\n",
    "    console.log('saving to...', where)\n",
    "    var str = $.NSString.alloc.initWithUTF8String(JSON.stringify(info));\n",
    "    str.writeToFileAtomicallyEncodingError(where, true, $.NSUTF8StringEncoding, null);    \n",
    "}\n",
    "\n",
    "function getKeys(iPhoto) {\n",
    "    var photos = iPhoto.photoLibraryAlbum().photos;\n",
    "\n",
    "    return {\n",
    "        id: photos.id(),\n",
    "        date: photos.date(),\n",
    "        width: photos.width(),\n",
    "        height: photos.height(),\n",
    "        originalPath: photos.originalPath(),\n",
    "        imagePath: photos.imagePath()\n",
    "    };\n",
    "}\n",
    "\n",
    "function run(argv) {\n",
    "    out = argv[0];\n",
    "    iPhoto = Application('iPhoto');\n",
    "    save(getKeys(iPhoto), out)\n",
    "}\n",
    "'''.strip()"
   ]
  },
  {
   "cell_type": "markdown",
   "metadata": {},
   "source": [
    "Let's save it, `scp` it over, run it, and `scp` the results back:"
   ]
  },
  {
   "cell_type": "code",
   "execution_count": 40,
   "metadata": {
    "collapsed": false
   },
   "outputs": [],
   "source": [
    "def save_script(name, text):\n",
    "    from pathlib import Path\n",
    "    with Path('photo_keys.js').open('wb') as out:\n",
    "        out.write(export_keys)\n",
    "\n",
    "save_script('photo_keys.js', export_keys)"
   ]
  },
  {
   "cell_type": "code",
   "execution_count": 41,
   "metadata": {
    "collapsed": false
   },
   "outputs": [
    {
     "name": "stdout",
     "output_type": "stream",
     "text": [
      "\r",
      "photo_keys.js                                   0%    0     0.0KB/s   --:-- ETA\r",
      "photo_keys.js                                 100%  687     0.7KB/s   00:00    \r\n"
     ]
    }
   ],
   "source": [
    "!scp photo_keys.js airbook.local:Pictures/"
   ]
  },
  {
   "cell_type": "code",
   "execution_count": 42,
   "metadata": {
    "collapsed": false
   },
   "outputs": [
    {
     "name": "stdout",
     "output_type": "stream",
     "text": [
      "saving to... Pictures/keys.json\n",
      "\n"
     ]
    }
   ],
   "source": [
    "!ssh airbook.local osascript -l JavaScript Pictures/photo_keys.js Pictures/keys.json"
   ]
  },
  {
   "cell_type": "code",
   "execution_count": 43,
   "metadata": {
    "collapsed": false
   },
   "outputs": [
    {
     "name": "stdout",
     "output_type": "stream",
     "text": [
      "keys.json                                     100% 1697KB 848.6KB/s   00:02    \n"
     ]
    }
   ],
   "source": [
    "!scp airbook.local:Pictures/keys.json ."
   ]
  },
  {
   "cell_type": "markdown",
   "metadata": {},
   "source": [
    "Now we can ground these ids in key information such as file paths, dates, and image sizes that we can join with other sources:"
   ]
  },
  {
   "cell_type": "code",
   "execution_count": 47,
   "metadata": {
    "collapsed": false,
    "scrolled": true
   },
   "outputs": [
    {
     "data": {
      "text/html": [
       "<div style=\"max-height:1000px;max-width:1500px;overflow:auto;\">\n",
       "<table border=\"1\" class=\"dataframe\">\n",
       "  <thead>\n",
       "    <tr style=\"text-align: right;\">\n",
       "      <th></th>\n",
       "      <th>date</th>\n",
       "      <th>height</th>\n",
       "      <th>imagePath</th>\n",
       "      <th>originalPath</th>\n",
       "      <th>width</th>\n",
       "    </tr>\n",
       "    <tr>\n",
       "      <th>id</th>\n",
       "      <th></th>\n",
       "      <th></th>\n",
       "      <th></th>\n",
       "      <th></th>\n",
       "      <th></th>\n",
       "    </tr>\n",
       "  </thead>\n",
       "  <tbody>\n",
       "    <tr>\n",
       "      <th>4294967334</th>\n",
       "      <td> 2002-09-25T15:14:23.000Z</td>\n",
       "      <td>  600</td>\n",
       "      <td> /Volumes/maryc/Pictures/iPhoto Library/Origina...</td>\n",
       "      <td> /Volumes/maryc/Pictures/iPhoto Library/Origina...</td>\n",
       "      <td>  800</td>\n",
       "    </tr>\n",
       "    <tr>\n",
       "      <th>4294976544</th>\n",
       "      <td> 2003-07-21T03:52:05.000Z</td>\n",
       "      <td> 1385</td>\n",
       "      <td> /Volumes/maryc/Pictures/iPhoto Library/Origina...</td>\n",
       "      <td> /Volumes/maryc/Pictures/iPhoto Library/Origina...</td>\n",
       "      <td> 1332</td>\n",
       "    </tr>\n",
       "    <tr>\n",
       "      <th>4294976530</th>\n",
       "      <td> 2003-08-08T20:09:51.000Z</td>\n",
       "      <td> 1459</td>\n",
       "      <td> /Volumes/maryc/Pictures/iPhoto Library/Modifie...</td>\n",
       "      <td> /Volumes/maryc/Pictures/iPhoto Library/Origina...</td>\n",
       "      <td> 1647</td>\n",
       "    </tr>\n",
       "    <tr>\n",
       "      <th>4294976542</th>\n",
       "      <td> 2003-08-08T20:09:51.000Z</td>\n",
       "      <td> 1536</td>\n",
       "      <td> /Volumes/maryc/Pictures/iPhoto Library/Origina...</td>\n",
       "      <td> /Volumes/maryc/Pictures/iPhoto Library/Origina...</td>\n",
       "      <td> 2048</td>\n",
       "    </tr>\n",
       "    <tr>\n",
       "      <th>4294971867</th>\n",
       "      <td> 2006-02-01T17:05:22.000Z</td>\n",
       "      <td>  377</td>\n",
       "      <td> /Volumes/maryc/Pictures/iPhoto Library/Origina...</td>\n",
       "      <td> /Volumes/maryc/Pictures/iPhoto Library/Origina...</td>\n",
       "      <td>  495</td>\n",
       "    </tr>\n",
       "  </tbody>\n",
       "</table>\n",
       "</div>"
      ],
      "text/plain": [
       "                                date  height  \\\n",
       "id                                             \n",
       "4294967334  2002-09-25T15:14:23.000Z     600   \n",
       "4294976544  2003-07-21T03:52:05.000Z    1385   \n",
       "4294976530  2003-08-08T20:09:51.000Z    1459   \n",
       "4294976542  2003-08-08T20:09:51.000Z    1536   \n",
       "4294971867  2006-02-01T17:05:22.000Z     377   \n",
       "\n",
       "                                                    imagePath  \\\n",
       "id                                                              \n",
       "4294967334  /Volumes/maryc/Pictures/iPhoto Library/Origina...   \n",
       "4294976544  /Volumes/maryc/Pictures/iPhoto Library/Origina...   \n",
       "4294976530  /Volumes/maryc/Pictures/iPhoto Library/Modifie...   \n",
       "4294976542  /Volumes/maryc/Pictures/iPhoto Library/Origina...   \n",
       "4294971867  /Volumes/maryc/Pictures/iPhoto Library/Origina...   \n",
       "\n",
       "                                                 originalPath  width  \n",
       "id                                                                    \n",
       "4294967334  /Volumes/maryc/Pictures/iPhoto Library/Origina...    800  \n",
       "4294976544  /Volumes/maryc/Pictures/iPhoto Library/Origina...   1332  \n",
       "4294976530  /Volumes/maryc/Pictures/iPhoto Library/Origina...   1647  \n",
       "4294976542  /Volumes/maryc/Pictures/iPhoto Library/Origina...   2048  \n",
       "4294971867  /Volumes/maryc/Pictures/iPhoto Library/Origina...    495  "
      ]
     },
     "execution_count": 47,
     "metadata": {},
     "output_type": "execute_result"
    }
   ],
   "source": [
    "pk = pd.DataFrame(json.load(open('keys.json'))).set_index('id')\n",
    "pk.head()"
   ]
  },
  {
   "cell_type": "markdown",
   "metadata": {},
   "source": [
    "Applescript reports the full image paths, but we'll need library-relative paths for our work below."
   ]
  },
  {
   "cell_type": "code",
   "execution_count": 62,
   "metadata": {
    "collapsed": false
   },
   "outputs": [
    {
     "data": {
      "text/html": [
       "<div style=\"max-height:1000px;max-width:1500px;overflow:auto;\">\n",
       "<table border=\"1\" class=\"dataframe\">\n",
       "  <thead>\n",
       "    <tr style=\"text-align: right;\">\n",
       "      <th></th>\n",
       "      <th>date</th>\n",
       "      <th>height</th>\n",
       "      <th>width</th>\n",
       "      <th>relativePath</th>\n",
       "    </tr>\n",
       "    <tr>\n",
       "      <th>id</th>\n",
       "      <th></th>\n",
       "      <th></th>\n",
       "      <th></th>\n",
       "      <th></th>\n",
       "    </tr>\n",
       "  </thead>\n",
       "  <tbody>\n",
       "    <tr>\n",
       "      <th>4294967334</th>\n",
       "      <td> 2002-09-25T15:14:23.000Z</td>\n",
       "      <td> 600</td>\n",
       "      <td> 800</td>\n",
       "      <td> Originals/2002/Sep 25, 2002/Santa Cecelia gran...</td>\n",
       "    </tr>\n",
       "  </tbody>\n",
       "</table>\n",
       "</div>"
      ],
      "text/plain": [
       "                                date  height  width  \\\n",
       "id                                                    \n",
       "4294967334  2002-09-25T15:14:23.000Z     600    800   \n",
       "\n",
       "                                                 relativePath  \n",
       "id                                                             \n",
       "4294967334  Originals/2002/Sep 25, 2002/Santa Cecelia gran...  "
      ]
     },
     "execution_count": 62,
     "metadata": {},
     "output_type": "execute_result"
    }
   ],
   "source": [
    "libloc = '/Volumes/maryc/Pictures/iPhoto Library/'  # TODO: get from applescript?\n",
    "\n",
    "pk['relativePath'] = [p[len(libloc):] for p in pk.imagePath]\n",
    "\n",
    "pk[(pk.date >= '2002-09') & (pk.date < '2002-10')][['date', 'height', 'width', 'relativePath']]"
   ]
  },
  {
   "cell_type": "markdown",
   "metadata": {},
   "source": [
    "## iPhoto data without iPhoto\n",
    "\n",
    "iPhoto keeps nice sqlite3 databases."
   ]
  },
  {
   "cell_type": "code",
   "execution_count": 207,
   "metadata": {
    "collapsed": false,
    "scrolled": false
   },
   "outputs": [
    {
     "data": {
      "text/html": [
       "<div style=\"max-height:1000px;max-width:1500px;overflow:auto;\">\n",
       "<table border=\"1\" class=\"dataframe\">\n",
       "  <thead>\n",
       "    <tr style=\"text-align: right;\">\n",
       "      <th></th>\n",
       "      <th>count(distinct uid)</th>\n",
       "    </tr>\n",
       "  </thead>\n",
       "  <tbody>\n",
       "    <tr>\n",
       "      <th>0</th>\n",
       "      <td> 8607</td>\n",
       "    </tr>\n",
       "  </tbody>\n",
       "</table>\n",
       "</div>"
      ],
      "text/plain": [
       "   count(distinct uid)\n",
       "0                 8607"
      ]
     },
     "execution_count": 207,
     "metadata": {},
     "output_type": "execute_result"
    }
   ],
   "source": [
    "def my_photo_db(path='maryc-airbook-iphoto-meta/iPhotoMain.db'):\n",
    "    import sqlite3\n",
    "    return sqlite3.connect(path)\n",
    "\n",
    "db1 = my_photo_db()\n",
    "\n",
    "q = '''\n",
    "select count(distinct uid) from SqPhotoInfo\n",
    "'''\n",
    "pd.read_sql(q, db1)"
   ]
  },
  {
   "cell_type": "code",
   "execution_count": 212,
   "metadata": {
    "collapsed": false
   },
   "outputs": [
    {
     "data": {
      "text/html": [
       "<div style=\"max-height:1000px;max-width:1500px;overflow:auto;\">\n",
       "<table border=\"1\" class=\"dataframe\">\n",
       "  <thead>\n",
       "    <tr style=\"text-align: right;\">\n",
       "      <th></th>\n",
       "      <th>qty</th>\n",
       "      <th>year</th>\n",
       "    </tr>\n",
       "  </thead>\n",
       "  <tbody>\n",
       "    <tr>\n",
       "      <th>0</th>\n",
       "      <td>  306</td>\n",
       "      <td> 2011</td>\n",
       "    </tr>\n",
       "    <tr>\n",
       "      <th>1</th>\n",
       "      <td> 4368</td>\n",
       "      <td> 2012</td>\n",
       "    </tr>\n",
       "    <tr>\n",
       "      <th>2</th>\n",
       "      <td> 1564</td>\n",
       "      <td> 2013</td>\n",
       "    </tr>\n",
       "    <tr>\n",
       "      <th>3</th>\n",
       "      <td> 2190</td>\n",
       "      <td> 2014</td>\n",
       "    </tr>\n",
       "    <tr>\n",
       "      <th>4</th>\n",
       "      <td>  161</td>\n",
       "      <td> 2015</td>\n",
       "    </tr>\n",
       "  </tbody>\n",
       "</table>\n",
       "</div>"
      ],
      "text/plain": [
       "    qty  year\n",
       "0   306  2011\n",
       "1  4368  2012\n",
       "2  1564  2013\n",
       "3  2190  2014\n",
       "4   161  2015"
      ]
     },
     "execution_count": 212,
     "metadata": {},
     "output_type": "execute_result"
    }
   ],
   "source": [
    "q = '''\n",
    "select count(*) qty, year from (\n",
    "  select substr(datetime(photoDate +  julianday('2000-01-01 00:00:00')), 1, 4) year\n",
    "  from SqPhotoInfo\n",
    ") t\n",
    "group by year\n",
    "having count(*) > 10\n",
    "'''\n",
    "pd.read_sql(q, db1)"
   ]
  },
  {
   "cell_type": "markdown",
   "metadata": {},
   "source": [
    "### Cameras"
   ]
  },
  {
   "cell_type": "code",
   "execution_count": 195,
   "metadata": {
    "collapsed": false,
    "scrolled": true
   },
   "outputs": [
    {
     "data": {
      "text/html": [
       "<div style=\"max-height:1000px;max-width:1500px;overflow:auto;\">\n",
       "<table border=\"1\" class=\"dataframe\">\n",
       "  <thead>\n",
       "    <tr style=\"text-align: right;\">\n",
       "      <th></th>\n",
       "      <th>qty</th>\n",
       "      <th>min_date</th>\n",
       "      <th>max_date</th>\n",
       "      <th>cameraModel</th>\n",
       "    </tr>\n",
       "  </thead>\n",
       "  <tbody>\n",
       "    <tr>\n",
       "      <th>0 </th>\n",
       "      <td> 5568</td>\n",
       "      <td> 2009-11-25 17:28:32</td>\n",
       "      <td> 2013-11-04 11:05:02</td>\n",
       "      <td>   Canon PowerShot SD1100 IS</td>\n",
       "    </tr>\n",
       "    <tr>\n",
       "      <th>1 </th>\n",
       "      <td>  872</td>\n",
       "      <td> 2013-12-04 07:02:10</td>\n",
       "      <td> 2015-04-18 15:50:41</td>\n",
       "      <td>               FinePix S4850</td>\n",
       "    </tr>\n",
       "    <tr>\n",
       "      <th>2 </th>\n",
       "      <td>  641</td>\n",
       "      <td> 2006-02-01 11:05:22</td>\n",
       "      <td> 2015-05-23 09:47:31</td>\n",
       "      <td>                        None</td>\n",
       "    </tr>\n",
       "    <tr>\n",
       "      <th>3 </th>\n",
       "      <td>  401</td>\n",
       "      <td> 2012-09-21 11:06:43</td>\n",
       "      <td> 2015-01-02 09:22:16</td>\n",
       "      <td>                Galaxy Nexus</td>\n",
       "    </tr>\n",
       "    <tr>\n",
       "      <th>4 </th>\n",
       "      <td>  399</td>\n",
       "      <td> 2014-08-13 15:55:36</td>\n",
       "      <td> 2014-08-19 11:15:30</td>\n",
       "      <td>                  NIKON D800</td>\n",
       "    </tr>\n",
       "    <tr>\n",
       "      <th>5 </th>\n",
       "      <td>  273</td>\n",
       "      <td> 2014-05-16 16:59:18</td>\n",
       "      <td> 2014-06-28 14:09:51</td>\n",
       "      <td>                 NIKON D3200</td>\n",
       "    </tr>\n",
       "    <tr>\n",
       "      <th>6 </th>\n",
       "      <td>  137</td>\n",
       "      <td> 2012-11-14 17:35:19</td>\n",
       "      <td> 2013-11-29 13:29:43</td>\n",
       "      <td>             FinePix S5Pro  </td>\n",
       "    </tr>\n",
       "    <tr>\n",
       "      <th>7 </th>\n",
       "      <td>   90</td>\n",
       "      <td> 2012-10-19 17:55:45</td>\n",
       "      <td> 2015-03-12 11:37:07</td>\n",
       "      <td>                   iPhone 4S</td>\n",
       "    </tr>\n",
       "    <tr>\n",
       "      <th>8 </th>\n",
       "      <td>   78</td>\n",
       "      <td> 2012-09-15 18:21:05</td>\n",
       "      <td> 2012-10-21 18:17:14</td>\n",
       "      <td> Canon PowerShot ELPH 100 HS</td>\n",
       "    </tr>\n",
       "    <tr>\n",
       "      <th>9 </th>\n",
       "      <td>   65</td>\n",
       "      <td> 2011-04-18 12:19:47</td>\n",
       "      <td> 2012-05-05 15:40:20</td>\n",
       "      <td>                   NIKON D90</td>\n",
       "    </tr>\n",
       "    <tr>\n",
       "      <th>10</th>\n",
       "      <td>   28</td>\n",
       "      <td> 2014-06-27 22:17:35</td>\n",
       "      <td> 2014-06-28 01:07:04</td>\n",
       "      <td>   Canon PowerShot SD1200 IS</td>\n",
       "    </tr>\n",
       "    <tr>\n",
       "      <th>11</th>\n",
       "      <td>   28</td>\n",
       "      <td> 2014-10-02 13:22:41</td>\n",
       "      <td> 2014-10-02 15:31:08</td>\n",
       "      <td>                    SGH-T999</td>\n",
       "    </tr>\n",
       "  </tbody>\n",
       "</table>\n",
       "</div>"
      ],
      "text/plain": [
       "     qty             min_date             max_date  \\\n",
       "0   5568  2009-11-25 17:28:32  2013-11-04 11:05:02   \n",
       "1    872  2013-12-04 07:02:10  2015-04-18 15:50:41   \n",
       "2    641  2006-02-01 11:05:22  2015-05-23 09:47:31   \n",
       "3    401  2012-09-21 11:06:43  2015-01-02 09:22:16   \n",
       "4    399  2014-08-13 15:55:36  2014-08-19 11:15:30   \n",
       "5    273  2014-05-16 16:59:18  2014-06-28 14:09:51   \n",
       "6    137  2012-11-14 17:35:19  2013-11-29 13:29:43   \n",
       "7     90  2012-10-19 17:55:45  2015-03-12 11:37:07   \n",
       "8     78  2012-09-15 18:21:05  2012-10-21 18:17:14   \n",
       "9     65  2011-04-18 12:19:47  2012-05-05 15:40:20   \n",
       "10    28  2014-06-27 22:17:35  2014-06-28 01:07:04   \n",
       "11    28  2014-10-02 13:22:41  2014-10-02 15:31:08   \n",
       "\n",
       "                    cameraModel  \n",
       "0     Canon PowerShot SD1100 IS  \n",
       "1                 FinePix S4850  \n",
       "2                          None  \n",
       "3                  Galaxy Nexus  \n",
       "4                    NIKON D800  \n",
       "5                   NIKON D3200  \n",
       "6               FinePix S5Pro    \n",
       "7                     iPhone 4S  \n",
       "8   Canon PowerShot ELPH 100 HS  \n",
       "9                     NIKON D90  \n",
       "10    Canon PowerShot SD1200 IS  \n",
       "11                     SGH-T999  "
      ]
     },
     "execution_count": 195,
     "metadata": {},
     "output_type": "execute_result"
    }
   ],
   "source": [
    "q = '''\n",
    "select qty,\n",
    " datetime(min_date +  julianday('2000-01-01 00:00:00')) min_date,\n",
    " datetime(max_date +  julianday('2000-01-01 00:00:00')) max_date,\n",
    " cameraModel from (\n",
    "select count(*) qty, min(photoDate) min_date, max(photoDate) max_date, cameraModel\n",
    " from\n",
    "sqphotoinfo\n",
    "where photoDate >  julianday('1993-01-01') - julianday('2000-01-01 00:00:00')\n",
    "group by cameraModel\n",
    ")\n",
    "where qty >= 10\n",
    "order by 1 desc\n",
    "'''\n",
    "pd.read_sql(q, db1)"
   ]
  },
  {
   "cell_type": "markdown",
   "metadata": {},
   "source": [
    "### Photos and Images\n",
    "\n",
    "The model is nice and clean, separating photos, relating any number of possibly-edited images to each photo-taking event, and issuing a uuid to the photo-taking event."
   ]
  },
  {
   "cell_type": "code",
   "execution_count": 139,
   "metadata": {
    "collapsed": false,
    "scrolled": true
   },
   "outputs": [
    {
     "data": {
      "text/html": [
       "<div style=\"max-height:1000px;max-width:1500px;overflow:auto;\">\n",
       "<table border=\"1\" class=\"dataframe\">\n",
       "  <thead>\n",
       "    <tr style=\"text-align: right;\">\n",
       "      <th></th>\n",
       "      <th>primaryKey</th>\n",
       "      <th>uid</th>\n",
       "      <th>photoDate</th>\n",
       "      <th>cameraModel</th>\n",
       "      <th>archiveFilename</th>\n",
       "      <th>imageWidth</th>\n",
       "      <th>imageHeight</th>\n",
       "      <th>fileSize</th>\n",
       "      <th>imageType</th>\n",
       "      <th>version</th>\n",
       "      <th>relativePath</th>\n",
       "      <th>aliasPath</th>\n",
       "    </tr>\n",
       "  </thead>\n",
       "  <tbody>\n",
       "    <tr>\n",
       "      <th>0</th>\n",
       "      <td> 9272</td>\n",
       "      <td> 4BC69B9E-3AEF-4FA6-BFCC-5476CC6CAC0D</td>\n",
       "      <td> 2015-05-23 09:47:31</td>\n",
       "      <td> None</td>\n",
       "      <td>                     Dining_Room_Turned_Office.jpg</td>\n",
       "      <td> 550</td>\n",
       "      <td> 400</td>\n",
       "      <td>  34651</td>\n",
       "      <td> 6</td>\n",
       "      <td> 100</td>\n",
       "      <td> Originals/2015/May 23, 2015/Dining_Room_Turned...</td>\n",
       "      <td> None</td>\n",
       "    </tr>\n",
       "    <tr>\n",
       "      <th>1</th>\n",
       "      <td> 9272</td>\n",
       "      <td> 4BC69B9E-3AEF-4FA6-BFCC-5476CC6CAC0D</td>\n",
       "      <td> 2015-05-23 09:47:31</td>\n",
       "      <td> None</td>\n",
       "      <td>                     Dining_Room_Turned_Office.jpg</td>\n",
       "      <td> 360</td>\n",
       "      <td> 262</td>\n",
       "      <td>  52460</td>\n",
       "      <td> 5</td>\n",
       "      <td> 100</td>\n",
       "      <td> Data/2015/May 23, 2015/Dining_Room_Turned_Offi...</td>\n",
       "      <td> None</td>\n",
       "    </tr>\n",
       "    <tr>\n",
       "      <th>2</th>\n",
       "      <td> 9282</td>\n",
       "      <td> 11F6E0C9-90F8-43E3-8427-EFD1F98D5ECD</td>\n",
       "      <td> 2015-05-20 09:24:50</td>\n",
       "      <td> None</td>\n",
       "      <td> 11223919_10103150053978467_4385673914430987089...</td>\n",
       "      <td> 960</td>\n",
       "      <td> 639</td>\n",
       "      <td> 101115</td>\n",
       "      <td> 6</td>\n",
       "      <td> 100</td>\n",
       "      <td> Originals/2015/May 20, 2015/11223919_101031500...</td>\n",
       "      <td> None</td>\n",
       "    </tr>\n",
       "    <tr>\n",
       "      <th>3</th>\n",
       "      <td> 9282</td>\n",
       "      <td> 11F6E0C9-90F8-43E3-8427-EFD1F98D5ECD</td>\n",
       "      <td> 2015-05-20 09:24:50</td>\n",
       "      <td> None</td>\n",
       "      <td> 11223919_10103150053978467_4385673914430987089...</td>\n",
       "      <td> 360</td>\n",
       "      <td> 240</td>\n",
       "      <td>  67356</td>\n",
       "      <td> 5</td>\n",
       "      <td> 100</td>\n",
       "      <td> Data/2015/May 20, 2015/11223919_10103150053978...</td>\n",
       "      <td> None</td>\n",
       "    </tr>\n",
       "    <tr>\n",
       "      <th>4</th>\n",
       "      <td> 9289</td>\n",
       "      <td> 88DC7357-96A2-4C29-88CD-6DF9E39E4CBB</td>\n",
       "      <td> 2015-05-20 09:24:41</td>\n",
       "      <td> None</td>\n",
       "      <td> 11261973_10103150053743937_5354724846552149885...</td>\n",
       "      <td> 960</td>\n",
       "      <td> 639</td>\n",
       "      <td>  97108</td>\n",
       "      <td> 6</td>\n",
       "      <td> 100</td>\n",
       "      <td> Originals/2015/May 20, 2015/11261973_101031500...</td>\n",
       "      <td> None</td>\n",
       "    </tr>\n",
       "  </tbody>\n",
       "</table>\n",
       "</div>"
      ],
      "text/plain": [
       "   primaryKey                                   uid            photoDate  \\\n",
       "0        9272  4BC69B9E-3AEF-4FA6-BFCC-5476CC6CAC0D  2015-05-23 09:47:31   \n",
       "1        9272  4BC69B9E-3AEF-4FA6-BFCC-5476CC6CAC0D  2015-05-23 09:47:31   \n",
       "2        9282  11F6E0C9-90F8-43E3-8427-EFD1F98D5ECD  2015-05-20 09:24:50   \n",
       "3        9282  11F6E0C9-90F8-43E3-8427-EFD1F98D5ECD  2015-05-20 09:24:50   \n",
       "4        9289  88DC7357-96A2-4C29-88CD-6DF9E39E4CBB  2015-05-20 09:24:41   \n",
       "\n",
       "  cameraModel                                    archiveFilename  imageWidth  \\\n",
       "0        None                      Dining_Room_Turned_Office.jpg         550   \n",
       "1        None                      Dining_Room_Turned_Office.jpg         360   \n",
       "2        None  11223919_10103150053978467_4385673914430987089...         960   \n",
       "3        None  11223919_10103150053978467_4385673914430987089...         360   \n",
       "4        None  11261973_10103150053743937_5354724846552149885...         960   \n",
       "\n",
       "   imageHeight  fileSize  imageType  version  \\\n",
       "0          400     34651          6      100   \n",
       "1          262     52460          5      100   \n",
       "2          639    101115          6      100   \n",
       "3          240     67356          5      100   \n",
       "4          639     97108          6      100   \n",
       "\n",
       "                                        relativePath aliasPath  \n",
       "0  Originals/2015/May 23, 2015/Dining_Room_Turned...      None  \n",
       "1  Data/2015/May 23, 2015/Dining_Room_Turned_Offi...      None  \n",
       "2  Originals/2015/May 20, 2015/11223919_101031500...      None  \n",
       "3  Data/2015/May 20, 2015/11223919_10103150053978...      None  \n",
       "4  Originals/2015/May 20, 2015/11261973_101031500...      None  "
      ]
     },
     "execution_count": 139,
     "metadata": {},
     "output_type": "execute_result"
    }
   ],
   "source": [
    "q = '''\n",
    "\n",
    "select photo.primaryKey, photo.uid, datetime(photo.photoDate + julianday('2000-01-01 00:00:00')) as photoDate,\n",
    "       photo.cameraModel, photo.archiveFilename,\n",
    "       fi.imageWidth, fi.imageHeight, fi.fileSize, fi.imageType, fi.version,\n",
    "       fl.relativePath, fl.aliasPath\n",
    "       -- TODO: decode fl.format\n",
    "from SqPhotoInfo photo\n",
    "join SqFileImage fi on fi.photoKey = photo.primaryKey\n",
    "join SqFileInfo fl on fi.sqFileInfo = fl.primaryKey\n",
    "\n",
    "where fileSize > 0\n",
    "order by photo.photoDate desc\n",
    "'''\n",
    "pdb = pd.read_sql(q, db1)\n",
    "pdb.head()"
   ]
  },
  {
   "cell_type": "markdown",
   "metadata": {},
   "source": [
    "## Joining sqlite data with flickr via applescript key info\n",
    "\n",
    "Ah... excellent... even though there are more image files than photos, we get an exact 1-1 match when we join with our photo keys (implicitly on `relativePath`)."
   ]
  },
  {
   "cell_type": "code",
   "execution_count": 109,
   "metadata": {
    "collapsed": false
   },
   "outputs": [
    {
     "data": {
      "text/plain": [
       "(19127, 8057, 8057)"
      ]
     },
     "execution_count": 109,
     "metadata": {},
     "output_type": "execute_result"
    }
   ],
   "source": [
    "len(pdb), len(pk), len(pdb.merge(pk))"
   ]
  },
  {
   "cell_type": "code",
   "execution_count": 150,
   "metadata": {
    "collapsed": false
   },
   "outputs": [
    {
     "data": {
      "text/html": [
       "<div style=\"max-height:1000px;max-width:1500px;overflow:auto;\">\n",
       "<table border=\"1\" class=\"dataframe\">\n",
       "  <thead>\n",
       "    <tr style=\"text-align: right;\">\n",
       "      <th></th>\n",
       "      <th>date</th>\n",
       "      <th>height</th>\n",
       "      <th>imagePath</th>\n",
       "      <th>originalPath</th>\n",
       "      <th>width</th>\n",
       "      <th>relativePath</th>\n",
       "      <th>primaryKey</th>\n",
       "      <th>uid</th>\n",
       "      <th>photoDate</th>\n",
       "      <th>cameraModel</th>\n",
       "      <th>archiveFilename</th>\n",
       "      <th>imageWidth</th>\n",
       "      <th>imageHeight</th>\n",
       "      <th>fileSize</th>\n",
       "      <th>imageType</th>\n",
       "      <th>version</th>\n",
       "      <th>aliasPath</th>\n",
       "    </tr>\n",
       "    <tr>\n",
       "      <th>id</th>\n",
       "      <th></th>\n",
       "      <th></th>\n",
       "      <th></th>\n",
       "      <th></th>\n",
       "      <th></th>\n",
       "      <th></th>\n",
       "      <th></th>\n",
       "      <th></th>\n",
       "      <th></th>\n",
       "      <th></th>\n",
       "      <th></th>\n",
       "      <th></th>\n",
       "      <th></th>\n",
       "      <th></th>\n",
       "      <th></th>\n",
       "      <th></th>\n",
       "      <th></th>\n",
       "    </tr>\n",
       "  </thead>\n",
       "  <tbody>\n",
       "    <tr>\n",
       "      <th>4294967334</th>\n",
       "      <td> 2002-09-25T15:14:23.000Z</td>\n",
       "      <td>  600</td>\n",
       "      <td> /Volumes/maryc/Pictures/iPhoto Library/Origina...</td>\n",
       "      <td> /Volumes/maryc/Pictures/iPhoto Library/Origina...</td>\n",
       "      <td>  800</td>\n",
       "      <td> Originals/2002/Sep 25, 2002/Santa Cecelia gran...</td>\n",
       "      <td>   38</td>\n",
       "      <td> 7281F4D1-E140-4832-B759-60D5B9DF78B1</td>\n",
       "      <td> 2002-09-25 10:14:23</td>\n",
       "      <td>          PDR-3320</td>\n",
       "      <td>                Santa Cecelia granite.jpg</td>\n",
       "      <td>  800</td>\n",
       "      <td>  600</td>\n",
       "      <td>  63092</td>\n",
       "      <td> 6</td>\n",
       "      <td> 100</td>\n",
       "      <td> None</td>\n",
       "    </tr>\n",
       "    <tr>\n",
       "      <th>4294976544</th>\n",
       "      <td> 2003-07-21T03:52:05.000Z</td>\n",
       "      <td> 1385</td>\n",
       "      <td> /Volumes/maryc/Pictures/iPhoto Library/Origina...</td>\n",
       "      <td> /Volumes/maryc/Pictures/iPhoto Library/Origina...</td>\n",
       "      <td> 1332</td>\n",
       "      <td>          Originals/2003/Jul 20, 2003/brothers.jpg</td>\n",
       "      <td> 9248</td>\n",
       "      <td> 7EFC6CF1-F3A5-42DD-ADBC-52561476CC50</td>\n",
       "      <td> 2003-07-20 22:52:05</td>\n",
       "      <td> hp photosmart 720</td>\n",
       "      <td>                             brothers.jpg</td>\n",
       "      <td> 1332</td>\n",
       "      <td> 1385</td>\n",
       "      <td> 615319</td>\n",
       "      <td> 6</td>\n",
       "      <td> 100</td>\n",
       "      <td> None</td>\n",
       "    </tr>\n",
       "    <tr>\n",
       "      <th>4294976530</th>\n",
       "      <td> 2003-08-08T20:09:51.000Z</td>\n",
       "      <td> 1459</td>\n",
       "      <td> /Volumes/maryc/Pictures/iPhoto Library/Modifie...</td>\n",
       "      <td> /Volumes/maryc/Pictures/iPhoto Library/Origina...</td>\n",
       "      <td> 1647</td>\n",
       "      <td>          Modified/2003/Aug 8, 2003/justin car.jpg</td>\n",
       "      <td> 9234</td>\n",
       "      <td> E3D5AD74-7FC1-4916-A9DA-6C2CB47B5D16</td>\n",
       "      <td> 2003-08-08 15:09:51</td>\n",
       "      <td> hp photosmart 720</td>\n",
       "      <td>                           justin car.jpg</td>\n",
       "      <td> 1647</td>\n",
       "      <td> 1459</td>\n",
       "      <td> 828662</td>\n",
       "      <td> 6</td>\n",
       "      <td> 100</td>\n",
       "      <td> None</td>\n",
       "    </tr>\n",
       "    <tr>\n",
       "      <th>4294976542</th>\n",
       "      <td> 2003-08-08T20:09:51.000Z</td>\n",
       "      <td> 1536</td>\n",
       "      <td> /Volumes/maryc/Pictures/iPhoto Library/Origina...</td>\n",
       "      <td> /Volumes/maryc/Pictures/iPhoto Library/Origina...</td>\n",
       "      <td> 2048</td>\n",
       "      <td>       Originals/2003/Aug 8, 2003_2/justin car.jpg</td>\n",
       "      <td> 9246</td>\n",
       "      <td> CCD2008C-4CB5-46BF-B99D-4BAE8999D8AD</td>\n",
       "      <td> 2003-08-08 15:09:51</td>\n",
       "      <td> hp photosmart 720</td>\n",
       "      <td>                           justin car.jpg</td>\n",
       "      <td> 2048</td>\n",
       "      <td> 1536</td>\n",
       "      <td> 738791</td>\n",
       "      <td> 6</td>\n",
       "      <td> 100</td>\n",
       "      <td> None</td>\n",
       "    </tr>\n",
       "    <tr>\n",
       "      <th>4294971867</th>\n",
       "      <td> 2006-02-01T17:05:22.000Z</td>\n",
       "      <td>  377</td>\n",
       "      <td> /Volumes/maryc/Pictures/iPhoto Library/Origina...</td>\n",
       "      <td> /Volumes/maryc/Pictures/iPhoto Library/Origina...</td>\n",
       "      <td>  495</td>\n",
       "      <td> Originals/2006/Feb 1, 2006/NY-Skyline-new-york...</td>\n",
       "      <td> 4571</td>\n",
       "      <td> 5D1426FC-5F86-457D-9EB7-6F761607C8FA</td>\n",
       "      <td> 2006-02-01 11:05:22</td>\n",
       "      <td>              None</td>\n",
       "      <td> NY-Skyline-new-york-1138029_495_377.jpeg</td>\n",
       "      <td>  495</td>\n",
       "      <td>  377</td>\n",
       "      <td> 159106</td>\n",
       "      <td> 6</td>\n",
       "      <td> 100</td>\n",
       "      <td> None</td>\n",
       "    </tr>\n",
       "  </tbody>\n",
       "</table>\n",
       "</div>"
      ],
      "text/plain": [
       "                                date  height  \\\n",
       "id                                             \n",
       "4294967334  2002-09-25T15:14:23.000Z     600   \n",
       "4294976544  2003-07-21T03:52:05.000Z    1385   \n",
       "4294976530  2003-08-08T20:09:51.000Z    1459   \n",
       "4294976542  2003-08-08T20:09:51.000Z    1536   \n",
       "4294971867  2006-02-01T17:05:22.000Z     377   \n",
       "\n",
       "                                                    imagePath  \\\n",
       "id                                                              \n",
       "4294967334  /Volumes/maryc/Pictures/iPhoto Library/Origina...   \n",
       "4294976544  /Volumes/maryc/Pictures/iPhoto Library/Origina...   \n",
       "4294976530  /Volumes/maryc/Pictures/iPhoto Library/Modifie...   \n",
       "4294976542  /Volumes/maryc/Pictures/iPhoto Library/Origina...   \n",
       "4294971867  /Volumes/maryc/Pictures/iPhoto Library/Origina...   \n",
       "\n",
       "                                                 originalPath  width  \\\n",
       "id                                                                     \n",
       "4294967334  /Volumes/maryc/Pictures/iPhoto Library/Origina...    800   \n",
       "4294976544  /Volumes/maryc/Pictures/iPhoto Library/Origina...   1332   \n",
       "4294976530  /Volumes/maryc/Pictures/iPhoto Library/Origina...   1647   \n",
       "4294976542  /Volumes/maryc/Pictures/iPhoto Library/Origina...   2048   \n",
       "4294971867  /Volumes/maryc/Pictures/iPhoto Library/Origina...    495   \n",
       "\n",
       "                                                 relativePath  primaryKey  \\\n",
       "id                                                                          \n",
       "4294967334  Originals/2002/Sep 25, 2002/Santa Cecelia gran...          38   \n",
       "4294976544           Originals/2003/Jul 20, 2003/brothers.jpg        9248   \n",
       "4294976530           Modified/2003/Aug 8, 2003/justin car.jpg        9234   \n",
       "4294976542        Originals/2003/Aug 8, 2003_2/justin car.jpg        9246   \n",
       "4294971867  Originals/2006/Feb 1, 2006/NY-Skyline-new-york...        4571   \n",
       "\n",
       "                                             uid            photoDate  \\\n",
       "id                                                                      \n",
       "4294967334  7281F4D1-E140-4832-B759-60D5B9DF78B1  2002-09-25 10:14:23   \n",
       "4294976544  7EFC6CF1-F3A5-42DD-ADBC-52561476CC50  2003-07-20 22:52:05   \n",
       "4294976530  E3D5AD74-7FC1-4916-A9DA-6C2CB47B5D16  2003-08-08 15:09:51   \n",
       "4294976542  CCD2008C-4CB5-46BF-B99D-4BAE8999D8AD  2003-08-08 15:09:51   \n",
       "4294971867  5D1426FC-5F86-457D-9EB7-6F761607C8FA  2006-02-01 11:05:22   \n",
       "\n",
       "                  cameraModel                           archiveFilename  \\\n",
       "id                                                                        \n",
       "4294967334           PDR-3320                 Santa Cecelia granite.jpg   \n",
       "4294976544  hp photosmart 720                              brothers.jpg   \n",
       "4294976530  hp photosmart 720                            justin car.jpg   \n",
       "4294976542  hp photosmart 720                            justin car.jpg   \n",
       "4294971867               None  NY-Skyline-new-york-1138029_495_377.jpeg   \n",
       "\n",
       "            imageWidth  imageHeight  fileSize  imageType  version aliasPath  \n",
       "id                                                                           \n",
       "4294967334         800          600     63092          6      100      None  \n",
       "4294976544        1332         1385    615319          6      100      None  \n",
       "4294976530        1647         1459    828662          6      100      None  \n",
       "4294976542        2048         1536    738791          6      100      None  \n",
       "4294971867         495          377    159106          6      100      None  "
      ]
     },
     "execution_count": 150,
     "metadata": {},
     "output_type": "execute_result"
    }
   ],
   "source": [
    "pkdb = pk.reset_index().merge(pdb).set_index('id')\n",
    "pkdb.head()"
   ]
  },
  {
   "cell_type": "markdown",
   "metadata": {},
   "source": [
    "Merging with the `upload_map` gives us a clear correspondence between iPhoto applescript ids and flickr ids."
   ]
  },
  {
   "cell_type": "code",
   "execution_count": 151,
   "metadata": {
    "collapsed": false
   },
   "outputs": [
    {
     "data": {
      "text/plain": [
       "8057"
      ]
     },
     "execution_count": 151,
     "metadata": {},
     "output_type": "execute_result"
    }
   ],
   "source": [
    "upkdb = upload_map.merge(pkdb, left_on='apple', right_index=True)\n",
    "\n",
    "len(upkdb)"
   ]
  },
  {
   "cell_type": "code",
   "execution_count": 152,
   "metadata": {
    "collapsed": false,
    "scrolled": true
   },
   "outputs": [
    {
     "data": {
      "text/html": [
       "<div style=\"max-height:1000px;max-width:1500px;overflow:auto;\">\n",
       "<table border=\"1\" class=\"dataframe\">\n",
       "  <thead>\n",
       "    <tr style=\"text-align: right;\">\n",
       "      <th></th>\n",
       "      <th>apple</th>\n",
       "      <th>flickr</th>\n",
       "      <th>date</th>\n",
       "      <th>height</th>\n",
       "      <th>imagePath</th>\n",
       "      <th>originalPath</th>\n",
       "      <th>width</th>\n",
       "      <th>relativePath</th>\n",
       "      <th>primaryKey</th>\n",
       "      <th>uid</th>\n",
       "      <th>photoDate</th>\n",
       "      <th>cameraModel</th>\n",
       "      <th>archiveFilename</th>\n",
       "      <th>imageWidth</th>\n",
       "      <th>imageHeight</th>\n",
       "      <th>fileSize</th>\n",
       "      <th>imageType</th>\n",
       "      <th>version</th>\n",
       "      <th>aliasPath</th>\n",
       "    </tr>\n",
       "  </thead>\n",
       "  <tbody>\n",
       "    <tr>\n",
       "      <th>0</th>\n",
       "      <td> 4294967334</td>\n",
       "      <td> 19226418710</td>\n",
       "      <td> 2002-09-25T15:14:23.000Z</td>\n",
       "      <td>  600</td>\n",
       "      <td> /Volumes/maryc/Pictures/iPhoto Library/Origina...</td>\n",
       "      <td> /Volumes/maryc/Pictures/iPhoto Library/Origina...</td>\n",
       "      <td>  800</td>\n",
       "      <td> Originals/2002/Sep 25, 2002/Santa Cecelia gran...</td>\n",
       "      <td>   38</td>\n",
       "      <td> 7281F4D1-E140-4832-B759-60D5B9DF78B1</td>\n",
       "      <td> 2002-09-25 10:14:23</td>\n",
       "      <td>          PDR-3320</td>\n",
       "      <td>                Santa Cecelia granite.jpg</td>\n",
       "      <td>  800</td>\n",
       "      <td>  600</td>\n",
       "      <td>  63092</td>\n",
       "      <td> 6</td>\n",
       "      <td> 100</td>\n",
       "      <td> None</td>\n",
       "    </tr>\n",
       "    <tr>\n",
       "      <th>1</th>\n",
       "      <td> 4294976544</td>\n",
       "      <td> 18793385783</td>\n",
       "      <td> 2003-07-21T03:52:05.000Z</td>\n",
       "      <td> 1385</td>\n",
       "      <td> /Volumes/maryc/Pictures/iPhoto Library/Origina...</td>\n",
       "      <td> /Volumes/maryc/Pictures/iPhoto Library/Origina...</td>\n",
       "      <td> 1332</td>\n",
       "      <td>          Originals/2003/Jul 20, 2003/brothers.jpg</td>\n",
       "      <td> 9248</td>\n",
       "      <td> 7EFC6CF1-F3A5-42DD-ADBC-52561476CC50</td>\n",
       "      <td> 2003-07-20 22:52:05</td>\n",
       "      <td> hp photosmart 720</td>\n",
       "      <td>                             brothers.jpg</td>\n",
       "      <td> 1332</td>\n",
       "      <td> 1385</td>\n",
       "      <td> 615319</td>\n",
       "      <td> 6</td>\n",
       "      <td> 100</td>\n",
       "      <td> None</td>\n",
       "    </tr>\n",
       "    <tr>\n",
       "      <th>2</th>\n",
       "      <td> 4294976530</td>\n",
       "      <td> 18793388523</td>\n",
       "      <td> 2003-08-08T20:09:51.000Z</td>\n",
       "      <td> 1459</td>\n",
       "      <td> /Volumes/maryc/Pictures/iPhoto Library/Modifie...</td>\n",
       "      <td> /Volumes/maryc/Pictures/iPhoto Library/Origina...</td>\n",
       "      <td> 1647</td>\n",
       "      <td>          Modified/2003/Aug 8, 2003/justin car.jpg</td>\n",
       "      <td> 9234</td>\n",
       "      <td> E3D5AD74-7FC1-4916-A9DA-6C2CB47B5D16</td>\n",
       "      <td> 2003-08-08 15:09:51</td>\n",
       "      <td> hp photosmart 720</td>\n",
       "      <td>                           justin car.jpg</td>\n",
       "      <td> 1647</td>\n",
       "      <td> 1459</td>\n",
       "      <td> 828662</td>\n",
       "      <td> 6</td>\n",
       "      <td> 100</td>\n",
       "      <td> None</td>\n",
       "    </tr>\n",
       "    <tr>\n",
       "      <th>3</th>\n",
       "      <td> 4294976542</td>\n",
       "      <td> 18791506174</td>\n",
       "      <td> 2003-08-08T20:09:51.000Z</td>\n",
       "      <td> 1536</td>\n",
       "      <td> /Volumes/maryc/Pictures/iPhoto Library/Origina...</td>\n",
       "      <td> /Volumes/maryc/Pictures/iPhoto Library/Origina...</td>\n",
       "      <td> 2048</td>\n",
       "      <td>       Originals/2003/Aug 8, 2003_2/justin car.jpg</td>\n",
       "      <td> 9246</td>\n",
       "      <td> CCD2008C-4CB5-46BF-B99D-4BAE8999D8AD</td>\n",
       "      <td> 2003-08-08 15:09:51</td>\n",
       "      <td> hp photosmart 720</td>\n",
       "      <td>                           justin car.jpg</td>\n",
       "      <td> 2048</td>\n",
       "      <td> 1536</td>\n",
       "      <td> 738791</td>\n",
       "      <td> 6</td>\n",
       "      <td> 100</td>\n",
       "      <td> None</td>\n",
       "    </tr>\n",
       "    <tr>\n",
       "      <th>4</th>\n",
       "      <td> 4294971867</td>\n",
       "      <td> 19414016905</td>\n",
       "      <td> 2006-02-01T17:05:22.000Z</td>\n",
       "      <td>  377</td>\n",
       "      <td> /Volumes/maryc/Pictures/iPhoto Library/Origina...</td>\n",
       "      <td> /Volumes/maryc/Pictures/iPhoto Library/Origina...</td>\n",
       "      <td>  495</td>\n",
       "      <td> Originals/2006/Feb 1, 2006/NY-Skyline-new-york...</td>\n",
       "      <td> 4571</td>\n",
       "      <td> 5D1426FC-5F86-457D-9EB7-6F761607C8FA</td>\n",
       "      <td> 2006-02-01 11:05:22</td>\n",
       "      <td>              None</td>\n",
       "      <td> NY-Skyline-new-york-1138029_495_377.jpeg</td>\n",
       "      <td>  495</td>\n",
       "      <td>  377</td>\n",
       "      <td> 159106</td>\n",
       "      <td> 6</td>\n",
       "      <td> 100</td>\n",
       "      <td> None</td>\n",
       "    </tr>\n",
       "  </tbody>\n",
       "</table>\n",
       "</div>"
      ],
      "text/plain": [
       "        apple       flickr                      date  height  \\\n",
       "0  4294967334  19226418710  2002-09-25T15:14:23.000Z     600   \n",
       "1  4294976544  18793385783  2003-07-21T03:52:05.000Z    1385   \n",
       "2  4294976530  18793388523  2003-08-08T20:09:51.000Z    1459   \n",
       "3  4294976542  18791506174  2003-08-08T20:09:51.000Z    1536   \n",
       "4  4294971867  19414016905  2006-02-01T17:05:22.000Z     377   \n",
       "\n",
       "                                           imagePath  \\\n",
       "0  /Volumes/maryc/Pictures/iPhoto Library/Origina...   \n",
       "1  /Volumes/maryc/Pictures/iPhoto Library/Origina...   \n",
       "2  /Volumes/maryc/Pictures/iPhoto Library/Modifie...   \n",
       "3  /Volumes/maryc/Pictures/iPhoto Library/Origina...   \n",
       "4  /Volumes/maryc/Pictures/iPhoto Library/Origina...   \n",
       "\n",
       "                                        originalPath  width  \\\n",
       "0  /Volumes/maryc/Pictures/iPhoto Library/Origina...    800   \n",
       "1  /Volumes/maryc/Pictures/iPhoto Library/Origina...   1332   \n",
       "2  /Volumes/maryc/Pictures/iPhoto Library/Origina...   1647   \n",
       "3  /Volumes/maryc/Pictures/iPhoto Library/Origina...   2048   \n",
       "4  /Volumes/maryc/Pictures/iPhoto Library/Origina...    495   \n",
       "\n",
       "                                        relativePath  primaryKey  \\\n",
       "0  Originals/2002/Sep 25, 2002/Santa Cecelia gran...          38   \n",
       "1           Originals/2003/Jul 20, 2003/brothers.jpg        9248   \n",
       "2           Modified/2003/Aug 8, 2003/justin car.jpg        9234   \n",
       "3        Originals/2003/Aug 8, 2003_2/justin car.jpg        9246   \n",
       "4  Originals/2006/Feb 1, 2006/NY-Skyline-new-york...        4571   \n",
       "\n",
       "                                    uid            photoDate  \\\n",
       "0  7281F4D1-E140-4832-B759-60D5B9DF78B1  2002-09-25 10:14:23   \n",
       "1  7EFC6CF1-F3A5-42DD-ADBC-52561476CC50  2003-07-20 22:52:05   \n",
       "2  E3D5AD74-7FC1-4916-A9DA-6C2CB47B5D16  2003-08-08 15:09:51   \n",
       "3  CCD2008C-4CB5-46BF-B99D-4BAE8999D8AD  2003-08-08 15:09:51   \n",
       "4  5D1426FC-5F86-457D-9EB7-6F761607C8FA  2006-02-01 11:05:22   \n",
       "\n",
       "         cameraModel                           archiveFilename  imageWidth  \\\n",
       "0           PDR-3320                 Santa Cecelia granite.jpg         800   \n",
       "1  hp photosmart 720                              brothers.jpg        1332   \n",
       "2  hp photosmart 720                            justin car.jpg        1647   \n",
       "3  hp photosmart 720                            justin car.jpg        2048   \n",
       "4               None  NY-Skyline-new-york-1138029_495_377.jpeg         495   \n",
       "\n",
       "   imageHeight  fileSize  imageType  version aliasPath  \n",
       "0          600     63092          6      100      None  \n",
       "1         1385    615319          6      100      None  \n",
       "2         1459    828662          6      100      None  \n",
       "3         1536    738791          6      100      None  \n",
       "4          377    159106          6      100      None  "
      ]
     },
     "execution_count": 152,
     "metadata": {},
     "output_type": "execute_result"
    }
   ],
   "source": [
    "upkdb.head()"
   ]
  },
  {
   "cell_type": "markdown",
   "metadata": {},
   "source": [
    "## Fixing Dates\n",
    "\n",
    "Let's grab flickr photos with unkonwn date taken (with upload date, title, and original size).\n",
    "\n",
    "Then merge with the date information from the sqlite3 db."
   ]
  },
  {
   "cell_type": "code",
   "execution_count": 178,
   "metadata": {
    "collapsed": false,
    "scrolled": true
   },
   "outputs": [
    {
     "name": "stdout",
     "output_type": "stream",
     "text": [
      "74 74\n"
     ]
    },
    {
     "data": {
      "text/html": [
       "<div style=\"max-height:1000px;max-width:1500px;overflow:auto;\">\n",
       "<table border=\"1\" class=\"dataframe\">\n",
       "  <thead>\n",
       "    <tr style=\"text-align: right;\">\n",
       "      <th></th>\n",
       "      <th>date</th>\n",
       "      <th>photoDate</th>\n",
       "      <th>upload_date</th>\n",
       "      <th>title</th>\n",
       "      <th>archiveFilename</th>\n",
       "      <th>width_o</th>\n",
       "      <th>imageWidth</th>\n",
       "      <th>height_o</th>\n",
       "      <th>imageHeight</th>\n",
       "      <th>uid</th>\n",
       "    </tr>\n",
       "    <tr>\n",
       "      <th>flickr</th>\n",
       "      <th></th>\n",
       "      <th></th>\n",
       "      <th></th>\n",
       "      <th></th>\n",
       "      <th></th>\n",
       "      <th></th>\n",
       "      <th></th>\n",
       "      <th></th>\n",
       "      <th></th>\n",
       "      <th></th>\n",
       "    </tr>\n",
       "  </thead>\n",
       "  <tbody>\n",
       "    <tr>\n",
       "      <th>19426161436</th>\n",
       "      <td> 2014-10-20T18:47:27.000Z</td>\n",
       "      <td> 2014-10-20 13:47:27</td>\n",
       "      <td>2015-07-05 20:23:04</td>\n",
       "      <td>  segway tour - 4</td>\n",
       "      <td>  segway tour - 4.jpg</td>\n",
       "      <td>  466</td>\n",
       "      <td>  466</td>\n",
       "      <td>  630</td>\n",
       "      <td>  630</td>\n",
       "      <td> 93061866-7680-43EA-9D58-8DE25E554B43</td>\n",
       "    </tr>\n",
       "    <tr>\n",
       "      <th>19456508621</th>\n",
       "      <td> 2014-10-20T18:48:03.000Z</td>\n",
       "      <td> 2014-10-20 13:48:03</td>\n",
       "      <td>2015-07-05 20:23:10</td>\n",
       "      <td> segway tour - 28</td>\n",
       "      <td> segway tour - 28.jpg</td>\n",
       "      <td>  851</td>\n",
       "      <td>  851</td>\n",
       "      <td>  630</td>\n",
       "      <td>  630</td>\n",
       "      <td> BFCD692A-52C7-4059-8A9F-F6264133C155</td>\n",
       "    </tr>\n",
       "    <tr>\n",
       "      <th>19266094319</th>\n",
       "      <td> 2014-10-20T18:52:50.000Z</td>\n",
       "      <td> 2014-10-20 13:52:50</td>\n",
       "      <td>2015-07-05 20:23:12</td>\n",
       "      <td>  segway tour - 2</td>\n",
       "      <td>  segway tour - 2.jpg</td>\n",
       "      <td>  466</td>\n",
       "      <td>  291</td>\n",
       "      <td>  630</td>\n",
       "      <td>  438</td>\n",
       "      <td> B854FE26-841E-4968-BDF2-975C18AB3B05</td>\n",
       "    </tr>\n",
       "    <tr>\n",
       "      <th>19264673498</th>\n",
       "      <td> 2014-10-20T18:48:22.000Z</td>\n",
       "      <td> 2014-10-20 13:48:22</td>\n",
       "      <td>2015-07-05 20:23:16</td>\n",
       "      <td> segway tour - 33</td>\n",
       "      <td> segway tour - 33.jpg</td>\n",
       "      <td>  466</td>\n",
       "      <td>  338</td>\n",
       "      <td>  630</td>\n",
       "      <td>  519</td>\n",
       "      <td> 8976E385-2BE0-46AB-8E9E-2FA573574ED4</td>\n",
       "    </tr>\n",
       "    <tr>\n",
       "      <th>19445946592</th>\n",
       "      <td> 2014-10-31T13:45:47.000Z</td>\n",
       "      <td> 2014-10-31 08:45:47</td>\n",
       "      <td>2015-07-05 20:23:47</td>\n",
       "      <td> Brennan baby tub</td>\n",
       "      <td> Brennan baby tub.jpg</td>\n",
       "      <td> 2351</td>\n",
       "      <td> 2351</td>\n",
       "      <td> 2945</td>\n",
       "      <td> 2945</td>\n",
       "      <td> BA448463-3932-40C2-811C-B30017C68087</td>\n",
       "    </tr>\n",
       "  </tbody>\n",
       "</table>\n",
       "</div>"
      ],
      "text/plain": [
       "                                 date            photoDate  \\\n",
       "flickr                                                       \n",
       "19426161436  2014-10-20T18:47:27.000Z  2014-10-20 13:47:27   \n",
       "19456508621  2014-10-20T18:48:03.000Z  2014-10-20 13:48:03   \n",
       "19266094319  2014-10-20T18:52:50.000Z  2014-10-20 13:52:50   \n",
       "19264673498  2014-10-20T18:48:22.000Z  2014-10-20 13:48:22   \n",
       "19445946592  2014-10-31T13:45:47.000Z  2014-10-31 08:45:47   \n",
       "\n",
       "                    upload_date             title       archiveFilename  \\\n",
       "flickr                                                                    \n",
       "19426161436 2015-07-05 20:23:04   segway tour - 4   segway tour - 4.jpg   \n",
       "19456508621 2015-07-05 20:23:10  segway tour - 28  segway tour - 28.jpg   \n",
       "19266094319 2015-07-05 20:23:12   segway tour - 2   segway tour - 2.jpg   \n",
       "19264673498 2015-07-05 20:23:16  segway tour - 33  segway tour - 33.jpg   \n",
       "19445946592 2015-07-05 20:23:47  Brennan baby tub  Brennan baby tub.jpg   \n",
       "\n",
       "            width_o  imageWidth height_o  imageHeight  \\\n",
       "flickr                                                  \n",
       "19426161436     466         466      630          630   \n",
       "19456508621     851         851      630          630   \n",
       "19266094319     466         291      630          438   \n",
       "19264673498     466         338      630          519   \n",
       "19445946592    2351        2351     2945         2945   \n",
       "\n",
       "                                              uid  \n",
       "flickr                                             \n",
       "19426161436  93061866-7680-43EA-9D58-8DE25E554B43  \n",
       "19456508621  BFCD692A-52C7-4059-8A9F-F6264133C155  \n",
       "19266094319  B854FE26-841E-4968-BDF2-975C18AB3B05  \n",
       "19264673498  8976E385-2BE0-46AB-8E9E-2FA573574ED4  \n",
       "19445946592  BA448463-3932-40C2-811C-B30017C68087  "
      ]
     },
     "execution_count": 178,
     "metadata": {},
     "output_type": "execute_result"
    }
   ],
   "source": [
    "tofix = photo[photo.datetakenunknown == '1'][['datetaken', 'upload_date', 'title', 'width_o', 'height_o']]\n",
    "fixed = tofix.merge(upkdb, left_index=True, right_on='flickr')[\n",
    "    ['date', 'photoDate', 'upload_date', 'title', 'archiveFilename',\n",
    "     'width_o', 'imageWidth', 'height_o', 'imageHeight',\n",
    "    'flickr', 'uid']].set_index('flickr')\n",
    "print len(tofix), len(fixed)\n",
    "fixed.head()"
   ]
  },
  {
   "cell_type": "markdown",
   "metadata": {},
   "source": [
    "For this, we need write access."
   ]
  },
  {
   "cell_type": "code",
   "execution_count": 169,
   "metadata": {
    "collapsed": false
   },
   "outputs": [
    {
     "name": "stderr",
     "output_type": "stream",
     "text": [
      "INFO:flickdata:authenticating...\n",
      "INFO:flickrapi.core:Calling {'nojsoncallback': 1, 'method': 'flickr.auth.oauth.checkToken', 'format': 'parsed-json'}\n",
      "INFO:requests.packages.urllib3.connectionpool:Starting new HTTPS connection (1): api.flickr.com\n",
      "INFO:flickrapi.core:REST Parser: using xml.etree.cElementTree\n"
     ]
    }
   ],
   "source": [
    "def myFlickrEdit(user_id='14874637@N00'):\n",
    "    import pathlib\n",
    "    import flickrapi\n",
    "    api_secret = pathlib.Path('flickr_api_secret').open().read().strip()\n",
    "    return flickdata.Write.make(flickrapi, api_secret, user_id)\n",
    "\n",
    "edit = myFlickrEdit()"
   ]
  },
  {
   "cell_type": "markdown",
   "metadata": {},
   "source": [
    "Let's work with one photo at first, verifying with the flickr web UI as we go."
   ]
  },
  {
   "cell_type": "code",
   "execution_count": 179,
   "metadata": {
    "collapsed": false
   },
   "outputs": [
    {
     "data": {
      "text/html": [
       "<img src=\"https://farm1.staticflickr.com/308/19426161436_28c40cd67d_t.jpg\"/>"
      ],
      "text/plain": [
       "<IPython.core.display.Image object>"
      ]
     },
     "execution_count": 179,
     "metadata": {},
     "output_type": "execute_result"
    }
   ],
   "source": [
    "Image(url=photo.loc[19426161436].url_t)"
   ]
  },
  {
   "cell_type": "code",
   "execution_count": 180,
   "metadata": {
    "collapsed": false
   },
   "outputs": [
    {
     "data": {
      "text/plain": [
       "u'2014-10-20 13:47:27'"
      ]
     },
     "execution_count": 180,
     "metadata": {},
     "output_type": "execute_result"
    }
   ],
   "source": [
    "fixed.loc[19426161436].photoDate"
   ]
  },
  {
   "cell_type": "code",
   "execution_count": 181,
   "metadata": {
    "collapsed": false,
    "scrolled": false
   },
   "outputs": [
    {
     "name": "stderr",
     "output_type": "stream",
     "text": [
      "INFO:flickdata:setDates: {'date_taken': u'2014-10-20 13:47:27'}...\n",
      "INFO:flickrapi.core:Calling {'nojsoncallback': 1, 'method': 'flickr.photos.setDates', 'format': 'parsed-json'}\n",
      "INFO:requests.packages.urllib3.connectionpool:Starting new HTTPS connection (1): api.flickr.com\n"
     ]
    },
    {
     "data": {
      "text/plain": [
       "{u'stat': u'ok'}"
      ]
     },
     "execution_count": 181,
     "metadata": {},
     "output_type": "execute_result"
    }
   ],
   "source": [
    "edit.setDates(19426161436, date_taken=fixed.loc[19426161436].photoDate)"
   ]
  },
  {
   "cell_type": "markdown",
   "metadata": {},
   "source": [
    "Now we can iterate over all the fixes.\n",
    "\n",
    "Incremental updates came in handy here. At first, I forgot to rate-limit my requests and flickr noticed after a few hundred. I went back and fetched metadata for recent photos in my photostream again and finished off the rest."
   ]
  },
  {
   "cell_type": "code",
   "execution_count": 182,
   "metadata": {
    "collapsed": true
   },
   "outputs": [],
   "source": [
    "import time"
   ]
  },
  {
   "cell_type": "code",
   "execution_count": 185,
   "metadata": {
    "collapsed": false
   },
   "outputs": [
    {
     "name": "stderr",
     "output_type": "stream",
     "text": [
      "INFO:flickdata:setDates: {'date_taken': u'2014-10-20 13:47:27'}...\n",
      "INFO:flickrapi.core:Calling {'nojsoncallback': 1, 'method': 'flickr.photos.setDates', 'format': 'parsed-json'}\n",
      "INFO:requests.packages.urllib3.connectionpool:Starting new HTTPS connection (1): api.flickr.com\n",
      "INFO:flickdata:setDates: {'date_taken': u'2014-10-20 13:48:03'}...\n",
      "INFO:flickrapi.core:Calling {'nojsoncallback': 1, 'method': 'flickr.photos.setDates', 'format': 'parsed-json'}\n",
      "INFO:requests.packages.urllib3.connectionpool:Starting new HTTPS connection (1): api.flickr.com\n",
      "INFO:flickdata:setDates: {'date_taken': u'2014-10-20 13:52:50'}...\n",
      "INFO:flickrapi.core:Calling {'nojsoncallback': 1, 'method': 'flickr.photos.setDates', 'format': 'parsed-json'}\n",
      "INFO:requests.packages.urllib3.connectionpool:Starting new HTTPS connection (1): api.flickr.com\n",
      "INFO:flickdata:setDates: {'date_taken': u'2014-10-20 13:48:22'}...\n",
      "INFO:flickrapi.core:Calling {'nojsoncallback': 1, 'method': 'flickr.photos.setDates', 'format': 'parsed-json'}\n",
      "INFO:requests.packages.urllib3.connectionpool:Starting new HTTPS connection (1): api.flickr.com\n",
      "INFO:flickdata:setDates: {'date_taken': u'2014-10-31 08:45:47'}...\n",
      "INFO:flickrapi.core:Calling {'nojsoncallback': 1, 'method': 'flickr.photos.setDates', 'format': 'parsed-json'}\n",
      "INFO:requests.packages.urllib3.connectionpool:Starting new HTTPS connection (1): api.flickr.com\n",
      "INFO:flickdata:setDates: {'date_taken': u'2014-10-31 09:07:10'}...\n",
      "INFO:flickrapi.core:Calling {'nojsoncallback': 1, 'method': 'flickr.photos.setDates', 'format': 'parsed-json'}\n",
      "INFO:requests.packages.urllib3.connectionpool:Starting new HTTPS connection (1): api.flickr.com\n",
      "INFO:flickdata:setDates: {'date_taken': u'2014-10-31 08:59:05'}...\n",
      "INFO:flickrapi.core:Calling {'nojsoncallback': 1, 'method': 'flickr.photos.setDates', 'format': 'parsed-json'}\n",
      "INFO:requests.packages.urllib3.connectionpool:Starting new HTTPS connection (1): api.flickr.com\n",
      "INFO:flickdata:setDates: {'date_taken': u'2014-10-31 09:07:30'}...\n",
      "INFO:flickrapi.core:Calling {'nojsoncallback': 1, 'method': 'flickr.photos.setDates', 'format': 'parsed-json'}\n",
      "INFO:requests.packages.urllib3.connectionpool:Starting new HTTPS connection (1): api.flickr.com\n",
      "INFO:flickdata:setDates: {'date_taken': u'2014-11-01 07:06:54'}...\n",
      "INFO:flickrapi.core:Calling {'nojsoncallback': 1, 'method': 'flickr.photos.setDates', 'format': 'parsed-json'}\n",
      "INFO:requests.packages.urllib3.connectionpool:Starting new HTTPS connection (1): api.flickr.com\n",
      "INFO:flickdata:setDates: {'date_taken': u'2014-11-08 18:27:35'}...\n",
      "INFO:flickrapi.core:Calling {'nojsoncallback': 1, 'method': 'flickr.photos.setDates', 'format': 'parsed-json'}\n",
      "INFO:requests.packages.urllib3.connectionpool:Starting new HTTPS connection (1): api.flickr.com\n",
      "INFO:flickdata:setDates: {'date_taken': u'2014-11-08 18:28:06'}...\n",
      "INFO:flickrapi.core:Calling {'nojsoncallback': 1, 'method': 'flickr.photos.setDates', 'format': 'parsed-json'}\n",
      "INFO:requests.packages.urllib3.connectionpool:Starting new HTTPS connection (1): api.flickr.com\n",
      "INFO:flickdata:setDates: {'date_taken': u'2014-11-08 18:27:35'}...\n",
      "INFO:flickrapi.core:Calling {'nojsoncallback': 1, 'method': 'flickr.photos.setDates', 'format': 'parsed-json'}\n",
      "INFO:requests.packages.urllib3.connectionpool:Starting new HTTPS connection (1): api.flickr.com\n",
      "INFO:flickdata:setDates: {'date_taken': u'2014-11-08 18:28:40'}...\n",
      "INFO:flickrapi.core:Calling {'nojsoncallback': 1, 'method': 'flickr.photos.setDates', 'format': 'parsed-json'}\n",
      "INFO:requests.packages.urllib3.connectionpool:Starting new HTTPS connection (1): api.flickr.com\n",
      "INFO:flickdata:setDates: {'date_taken': u'2014-11-08 18:28:16'}...\n",
      "INFO:flickrapi.core:Calling {'nojsoncallback': 1, 'method': 'flickr.photos.setDates', 'format': 'parsed-json'}\n",
      "INFO:requests.packages.urllib3.connectionpool:Starting new HTTPS connection (1): api.flickr.com\n",
      "INFO:flickdata:setDates: {'date_taken': u'2014-11-08 18:29:05'}...\n",
      "INFO:flickrapi.core:Calling {'nojsoncallback': 1, 'method': 'flickr.photos.setDates', 'format': 'parsed-json'}\n",
      "INFO:requests.packages.urllib3.connectionpool:Starting new HTTPS connection (1): api.flickr.com\n",
      "INFO:flickdata:setDates: {'date_taken': u'2014-11-08 18:30:01'}...\n",
      "INFO:flickrapi.core:Calling {'nojsoncallback': 1, 'method': 'flickr.photos.setDates', 'format': 'parsed-json'}\n",
      "INFO:requests.packages.urllib3.connectionpool:Starting new HTTPS connection (1): api.flickr.com\n",
      "INFO:flickdata:setDates: {'date_taken': u'2014-11-08 18:36:10'}...\n",
      "INFO:flickrapi.core:Calling {'nojsoncallback': 1, 'method': 'flickr.photos.setDates', 'format': 'parsed-json'}\n",
      "INFO:requests.packages.urllib3.connectionpool:Starting new HTTPS connection (1): api.flickr.com\n",
      "INFO:flickdata:setDates: {'date_taken': u'2014-11-08 18:31:59'}...\n",
      "INFO:flickrapi.core:Calling {'nojsoncallback': 1, 'method': 'flickr.photos.setDates', 'format': 'parsed-json'}\n",
      "INFO:requests.packages.urllib3.connectionpool:Starting new HTTPS connection (1): api.flickr.com\n",
      "INFO:flickdata:setDates: {'date_taken': u'2014-11-08 18:35:29'}...\n",
      "INFO:flickrapi.core:Calling {'nojsoncallback': 1, 'method': 'flickr.photos.setDates', 'format': 'parsed-json'}\n",
      "INFO:requests.packages.urllib3.connectionpool:Starting new HTTPS connection (1): api.flickr.com\n",
      "INFO:flickdata:setDates: {'date_taken': u'2014-11-08 18:35:15'}...\n",
      "INFO:flickrapi.core:Calling {'nojsoncallback': 1, 'method': 'flickr.photos.setDates', 'format': 'parsed-json'}\n",
      "INFO:requests.packages.urllib3.connectionpool:Starting new HTTPS connection (1): api.flickr.com\n",
      "INFO:flickdata:setDates: {'date_taken': u'2014-11-08 18:39:51'}...\n",
      "INFO:flickrapi.core:Calling {'nojsoncallback': 1, 'method': 'flickr.photos.setDates', 'format': 'parsed-json'}\n",
      "INFO:requests.packages.urllib3.connectionpool:Starting new HTTPS connection (1): api.flickr.com\n",
      "INFO:flickdata:setDates: {'date_taken': u'2014-11-08 19:26:15'}...\n",
      "INFO:flickrapi.core:Calling {'nojsoncallback': 1, 'method': 'flickr.photos.setDates', 'format': 'parsed-json'}\n",
      "INFO:requests.packages.urllib3.connectionpool:Starting new HTTPS connection (1): api.flickr.com\n",
      "INFO:flickdata:setDates: {'date_taken': u'2014-11-08 19:26:30'}...\n",
      "INFO:flickrapi.core:Calling {'nojsoncallback': 1, 'method': 'flickr.photos.setDates', 'format': 'parsed-json'}\n",
      "INFO:requests.packages.urllib3.connectionpool:Starting new HTTPS connection (1): api.flickr.com\n",
      "INFO:flickdata:setDates: {'date_taken': u'2014-11-08 19:26:42'}...\n",
      "INFO:flickrapi.core:Calling {'nojsoncallback': 1, 'method': 'flickr.photos.setDates', 'format': 'parsed-json'}\n",
      "INFO:requests.packages.urllib3.connectionpool:Starting new HTTPS connection (1): api.flickr.com\n",
      "INFO:flickdata:setDates: {'date_taken': u'2014-11-08 19:27:04'}...\n",
      "INFO:flickrapi.core:Calling {'nojsoncallback': 1, 'method': 'flickr.photos.setDates', 'format': 'parsed-json'}\n",
      "INFO:requests.packages.urllib3.connectionpool:Starting new HTTPS connection (1): api.flickr.com\n",
      "INFO:flickdata:setDates: {'date_taken': u'2014-11-08 19:28:15'}...\n",
      "INFO:flickrapi.core:Calling {'nojsoncallback': 1, 'method': 'flickr.photos.setDates', 'format': 'parsed-json'}\n",
      "INFO:requests.packages.urllib3.connectionpool:Starting new HTTPS connection (1): api.flickr.com\n",
      "INFO:flickdata:setDates: {'date_taken': u'2014-11-08 19:28:56'}...\n",
      "INFO:flickrapi.core:Calling {'nojsoncallback': 1, 'method': 'flickr.photos.setDates', 'format': 'parsed-json'}\n",
      "INFO:requests.packages.urllib3.connectionpool:Starting new HTTPS connection (1): api.flickr.com\n",
      "INFO:flickdata:setDates: {'date_taken': u'2014-11-08 19:28:36'}...\n",
      "INFO:flickrapi.core:Calling {'nojsoncallback': 1, 'method': 'flickr.photos.setDates', 'format': 'parsed-json'}\n",
      "INFO:requests.packages.urllib3.connectionpool:Starting new HTTPS connection (1): api.flickr.com\n",
      "INFO:flickdata:setDates: {'date_taken': u'2014-11-08 19:29:09'}...\n",
      "INFO:flickrapi.core:Calling {'nojsoncallback': 1, 'method': 'flickr.photos.setDates', 'format': 'parsed-json'}\n",
      "INFO:requests.packages.urllib3.connectionpool:Starting new HTTPS connection (1): api.flickr.com\n",
      "INFO:flickdata:setDates: {'date_taken': u'2014-11-08 19:30:34'}...\n",
      "INFO:flickrapi.core:Calling {'nojsoncallback': 1, 'method': 'flickr.photos.setDates', 'format': 'parsed-json'}\n",
      "INFO:requests.packages.urllib3.connectionpool:Starting new HTTPS connection (1): api.flickr.com\n",
      "INFO:flickdata:setDates: {'date_taken': u'2014-11-08 19:30:45'}...\n",
      "INFO:flickrapi.core:Calling {'nojsoncallback': 1, 'method': 'flickr.photos.setDates', 'format': 'parsed-json'}\n",
      "INFO:requests.packages.urllib3.connectionpool:Starting new HTTPS connection (1): api.flickr.com\n",
      "INFO:flickdata:setDates: {'date_taken': u'2014-11-08 19:30:56'}...\n",
      "INFO:flickrapi.core:Calling {'nojsoncallback': 1, 'method': 'flickr.photos.setDates', 'format': 'parsed-json'}\n",
      "INFO:requests.packages.urllib3.connectionpool:Starting new HTTPS connection (1): api.flickr.com\n",
      "INFO:flickdata:setDates: {'date_taken': u'2014-11-08 19:31:13'}...\n",
      "INFO:flickrapi.core:Calling {'nojsoncallback': 1, 'method': 'flickr.photos.setDates', 'format': 'parsed-json'}\n",
      "INFO:requests.packages.urllib3.connectionpool:Starting new HTTPS connection (1): api.flickr.com\n",
      "INFO:flickdata:setDates: {'date_taken': u'2014-11-08 19:32:18'}...\n",
      "INFO:flickrapi.core:Calling {'nojsoncallback': 1, 'method': 'flickr.photos.setDates', 'format': 'parsed-json'}\n",
      "INFO:requests.packages.urllib3.connectionpool:Starting new HTTPS connection (1): api.flickr.com\n",
      "INFO:flickdata:setDates: {'date_taken': u'2014-11-08 19:32:18'}...\n",
      "INFO:flickrapi.core:Calling {'nojsoncallback': 1, 'method': 'flickr.photos.setDates', 'format': 'parsed-json'}\n",
      "INFO:requests.packages.urllib3.connectionpool:Starting new HTTPS connection (1): api.flickr.com\n",
      "INFO:flickdata:setDates: {'date_taken': u'2014-11-08 19:32:41'}...\n",
      "INFO:flickrapi.core:Calling {'nojsoncallback': 1, 'method': 'flickr.photos.setDates', 'format': 'parsed-json'}\n",
      "INFO:requests.packages.urllib3.connectionpool:Starting new HTTPS connection (1): api.flickr.com\n",
      "INFO:flickdata:setDates: {'date_taken': u'2014-11-08 19:32:30'}...\n",
      "INFO:flickrapi.core:Calling {'nojsoncallback': 1, 'method': 'flickr.photos.setDates', 'format': 'parsed-json'}\n",
      "INFO:requests.packages.urllib3.connectionpool:Starting new HTTPS connection (1): api.flickr.com\n",
      "INFO:flickdata:setDates: {'date_taken': u'2014-11-08 19:32:52'}...\n",
      "INFO:flickrapi.core:Calling {'nojsoncallback': 1, 'method': 'flickr.photos.setDates', 'format': 'parsed-json'}\n",
      "INFO:requests.packages.urllib3.connectionpool:Starting new HTTPS connection (1): api.flickr.com\n",
      "INFO:flickdata:setDates: {'date_taken': u'2014-11-08 19:33:23'}...\n",
      "INFO:flickrapi.core:Calling {'nojsoncallback': 1, 'method': 'flickr.photos.setDates', 'format': 'parsed-json'}\n",
      "INFO:requests.packages.urllib3.connectionpool:Starting new HTTPS connection (1): api.flickr.com\n",
      "INFO:flickdata:setDates: {'date_taken': u'2014-11-08 19:35:17'}...\n",
      "INFO:flickrapi.core:Calling {'nojsoncallback': 1, 'method': 'flickr.photos.setDates', 'format': 'parsed-json'}\n",
      "INFO:requests.packages.urllib3.connectionpool:Starting new HTTPS connection (1): api.flickr.com\n",
      "INFO:flickdata:setDates: {'date_taken': u'2014-11-08 19:34:47'}...\n",
      "INFO:flickrapi.core:Calling {'nojsoncallback': 1, 'method': 'flickr.photos.setDates', 'format': 'parsed-json'}\n",
      "INFO:requests.packages.urllib3.connectionpool:Starting new HTTPS connection (1): api.flickr.com\n",
      "INFO:flickdata:setDates: {'date_taken': u'2014-11-08 19:34:56'}...\n",
      "INFO:flickrapi.core:Calling {'nojsoncallback': 1, 'method': 'flickr.photos.setDates', 'format': 'parsed-json'}\n",
      "INFO:requests.packages.urllib3.connectionpool:Starting new HTTPS connection (1): api.flickr.com\n",
      "INFO:flickdata:setDates: {'date_taken': u'2014-11-08 19:35:08'}...\n",
      "INFO:flickrapi.core:Calling {'nojsoncallback': 1, 'method': 'flickr.photos.setDates', 'format': 'parsed-json'}\n",
      "INFO:requests.packages.urllib3.connectionpool:Starting new HTTPS connection (1): api.flickr.com\n",
      "INFO:flickdata:setDates: {'date_taken': u'2014-11-08 19:36:40'}...\n",
      "INFO:flickrapi.core:Calling {'nojsoncallback': 1, 'method': 'flickr.photos.setDates', 'format': 'parsed-json'}\n",
      "INFO:requests.packages.urllib3.connectionpool:Starting new HTTPS connection (1): api.flickr.com\n",
      "INFO:flickdata:setDates: {'date_taken': u'2014-11-08 19:35:38'}...\n",
      "INFO:flickrapi.core:Calling {'nojsoncallback': 1, 'method': 'flickr.photos.setDates', 'format': 'parsed-json'}\n",
      "INFO:requests.packages.urllib3.connectionpool:Starting new HTTPS connection (1): api.flickr.com\n",
      "INFO:flickdata:setDates: {'date_taken': u'2014-11-08 19:36:51'}...\n",
      "INFO:flickrapi.core:Calling {'nojsoncallback': 1, 'method': 'flickr.photos.setDates', 'format': 'parsed-json'}\n",
      "INFO:requests.packages.urllib3.connectionpool:Starting new HTTPS connection (1): api.flickr.com\n",
      "INFO:flickdata:setDates: {'date_taken': u'2014-11-08 20:04:18'}...\n",
      "INFO:flickrapi.core:Calling {'nojsoncallback': 1, 'method': 'flickr.photos.setDates', 'format': 'parsed-json'}\n",
      "INFO:requests.packages.urllib3.connectionpool:Starting new HTTPS connection (1): api.flickr.com\n",
      "INFO:flickdata:setDates: {'date_taken': u'2014-11-08 20:07:33'}...\n",
      "INFO:flickrapi.core:Calling {'nojsoncallback': 1, 'method': 'flickr.photos.setDates', 'format': 'parsed-json'}\n",
      "INFO:requests.packages.urllib3.connectionpool:Starting new HTTPS connection (1): api.flickr.com\n",
      "INFO:flickdata:setDates: {'date_taken': u'2014-11-08 20:07:44'}...\n",
      "INFO:flickrapi.core:Calling {'nojsoncallback': 1, 'method': 'flickr.photos.setDates', 'format': 'parsed-json'}\n",
      "INFO:requests.packages.urllib3.connectionpool:Starting new HTTPS connection (1): api.flickr.com\n",
      "INFO:flickdata:setDates: {'date_taken': u'2014-11-08 20:08:11'}...\n",
      "INFO:flickrapi.core:Calling {'nojsoncallback': 1, 'method': 'flickr.photos.setDates', 'format': 'parsed-json'}\n",
      "INFO:requests.packages.urllib3.connectionpool:Starting new HTTPS connection (1): api.flickr.com\n",
      "INFO:flickdata:setDates: {'date_taken': u'2014-12-27 14:51:54'}...\n",
      "INFO:flickrapi.core:Calling {'nojsoncallback': 1, 'method': 'flickr.photos.setDates', 'format': 'parsed-json'}\n",
      "INFO:requests.packages.urllib3.connectionpool:Starting new HTTPS connection (1): api.flickr.com\n",
      "INFO:flickdata:setDates: {'date_taken': u'2014-12-27 14:52:04'}...\n",
      "INFO:flickrapi.core:Calling {'nojsoncallback': 1, 'method': 'flickr.photos.setDates', 'format': 'parsed-json'}\n",
      "INFO:requests.packages.urllib3.connectionpool:Starting new HTTPS connection (1): api.flickr.com\n",
      "INFO:flickdata:setDates: {'date_taken': u'2014-12-27 14:52:16'}...\n",
      "INFO:flickrapi.core:Calling {'nojsoncallback': 1, 'method': 'flickr.photos.setDates', 'format': 'parsed-json'}\n",
      "INFO:requests.packages.urllib3.connectionpool:Starting new HTTPS connection (1): api.flickr.com\n",
      "INFO:flickdata:setDates: {'date_taken': u'2014-12-27 14:52:34'}...\n",
      "INFO:flickrapi.core:Calling {'nojsoncallback': 1, 'method': 'flickr.photos.setDates', 'format': 'parsed-json'}\n",
      "INFO:requests.packages.urllib3.connectionpool:Starting new HTTPS connection (1): api.flickr.com\n",
      "INFO:flickdata:setDates: {'date_taken': u'2014-12-27 14:52:48'}...\n",
      "INFO:flickrapi.core:Calling {'nojsoncallback': 1, 'method': 'flickr.photos.setDates', 'format': 'parsed-json'}\n",
      "INFO:requests.packages.urllib3.connectionpool:Starting new HTTPS connection (1): api.flickr.com\n",
      "INFO:flickdata:setDates: {'date_taken': u'2015-01-09 14:22:41'}...\n",
      "INFO:flickrapi.core:Calling {'nojsoncallback': 1, 'method': 'flickr.photos.setDates', 'format': 'parsed-json'}\n",
      "INFO:requests.packages.urllib3.connectionpool:Starting new HTTPS connection (1): api.flickr.com\n",
      "INFO:flickdata:setDates: {'date_taken': u'2015-03-03 17:19:17'}...\n",
      "INFO:flickrapi.core:Calling {'nojsoncallback': 1, 'method': 'flickr.photos.setDates', 'format': 'parsed-json'}\n",
      "INFO:requests.packages.urllib3.connectionpool:Starting new HTTPS connection (1): api.flickr.com\n",
      "INFO:flickdata:setDates: {'date_taken': u'2015-04-09 19:53:29'}...\n",
      "INFO:flickrapi.core:Calling {'nojsoncallback': 1, 'method': 'flickr.photos.setDates', 'format': 'parsed-json'}\n",
      "INFO:requests.packages.urllib3.connectionpool:Starting new HTTPS connection (1): api.flickr.com\n",
      "INFO:flickdata:setDates: {'date_taken': u'2015-04-09 19:47:33'}...\n",
      "INFO:flickrapi.core:Calling {'nojsoncallback': 1, 'method': 'flickr.photos.setDates', 'format': 'parsed-json'}\n",
      "INFO:requests.packages.urllib3.connectionpool:Starting new HTTPS connection (1): api.flickr.com\n",
      "INFO:flickdata:setDates: {'date_taken': u'2015-04-09 19:49:17'}...\n",
      "INFO:flickrapi.core:Calling {'nojsoncallback': 1, 'method': 'flickr.photos.setDates', 'format': 'parsed-json'}\n",
      "INFO:requests.packages.urllib3.connectionpool:Starting new HTTPS connection (1): api.flickr.com\n",
      "INFO:flickdata:setDates: {'date_taken': u'2015-04-09 19:55:26'}...\n",
      "INFO:flickrapi.core:Calling {'nojsoncallback': 1, 'method': 'flickr.photos.setDates', 'format': 'parsed-json'}\n",
      "INFO:requests.packages.urllib3.connectionpool:Starting new HTTPS connection (1): api.flickr.com\n",
      "INFO:flickdata:setDates: {'date_taken': u'2015-04-11 09:03:06'}...\n",
      "INFO:flickrapi.core:Calling {'nojsoncallback': 1, 'method': 'flickr.photos.setDates', 'format': 'parsed-json'}\n",
      "INFO:requests.packages.urllib3.connectionpool:Starting new HTTPS connection (1): api.flickr.com\n",
      "INFO:flickdata:setDates: {'date_taken': u'2015-04-09 20:09:42'}...\n",
      "INFO:flickrapi.core:Calling {'nojsoncallback': 1, 'method': 'flickr.photos.setDates', 'format': 'parsed-json'}\n",
      "INFO:requests.packages.urllib3.connectionpool:Starting new HTTPS connection (1): api.flickr.com\n",
      "INFO:flickdata:setDates: {'date_taken': u'2015-04-11 09:11:11'}...\n",
      "INFO:flickrapi.core:Calling {'nojsoncallback': 1, 'method': 'flickr.photos.setDates', 'format': 'parsed-json'}\n",
      "INFO:requests.packages.urllib3.connectionpool:Starting new HTTPS connection (1): api.flickr.com\n",
      "INFO:flickdata:setDates: {'date_taken': u'2015-04-18 21:51:53'}...\n",
      "INFO:flickrapi.core:Calling {'nojsoncallback': 1, 'method': 'flickr.photos.setDates', 'format': 'parsed-json'}\n",
      "INFO:requests.packages.urllib3.connectionpool:Starting new HTTPS connection (1): api.flickr.com\n",
      "INFO:flickdata:setDates: {'date_taken': u'2015-05-20 09:23:33'}...\n",
      "INFO:flickrapi.core:Calling {'nojsoncallback': 1, 'method': 'flickr.photos.setDates', 'format': 'parsed-json'}\n",
      "INFO:requests.packages.urllib3.connectionpool:Starting new HTTPS connection (1): api.flickr.com\n",
      "INFO:flickdata:setDates: {'date_taken': u'2015-05-20 09:23:42'}...\n",
      "INFO:flickrapi.core:Calling {'nojsoncallback': 1, 'method': 'flickr.photos.setDates', 'format': 'parsed-json'}\n",
      "INFO:requests.packages.urllib3.connectionpool:Starting new HTTPS connection (1): api.flickr.com\n",
      "INFO:flickdata:setDates: {'date_taken': u'2015-05-20 09:24:28'}...\n",
      "INFO:flickrapi.core:Calling {'nojsoncallback': 1, 'method': 'flickr.photos.setDates', 'format': 'parsed-json'}\n",
      "INFO:requests.packages.urllib3.connectionpool:Starting new HTTPS connection (1): api.flickr.com\n",
      "INFO:flickdata:setDates: {'date_taken': u'2015-05-20 09:23:52'}...\n",
      "INFO:flickrapi.core:Calling {'nojsoncallback': 1, 'method': 'flickr.photos.setDates', 'format': 'parsed-json'}\n",
      "INFO:requests.packages.urllib3.connectionpool:Starting new HTTPS connection (1): api.flickr.com\n",
      "INFO:flickdata:setDates: {'date_taken': u'2015-05-20 09:24:08'}...\n",
      "INFO:flickrapi.core:Calling {'nojsoncallback': 1, 'method': 'flickr.photos.setDates', 'format': 'parsed-json'}\n",
      "INFO:requests.packages.urllib3.connectionpool:Starting new HTTPS connection (1): api.flickr.com\n",
      "INFO:flickdata:setDates: {'date_taken': u'2015-05-20 09:24:17'}...\n",
      "INFO:flickrapi.core:Calling {'nojsoncallback': 1, 'method': 'flickr.photos.setDates', 'format': 'parsed-json'}\n",
      "INFO:requests.packages.urllib3.connectionpool:Starting new HTTPS connection (1): api.flickr.com\n",
      "INFO:flickdata:setDates: {'date_taken': u'2015-05-20 09:24:41'}...\n",
      "INFO:flickrapi.core:Calling {'nojsoncallback': 1, 'method': 'flickr.photos.setDates', 'format': 'parsed-json'}\n",
      "INFO:requests.packages.urllib3.connectionpool:Starting new HTTPS connection (1): api.flickr.com\n",
      "INFO:flickdata:setDates: {'date_taken': u'2015-05-23 09:47:31'}...\n",
      "INFO:flickrapi.core:Calling {'nojsoncallback': 1, 'method': 'flickr.photos.setDates', 'format': 'parsed-json'}\n",
      "INFO:requests.packages.urllib3.connectionpool:Starting new HTTPS connection (1): api.flickr.com\n",
      "INFO:flickdata:setDates: {'date_taken': u'2015-05-20 09:24:50'}...\n",
      "INFO:flickrapi.core:Calling {'nojsoncallback': 1, 'method': 'flickr.photos.setDates', 'format': 'parsed-json'}\n",
      "INFO:requests.packages.urllib3.connectionpool:Starting new HTTPS connection (1): api.flickr.com\n"
     ]
    }
   ],
   "source": [
    "def do_fixes():\n",
    "    for pid, photo in fixed.iterrows():\n",
    "        edit.setDates(pid, date_taken=photo.photoDate)\n",
    "        time.sleep(0.5)\n",
    "do_fixes()"
   ]
  },
  {
   "cell_type": "markdown",
   "metadata": {},
   "source": [
    "## Future Work\n",
    "\n",
    "  - make an album of all the photos uploaded in this process?\n",
    "  - tag flickr photos with uids\n",
    "    - don't lose \"untagged\" state, though! capture untagged-ness in an album or something.\n",
    "  - sync events... using photosets?\n",
    "  - sync faces"
   ]
  }
 ],
 "metadata": {
  "kernelspec": {
   "display_name": "Python 2",
   "language": "python",
   "name": "python2"
  },
  "language_info": {
   "codemirror_mode": {
    "name": "ipython",
    "version": 2
   },
   "file_extension": ".py",
   "mimetype": "text/x-python",
   "name": "python",
   "nbconvert_exporter": "python",
   "pygments_lexer": "ipython2",
   "version": "2.7.10"
  }
 },
 "nbformat": 4,
 "nbformat_minor": 0
}
