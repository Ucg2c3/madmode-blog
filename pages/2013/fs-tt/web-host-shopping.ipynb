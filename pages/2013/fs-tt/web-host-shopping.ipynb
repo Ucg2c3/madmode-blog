{
 "metadata": {
  "name": ""
 },
 "nbformat": 3,
 "nbformat_minor": 0,
 "worksheets": [
  {
   "cells": [
    {
     "cell_type": "heading",
     "level": 1,
     "metadata": {},
     "source": [
      "Exploring the Web Hosting Marketplace"
     ]
    },
    {
     "cell_type": "markdown",
     "metadata": {},
     "source": [
      "<pre class=\"about yaml\">\n",
      "date: 2014-01-04\n",
      "tags: [office, publishing, installation, vm, devops]\n",
      "summary: The client I develop hh-office for is seeing poor performance, so I'm shopping for web hosting alternatives.\n",
      "published: True\n",
      "</pre>"
     ]
    },
    {
     "cell_type": "markdown",
     "metadata": {},
     "source": [
      "The client I develop [hh-office][] for is seeing poor performance, so I'm shopping for web hosting alternatives.\n",
      "\n",
      "  [hh-office]: https://bitbucket.org/DanC/hh-office"
     ]
    },
    {
     "cell_type": "heading",
     "level": 2,
     "metadata": {},
     "source": [
      "LAMP on Dreamhost: it's easier than thinking"
     ]
    },
    {
     "cell_type": "markdown",
     "metadata": {},
     "source": [
      "The app is an ordinary PHP/MySQL app with a few python bits and bobs. When I originally deployed it in late 2011, I knew:\n",
      "\n",
      "  1. Lots of people used dreamhost\n",
      "     - including [Gerald, a world-class sysadmin, back in 2007][GO07]\n",
      "  2. Lots of people *complain* about dreamhost.\n",
      "\n",
      "But it's not clear that the complaints about dreamhost indicate anything other than popularity. After all, as the [IndieWebCamp folks say][IW], picking a web hosting service is in some ways like picking a cell phone provider, and we all complain about our cell phone providers, don't we?\n",
      "\n",
      " [GO07]: http://impressive.net/archives/fogo/20070109173322.GO5388@impressive.net\n",
      " [IW]: http://indiewebcamp.com/web_hosting"
     ]
    },
    {
     "cell_type": "heading",
     "level": 2,
     "metadata": {},
     "source": [
      "Shared Hosting, VPS, and System Administration"
     ]
    },
    {
     "cell_type": "markdown",
     "metadata": {},
     "source": [
      "The first performance remedy I tried was the dreamhost \\$15/month [VPS hosting](http://www.dreamhost.com/servers/vps/) upgrade, but it made little difference. I didn't read the documentation carefully enough to notice that **the database is on a separate server**. I think I saw some database-related upgrade options, but in [drupal performance discussion](https://drupal.org/node/120736), dreamhost is notorious for poor MySQL architecture and hence performance. So I went shopping for alternatives."
     ]
    },
    {
     "cell_type": "markdown",
     "metadata": {},
     "source": [
      "I tried the [LAMP Stack by bitnami][1] on Amazon EC2, but the hourly fees stareted to add up. One VM is more than enough for this app and I guess I should have known that **scalable cloud hosting isn't cost-effective if I'm not using the scalability**.\n",
      "\n",
      "  [1]: http://bitnami.com/stack/lamp"
     ]
    },
    {
     "cell_type": "markdown",
     "metadata": {},
     "source": [
      "So I returned to exploring the overcrowded shared hosting marketplace. justhost and site5 were nominated in the drupal discussion, as was arvixe. I looked to see if any of them had free trials, and I was reminded of [ownCloud hosts](http://owncloud.org/providers/) with free plans, one of which was arvixe. I might have liked to chat with [other KC PHP devs](http://www.meetup.com/kcphpug/), but I was too impatient to wait for the next meeting, so based on arvixe's delightful sign-up experience its hostjury reviews, I went ahead and paid a few dollars to experiment with their shared hosting for a month."
     ]
    },
    {
     "cell_type": "markdown",
     "metadata": {},
     "source": [
      "What jumped out at me, after experimenting with a couple VPS platforms, is the economy of scale in **system administration services** with shared hosting. For just a few dollars a month, not only will they install wordpress or phpBB for a few clicks, but they will administer mailing lists, backups, log files, and databases."
     ]
    },
    {
     "cell_type": "markdown",
     "metadata": {},
     "source": [
      "I suppose I could have tried NearlyFreeSpeech.Net. For less than a dollar a month, it works fine for static sites like this blog. But while but while they support everything this app needs (PHP, MySQL and installing python from source), I don't wouldn't expect performance to be better than dreamhost on their shoestring budget.\n",
      "\n",
      "Plus, I could see my boys making good use of the one-click phpBB installer and such."
     ]
    },
    {
     "cell_type": "markdown",
     "metadata": {},
     "source": [
      "In the long term, here's hoping [docker][] drives the price of PAAS services like Heroku down to this price range and diversifies their feature set to include mailing lists.\n",
      "\n",
      "  [docker]: http://www.docker.io/"
     ]
    },
    {
     "cell_type": "heading",
     "level": 2,
     "metadata": {},
     "source": [
      "Arvixe over Dreamhost?"
     ]
    },
    {
     "cell_type": "markdown",
     "metadata": {},
     "source": [
      "As I explored arvixe, I had a little hiccup getting shell access, but **live chat support** took care of it fast enough that I didn't really lose stride.\n",
      "\n",
      "After [claims](http://www.arvixe.com/linux_web_hosting) that they \"provide the latest Python version,\" I was a little disappointed to see that this means they let you [build it from source](http://blog.arvixe.com/create-your-own-python-enviroment-locally-in-your-shared-hosting-account/). Oh well; I had to do that on dreamhost too; it seems to be par for the course and it takes just a few minutes.\n",
      "\n",
      "Bandwidth seemed OK, not that downloading on the server is relevant to my app:\n",
      "\n",
      "    [~]# wget http://python.org/ftp/python/2.7.6/Python-2.7.6.tgz\n",
      "    ... 14,725,931  2.76M/s   in 9.5s "
     ]
    },
    {
     "cell_type": "markdown",
     "metadata": {},
     "source": [
      "After copying the ~120K records about ~10K clients, the app did seem to respond a little quicker on arvixe, though I don't have any hard data. I did see that PHP and the MySQL database were running on the same server."
     ]
    },
    {
     "cell_type": "heading",
     "level": 2,
     "metadata": {},
     "source": [
      "A Summary of My Experience with Web Hosting Services"
     ]
    },
    {
     "cell_type": "markdown",
     "metadata": {},
     "source": [
      "I missed out on the first ten or fifteen years of this marketplace, since I was in something of a bubble provided by the W3C systems team.\n",
      "\n",
      "Since then, these are the services I have used, with the one I'd most likely use again on top:"
     ]
    },
    {
     "cell_type": "markdown",
     "metadata": {},
     "source": [
      " - domain registrar:\n",
      "    - namecheap\n",
      "    - nearlyfreespeech.net\n",
      "        - A consequence of their transparent pricing model is deposit fees. Namecheap's scale seems to hide such things.\n",
      "    - gandi\n",
      "        - International credit card transactions are a little inconvenient.\n",
      " - DNS management (connecting domains to hosts)\n",
      "    - namecheap\n",
      "    - nearlyfreespeech.net\n",
      "    - Amazon Route5\n",
      "    - zonedit.com\n",
      "        - Was great when the only alternative was `bind` config files!\n",
      " - Shared hosting:\n",
      "    - arvixe\n",
      "    - NearlyFreeSpeech.Net\n",
      "        - Image bandwidth seems limited, for understandable reasons.\n",
      "    - dreamhost\n",
      "        - Docs suggest a long, heavy legacy (reminds me of W3C in that way).\n",
      " - blogging SAS:\n",
      "    - wordpress\n",
      "    - blogger\n",
      "        - Cheaper than blogger for bring-your-own-domain service, but\n",
      "          you get what you pay for.\n",
      " - PAAS\n",
      "    - [docker](http://www.docker.io/)\n",
      " - VPS:\n",
      "    - AWS EC2\n",
      "    - dreamhost\n"
     ]
    }
   ],
   "metadata": {}
  }
 ]
}