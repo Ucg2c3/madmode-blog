{
 "metadata": {
  "name": ""
 },
 "nbformat": 3,
 "nbformat_minor": 0,
 "worksheets": [
  {
   "cells": [
    {
     "cell_type": "heading",
     "level": 1,
     "metadata": {},
     "source": [
      "Writing Madmode Articles with IPython and Docker"
     ]
    },
    {
     "cell_type": "markdown",
     "metadata": {},
     "source": [
      "<pre class=\"about yaml\">\n",
      "date: 2013-12-30\n",
      "published: true\n",
      "tags: [ipython, python, writing, publishing, docker, installation]\n",
      "summary: When I was doing exploratory signal processing a year ago, the IPython notebook was obviously a good tool. I tried it again recently for bringing old math notes back to life, and that went well too. So I'm putting a little effort into tooling support.\n",
      "</pre>"
     ]
    },
    {
     "cell_type": "markdown",
     "metadata": {},
     "source": [
      "When I was doing [exploratory signal processing][2012] a year ago, the [IPython notebook](#Perez07) was obviously a good tool. I tried it again recently for [bringing old math notes back to life][fs86], and that went well too. So I'm putting a little effort into tooling support.\n",
      "\n",
      "Hypertext editing with markdown works pretty well, especially a cell at a time. I was a little concerned that I'd miss the ability to select/cut/copy/paste multiple cells like Mathematica or do file-wide search and replace like emacs, but so far I haven't needed to.\n",
      "\n",
      "  [2012]: http://www.madmode.com/2012/light-runner-spelunking.html\n",
      "  [fs86]: http://www.madmode.com/2013/fs-tt/fs86.html"
     ]
    },
    {
     "cell_type": "heading",
     "level": 2,
     "metadata": {},
     "source": [
      "Installing IPython notebook via a docker container"
     ]
    },
    {
     "cell_type": "markdown",
     "metadata": {},
     "source": [
      "The Ubuntu 12.04 ipython notebook package isn't up to the task, and between these episodes, my manual installation bit-rotted. I got it running again and jotted down some rough notes for future reference:"
     ]
    },
    {
     "cell_type": "markdown",
     "metadata": {},
     "source": [
      "    #!/bin/sh\n",
      "    > virtualenv ~/pyenv/pynb\n",
      "    > . ~/pyenv/pynb/bin/activate\n",
      "    (pynb)> pip install ipython\n",
      "    (pynb)> sudo apt-get install libzmq-dev\n",
      "    (pynb)> pip install pyzmq\n",
      "            ZMQ version detected: 2.1.11\n",
      "       Warning: Detected ZMQ version: 2.1.11, but pyzmq targets ZMQ 4.0.3.\n",
      "       Warning: libzmq features and fixes introduced after 2.1.11 will be unavailable.\n",
      "    (pynb)> pip install jinja2\n",
      "      Downloading Jinja2-2.7.1.tar.gz (377Kb): 377Kb downloaded\n",
      "    (pynb)> pip install tornado\n",
      "      Downloading tornado-3.1.1.tar.gz (374Kb): 374Kb downloaded\n",
      "    (pynb)> ipython notebook\n"
     ]
    },
    {
     "cell_type": "markdown",
     "metadata": {},
     "source": [
      "Those notes quickly get out of date. For example, nbconvert requires pandoc.\n",
      "\n",
      "Then I realized a docker container would be just the thing. And lo, [dckc/ipython-docker][rep] is born:\n",
      "\n",
      "    $ sudo docker run -p 8123:8888 -v `/bin/pwd`:/notebooks  -t dckc/ipython-docker\n",
      "    2013-12-31 04:28:05.305 [NotebookApp] Created profile dir: u'/.ipython/profile_default'\n",
      "    2013-12-31 04:28:05.308 [NotebookApp] Using MathJax from CDN: http://cdn.mathjax.org/mathjax/latest/MathJax.js\n",
      "    2013-12-31 04:28:05.320 [NotebookApp] Serving notebooks from local directory: /notebooks\n",
      "    2013-12-31 04:28:05.320 [NotebookApp] The IPython Notebook is running at: http://0.0.0.0:8888/\n",
      "    2013-12-31 04:28:05.321 [NotebookApp] Use Control-C to stop this server and shut down all kernels (twice to skip confirmation).\n",
      "\n",
      "Note http://0.0.0.0:8888/ is an address from inside the container. From outside the container, we use port 8123.\n",
      "\n",
      "The Control-C message needs some context too: you'd have to attach the container to send it signals via the keyboard. I typically just use `sudo docker kill` to stop the service. I haven't bothered with the details of starting at boot and such.\n",
      "\n",
      "Of course, after I got it all working, I found several other [ipython images][im] in the index. But I'm not sorry I worked it out for myself.\n",
      "\n",
      "  [rep]: https://index.docker.io/u/dckc/ipython-docker/\n",
      "  [im]: https://index.docker.io/search?q=ipython"
     ]
    },
    {
     "cell_type": "heading",
     "level": 3,
     "metadata": {},
     "source": [
      "Getting started with docker"
     ]
    },
    {
     "cell_type": "markdown",
     "metadata": {},
     "source": [
      "Docker is moving rapidly, but it's considerably more polished now than when I first looked at it. The [docker apt-repositories for Ubuntu][apt] (key fingerprint: 36A1 D786 9245 C895 0F96 6E92 D857 6A8B A88D 21E9) work just fine. My only issue getting it started this time was that I had an old installation lying around in `/usr/local/bin` and it was getting in the way, and the diagnostics were a little mysterious:\n",
      "\n",
      "    $ sudo docker run -p :8888 -t ipython-notebook\n",
      "    WARNING: The mapping to public ports on your host has been deprecated. Use -p to publish the ports.\n",
      "    \n",
      "  [apt]: http://docs.docker.io/en/latest/installation/ubuntulinux/\n"
     ]
    },
    {
     "cell_type": "heading",
     "level": 2,
     "metadata": {},
     "source": [
      "Generating a static HTML version of a notebook"
     ]
    },
    {
     "cell_type": "markdown",
     "metadata": {},
     "source": [
      "IPython supports conversion to HTML, but out-of-the-box, you either get:\n",
      "\n",
      "  1. a stand-alone HTML document\n",
      "     * with all sorts of CSS that may or may not conflict with a blog style\n",
      "     * with no links to blog context\n",
      "  2. a stripped-down HTML document body with\n",
      "     * no style\n",
      "     * no syntax highlighting"
     ]
    },
    {
     "cell_type": "markdown",
     "metadata": {},
     "source": [
      "Fortunately, the API for custom renditions is straightforward and well documented. My [mm_ipy.py][] is serviceable, though I'm still working through some issues with [pygments vs. javascript code highlighting][4682] and such.\n",
      "\n",
      "  [mm_ipy.py]: code/ipynb_pub/mm_ipy.py\n",
      "  [4682]: https://github.com/ipython/ipython/pull/4682\n",
      "\n",
      "Let's import it to take a look:"
     ]
    },
    {
     "cell_type": "code",
     "collapsed": false,
     "input": [
      "import imp\n",
      "\n",
      "mm_ipy = imp.load_source('mm_ipy', 'code/ipynb_pub/mm_ipy.py')"
     ],
     "language": "python",
     "metadata": {},
     "outputs": [],
     "prompt_number": 1
    },
    {
     "cell_type": "markdown",
     "metadata": {},
     "source": [
      "Then let's connect the dots between rst markup in documentation and HTML renditions of values in ipython notebook cell outputs:"
     ]
    },
    {
     "cell_type": "code",
     "collapsed": false,
     "input": [
      "from docutils.core import publish_parts\n",
      "    \n",
      "class Doc(object):\n",
      "    def __init__(self, it):\n",
      "        self.it = it\n",
      "\n",
      "    def _repr_html_(self):\n",
      "        return publish_parts(self.it.__doc__, writer_name='html')['html_body']\n"
     ],
     "language": "python",
     "metadata": {},
     "outputs": [],
     "prompt_number": 2
    },
    {
     "cell_type": "code",
     "collapsed": false,
     "input": [
      "Doc(mm_ipy)"
     ],
     "language": "python",
     "metadata": {},
     "outputs": [
      {
       "html": [
        "<div class=\"document\" id=\"mm-ipy-convert-ipython-notebook-to-markdown-for-madmode-blog\">\n",
        "<h1 class=\"title\">mm_ipy -- convert ipython notebook to markdown for madmode blog</h1>\n",
        "<p>Usage:</p>\n",
        "<pre class=\"literal-block\">\n",
        "$ python article_in.ipynb article_out.md\n",
        "</pre>\n",
        "<p>See <span class=\"func\">article_meta</span> for conventions for title, date, tags, etc.</p>\n",
        "<div class=\"note\">\n",
        "<p class=\"first admonition-title\">Note</p>\n",
        "<p class=\"last\">IPython.nbconvert.HTMLExporter has late-binding dependencies\n",
        "on pandoc, pygments, etc.</p>\n",
        "</div>\n",
        "<div class=\"section\" id=\"acknowledgements\">\n",
        "<h1>Acknowledgements</h1>\n",
        "<blockquote>\n",
        "<ul class=\"simple\">\n",
        "<li><a class=\"reference external\" href=\"http://nbviewer.ipython.org/github/Carreau/posts/blob/master/06-NBconvert-Doc-Draft.ipynb#noqa\">How to Use NBConvert</a> (<a class=\"reference external\" href=\"https://github.com/Carreau/posts/blob/master/06-NBconvert-Doc-Draft.ipynb\">source</a>)\n",
        "Matthias Bussonnier (Carreau) Dec 01, 2013</li>\n",
        "</ul>\n",
        "</blockquote>\n",
        "</div>\n",
        "</div>\n"
       ],
       "metadata": {},
       "output_type": "pyout",
       "prompt_number": 3,
       "text": [
        "<__main__.Doc at 0x16ed9d0>"
       ]
      }
     ],
     "prompt_number": 3
    },
    {
     "cell_type": "markdown",
     "metadata": {},
     "source": [
      "The notebook should have some article metadata in a markdown cell surrounded by a certain kind of pre tags:"
     ]
    },
    {
     "cell_type": "code",
     "collapsed": false,
     "input": [
      "Doc(mm_ipy.article_meta)"
     ],
     "language": "python",
     "metadata": {},
     "outputs": [
      {
       "html": [
        "<div class=\"document\">\n",
        "<p>Collect article metadata from a notebook.</p>\n",
        "<blockquote>\n",
        "<p>The title is taken from the (first) heading level 1 cell.</p>\n",
        "<p>Other metadata is taken from the (first) cell that starts with:</p>\n",
        "<pre class=\"literal-block\">\n",
        "&gt;&gt;&gt; print article_meta.func_defaults[0]\n",
        "&lt;pre class=&quot;about yaml&quot;&gt;\n",
        "</pre>\n",
        "<p>Metadata is written in YAML-ish name: value style (see <span class=\"func\">grok_yaml</span>\n",
        "for details).</p>\n",
        "<p>The closing tag is ignored:</p>\n",
        "<pre class=\"literal-block\">\n",
        "&gt;&gt;&gt; print article_meta.func_defaults[1]\n",
        "&lt;/pre&gt;\n",
        "</pre>\n",
        "</blockquote>\n",
        "</div>\n"
       ],
       "metadata": {},
       "output_type": "pyout",
       "prompt_number": 4,
       "text": [
        "<__main__.Doc at 0x1b363d0>"
       ]
      }
     ],
     "prompt_number": 4
    },
    {
     "cell_type": "code",
     "collapsed": false,
     "input": [
      "Doc(mm_ipy.grok_yaml)"
     ],
     "language": "python",
     "metadata": {},
     "outputs": [
      {
       "html": [
        "<div class=\"document\">\n",
        "<p>Quick-n-dirty YAML parser.</p>\n",
        "<blockquote>\n",
        "<pre class=\"doctest-block\">\n",
        "&gt;&gt;&gt; grok_yaml(&quot;&quot;&quot;&lt;pre&gt;\n",
        "... date: 2001-01-01\n",
        "... tags: ['travel', 'humor']\n",
        "... &lt;/pre&gt;&quot;&quot;&quot;, excludes=['&lt;'])\n",
        "[('date', '2001-01-01'), ('tags', &quot;['travel', 'humor']&quot;)]\n",
        "</pre>\n",
        "<div class=\"note\">\n",
        "<p class=\"first admonition-title\">Note</p>\n",
        "<p class=\"last\">TODO: handle continuation lines properly.</p>\n",
        "</div>\n",
        "<pre class=\"doctest-block\">\n",
        "&gt;&gt;&gt; grok_yaml(&quot;&quot;&quot;&lt;pre&gt;\n",
        "... summary: What I did\n",
        "...   this summer.\n",
        "... &lt;/pre&gt;&quot;&quot;&quot;, excludes=['&lt;'])\n",
        "[('summary', 'What I did'), ('  this summer.',)]\n",
        "</pre>\n",
        "</blockquote>\n",
        "</div>\n"
       ],
       "metadata": {},
       "output_type": "pyout",
       "prompt_number": 5,
       "text": [
        "<__main__.Doc at 0x1b36490>"
       ]
      }
     ],
     "prompt_number": 5
    },
    {
     "cell_type": "heading",
     "level": 2,
     "metadata": {},
     "source": [
      "Packages from apt and PyPI"
     ]
    },
    {
     "cell_type": "markdown",
     "metadata": {},
     "source": [
      "The container doesn't have access to packages installed in the host system via pip or apt-get. But I can install from pypi within the container.\n",
      "\n",
      "Installing from within the Dockerfile makes the package part of the container, but it involves killing and re-starting the container. And it feels less minimal/modular somehow.\n",
      "\n",
      "Installing from within a notebook (e.g. `!pip install docutils`) is handy, but once the container is stopped, the installation goes away (unless the container is committed and the image kept handy somehow)."
     ]
    },
    {
     "cell_type": "heading",
     "level": 2,
     "metadata": {},
     "source": [
      "File layout limitations"
     ]
    },
    {
     "cell_type": "markdown",
     "metadata": {},
     "source": [
      "The IPython notebook service can only see notebooks in one directory. I wish it were more web-like, i.e. it expected to be [part of a larger whole][TOII]. I'd like to use it to edit `.ipynb` files under the various date-oriented subdirectories of my blog. Linking from a notebook to files elsewhere in the blog is also pretty awkward.\n",
      "\n",
      "  [TOII]: http://www.w3.org/DesignIssues/Principles.html#TOII"
     ]
    },
    {
     "cell_type": "markdown",
     "metadata": {},
     "source": [
      "\n"
     ]
    },
    {
     "cell_type": "heading",
     "level": 2,
     "metadata": {},
     "source": [
      "References"
     ]
    },
    {
     "cell_type": "markdown",
     "metadata": {},
     "source": [
      "*TODO: Zotero integration*"
     ]
    },
    {
     "cell_type": "markdown",
     "metadata": {},
     "source": [
      "  * <a name=\"Perez07\">P\u00e9rez, Fernando, and Brian E. Granger. 2007</a>. \u201cIPython: a System for Interactive Scientific Computing.\u201d Computing in Science & Engineering 9 (3): 21\u201329. doi:10.1109/MCSE.2007.53. URL: http://ipython.org"
     ]
    }
   ],
   "metadata": {}
  }
 ]
}