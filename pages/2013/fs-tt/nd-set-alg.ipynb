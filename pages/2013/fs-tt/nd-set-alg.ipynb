{
 "metadata": {
  "name": ""
 },
 "nbformat": 3,
 "nbformat_minor": 0,
 "worksheets": [
  {
   "cells": [
    {
     "cell_type": "heading",
     "level": 1,
     "metadata": {},
     "source": [
      "M373K Notes"
     ]
    },
    {
     "cell_type": "markdown",
     "metadata": {},
     "source": [
      "<pre class=\"about yaml\">\n",
      "date: 2014-01-06\n",
      "tags: [logic, research]\n",
      "</pre>"
     ]
    },
    {
     "cell_type": "markdown",
     "metadata": {},
     "source": [
      "Mead purple notebook"
     ]
    },
    {
     "cell_type": "markdown",
     "metadata": {},
     "source": [
      "Dan Connolly  \n",
      "495-3497  \n",
      "M373K"
     ]
    },
    {
     "cell_type": "heading",
     "level": 2,
     "metadata": {},
     "source": [
      "Preamble: Integer Ring"
     ]
    },
    {
     "cell_type": "code",
     "collapsed": false,
     "input": [
      "from flip.logic.formula import Function, Infix, InfixRelation, Variable"
     ],
     "language": "python",
     "metadata": {},
     "outputs": [],
     "prompt_number": 1
    },
    {
     "cell_type": "code",
     "collapsed": false,
     "input": [
      "Z = Variable('Z')\n",
      "zero = Variable('0')\n",
      "one = Variable('1')\n",
      "\n",
      "def nz(x):\n",
      "    return Not(Equal(x, zero))\n",
      "\n",
      "# TODO: infix functions?\n",
      "\n",
      "class plus(Function, Infix):\n",
      "    def __init__(self, *args):\n",
      "        Function.__init__(self, *args)\n",
      "        Infix.__init__(self, *args)\n",
      "        self.symbol = '+'\n",
      "\n",
      "class times(Function, Infix):\n",
      "    def __init__(self, *args):\n",
      "        Function.__init__(self, *args)\n",
      "        Infix.__init__(self, *args)\n",
      "        self.symbol = '*'\n",
      "\n",
      "\n",
      "class gt(InfixRelation):\n",
      "    def __init__(self, *args):\n",
      "        InfixRelation.__init__(self, *args)\n",
      "        self.symbol = '>'"
     ],
     "language": "python",
     "metadata": {},
     "outputs": [],
     "prompt_number": 16
    },
    {
     "cell_type": "heading",
     "level": 2,
     "metadata": {},
     "source": [
      "Definition of $a | b$"
     ]
    },
    {
     "cell_type": "code",
     "collapsed": false,
     "input": [
      "from flip.logic.fol_session import *\n",
      "from lsf86 import *"
     ],
     "language": "python",
     "metadata": {},
     "outputs": [],
     "prompt_number": 3
    },
    {
     "cell_type": "code",
     "collapsed": false,
     "input": [
      "from flip.logic.formula import VariablePlaceholder\n",
      "\n",
      "class divides(InfixRelation):\n",
      "  \"\"\"\n",
      "  divides(a,b) means a | b\n",
      "  \"\"\"\n",
      "  def __init__(self, *args):\n",
      "    InfixRelation.__init__(self, *args)\n",
      "    self.symbol = '|'\n",
      "\n",
      "\n",
      "a, b, d = map(TermPlaceholder, 'a b d'.split())\n",
      "k = VariablePlaceholder('k')\n",
      "\n",
      "divI, divE = infer_bidir('Defn divides', 'div',\n",
      "                         divides(a, b), E(k, Equal(b, times(k, a))))"
     ],
     "language": "python",
     "metadata": {},
     "outputs": [],
     "prompt_number": 4
    },
    {
     "cell_type": "heading",
     "level": 2,
     "metadata": {},
     "source": [
      "Definition of $(a, b)$"
     ]
    },
    {
     "cell_type": "code",
     "collapsed": false,
     "input": [
      "class gcf(Function):\n",
      "    pass\n",
      "\n",
      "\n",
      "def and_n(*args):\n",
      "    return (args[0] if len(args) == 1 else\n",
      "            And(args[0], and_n(*args[1:])))\n",
      "\n",
      "gcfI, gcfE = infer_bidir('Defn GCF', 'gcf',\n",
      "                         Equal(d, gcf(a, b)),\n",
      "                         and_n(gt(d, z),\n",
      "                               divides(d, a),\n",
      "                               divides(d, b),\n",
      "                               A(c, Impl(And(divides(c, a),\n",
      "                                             divides(c, b)),\n",
      "                                         divides(c, d)))))\n",
      "                         "
     ],
     "language": "python",
     "metadata": {},
     "outputs": [],
     "prompt_number": 5
    },
    {
     "cell_type": "heading",
     "level": 2,
     "metadata": {},
     "source": [
      "Thm (Euclid)"
     ]
    },
    {
     "cell_type": "code",
     "collapsed": false,
     "input": [
      "a, b, d, m, n = map(Variable, 'a b d m n'.split())\n",
      "s, s1, ss = map(Variable, 's s1 ss'.split())\n",
      "\n",
      "thm_euclid = A(a, A(b, Impl(Or(nz(a), nz(b)),\n",
      "                            E(m, E(n, Equal(plus(times(m, a), times(n, b)),\n",
      "                                            gcf(a, b)))))))\n",
      "checkp(thm_euclid, given)"
     ],
     "language": "python",
     "metadata": {},
     "outputs": [
      {
       "output_type": "stream",
       "stream": "stdout",
       "text": [
        "Aa.Ab.((~(a = 0) v ~(b = 0)) -> Em.En.(((m * a) + (n * b)) = gcf(a,b)))  (0)  Given\n"
       ]
      }
     ],
     "prompt_number": 6
    },
    {
     "cell_type": "code",
     "collapsed": false,
     "input": [
      "clear()\n",
      "checkp(Or(nz(a), nz(b)), given)"
     ],
     "language": "python",
     "metadata": {},
     "outputs": [
      {
       "output_type": "stream",
       "stream": "stdout",
       "text": [
        "~(a = 0) v ~(b = 0)       (0)  Given\n"
       ]
      }
     ],
     "prompt_number": 24
    },
    {
     "cell_type": "code",
     "collapsed": false,
     "input": [
      "some_ma_plus_nb = E(m, E(n, Equal(x, plus(times(m, a), times(n, b)))))\n",
      "checkp(E(ss, A(x, Iff(elt(x, ss),\n",
      "              And(elt(x, Z), some_ma_plus_nb)))), abst)"
     ],
     "language": "python",
     "metadata": {},
     "outputs": [
      {
       "output_type": "stream",
       "stream": "stdout",
       "text": [
        "Ess.Ax.((x .in. ss) <=> ((x .in. Z) & Em.En.(x = ((m * a) + (n * b)))))  (1)  Abstraction\n"
       ]
      }
     ],
     "prompt_number": 25
    },
    {
     "cell_type": "code",
     "collapsed": false,
     "input": [
      "checkp(Let(s, A(x, Iff(elt(x, s), some_ma_plus_nb))), let)"
     ],
     "language": "python",
     "metadata": {},
     "outputs": [
      {
       "output_type": "stream",
       "stream": "stdout",
       "text": [
        "|Let s satisfy Ax.((x .in. s) <=> Em.En.(x = ((m * a) + (n * b))))  (2)  Assumption, with new variable\n"
       ]
      }
     ],
     "prompt_number": 26
    },
    {
     "cell_type": "code",
     "collapsed": false,
     "input": [
      "checkp(E(ss, A(x, Iff(elt(x, ss), And(elt(x, s), gt(x, zero))))), abst)"
     ],
     "language": "python",
     "metadata": {},
     "outputs": [
      {
       "output_type": "stream",
       "stream": "stdout",
       "text": [
        "|Ess.Ax.((x .in. ss) <=> ((x .in. s) & (x > 0)))  (3)  Abstraction\n"
       ]
      }
     ],
     "prompt_number": 27
    },
    {
     "cell_type": "code",
     "collapsed": false,
     "input": [
      "checkp(Let(s1, A(x, Iff(elt(x, s1), And(elt(x, s), gt(x, zero))))), let)"
     ],
     "language": "python",
     "metadata": {},
     "outputs": [
      {
       "output_type": "stream",
       "stream": "stdout",
       "text": [
        "||Let s1 satisfy Ax.((x .in. s1) <=> ((x .in. s) & (x > 0)))  (4)  Assumption, with new variable\n"
       ]
      }
     ],
     "prompt_number": 28
    },
    {
     "cell_type": "markdown",
     "metadata": {},
     "source": [
      "It gets somewhat tedious at this point. To show s1 is not empty, choose x = |a| + |b| so that m=sign(a) and n=sign(b). Then let d = min(S) by well-ordering of N. Then show Ax.((x .in. s1) -> (d | x))"
     ]
    },
    {
     "cell_type": "heading",
     "level": 2,
     "metadata": {},
     "source": [
      "TODO: Formatting with MathJax"
     ]
    },
    {
     "cell_type": "code",
     "collapsed": false,
     "input": [
      "from IPython.core.formatters import HTMLFormatter\n",
      "rich = HTMLFormatter()\n",
      "\n",
      "class TODO:\n",
      "  def _repr_html_(self):\n",
      "    return '<span class=\"math\">%s | %s</span>' % tuple([rich(self.args[ix]) for ix in [0, 1]])"
     ],
     "language": "python",
     "metadata": {},
     "outputs": [],
     "prompt_number": 10
    },
    {
     "cell_type": "heading",
     "level": 2,
     "metadata": {},
     "source": [
      "Appendix: FLiP Installation"
     ]
    },
    {
     "cell_type": "code",
     "collapsed": false,
     "input": [
      "!pip install flip"
     ],
     "language": "python",
     "metadata": {},
     "outputs": [
      {
       "output_type": "stream",
       "stream": "stdout",
       "text": [
        "Requirement already satisfied (use --upgrade to upgrade): flip in /usr/local/lib/python2.7/dist-packages\r\n",
        "Cleaning up...\r\n"
       ]
      }
     ],
     "prompt_number": 11
    }
   ],
   "metadata": {}
  }
 ]
}